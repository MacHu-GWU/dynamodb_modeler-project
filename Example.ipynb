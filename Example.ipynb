{
 "cells": [
  {
   "cell_type": "markdown",
   "source": [
    "# How to Design DynamoDB Data Model for Production\n",
    "\n",
    "\n",
    "![Amazon-DynamoDB](https://user-images.githubusercontent.com/6800411/212983034-b0d8f048-228e-4be6-b591-1e39a70d64ec.png)\n",
    "\n",
    "**Table of Content**\n",
    "\n",
    "- [Overview](##Overview)\n",
    "- [Case Study - Design YouTube Data Model](##Case_Study_-_Design_YouTube_Data_Model)\n",
    "    - [Analyze Business Requirement](###Analyze_Business_Requirement)\n",
    "\n",
    "## Overview\n",
    "\n",
    "DynamoDB is a serverless, fully-managed, schemaless, key-value NoSQL database that is suitable for wide range of business-critical use cases. DynamoDB is designed to be schemaless. This means that you can store any type of data in a single table without having to define a schema for the table. This is a great advantage for developers who want to build applications quickly and easily. However, this also means that you need to design your data model carefully to avoid performance issues and data consistency issues.\n",
    "\n",
    "Unlike the [Database Normalization](https://en.wikipedia.org/wiki/Database_normalization) technique used in relational databases, there is no one-size-fits-all solution for designing a data model in DynamoDB. It is often a matter of weighing the pros and cons of various approaches to solving a given business problem in DynamoDB. It may be necessary to conduct your own experiments to determine the best solution.\n",
    "\n",
    "In this example, I would like to share a methodology that provide an interactive development experience, and capability to iterate fast on the data modeling design. Below are the highlights of this method:\n",
    "\n",
    "- **Fast start**: no need to set up a real DynamoDB table and any infrastructure (you can use real DynamoDB table but not necessary).\n",
    "- **Fast iterate**: flexible to try different data model ideas.\n",
    "- **Ready to be deployed as an application**: at the end, you will have a working ORM (Object relationship mapping) database model and a application data model can be deployed as an application on AWS Lambda / AWS ECS / EC2.\n",
    "- **User interaction implemented**: all user interaction to your application will be implemented as a method.\n",
    "- **Query pattern verified**: all of required business query is ready to use as a method.\n",
    "- **Self documented**: each business requirements and user interaction is implemented and also documented as a method. The sample input / output data of each user interaction is also documented.\n",
    "\n",
    "Now, let's use a real-world example to demonstrate how to design a data model for production.\n",
    "\n",
    "## Case Study - Design YouTube Data Model\n",
    "\n",
    "![Youtube](https://user-images.githubusercontent.com/6800411/212983031-356dc229-251b-46f7-911f-d3e897ce89fd.jpg)\n",
    "\n",
    "Let's learn this best practice by \"Reinventing YouTube in DynamoDB\".\n",
    "\n",
    "### Analyze Business Requirement\n",
    "\n",
    "The first step is to list out all the entities involved in your application and how does user interact with your application.\n",
    "\n",
    "Entities:\n",
    "\n",
    "- 😀 User: user can upload video, user can also view other's video\n",
    "- 📺 Video: user can create video\n",
    "\n",
    "User Interaction:\n",
    "\n",
    "- People can sign up as a new user.\n",
    "- User can upload video.\n",
    "- User can view other user's profile.\n",
    "- User can view the list of other user's videos, ordered by create time, the latest video comes first.\n",
    "- User can watch video, then video views plus one.\n",
    "- User can subscribe other User.\n",
    "- System knows whether a user watched a video before.\n",
    "- System can push new video notification based on his subscription.\n",
    "\n",
    "Query Pattern:\n",
    "\n",
    "- Given a User id, we can get the detailed information of the user.\n",
    "- Given a Video id, we can get the detailed information of the video.\n",
    "- Given a User id, we can get all the videos he uploaded, ordered by create time, the latest video comes first.\n",
    "- Given a User id, we can get list of user he subscribed, ordered by subscribe time.\n",
    "- Given a User id, we can get number of user subscribes him.\n"
   ],
   "metadata": {
    "collapsed": false,
    "pycharm": {
     "name": "#%% md\n"
    }
   }
  },
  {
   "cell_type": "markdown",
   "source": [
    "### Import SDK\n",
    "\n",
    "For a POC, we use the following tools to simplify our development:\n",
    "\n",
    "- [moto](http://docs.getmoto.org/en/latest/index.html): a library that allows you to easily mock out tests based on AWS infrastructure.\n",
    "- [implemented dynamodb feature in moto](http://docs.getmoto.org/en/latest/docs/services/dynamodb.html): list of implemented dynamodb feature in moto.\n",
    "- [pynamodb_mate](https://pynamodb-mate.readthedocs.io/en/latest/): a powerful DynamoDB SDK python library to implment your ORM DynamoDB model.\n",
    "- [dataclasses](https://docs.python.org/3/library/dataclasses.html): the Python standard library to implement your application data model.\n",
    "- [rich](https://github.com/Textualize/rich): pretty print your output for human.\n",
    "\n",
    "You can run: ``pip install -r requirements.txt`` to install all the required libraries."
   ],
   "metadata": {
    "collapsed": false,
    "pycharm": {
     "name": "#%% md\n"
    }
   }
  },
  {
   "cell_type": "code",
   "execution_count": 129,
   "outputs": [],
   "source": [
    "import typing as T\n",
    "import enum\n",
    "from datetime import datetime\n",
    "\n",
    "import dataclasses\n",
    "import pynamodb_mate as pm\n",
    "from moto import mock_dynamodb\n",
    "\n",
    "from rich import print as rprint"
   ],
   "metadata": {
    "collapsed": false,
    "pycharm": {
     "name": "#%%\n"
    }
   }
  },
  {
   "cell_type": "markdown",
   "source": [
    "### Define DynamoDB Data Model\n",
    "\n",
    "It is always good to define a class for all your data models. It gives you a centralized place to access all the application logics and query patterns. Also, with proper type hint set up, the compiler will automatically check your typo and data type error for you.\n",
    "\n",
    "To learn more details about how to write DynamoDB application code in Python, read these:\n",
    "\n",
    "- [Pynamodb getting started](https://pynamodb.readthedocs.io/en/stable/tutorial.html#getting-started)\n",
    "- [Pynamodb mate](https://pynamodb-mate.readthedocs.io/en/latest/)"
   ],
   "metadata": {
    "collapsed": false,
    "pycharm": {
     "name": "#%% md\n"
    }
   }
  },
  {
   "cell_type": "code",
   "execution_count": 130,
   "outputs": [],
   "source": [
    "class EntityTypeEnum(str, enum.Enum):\n",
    "    \"\"\"\n",
    "    Enumerate all entity type to avoid hard code string.\n",
    "    \"\"\"\n",
    "    USER = \"USER\"\n",
    "    VIDEO = \"VIDEO\"\n",
    "    SUBSCRIPTION = \"SUBSCRIPTION\"\n",
    "\n",
    "\n",
    "ROOT = \"_root\" # indicate that this item only has hash key, range key is not used (logically)\n",
    "\n",
    "\n",
    "class UsersVideoIndex(pm.GlobalSecondaryIndex):\n",
    "    \"\"\"\n",
    "    This index is used to query all videos of a user.\n",
    "\n",
    "    we assume that it is impossible to upload two video at the same timestamp.\n",
    "    \"\"\"\n",
    "    class Meta:\n",
    "        index = \"user-s-video-index\"\n",
    "        projection = pm.IncludeProjection([\n",
    "            \"pk\",\n",
    "            \"video_title\",\n",
    "        ])\n",
    "\n",
    "    video_creator_id: T.Union[str, pm.UnicodeAttribute] = pm.UnicodeAttribute(hash_key=True)\n",
    "    created_at: T.Union[datetime, pm.UTCDateTimeAttribute] = pm.UTCDateTimeAttribute(range_key=True)\n",
    "\n",
    "\n",
    "# Type hint notation helper\n",
    "REQUIRED_STR = T.Union[str, pm.UnicodeAttribute]\n",
    "OPTIONAL_STR = T.Optional[REQUIRED_STR]\n",
    "REQUIRED_INT = T.Union[int, pm.NumberAttribute]\n",
    "OPTIONAL_INT = T.Optional[REQUIRED_INT]\n",
    "REQUIRED_DATETIME = T.Union[datetime, pm.UTCDateTimeAttribute]\n",
    "OPTIONAL_DATETIME = T.Optional[REQUIRED_DATETIME]\n",
    "\n",
    "\n",
    "class Model(pm.Model):\n",
    "    \"\"\"\n",
    "    The main DynamoDB table data model definition.\n",
    "    \"\"\"\n",
    "    class Meta:\n",
    "        table_name = \"entities\"\n",
    "        region = \"us-east-1\"\n",
    "        billing_mode = pm.PAY_PER_REQUEST_BILLING_MODE\n",
    "\n",
    "    # --- hash key, range key, and entity type\n",
    "    pk: REQUIRED_STR = pm.UnicodeAttribute(hash_key=True)\n",
    "    sk: REQUIRED_STR = pm.UnicodeAttribute(range_key=True)\n",
    "    entity_type: OPTIONAL_STR = pm.UnicodeAttribute(default=None, null=True)\n",
    "\n",
    "    # --- user related\n",
    "    user_name: OPTIONAL_STR = pm.UnicodeAttribute(default=None, null=True)\n",
    "    subscribers: OPTIONAL_INT = pm.NumberAttribute(default=None, null=True)\n",
    "\n",
    "    # --- video related\n",
    "    video_title: OPTIONAL_STR = pm.UnicodeAttribute(default=None, null=True)\n",
    "    video_creator_id: OPTIONAL_STR = pm.UnicodeAttribute(default=None, null=True)\n",
    "    views: OPTIONAL_INT = pm.NumberAttribute(default=None, null=True)\n",
    "\n",
    "    # --- subscription related\n",
    "    publisher_id: OPTIONAL_STR = pm.UnicodeAttribute(default=None, null=True)\n",
    "\n",
    "    # --- common\n",
    "    created_at: OPTIONAL_DATETIME = pm.UTCDateTimeAttribute(default=None, null=True)\n",
    "\n",
    "    user_s_video_index = UsersVideoIndex()\n",
    "\n",
    "    # automatically increase user id and video id for dummy data\n",
    "    _USER_ID_STARTED = 0\n",
    "    _VIDEO_ID_STARTED = 0\n",
    "\n",
    "# use moto to mock DynamoDB, it is an in-memory implementation of DynamoDB\n",
    "# you can also use the real DynamoDB table by just comment out the below two line\n",
    "mock = mock_dynamodb()\n",
    "mock.start()\n",
    "\n",
    "# create a DynamoDB connection, ensure that your default AWS credential is right\n",
    "# if you are using mock, then this line always works\n",
    "connect = pm.Connection()\n",
    "\n",
    "# Create DynamoDB table and index if not exists\n",
    "Model.create_table(wait=True)\n",
    "\n",
    "# Clean up existing dummy data before testing\n",
    "Model.delete_all()\n",
    "\n",
    "pass"
   ],
   "metadata": {
    "collapsed": false,
    "pycharm": {
     "name": "#%%\n"
    }
   }
  },
  {
   "cell_type": "markdown",
   "source": [
    "### Implement User Related Features\n"
   ],
   "metadata": {
    "collapsed": false,
    "pycharm": {
     "name": "#%% md\n"
    }
   }
  },
  {
   "cell_type": "code",
   "execution_count": 131,
   "outputs": [
    {
     "name": "stdout",
     "output_type": "stream",
     "text": [
      "Create some sample users\n"
     ]
    },
    {
     "data": {
      "text/plain": "\u001B[1m[\u001B[0m\n    \u001B[1m{\u001B[0m\n        \u001B[32m'pk'\u001B[0m: \u001B[32m'user-1'\u001B[0m,\n        \u001B[32m'sk'\u001B[0m: \u001B[32m'_root'\u001B[0m,\n        \u001B[32m'entity_type'\u001B[0m: \u001B[32m'USER'\u001B[0m,\n        \u001B[32m'user_name'\u001B[0m: \u001B[32m'alice'\u001B[0m,\n        \u001B[32m'subscribers'\u001B[0m: \u001B[1;36m0\u001B[0m,\n        \u001B[32m'created_at'\u001B[0m: \u001B[1;35mdatetime.datetime\u001B[0m\u001B[1m(\u001B[0m\u001B[1;36m2020\u001B[0m, \u001B[1;36m1\u001B[0m, \u001B[1;36m1\u001B[0m, \u001B[1;36m0\u001B[0m, \u001B[1;36m0\u001B[0m\u001B[1m)\u001B[0m\n    \u001B[1m}\u001B[0m,\n    \u001B[1m{\u001B[0m\n        \u001B[32m'pk'\u001B[0m: \u001B[32m'user-2'\u001B[0m,\n        \u001B[32m'sk'\u001B[0m: \u001B[32m'_root'\u001B[0m,\n        \u001B[32m'entity_type'\u001B[0m: \u001B[32m'USER'\u001B[0m,\n        \u001B[32m'user_name'\u001B[0m: \u001B[32m'bob'\u001B[0m,\n        \u001B[32m'subscribers'\u001B[0m: \u001B[1;36m0\u001B[0m,\n        \u001B[32m'created_at'\u001B[0m: \u001B[1;35mdatetime.datetime\u001B[0m\u001B[1m(\u001B[0m\u001B[1;36m2020\u001B[0m, \u001B[1;36m1\u001B[0m, \u001B[1;36m2\u001B[0m, \u001B[1;36m0\u001B[0m, \u001B[1;36m0\u001B[0m\u001B[1m)\u001B[0m\n    \u001B[1m}\u001B[0m,\n    \u001B[1m{\u001B[0m\n        \u001B[32m'pk'\u001B[0m: \u001B[32m'user-3'\u001B[0m,\n        \u001B[32m'sk'\u001B[0m: \u001B[32m'_root'\u001B[0m,\n        \u001B[32m'entity_type'\u001B[0m: \u001B[32m'USER'\u001B[0m,\n        \u001B[32m'user_name'\u001B[0m: \u001B[32m'cathy'\u001B[0m,\n        \u001B[32m'subscribers'\u001B[0m: \u001B[1;36m0\u001B[0m,\n        \u001B[32m'created_at'\u001B[0m: \u001B[1;35mdatetime.datetime\u001B[0m\u001B[1m(\u001B[0m\u001B[1;36m2020\u001B[0m, \u001B[1;36m1\u001B[0m, \u001B[1;36m3\u001B[0m, \u001B[1;36m0\u001B[0m, \u001B[1;36m0\u001B[0m\u001B[1m)\u001B[0m\n    \u001B[1m}\u001B[0m\n\u001B[1m]\u001B[0m\n",
      "text/html": "<pre style=\"white-space:pre;overflow-x:auto;line-height:normal;font-family:Menlo,'DejaVu Sans Mono',consolas,'Courier New',monospace\"><span style=\"font-weight: bold\">[</span>\n    <span style=\"font-weight: bold\">{</span>\n        <span style=\"color: #008000; text-decoration-color: #008000\">'pk'</span>: <span style=\"color: #008000; text-decoration-color: #008000\">'user-1'</span>,\n        <span style=\"color: #008000; text-decoration-color: #008000\">'sk'</span>: <span style=\"color: #008000; text-decoration-color: #008000\">'_root'</span>,\n        <span style=\"color: #008000; text-decoration-color: #008000\">'entity_type'</span>: <span style=\"color: #008000; text-decoration-color: #008000\">'USER'</span>,\n        <span style=\"color: #008000; text-decoration-color: #008000\">'user_name'</span>: <span style=\"color: #008000; text-decoration-color: #008000\">'alice'</span>,\n        <span style=\"color: #008000; text-decoration-color: #008000\">'subscribers'</span>: <span style=\"color: #008080; text-decoration-color: #008080; font-weight: bold\">0</span>,\n        <span style=\"color: #008000; text-decoration-color: #008000\">'created_at'</span>: <span style=\"color: #800080; text-decoration-color: #800080; font-weight: bold\">datetime.datetime</span><span style=\"font-weight: bold\">(</span><span style=\"color: #008080; text-decoration-color: #008080; font-weight: bold\">2020</span>, <span style=\"color: #008080; text-decoration-color: #008080; font-weight: bold\">1</span>, <span style=\"color: #008080; text-decoration-color: #008080; font-weight: bold\">1</span>, <span style=\"color: #008080; text-decoration-color: #008080; font-weight: bold\">0</span>, <span style=\"color: #008080; text-decoration-color: #008080; font-weight: bold\">0</span><span style=\"font-weight: bold\">)</span>\n    <span style=\"font-weight: bold\">}</span>,\n    <span style=\"font-weight: bold\">{</span>\n        <span style=\"color: #008000; text-decoration-color: #008000\">'pk'</span>: <span style=\"color: #008000; text-decoration-color: #008000\">'user-2'</span>,\n        <span style=\"color: #008000; text-decoration-color: #008000\">'sk'</span>: <span style=\"color: #008000; text-decoration-color: #008000\">'_root'</span>,\n        <span style=\"color: #008000; text-decoration-color: #008000\">'entity_type'</span>: <span style=\"color: #008000; text-decoration-color: #008000\">'USER'</span>,\n        <span style=\"color: #008000; text-decoration-color: #008000\">'user_name'</span>: <span style=\"color: #008000; text-decoration-color: #008000\">'bob'</span>,\n        <span style=\"color: #008000; text-decoration-color: #008000\">'subscribers'</span>: <span style=\"color: #008080; text-decoration-color: #008080; font-weight: bold\">0</span>,\n        <span style=\"color: #008000; text-decoration-color: #008000\">'created_at'</span>: <span style=\"color: #800080; text-decoration-color: #800080; font-weight: bold\">datetime.datetime</span><span style=\"font-weight: bold\">(</span><span style=\"color: #008080; text-decoration-color: #008080; font-weight: bold\">2020</span>, <span style=\"color: #008080; text-decoration-color: #008080; font-weight: bold\">1</span>, <span style=\"color: #008080; text-decoration-color: #008080; font-weight: bold\">2</span>, <span style=\"color: #008080; text-decoration-color: #008080; font-weight: bold\">0</span>, <span style=\"color: #008080; text-decoration-color: #008080; font-weight: bold\">0</span><span style=\"font-weight: bold\">)</span>\n    <span style=\"font-weight: bold\">}</span>,\n    <span style=\"font-weight: bold\">{</span>\n        <span style=\"color: #008000; text-decoration-color: #008000\">'pk'</span>: <span style=\"color: #008000; text-decoration-color: #008000\">'user-3'</span>,\n        <span style=\"color: #008000; text-decoration-color: #008000\">'sk'</span>: <span style=\"color: #008000; text-decoration-color: #008000\">'_root'</span>,\n        <span style=\"color: #008000; text-decoration-color: #008000\">'entity_type'</span>: <span style=\"color: #008000; text-decoration-color: #008000\">'USER'</span>,\n        <span style=\"color: #008000; text-decoration-color: #008000\">'user_name'</span>: <span style=\"color: #008000; text-decoration-color: #008000\">'cathy'</span>,\n        <span style=\"color: #008000; text-decoration-color: #008000\">'subscribers'</span>: <span style=\"color: #008080; text-decoration-color: #008080; font-weight: bold\">0</span>,\n        <span style=\"color: #008000; text-decoration-color: #008000\">'created_at'</span>: <span style=\"color: #800080; text-decoration-color: #800080; font-weight: bold\">datetime.datetime</span><span style=\"font-weight: bold\">(</span><span style=\"color: #008080; text-decoration-color: #008080; font-weight: bold\">2020</span>, <span style=\"color: #008080; text-decoration-color: #008080; font-weight: bold\">1</span>, <span style=\"color: #008080; text-decoration-color: #008080; font-weight: bold\">3</span>, <span style=\"color: #008080; text-decoration-color: #008080; font-weight: bold\">0</span>, <span style=\"color: #008080; text-decoration-color: #008080; font-weight: bold\">0</span><span style=\"font-weight: bold\">)</span>\n    <span style=\"font-weight: bold\">}</span>\n<span style=\"font-weight: bold\">]</span>\n</pre>\n"
     },
     "metadata": {},
     "output_type": "display_data"
    },
    {
     "name": "stdout",
     "output_type": "stream",
     "text": [
      "Get user by user id, user-3 details:\n"
     ]
    },
    {
     "data": {
      "text/plain": "\u001B[1m{\u001B[0m\n    \u001B[32m'created_at'\u001B[0m: \u001B[1;35mdatetime.datetime\u001B[0m\u001B[1m(\u001B[0m\u001B[1;36m2020\u001B[0m, \u001B[1;36m1\u001B[0m, \u001B[1;36m3\u001B[0m, \u001B[1;36m0\u001B[0m, \u001B[1;36m0\u001B[0m, \u001B[33mtzinfo\u001B[0m=\u001B[35mdatetime\u001B[0m.timezone.utc\u001B[1m)\u001B[0m,\n    \u001B[32m'entity_type'\u001B[0m: \u001B[32m'USER'\u001B[0m,\n    \u001B[32m'pk'\u001B[0m: \u001B[32m'user-3'\u001B[0m,\n    \u001B[32m'sk'\u001B[0m: \u001B[32m'_root'\u001B[0m,\n    \u001B[32m'subscribers'\u001B[0m: \u001B[1;36m0\u001B[0m,\n    \u001B[32m'user_name'\u001B[0m: \u001B[32m'cathy'\u001B[0m\n\u001B[1m}\u001B[0m\n",
      "text/html": "<pre style=\"white-space:pre;overflow-x:auto;line-height:normal;font-family:Menlo,'DejaVu Sans Mono',consolas,'Courier New',monospace\"><span style=\"font-weight: bold\">{</span>\n    <span style=\"color: #008000; text-decoration-color: #008000\">'created_at'</span>: <span style=\"color: #800080; text-decoration-color: #800080; font-weight: bold\">datetime.datetime</span><span style=\"font-weight: bold\">(</span><span style=\"color: #008080; text-decoration-color: #008080; font-weight: bold\">2020</span>, <span style=\"color: #008080; text-decoration-color: #008080; font-weight: bold\">1</span>, <span style=\"color: #008080; text-decoration-color: #008080; font-weight: bold\">3</span>, <span style=\"color: #008080; text-decoration-color: #008080; font-weight: bold\">0</span>, <span style=\"color: #008080; text-decoration-color: #008080; font-weight: bold\">0</span>, <span style=\"color: #808000; text-decoration-color: #808000\">tzinfo</span>=<span style=\"color: #800080; text-decoration-color: #800080\">datetime</span>.timezone.utc<span style=\"font-weight: bold\">)</span>,\n    <span style=\"color: #008000; text-decoration-color: #008000\">'entity_type'</span>: <span style=\"color: #008000; text-decoration-color: #008000\">'USER'</span>,\n    <span style=\"color: #008000; text-decoration-color: #008000\">'pk'</span>: <span style=\"color: #008000; text-decoration-color: #008000\">'user-3'</span>,\n    <span style=\"color: #008000; text-decoration-color: #008000\">'sk'</span>: <span style=\"color: #008000; text-decoration-color: #008000\">'_root'</span>,\n    <span style=\"color: #008000; text-decoration-color: #008000\">'subscribers'</span>: <span style=\"color: #008080; text-decoration-color: #008080; font-weight: bold\">0</span>,\n    <span style=\"color: #008000; text-decoration-color: #008000\">'user_name'</span>: <span style=\"color: #008000; text-decoration-color: #008000\">'cathy'</span>\n<span style=\"font-weight: bold\">}</span>\n</pre>\n"
     },
     "metadata": {},
     "output_type": "display_data"
    }
   ],
   "source": [
    "class Model(Model):\n",
    "    _USER_ID_STARTED = 0\n",
    "\n",
    "    @classmethod\n",
    "    def signup_user(\n",
    "        cls,\n",
    "        user_name: str,\n",
    "        created_at: datetime,\n",
    "    ) -> \"Model\":\n",
    "        \"\"\"\n",
    "        Implement \"User Interaction\": People can sign up as a new user.\n",
    "        \"\"\"\n",
    "        cls._USER_ID_STARTED += 1\n",
    "        user_model = cls(\n",
    "            pk=f\"user-{cls._USER_ID_STARTED}\",\n",
    "            sk=ROOT,\n",
    "            entity_type=EntityTypeEnum.USER.value,\n",
    "            user_name=user_name,\n",
    "            subscribers=0,\n",
    "            created_at=created_at,\n",
    "        )\n",
    "        user_model.save()\n",
    "        return user_model\n",
    "\n",
    "    @classmethod\n",
    "    def get_user(cls, user_id: str) -> \"Model\":\n",
    "        \"\"\"\n",
    "        Implement \"Query Pattern\": Given a User id, we can get the detailed information of the user.\n",
    "        \"\"\"\n",
    "        return cls.get(hash_key=user_id, range_key=ROOT)\n",
    "\n",
    "# Test your implementation\n",
    "print(\"Create some sample users\")\n",
    "user1 = Model.signup_user(user_name=\"alice\", created_at=datetime(2020, 1, 1))\n",
    "user2 = Model.signup_user(user_name=\"bob\", created_at=datetime(2020, 1, 2))\n",
    "user3 = Model.signup_user(user_name=\"cathy\", created_at=datetime(2020, 1, 3))\n",
    "rprint([\n",
    "    user1.to_dict(),\n",
    "    user2.to_dict(),\n",
    "    user3.to_dict(),\n",
    "])\n",
    "\n",
    "print(\"Get user by user id, user-3 details:\")\n",
    "rprint(Model.get_user(\"user-3\").to_dict())"
   ],
   "metadata": {
    "collapsed": false,
    "pycharm": {
     "name": "#%%\n"
    }
   }
  },
  {
   "cell_type": "markdown",
   "source": [
    "### Implement Video Related Features"
   ],
   "metadata": {
    "collapsed": false,
    "pycharm": {
     "name": "#%% md\n"
    }
   }
  },
  {
   "cell_type": "code",
   "execution_count": 132,
   "outputs": [
    {
     "name": "stdout",
     "output_type": "stream",
     "text": [
      "Create some sample users, user-1 has 1 video, user-2 has 2 videos, user-3 has 3 videos\n"
     ]
    },
    {
     "data": {
      "text/plain": "\u001B[1m{\u001B[0m\n    \u001B[32m'pk'\u001B[0m: \u001B[32m'video-1'\u001B[0m,\n    \u001B[32m'sk'\u001B[0m: \u001B[32m'_root'\u001B[0m,\n    \u001B[32m'entity_type'\u001B[0m: \u001B[32m'VIDEO'\u001B[0m,\n    \u001B[32m'video_title'\u001B[0m: \u001B[32m'video 1 title'\u001B[0m,\n    \u001B[32m'video_creator_id'\u001B[0m: \u001B[32m'user-1'\u001B[0m,\n    \u001B[32m'views'\u001B[0m: \u001B[1;36m0\u001B[0m,\n    \u001B[32m'created_at'\u001B[0m: \u001B[1;35mdatetime.datetime\u001B[0m\u001B[1m(\u001B[0m\u001B[1;36m2020\u001B[0m, \u001B[1;36m2\u001B[0m, \u001B[1;36m1\u001B[0m, \u001B[1;36m0\u001B[0m, \u001B[1;36m0\u001B[0m\u001B[1m)\u001B[0m\n\u001B[1m}\u001B[0m\n",
      "text/html": "<pre style=\"white-space:pre;overflow-x:auto;line-height:normal;font-family:Menlo,'DejaVu Sans Mono',consolas,'Courier New',monospace\"><span style=\"font-weight: bold\">{</span>\n    <span style=\"color: #008000; text-decoration-color: #008000\">'pk'</span>: <span style=\"color: #008000; text-decoration-color: #008000\">'video-1'</span>,\n    <span style=\"color: #008000; text-decoration-color: #008000\">'sk'</span>: <span style=\"color: #008000; text-decoration-color: #008000\">'_root'</span>,\n    <span style=\"color: #008000; text-decoration-color: #008000\">'entity_type'</span>: <span style=\"color: #008000; text-decoration-color: #008000\">'VIDEO'</span>,\n    <span style=\"color: #008000; text-decoration-color: #008000\">'video_title'</span>: <span style=\"color: #008000; text-decoration-color: #008000\">'video 1 title'</span>,\n    <span style=\"color: #008000; text-decoration-color: #008000\">'video_creator_id'</span>: <span style=\"color: #008000; text-decoration-color: #008000\">'user-1'</span>,\n    <span style=\"color: #008000; text-decoration-color: #008000\">'views'</span>: <span style=\"color: #008080; text-decoration-color: #008080; font-weight: bold\">0</span>,\n    <span style=\"color: #008000; text-decoration-color: #008000\">'created_at'</span>: <span style=\"color: #800080; text-decoration-color: #800080; font-weight: bold\">datetime.datetime</span><span style=\"font-weight: bold\">(</span><span style=\"color: #008080; text-decoration-color: #008080; font-weight: bold\">2020</span>, <span style=\"color: #008080; text-decoration-color: #008080; font-weight: bold\">2</span>, <span style=\"color: #008080; text-decoration-color: #008080; font-weight: bold\">1</span>, <span style=\"color: #008080; text-decoration-color: #008080; font-weight: bold\">0</span>, <span style=\"color: #008080; text-decoration-color: #008080; font-weight: bold\">0</span><span style=\"font-weight: bold\">)</span>\n<span style=\"font-weight: bold\">}</span>\n</pre>\n"
     },
     "metadata": {},
     "output_type": "display_data"
    },
    {
     "name": "stdout",
     "output_type": "stream",
     "text": [
      "Get video by video id, video-2 details:\n"
     ]
    },
    {
     "data": {
      "text/plain": "\u001B[1m{\u001B[0m\n    \u001B[32m'created_at'\u001B[0m: \u001B[1;35mdatetime.datetime\u001B[0m\u001B[1m(\u001B[0m\u001B[1;36m2020\u001B[0m, \u001B[1;36m2\u001B[0m, \u001B[1;36m2\u001B[0m, \u001B[1;36m0\u001B[0m, \u001B[1;36m0\u001B[0m, \u001B[33mtzinfo\u001B[0m=\u001B[35mdatetime\u001B[0m.timezone.utc\u001B[1m)\u001B[0m,\n    \u001B[32m'entity_type'\u001B[0m: \u001B[32m'VIDEO'\u001B[0m,\n    \u001B[32m'pk'\u001B[0m: \u001B[32m'video-2'\u001B[0m,\n    \u001B[32m'sk'\u001B[0m: \u001B[32m'_root'\u001B[0m,\n    \u001B[32m'video_creator_id'\u001B[0m: \u001B[32m'user-2'\u001B[0m,\n    \u001B[32m'video_title'\u001B[0m: \u001B[32m'video 2 title'\u001B[0m,\n    \u001B[32m'views'\u001B[0m: \u001B[1;36m0\u001B[0m\n\u001B[1m}\u001B[0m\n",
      "text/html": "<pre style=\"white-space:pre;overflow-x:auto;line-height:normal;font-family:Menlo,'DejaVu Sans Mono',consolas,'Courier New',monospace\"><span style=\"font-weight: bold\">{</span>\n    <span style=\"color: #008000; text-decoration-color: #008000\">'created_at'</span>: <span style=\"color: #800080; text-decoration-color: #800080; font-weight: bold\">datetime.datetime</span><span style=\"font-weight: bold\">(</span><span style=\"color: #008080; text-decoration-color: #008080; font-weight: bold\">2020</span>, <span style=\"color: #008080; text-decoration-color: #008080; font-weight: bold\">2</span>, <span style=\"color: #008080; text-decoration-color: #008080; font-weight: bold\">2</span>, <span style=\"color: #008080; text-decoration-color: #008080; font-weight: bold\">0</span>, <span style=\"color: #008080; text-decoration-color: #008080; font-weight: bold\">0</span>, <span style=\"color: #808000; text-decoration-color: #808000\">tzinfo</span>=<span style=\"color: #800080; text-decoration-color: #800080\">datetime</span>.timezone.utc<span style=\"font-weight: bold\">)</span>,\n    <span style=\"color: #008000; text-decoration-color: #008000\">'entity_type'</span>: <span style=\"color: #008000; text-decoration-color: #008000\">'VIDEO'</span>,\n    <span style=\"color: #008000; text-decoration-color: #008000\">'pk'</span>: <span style=\"color: #008000; text-decoration-color: #008000\">'video-2'</span>,\n    <span style=\"color: #008000; text-decoration-color: #008000\">'sk'</span>: <span style=\"color: #008000; text-decoration-color: #008000\">'_root'</span>,\n    <span style=\"color: #008000; text-decoration-color: #008000\">'video_creator_id'</span>: <span style=\"color: #008000; text-decoration-color: #008000\">'user-2'</span>,\n    <span style=\"color: #008000; text-decoration-color: #008000\">'video_title'</span>: <span style=\"color: #008000; text-decoration-color: #008000\">'video 2 title'</span>,\n    <span style=\"color: #008000; text-decoration-color: #008000\">'views'</span>: <span style=\"color: #008080; text-decoration-color: #008080; font-weight: bold\">0</span>\n<span style=\"font-weight: bold\">}</span>\n</pre>\n"
     },
     "metadata": {},
     "output_type": "display_data"
    },
    {
     "name": "stdout",
     "output_type": "stream",
     "text": [
      "Get user's videos by user id, user-3's videos\n"
     ]
    },
    {
     "data": {
      "text/plain": "\u001B[1m[\u001B[0m\n    \u001B[1m{\u001B[0m\n        \u001B[32m'created_at'\u001B[0m: \u001B[1;35mdatetime.datetime\u001B[0m\u001B[1m(\u001B[0m\u001B[1;36m2020\u001B[0m, \u001B[1;36m2\u001B[0m, \u001B[1;36m6\u001B[0m, \u001B[1;36m0\u001B[0m, \u001B[1;36m0\u001B[0m, \u001B[33mtzinfo\u001B[0m=\u001B[35mdatetime\u001B[0m.timezone.utc\u001B[1m)\u001B[0m,\n        \u001B[32m'pk'\u001B[0m: \u001B[32m'video-6'\u001B[0m,\n        \u001B[32m'sk'\u001B[0m: \u001B[32m'_root'\u001B[0m,\n        \u001B[32m'video_creator_id'\u001B[0m: \u001B[32m'user-3'\u001B[0m,\n        \u001B[32m'video_title'\u001B[0m: \u001B[32m'video 6 title'\u001B[0m\n    \u001B[1m}\u001B[0m,\n    \u001B[1m{\u001B[0m\n        \u001B[32m'created_at'\u001B[0m: \u001B[1;35mdatetime.datetime\u001B[0m\u001B[1m(\u001B[0m\u001B[1;36m2020\u001B[0m, \u001B[1;36m2\u001B[0m, \u001B[1;36m5\u001B[0m, \u001B[1;36m0\u001B[0m, \u001B[1;36m0\u001B[0m, \u001B[33mtzinfo\u001B[0m=\u001B[35mdatetime\u001B[0m.timezone.utc\u001B[1m)\u001B[0m,\n        \u001B[32m'pk'\u001B[0m: \u001B[32m'video-5'\u001B[0m,\n        \u001B[32m'sk'\u001B[0m: \u001B[32m'_root'\u001B[0m,\n        \u001B[32m'video_creator_id'\u001B[0m: \u001B[32m'user-3'\u001B[0m,\n        \u001B[32m'video_title'\u001B[0m: \u001B[32m'video 5 title'\u001B[0m\n    \u001B[1m}\u001B[0m,\n    \u001B[1m{\u001B[0m\n        \u001B[32m'created_at'\u001B[0m: \u001B[1;35mdatetime.datetime\u001B[0m\u001B[1m(\u001B[0m\u001B[1;36m2020\u001B[0m, \u001B[1;36m2\u001B[0m, \u001B[1;36m4\u001B[0m, \u001B[1;36m0\u001B[0m, \u001B[1;36m0\u001B[0m, \u001B[33mtzinfo\u001B[0m=\u001B[35mdatetime\u001B[0m.timezone.utc\u001B[1m)\u001B[0m,\n        \u001B[32m'pk'\u001B[0m: \u001B[32m'video-4'\u001B[0m,\n        \u001B[32m'sk'\u001B[0m: \u001B[32m'_root'\u001B[0m,\n        \u001B[32m'video_creator_id'\u001B[0m: \u001B[32m'user-3'\u001B[0m,\n        \u001B[32m'video_title'\u001B[0m: \u001B[32m'video 4 title'\u001B[0m\n    \u001B[1m}\u001B[0m\n\u001B[1m]\u001B[0m\n",
      "text/html": "<pre style=\"white-space:pre;overflow-x:auto;line-height:normal;font-family:Menlo,'DejaVu Sans Mono',consolas,'Courier New',monospace\"><span style=\"font-weight: bold\">[</span>\n    <span style=\"font-weight: bold\">{</span>\n        <span style=\"color: #008000; text-decoration-color: #008000\">'created_at'</span>: <span style=\"color: #800080; text-decoration-color: #800080; font-weight: bold\">datetime.datetime</span><span style=\"font-weight: bold\">(</span><span style=\"color: #008080; text-decoration-color: #008080; font-weight: bold\">2020</span>, <span style=\"color: #008080; text-decoration-color: #008080; font-weight: bold\">2</span>, <span style=\"color: #008080; text-decoration-color: #008080; font-weight: bold\">6</span>, <span style=\"color: #008080; text-decoration-color: #008080; font-weight: bold\">0</span>, <span style=\"color: #008080; text-decoration-color: #008080; font-weight: bold\">0</span>, <span style=\"color: #808000; text-decoration-color: #808000\">tzinfo</span>=<span style=\"color: #800080; text-decoration-color: #800080\">datetime</span>.timezone.utc<span style=\"font-weight: bold\">)</span>,\n        <span style=\"color: #008000; text-decoration-color: #008000\">'pk'</span>: <span style=\"color: #008000; text-decoration-color: #008000\">'video-6'</span>,\n        <span style=\"color: #008000; text-decoration-color: #008000\">'sk'</span>: <span style=\"color: #008000; text-decoration-color: #008000\">'_root'</span>,\n        <span style=\"color: #008000; text-decoration-color: #008000\">'video_creator_id'</span>: <span style=\"color: #008000; text-decoration-color: #008000\">'user-3'</span>,\n        <span style=\"color: #008000; text-decoration-color: #008000\">'video_title'</span>: <span style=\"color: #008000; text-decoration-color: #008000\">'video 6 title'</span>\n    <span style=\"font-weight: bold\">}</span>,\n    <span style=\"font-weight: bold\">{</span>\n        <span style=\"color: #008000; text-decoration-color: #008000\">'created_at'</span>: <span style=\"color: #800080; text-decoration-color: #800080; font-weight: bold\">datetime.datetime</span><span style=\"font-weight: bold\">(</span><span style=\"color: #008080; text-decoration-color: #008080; font-weight: bold\">2020</span>, <span style=\"color: #008080; text-decoration-color: #008080; font-weight: bold\">2</span>, <span style=\"color: #008080; text-decoration-color: #008080; font-weight: bold\">5</span>, <span style=\"color: #008080; text-decoration-color: #008080; font-weight: bold\">0</span>, <span style=\"color: #008080; text-decoration-color: #008080; font-weight: bold\">0</span>, <span style=\"color: #808000; text-decoration-color: #808000\">tzinfo</span>=<span style=\"color: #800080; text-decoration-color: #800080\">datetime</span>.timezone.utc<span style=\"font-weight: bold\">)</span>,\n        <span style=\"color: #008000; text-decoration-color: #008000\">'pk'</span>: <span style=\"color: #008000; text-decoration-color: #008000\">'video-5'</span>,\n        <span style=\"color: #008000; text-decoration-color: #008000\">'sk'</span>: <span style=\"color: #008000; text-decoration-color: #008000\">'_root'</span>,\n        <span style=\"color: #008000; text-decoration-color: #008000\">'video_creator_id'</span>: <span style=\"color: #008000; text-decoration-color: #008000\">'user-3'</span>,\n        <span style=\"color: #008000; text-decoration-color: #008000\">'video_title'</span>: <span style=\"color: #008000; text-decoration-color: #008000\">'video 5 title'</span>\n    <span style=\"font-weight: bold\">}</span>,\n    <span style=\"font-weight: bold\">{</span>\n        <span style=\"color: #008000; text-decoration-color: #008000\">'created_at'</span>: <span style=\"color: #800080; text-decoration-color: #800080; font-weight: bold\">datetime.datetime</span><span style=\"font-weight: bold\">(</span><span style=\"color: #008080; text-decoration-color: #008080; font-weight: bold\">2020</span>, <span style=\"color: #008080; text-decoration-color: #008080; font-weight: bold\">2</span>, <span style=\"color: #008080; text-decoration-color: #008080; font-weight: bold\">4</span>, <span style=\"color: #008080; text-decoration-color: #008080; font-weight: bold\">0</span>, <span style=\"color: #008080; text-decoration-color: #008080; font-weight: bold\">0</span>, <span style=\"color: #808000; text-decoration-color: #808000\">tzinfo</span>=<span style=\"color: #800080; text-decoration-color: #800080\">datetime</span>.timezone.utc<span style=\"font-weight: bold\">)</span>,\n        <span style=\"color: #008000; text-decoration-color: #008000\">'pk'</span>: <span style=\"color: #008000; text-decoration-color: #008000\">'video-4'</span>,\n        <span style=\"color: #008000; text-decoration-color: #008000\">'sk'</span>: <span style=\"color: #008000; text-decoration-color: #008000\">'_root'</span>,\n        <span style=\"color: #008000; text-decoration-color: #008000\">'video_creator_id'</span>: <span style=\"color: #008000; text-decoration-color: #008000\">'user-3'</span>,\n        <span style=\"color: #008000; text-decoration-color: #008000\">'video_title'</span>: <span style=\"color: #008000; text-decoration-color: #008000\">'video 4 title'</span>\n    <span style=\"font-weight: bold\">}</span>\n<span style=\"font-weight: bold\">]</span>\n</pre>\n"
     },
     "metadata": {},
     "output_type": "display_data"
    }
   ],
   "source": [
    "class Model(Model):\n",
    "    _VIDEO_ID_STARTED = 0\n",
    "\n",
    "    @classmethod\n",
    "    def upload_video(\n",
    "        cls,\n",
    "        user_id: str,\n",
    "        video_title: str,\n",
    "        created_at: datetime,\n",
    "    ) -> \"Model\":\n",
    "        \"\"\"\n",
    "        Implement \"User Interaction\": A user can upload a video.\n",
    "        \"\"\"\n",
    "        cls._VIDEO_ID_STARTED += 1\n",
    "\n",
    "        video_model = cls(\n",
    "            pk=f\"video-{cls._VIDEO_ID_STARTED}\",\n",
    "            sk=ROOT,\n",
    "            entity_type=EntityTypeEnum.VIDEO.value,\n",
    "            video_title=video_title,\n",
    "            video_creator_id=user_id,\n",
    "            views=0, # views start with 0\n",
    "            created_at=created_at,\n",
    "        )\n",
    "        video_model.save()\n",
    "        return video_model\n",
    "\n",
    "    @classmethod\n",
    "    def get_video(cls, video_id: str) -> \"Model\":\n",
    "        \"\"\"\n",
    "        Implement \"Query Pattern\": Given a Video id, we can get the detailed information of the video.\n",
    "        \"\"\"\n",
    "        return cls.get(hash_key=video_id, range_key=ROOT)\n",
    "\n",
    "    @classmethod\n",
    "    def get_users_videos(cls, user_id: str, limit: int = 5):\n",
    "        \"\"\"\n",
    "        Implement \"Query Pattern\": Given a User id, we can get all the videos of the user.\n",
    "        \"\"\"\n",
    "        return cls.iter_query_index(\n",
    "            index=cls.user_s_video_index,\n",
    "            hash_key=user_id,\n",
    "            scan_index_forward=False,\n",
    "            limit=limit,\n",
    "        )\n",
    "\n",
    "# Test your implementation\n",
    "print(\"Create some sample users, user-1 has 1 video, user-2 has 2 videos, user-3 has 3 videos\")\n",
    "video1 = Model.upload_video(user_id=\"user-1\", video_title=\"video 1 title\", created_at=datetime(2020, 2, 1))\n",
    "video2 = Model.upload_video(user_id=\"user-2\", video_title=\"video 2 title\", created_at=datetime(2020, 2, 2))\n",
    "video3 = Model.upload_video(user_id=\"user-2\", video_title=\"video 3 title\", created_at=datetime(2020, 2, 3))\n",
    "video4 = Model.upload_video(user_id=\"user-3\", video_title=\"video 4 title\", created_at=datetime(2020, 2, 4))\n",
    "video5 = Model.upload_video(user_id=\"user-3\", video_title=\"video 5 title\", created_at=datetime(2020, 2, 5))\n",
    "video6 = Model.upload_video(user_id=\"user-3\", video_title=\"video 6 title\", created_at=datetime(2020, 2, 6))\n",
    "rprint(video1.to_dict())\n",
    "\n",
    "print(\"Get video by video id, video-2 details:\")\n",
    "rprint(Model.get_video(\"video-2\").to_dict())\n",
    "\n",
    "print(\"Get user's videos by user id, user-3's videos\")\n",
    "rprint([video.to_dict() for video in Model.get_users_videos(\"user-3\").all()])"
   ],
   "metadata": {
    "collapsed": false,
    "pycharm": {
     "name": "#%%\n"
    }
   }
  },
  {
   "cell_type": "markdown",
   "source": [
    "### Implement Subscription Related Features"
   ],
   "metadata": {
    "collapsed": false,
    "pycharm": {
     "name": "#%% md\n"
    }
   }
  },
  {
   "cell_type": "code",
   "execution_count": 133,
   "outputs": [
    {
     "name": "stdout",
     "output_type": "stream",
     "text": [
      "Create some sample subscriptions, user-1 subscribes user-2 and user-3\n",
      "Get subscribe list by user id, user-1 subscribes user-2 and user-3\n"
     ]
    },
    {
     "data": {
      "text/plain": "\u001B[1m[\u001B[0m\n    \u001B[1m{\u001B[0m\n        \u001B[32m'created_at'\u001B[0m: \u001B[1;35mdatetime.datetime\u001B[0m\u001B[1m(\u001B[0m\u001B[1;36m2020\u001B[0m, \u001B[1;36m4\u001B[0m, \u001B[1;36m1\u001B[0m, \u001B[1;36m0\u001B[0m, \u001B[1;36m0\u001B[0m, \u001B[33mtzinfo\u001B[0m=\u001B[35mdatetime\u001B[0m.timezone.utc\u001B[1m)\u001B[0m,\n        \u001B[32m'entity_type'\u001B[0m: \u001B[32m'SUBSCRIPTION'\u001B[0m,\n        \u001B[32m'pk'\u001B[0m: \u001B[32m'subscriber-user-1'\u001B[0m,\n        \u001B[32m'sk'\u001B[0m: \u001B[32m'user-2'\u001B[0m\n    \u001B[1m}\u001B[0m,\n    \u001B[1m{\u001B[0m\n        \u001B[32m'created_at'\u001B[0m: \u001B[1;35mdatetime.datetime\u001B[0m\u001B[1m(\u001B[0m\u001B[1;36m2020\u001B[0m, \u001B[1;36m4\u001B[0m, \u001B[1;36m2\u001B[0m, \u001B[1;36m0\u001B[0m, \u001B[1;36m0\u001B[0m, \u001B[33mtzinfo\u001B[0m=\u001B[35mdatetime\u001B[0m.timezone.utc\u001B[1m)\u001B[0m,\n        \u001B[32m'entity_type'\u001B[0m: \u001B[32m'SUBSCRIPTION'\u001B[0m,\n        \u001B[32m'pk'\u001B[0m: \u001B[32m'subscriber-user-1'\u001B[0m,\n        \u001B[32m'sk'\u001B[0m: \u001B[32m'user-3'\u001B[0m\n    \u001B[1m}\u001B[0m\n\u001B[1m]\u001B[0m\n",
      "text/html": "<pre style=\"white-space:pre;overflow-x:auto;line-height:normal;font-family:Menlo,'DejaVu Sans Mono',consolas,'Courier New',monospace\"><span style=\"font-weight: bold\">[</span>\n    <span style=\"font-weight: bold\">{</span>\n        <span style=\"color: #008000; text-decoration-color: #008000\">'created_at'</span>: <span style=\"color: #800080; text-decoration-color: #800080; font-weight: bold\">datetime.datetime</span><span style=\"font-weight: bold\">(</span><span style=\"color: #008080; text-decoration-color: #008080; font-weight: bold\">2020</span>, <span style=\"color: #008080; text-decoration-color: #008080; font-weight: bold\">4</span>, <span style=\"color: #008080; text-decoration-color: #008080; font-weight: bold\">1</span>, <span style=\"color: #008080; text-decoration-color: #008080; font-weight: bold\">0</span>, <span style=\"color: #008080; text-decoration-color: #008080; font-weight: bold\">0</span>, <span style=\"color: #808000; text-decoration-color: #808000\">tzinfo</span>=<span style=\"color: #800080; text-decoration-color: #800080\">datetime</span>.timezone.utc<span style=\"font-weight: bold\">)</span>,\n        <span style=\"color: #008000; text-decoration-color: #008000\">'entity_type'</span>: <span style=\"color: #008000; text-decoration-color: #008000\">'SUBSCRIPTION'</span>,\n        <span style=\"color: #008000; text-decoration-color: #008000\">'pk'</span>: <span style=\"color: #008000; text-decoration-color: #008000\">'subscriber-user-1'</span>,\n        <span style=\"color: #008000; text-decoration-color: #008000\">'sk'</span>: <span style=\"color: #008000; text-decoration-color: #008000\">'user-2'</span>\n    <span style=\"font-weight: bold\">}</span>,\n    <span style=\"font-weight: bold\">{</span>\n        <span style=\"color: #008000; text-decoration-color: #008000\">'created_at'</span>: <span style=\"color: #800080; text-decoration-color: #800080; font-weight: bold\">datetime.datetime</span><span style=\"font-weight: bold\">(</span><span style=\"color: #008080; text-decoration-color: #008080; font-weight: bold\">2020</span>, <span style=\"color: #008080; text-decoration-color: #008080; font-weight: bold\">4</span>, <span style=\"color: #008080; text-decoration-color: #008080; font-weight: bold\">2</span>, <span style=\"color: #008080; text-decoration-color: #008080; font-weight: bold\">0</span>, <span style=\"color: #008080; text-decoration-color: #008080; font-weight: bold\">0</span>, <span style=\"color: #808000; text-decoration-color: #808000\">tzinfo</span>=<span style=\"color: #800080; text-decoration-color: #800080\">datetime</span>.timezone.utc<span style=\"font-weight: bold\">)</span>,\n        <span style=\"color: #008000; text-decoration-color: #008000\">'entity_type'</span>: <span style=\"color: #008000; text-decoration-color: #008000\">'SUBSCRIPTION'</span>,\n        <span style=\"color: #008000; text-decoration-color: #008000\">'pk'</span>: <span style=\"color: #008000; text-decoration-color: #008000\">'subscriber-user-1'</span>,\n        <span style=\"color: #008000; text-decoration-color: #008000\">'sk'</span>: <span style=\"color: #008000; text-decoration-color: #008000\">'user-3'</span>\n    <span style=\"font-weight: bold\">}</span>\n<span style=\"font-weight: bold\">]</span>\n</pre>\n"
     },
     "metadata": {},
     "output_type": "display_data"
    },
    {
     "name": "stdout",
     "output_type": "stream",
     "text": [
      "Get number of subscribers by user id, user-3 has 1 subscriber\n"
     ]
    },
    {
     "data": {
      "text/plain": "User user-\u001B[1;36m3\u001B[0m has \u001B[1;36m1\u001B[0m subscribers\n",
      "text/html": "<pre style=\"white-space:pre;overflow-x:auto;line-height:normal;font-family:Menlo,'DejaVu Sans Mono',consolas,'Courier New',monospace\">User user-<span style=\"color: #008080; text-decoration-color: #008080; font-weight: bold\">3</span> has <span style=\"color: #008080; text-decoration-color: #008080; font-weight: bold\">1</span> subscribers\n</pre>\n"
     },
     "metadata": {},
     "output_type": "display_data"
    }
   ],
   "source": [
    "class Model(Model):\n",
    "    @classmethod\n",
    "    def subscribe(\n",
    "        cls,\n",
    "        subscriber_id: str,\n",
    "        publisher_id: str,\n",
    "        created_at: datetime,\n",
    "    ) -> \"Model\":\n",
    "        \"\"\"\n",
    "        Implement \"User Interaction\": A user can subscribe to another user.\n",
    "        \"\"\"\n",
    "        subscription_model = cls(\n",
    "            pk=f\"subscriber-{subscriber_id}\",\n",
    "            sk=publisher_id,\n",
    "            entity_type=EntityTypeEnum.SUBSCRIPTION,\n",
    "            created_at=created_at,\n",
    "        )\n",
    "        subscription_model.save()\n",
    "\n",
    "        cls(pk=publisher_id, sk=ROOT).update(actions=[\n",
    "            cls.subscribers.set(cls.subscribers + 1)\n",
    "        ]) # the publisher's subscribers count + 1\n",
    "\n",
    "        return subscription_model\n",
    "\n",
    "    @classmethod\n",
    "    def get_user_subscriptions(\n",
    "        cls,\n",
    "        user_id: str,\n",
    "    ):\n",
    "        \"\"\"\n",
    "        Implement \"Query Pattern\": Given a User id, we can get all the subscriptions of the user.\n",
    "        \"\"\"\n",
    "        return cls.iter_query(hash_key=f\"subscriber-{user_id}\")\n",
    "\n",
    "# Test your implementation\n",
    "print(\"Create some sample subscriptions, user-1 subscribes user-2 and user-3\")\n",
    "Model.subscribe(subscriber_id=\"user-1\", publisher_id=\"user-2\", created_at=datetime(2020, 4, 1))\n",
    "Model.subscribe(subscriber_id=\"user-1\", publisher_id=\"user-3\", created_at=datetime(2020, 4, 2))\n",
    "\n",
    "print(\"Get subscribe list by user id, user-1 subscribes user-2 and user-3\")\n",
    "rprint([user.to_dict() for user in Model.get_user_subscriptions(\"user-1\")])\n",
    "\n",
    "print(\"Get number of subscribers by user id, user-3 has 1 subscriber\")\n",
    "user = Model.get_user(\"user-3\")\n",
    "rprint(f\"User {user.pk} has {user.subscribers} subscribers\")"
   ],
   "metadata": {
    "collapsed": false,
    "pycharm": {
     "name": "#%%\n"
    }
   }
  },
  {
   "cell_type": "markdown",
   "source": [
    "### Implement Video Views Related Features"
   ],
   "metadata": {
    "collapsed": false,
    "pycharm": {
     "name": "#%% md\n"
    }
   }
  },
  {
   "cell_type": "code",
   "execution_count": 134,
   "outputs": [
    {
     "name": "stdout",
     "output_type": "stream",
     "text": [
      "Mock some view activities, both user-2 and user-3 watched video-1\n",
      "Get number of views of a video-1\n"
     ]
    },
    {
     "data": {
      "text/plain": "Video video-\u001B[1;36m1\u001B[0m has \u001B[1;36m2\u001B[0m views\n",
      "text/html": "<pre style=\"white-space:pre;overflow-x:auto;line-height:normal;font-family:Menlo,'DejaVu Sans Mono',consolas,'Courier New',monospace\">Video video-<span style=\"color: #008080; text-decoration-color: #008080; font-weight: bold\">1</span> has <span style=\"color: #008080; text-decoration-color: #008080; font-weight: bold\">2</span> views\n</pre>\n"
     },
     "metadata": {},
     "output_type": "display_data"
    },
    {
     "name": "stdout",
     "output_type": "stream",
     "text": [
      "Check if a user has viewed a video\n"
     ]
    },
    {
     "data": {
      "text/plain": "has user-\u001B[1;36m2\u001B[0m viewed video-\u001B[1;36m1\u001B[0m:  \u001B[3;92mTrue\u001B[0m\n",
      "text/html": "<pre style=\"white-space:pre;overflow-x:auto;line-height:normal;font-family:Menlo,'DejaVu Sans Mono',consolas,'Courier New',monospace\">has user-<span style=\"color: #008080; text-decoration-color: #008080; font-weight: bold\">2</span> viewed video-<span style=\"color: #008080; text-decoration-color: #008080; font-weight: bold\">1</span>:  <span style=\"color: #00ff00; text-decoration-color: #00ff00; font-style: italic\">True</span>\n</pre>\n"
     },
     "metadata": {},
     "output_type": "display_data"
    },
    {
     "data": {
      "text/plain": "has user-\u001B[1;36m2\u001B[0m viewed video-\u001B[1;36m2\u001B[0m:  \u001B[3;91mFalse\u001B[0m\n",
      "text/html": "<pre style=\"white-space:pre;overflow-x:auto;line-height:normal;font-family:Menlo,'DejaVu Sans Mono',consolas,'Courier New',monospace\">has user-<span style=\"color: #008080; text-decoration-color: #008080; font-weight: bold\">2</span> viewed video-<span style=\"color: #008080; text-decoration-color: #008080; font-weight: bold\">2</span>:  <span style=\"color: #ff0000; text-decoration-color: #ff0000; font-style: italic\">False</span>\n</pre>\n"
     },
     "metadata": {},
     "output_type": "display_data"
    }
   ],
   "source": [
    "class Model(Model):\n",
    "    @classmethod\n",
    "    def watch_video(\n",
    "        cls,\n",
    "        user_id: str,\n",
    "        video_id: str,\n",
    "    ):\n",
    "        \"\"\"\n",
    "        Implement \"User Interaction\": A user can watch a video.\n",
    "        \"\"\"\n",
    "        cls(pk=video_id, sk=ROOT).update(actions=[\n",
    "            cls.views.set(cls.views + 1)\n",
    "        ])\n",
    "        view_activity = cls(pk=user_id, sk=video_id).save()\n",
    "        return view_activity\n",
    "\n",
    "    @classmethod\n",
    "    def is_user_has_viewed(\n",
    "        cls,\n",
    "        user_id: str,\n",
    "        video_id: str,\n",
    "    ) -> bool:\n",
    "        \"\"\"\n",
    "        Implement \"Query Pattern\": System knows whether a user watched a video before.\n",
    "        \"\"\"\n",
    "        return cls.get_one_or_none(hash_key=user_id, range_key=video_id) is not None\n",
    "\n",
    "print(\"Mock some view activities, both user-2 and user-3 watched video-1\")\n",
    "Model.watch_video(user_id=\"user-2\", video_id=\"video-1\")\n",
    "Model.watch_video(user_id=\"user-3\", video_id=\"video-1\")\n",
    "\n",
    "print(\"Get number of views of a video-1\")\n",
    "video = Model.get_video(\"video-1\")\n",
    "rprint(f\"Video {video.pk} has {video.views} views\")\n",
    "\n",
    "print(\"Check if a user has viewed a video\")\n",
    "rprint(\"has user-2 viewed video-1: \", Model.is_user_has_viewed(\"user-2\", \"video-1\"))\n",
    "rprint(\"has user-2 viewed video-2: \", Model.is_user_has_viewed(\"user-2\", \"video-2\"))"
   ],
   "metadata": {
    "collapsed": false,
    "pycharm": {
     "name": "#%%\n"
    }
   }
  },
  {
   "cell_type": "markdown",
   "source": [
    "### Implement Video Recommendation Related Features"
   ],
   "metadata": {
    "collapsed": false,
    "pycharm": {
     "name": "#%% md\n"
    }
   }
  },
  {
   "cell_type": "code",
   "execution_count": 135,
   "outputs": [
    {
     "name": "stdout",
     "output_type": "stream",
     "text": [
      "User 2 subscribe User 3\n",
      "User 3 has three video: video 4, 5, 6\n",
      "User 2 has watched video 4 already\n",
      "System should push video 5, 6 to user 2\n",
      "It won't recommend video-4 because he already watched it\n"
     ]
    },
    {
     "data": {
      "text/plain": "\u001B[1m[\u001B[0m\n    \u001B[1m{\u001B[0m\n        \u001B[32m'created_at'\u001B[0m: \u001B[1;35mdatetime.datetime\u001B[0m\u001B[1m(\u001B[0m\u001B[1;36m2020\u001B[0m, \u001B[1;36m2\u001B[0m, \u001B[1;36m6\u001B[0m, \u001B[1;36m0\u001B[0m, \u001B[1;36m0\u001B[0m, \u001B[33mtzinfo\u001B[0m=\u001B[35mdatetime\u001B[0m.timezone.utc\u001B[1m)\u001B[0m,\n        \u001B[32m'pk'\u001B[0m: \u001B[32m'video-6'\u001B[0m,\n        \u001B[32m'sk'\u001B[0m: \u001B[32m'_root'\u001B[0m,\n        \u001B[32m'video_creator_id'\u001B[0m: \u001B[32m'user-3'\u001B[0m,\n        \u001B[32m'video_title'\u001B[0m: \u001B[32m'video 6 title'\u001B[0m\n    \u001B[1m}\u001B[0m,\n    \u001B[1m{\u001B[0m\n        \u001B[32m'created_at'\u001B[0m: \u001B[1;35mdatetime.datetime\u001B[0m\u001B[1m(\u001B[0m\u001B[1;36m2020\u001B[0m, \u001B[1;36m2\u001B[0m, \u001B[1;36m5\u001B[0m, \u001B[1;36m0\u001B[0m, \u001B[1;36m0\u001B[0m, \u001B[33mtzinfo\u001B[0m=\u001B[35mdatetime\u001B[0m.timezone.utc\u001B[1m)\u001B[0m,\n        \u001B[32m'pk'\u001B[0m: \u001B[32m'video-5'\u001B[0m,\n        \u001B[32m'sk'\u001B[0m: \u001B[32m'_root'\u001B[0m,\n        \u001B[32m'video_creator_id'\u001B[0m: \u001B[32m'user-3'\u001B[0m,\n        \u001B[32m'video_title'\u001B[0m: \u001B[32m'video 5 title'\u001B[0m\n    \u001B[1m}\u001B[0m\n\u001B[1m]\u001B[0m\n",
      "text/html": "<pre style=\"white-space:pre;overflow-x:auto;line-height:normal;font-family:Menlo,'DejaVu Sans Mono',consolas,'Courier New',monospace\"><span style=\"font-weight: bold\">[</span>\n    <span style=\"font-weight: bold\">{</span>\n        <span style=\"color: #008000; text-decoration-color: #008000\">'created_at'</span>: <span style=\"color: #800080; text-decoration-color: #800080; font-weight: bold\">datetime.datetime</span><span style=\"font-weight: bold\">(</span><span style=\"color: #008080; text-decoration-color: #008080; font-weight: bold\">2020</span>, <span style=\"color: #008080; text-decoration-color: #008080; font-weight: bold\">2</span>, <span style=\"color: #008080; text-decoration-color: #008080; font-weight: bold\">6</span>, <span style=\"color: #008080; text-decoration-color: #008080; font-weight: bold\">0</span>, <span style=\"color: #008080; text-decoration-color: #008080; font-weight: bold\">0</span>, <span style=\"color: #808000; text-decoration-color: #808000\">tzinfo</span>=<span style=\"color: #800080; text-decoration-color: #800080\">datetime</span>.timezone.utc<span style=\"font-weight: bold\">)</span>,\n        <span style=\"color: #008000; text-decoration-color: #008000\">'pk'</span>: <span style=\"color: #008000; text-decoration-color: #008000\">'video-6'</span>,\n        <span style=\"color: #008000; text-decoration-color: #008000\">'sk'</span>: <span style=\"color: #008000; text-decoration-color: #008000\">'_root'</span>,\n        <span style=\"color: #008000; text-decoration-color: #008000\">'video_creator_id'</span>: <span style=\"color: #008000; text-decoration-color: #008000\">'user-3'</span>,\n        <span style=\"color: #008000; text-decoration-color: #008000\">'video_title'</span>: <span style=\"color: #008000; text-decoration-color: #008000\">'video 6 title'</span>\n    <span style=\"font-weight: bold\">}</span>,\n    <span style=\"font-weight: bold\">{</span>\n        <span style=\"color: #008000; text-decoration-color: #008000\">'created_at'</span>: <span style=\"color: #800080; text-decoration-color: #800080; font-weight: bold\">datetime.datetime</span><span style=\"font-weight: bold\">(</span><span style=\"color: #008080; text-decoration-color: #008080; font-weight: bold\">2020</span>, <span style=\"color: #008080; text-decoration-color: #008080; font-weight: bold\">2</span>, <span style=\"color: #008080; text-decoration-color: #008080; font-weight: bold\">5</span>, <span style=\"color: #008080; text-decoration-color: #008080; font-weight: bold\">0</span>, <span style=\"color: #008080; text-decoration-color: #008080; font-weight: bold\">0</span>, <span style=\"color: #808000; text-decoration-color: #808000\">tzinfo</span>=<span style=\"color: #800080; text-decoration-color: #800080\">datetime</span>.timezone.utc<span style=\"font-weight: bold\">)</span>,\n        <span style=\"color: #008000; text-decoration-color: #008000\">'pk'</span>: <span style=\"color: #008000; text-decoration-color: #008000\">'video-5'</span>,\n        <span style=\"color: #008000; text-decoration-color: #008000\">'sk'</span>: <span style=\"color: #008000; text-decoration-color: #008000\">'_root'</span>,\n        <span style=\"color: #008000; text-decoration-color: #008000\">'video_creator_id'</span>: <span style=\"color: #008000; text-decoration-color: #008000\">'user-3'</span>,\n        <span style=\"color: #008000; text-decoration-color: #008000\">'video_title'</span>: <span style=\"color: #008000; text-decoration-color: #008000\">'video 5 title'</span>\n    <span style=\"font-weight: bold\">}</span>\n<span style=\"font-weight: bold\">]</span>\n</pre>\n"
     },
     "metadata": {},
     "output_type": "display_data"
    }
   ],
   "source": [
    "class Model(Model):\n",
    "    @classmethod\n",
    "    def push_new_videos(\n",
    "        cls,\n",
    "        user_id: str,\n",
    "        limit_per_publisher: int =3,\n",
    "        max_recommendations: int = 10,\n",
    "    ):\n",
    "        \"\"\"\n",
    "        Implement \"User Interaction\": A user can get recommendations of new videos based on\n",
    "        his subscriptions.\n",
    "\n",
    "        :param limit_per_publisher: for each publisher, max number of videos to push.\n",
    "        :param max_recommendations: max number of recommendations to push.\n",
    "        \"\"\"\n",
    "        publishers = cls.get_user_subscriptions(user_id).all()\n",
    "        new_videos = list()\n",
    "        for publisher in publishers:\n",
    "            videos = Model.get_users_videos(publisher.sk, limit=limit_per_publisher).all()\n",
    "            for video in videos:\n",
    "                if cls.is_user_has_viewed(user_id, video.pk) is False:\n",
    "                    new_videos.append(video)\n",
    "                    if len(new_videos) >= max_recommendations:\n",
    "                        return new_videos\n",
    "        return new_videos\n",
    "\n",
    "\n",
    "print(\"User 2 subscribe User 3\")\n",
    "Model.subscribe(subscriber_id=\"user-2\", publisher_id=\"user-3\", created_at=datetime(2020, 5, 1))\n",
    "\n",
    "print(\"User 3 has three video: video 4, 5, 6\")\n",
    "print(\"User 2 has watched video 4 already\")\n",
    "Model.watch_video(user_id=\"user-2\", video_id=\"video-4\")\n",
    "\n",
    "print(\"System should push video 5, 6 to user 2\")\n",
    "print(\"It won't recommend video-4 because he already watched it\")\n",
    "rprint([i.to_dict() for i in Model.push_new_videos(\"user-2\")])"
   ],
   "metadata": {
    "collapsed": false,
    "pycharm": {
     "name": "#%%\n"
    }
   }
  },
  {
   "cell_type": "markdown",
   "source": [
    "### Integrate the ORM with your Application"
   ],
   "metadata": {
    "collapsed": false,
    "pycharm": {
     "name": "#%% md\n"
    }
   }
  },
  {
   "cell_type": "code",
   "execution_count": 136,
   "outputs": [
    {
     "name": "stdout",
     "output_type": "stream",
     "text": [
      "User 2 details:\n"
     ]
    },
    {
     "data": {
      "text/plain": "\u001B[1m{\u001B[0m\n    \u001B[32m'created_at'\u001B[0m: \u001B[1;35mdatetime.datetime\u001B[0m\u001B[1m(\u001B[0m\u001B[1;36m2020\u001B[0m, \u001B[1;36m1\u001B[0m, \u001B[1;36m2\u001B[0m, \u001B[1;36m0\u001B[0m, \u001B[1;36m0\u001B[0m, \u001B[33mtzinfo\u001B[0m=\u001B[35mdatetime\u001B[0m.timezone.utc\u001B[1m)\u001B[0m,\n    \u001B[32m'entity_type'\u001B[0m: \u001B[32m'USER'\u001B[0m,\n    \u001B[32m'pk'\u001B[0m: \u001B[32m'user-2'\u001B[0m,\n    \u001B[32m'sk'\u001B[0m: \u001B[32m'_root'\u001B[0m,\n    \u001B[32m'subscribers'\u001B[0m: \u001B[1;36m1\u001B[0m,\n    \u001B[32m'user_name'\u001B[0m: \u001B[32m'bob'\u001B[0m\n\u001B[1m}\u001B[0m\n",
      "text/html": "<pre style=\"white-space:pre;overflow-x:auto;line-height:normal;font-family:Menlo,'DejaVu Sans Mono',consolas,'Courier New',monospace\"><span style=\"font-weight: bold\">{</span>\n    <span style=\"color: #008000; text-decoration-color: #008000\">'created_at'</span>: <span style=\"color: #800080; text-decoration-color: #800080; font-weight: bold\">datetime.datetime</span><span style=\"font-weight: bold\">(</span><span style=\"color: #008080; text-decoration-color: #008080; font-weight: bold\">2020</span>, <span style=\"color: #008080; text-decoration-color: #008080; font-weight: bold\">1</span>, <span style=\"color: #008080; text-decoration-color: #008080; font-weight: bold\">2</span>, <span style=\"color: #008080; text-decoration-color: #008080; font-weight: bold\">0</span>, <span style=\"color: #008080; text-decoration-color: #008080; font-weight: bold\">0</span>, <span style=\"color: #808000; text-decoration-color: #808000\">tzinfo</span>=<span style=\"color: #800080; text-decoration-color: #800080\">datetime</span>.timezone.utc<span style=\"font-weight: bold\">)</span>,\n    <span style=\"color: #008000; text-decoration-color: #008000\">'entity_type'</span>: <span style=\"color: #008000; text-decoration-color: #008000\">'USER'</span>,\n    <span style=\"color: #008000; text-decoration-color: #008000\">'pk'</span>: <span style=\"color: #008000; text-decoration-color: #008000\">'user-2'</span>,\n    <span style=\"color: #008000; text-decoration-color: #008000\">'sk'</span>: <span style=\"color: #008000; text-decoration-color: #008000\">'_root'</span>,\n    <span style=\"color: #008000; text-decoration-color: #008000\">'subscribers'</span>: <span style=\"color: #008080; text-decoration-color: #008080; font-weight: bold\">1</span>,\n    <span style=\"color: #008000; text-decoration-color: #008000\">'user_name'</span>: <span style=\"color: #008000; text-decoration-color: #008000\">'bob'</span>\n<span style=\"font-weight: bold\">}</span>\n</pre>\n"
     },
     "metadata": {},
     "output_type": "display_data"
    },
    {
     "name": "stdout",
     "output_type": "stream",
     "text": [
      "User 2's videos:\n"
     ]
    },
    {
     "data": {
      "text/plain": "\u001B[1m[\u001B[0m\n    \u001B[1m{\u001B[0m\n        \u001B[32m'created_at'\u001B[0m: \u001B[1;35mdatetime.datetime\u001B[0m\u001B[1m(\u001B[0m\u001B[1;36m2020\u001B[0m, \u001B[1;36m2\u001B[0m, \u001B[1;36m3\u001B[0m, \u001B[1;36m0\u001B[0m, \u001B[1;36m0\u001B[0m, \u001B[33mtzinfo\u001B[0m=\u001B[35mdatetime\u001B[0m.timezone.utc\u001B[1m)\u001B[0m,\n        \u001B[32m'pk'\u001B[0m: \u001B[32m'video-3'\u001B[0m,\n        \u001B[32m'sk'\u001B[0m: \u001B[32m'_root'\u001B[0m,\n        \u001B[32m'video_creator_id'\u001B[0m: \u001B[32m'user-2'\u001B[0m,\n        \u001B[32m'video_title'\u001B[0m: \u001B[32m'video 3 title'\u001B[0m\n    \u001B[1m}\u001B[0m,\n    \u001B[1m{\u001B[0m\n        \u001B[32m'created_at'\u001B[0m: \u001B[1;35mdatetime.datetime\u001B[0m\u001B[1m(\u001B[0m\u001B[1;36m2020\u001B[0m, \u001B[1;36m2\u001B[0m, \u001B[1;36m2\u001B[0m, \u001B[1;36m0\u001B[0m, \u001B[1;36m0\u001B[0m, \u001B[33mtzinfo\u001B[0m=\u001B[35mdatetime\u001B[0m.timezone.utc\u001B[1m)\u001B[0m,\n        \u001B[32m'pk'\u001B[0m: \u001B[32m'video-2'\u001B[0m,\n        \u001B[32m'sk'\u001B[0m: \u001B[32m'_root'\u001B[0m,\n        \u001B[32m'video_creator_id'\u001B[0m: \u001B[32m'user-2'\u001B[0m,\n        \u001B[32m'video_title'\u001B[0m: \u001B[32m'video 2 title'\u001B[0m\n    \u001B[1m}\u001B[0m\n\u001B[1m]\u001B[0m\n",
      "text/html": "<pre style=\"white-space:pre;overflow-x:auto;line-height:normal;font-family:Menlo,'DejaVu Sans Mono',consolas,'Courier New',monospace\"><span style=\"font-weight: bold\">[</span>\n    <span style=\"font-weight: bold\">{</span>\n        <span style=\"color: #008000; text-decoration-color: #008000\">'created_at'</span>: <span style=\"color: #800080; text-decoration-color: #800080; font-weight: bold\">datetime.datetime</span><span style=\"font-weight: bold\">(</span><span style=\"color: #008080; text-decoration-color: #008080; font-weight: bold\">2020</span>, <span style=\"color: #008080; text-decoration-color: #008080; font-weight: bold\">2</span>, <span style=\"color: #008080; text-decoration-color: #008080; font-weight: bold\">3</span>, <span style=\"color: #008080; text-decoration-color: #008080; font-weight: bold\">0</span>, <span style=\"color: #008080; text-decoration-color: #008080; font-weight: bold\">0</span>, <span style=\"color: #808000; text-decoration-color: #808000\">tzinfo</span>=<span style=\"color: #800080; text-decoration-color: #800080\">datetime</span>.timezone.utc<span style=\"font-weight: bold\">)</span>,\n        <span style=\"color: #008000; text-decoration-color: #008000\">'pk'</span>: <span style=\"color: #008000; text-decoration-color: #008000\">'video-3'</span>,\n        <span style=\"color: #008000; text-decoration-color: #008000\">'sk'</span>: <span style=\"color: #008000; text-decoration-color: #008000\">'_root'</span>,\n        <span style=\"color: #008000; text-decoration-color: #008000\">'video_creator_id'</span>: <span style=\"color: #008000; text-decoration-color: #008000\">'user-2'</span>,\n        <span style=\"color: #008000; text-decoration-color: #008000\">'video_title'</span>: <span style=\"color: #008000; text-decoration-color: #008000\">'video 3 title'</span>\n    <span style=\"font-weight: bold\">}</span>,\n    <span style=\"font-weight: bold\">{</span>\n        <span style=\"color: #008000; text-decoration-color: #008000\">'created_at'</span>: <span style=\"color: #800080; text-decoration-color: #800080; font-weight: bold\">datetime.datetime</span><span style=\"font-weight: bold\">(</span><span style=\"color: #008080; text-decoration-color: #008080; font-weight: bold\">2020</span>, <span style=\"color: #008080; text-decoration-color: #008080; font-weight: bold\">2</span>, <span style=\"color: #008080; text-decoration-color: #008080; font-weight: bold\">2</span>, <span style=\"color: #008080; text-decoration-color: #008080; font-weight: bold\">0</span>, <span style=\"color: #008080; text-decoration-color: #008080; font-weight: bold\">0</span>, <span style=\"color: #808000; text-decoration-color: #808000\">tzinfo</span>=<span style=\"color: #800080; text-decoration-color: #800080\">datetime</span>.timezone.utc<span style=\"font-weight: bold\">)</span>,\n        <span style=\"color: #008000; text-decoration-color: #008000\">'pk'</span>: <span style=\"color: #008000; text-decoration-color: #008000\">'video-2'</span>,\n        <span style=\"color: #008000; text-decoration-color: #008000\">'sk'</span>: <span style=\"color: #008000; text-decoration-color: #008000\">'_root'</span>,\n        <span style=\"color: #008000; text-decoration-color: #008000\">'video_creator_id'</span>: <span style=\"color: #008000; text-decoration-color: #008000\">'user-2'</span>,\n        <span style=\"color: #008000; text-decoration-color: #008000\">'video_title'</span>: <span style=\"color: #008000; text-decoration-color: #008000\">'video 2 title'</span>\n    <span style=\"font-weight: bold\">}</span>\n<span style=\"font-weight: bold\">]</span>\n</pre>\n"
     },
     "metadata": {},
     "output_type": "display_data"
    },
    {
     "name": "stdout",
     "output_type": "stream",
     "text": [
      "User 2's has subscribed:\n"
     ]
    },
    {
     "data": {
      "text/plain": "\u001B[1m[\u001B[0m\n    \u001B[1m{\u001B[0m\n        \u001B[32m'created_at'\u001B[0m: \u001B[1;35mdatetime.datetime\u001B[0m\u001B[1m(\u001B[0m\u001B[1;36m2020\u001B[0m, \u001B[1;36m5\u001B[0m, \u001B[1;36m1\u001B[0m, \u001B[1;36m0\u001B[0m, \u001B[1;36m0\u001B[0m, \u001B[33mtzinfo\u001B[0m=\u001B[35mdatetime\u001B[0m.timezone.utc\u001B[1m)\u001B[0m,\n        \u001B[32m'entity_type'\u001B[0m: \u001B[32m'SUBSCRIPTION'\u001B[0m,\n        \u001B[32m'pk'\u001B[0m: \u001B[32m'subscriber-user-2'\u001B[0m,\n        \u001B[32m'sk'\u001B[0m: \u001B[32m'user-3'\u001B[0m\n    \u001B[1m}\u001B[0m\n\u001B[1m]\u001B[0m\n",
      "text/html": "<pre style=\"white-space:pre;overflow-x:auto;line-height:normal;font-family:Menlo,'DejaVu Sans Mono',consolas,'Courier New',monospace\"><span style=\"font-weight: bold\">[</span>\n    <span style=\"font-weight: bold\">{</span>\n        <span style=\"color: #008000; text-decoration-color: #008000\">'created_at'</span>: <span style=\"color: #800080; text-decoration-color: #800080; font-weight: bold\">datetime.datetime</span><span style=\"font-weight: bold\">(</span><span style=\"color: #008080; text-decoration-color: #008080; font-weight: bold\">2020</span>, <span style=\"color: #008080; text-decoration-color: #008080; font-weight: bold\">5</span>, <span style=\"color: #008080; text-decoration-color: #008080; font-weight: bold\">1</span>, <span style=\"color: #008080; text-decoration-color: #008080; font-weight: bold\">0</span>, <span style=\"color: #008080; text-decoration-color: #008080; font-weight: bold\">0</span>, <span style=\"color: #808000; text-decoration-color: #808000\">tzinfo</span>=<span style=\"color: #800080; text-decoration-color: #800080\">datetime</span>.timezone.utc<span style=\"font-weight: bold\">)</span>,\n        <span style=\"color: #008000; text-decoration-color: #008000\">'entity_type'</span>: <span style=\"color: #008000; text-decoration-color: #008000\">'SUBSCRIPTION'</span>,\n        <span style=\"color: #008000; text-decoration-color: #008000\">'pk'</span>: <span style=\"color: #008000; text-decoration-color: #008000\">'subscriber-user-2'</span>,\n        <span style=\"color: #008000; text-decoration-color: #008000\">'sk'</span>: <span style=\"color: #008000; text-decoration-color: #008000\">'user-3'</span>\n    <span style=\"font-weight: bold\">}</span>\n<span style=\"font-weight: bold\">]</span>\n</pre>\n"
     },
     "metadata": {},
     "output_type": "display_data"
    },
    {
     "name": "stdout",
     "output_type": "stream",
     "text": [
      "Video 4 details:\n"
     ]
    },
    {
     "data": {
      "text/plain": "\u001B[1m{\u001B[0m\n    \u001B[32m'created_at'\u001B[0m: \u001B[1;35mdatetime.datetime\u001B[0m\u001B[1m(\u001B[0m\u001B[1;36m2020\u001B[0m, \u001B[1;36m2\u001B[0m, \u001B[1;36m4\u001B[0m, \u001B[1;36m0\u001B[0m, \u001B[1;36m0\u001B[0m, \u001B[33mtzinfo\u001B[0m=\u001B[35mdatetime\u001B[0m.timezone.utc\u001B[1m)\u001B[0m,\n    \u001B[32m'entity_type'\u001B[0m: \u001B[32m'VIDEO'\u001B[0m,\n    \u001B[32m'pk'\u001B[0m: \u001B[32m'video-4'\u001B[0m,\n    \u001B[32m'sk'\u001B[0m: \u001B[32m'_root'\u001B[0m,\n    \u001B[32m'video_creator_id'\u001B[0m: \u001B[32m'user-3'\u001B[0m,\n    \u001B[32m'video_title'\u001B[0m: \u001B[32m'video 4 title'\u001B[0m,\n    \u001B[32m'views'\u001B[0m: \u001B[1;36m1\u001B[0m\n\u001B[1m}\u001B[0m\n",
      "text/html": "<pre style=\"white-space:pre;overflow-x:auto;line-height:normal;font-family:Menlo,'DejaVu Sans Mono',consolas,'Courier New',monospace\"><span style=\"font-weight: bold\">{</span>\n    <span style=\"color: #008000; text-decoration-color: #008000\">'created_at'</span>: <span style=\"color: #800080; text-decoration-color: #800080; font-weight: bold\">datetime.datetime</span><span style=\"font-weight: bold\">(</span><span style=\"color: #008080; text-decoration-color: #008080; font-weight: bold\">2020</span>, <span style=\"color: #008080; text-decoration-color: #008080; font-weight: bold\">2</span>, <span style=\"color: #008080; text-decoration-color: #008080; font-weight: bold\">4</span>, <span style=\"color: #008080; text-decoration-color: #008080; font-weight: bold\">0</span>, <span style=\"color: #008080; text-decoration-color: #008080; font-weight: bold\">0</span>, <span style=\"color: #808000; text-decoration-color: #808000\">tzinfo</span>=<span style=\"color: #800080; text-decoration-color: #800080\">datetime</span>.timezone.utc<span style=\"font-weight: bold\">)</span>,\n    <span style=\"color: #008000; text-decoration-color: #008000\">'entity_type'</span>: <span style=\"color: #008000; text-decoration-color: #008000\">'VIDEO'</span>,\n    <span style=\"color: #008000; text-decoration-color: #008000\">'pk'</span>: <span style=\"color: #008000; text-decoration-color: #008000\">'video-4'</span>,\n    <span style=\"color: #008000; text-decoration-color: #008000\">'sk'</span>: <span style=\"color: #008000; text-decoration-color: #008000\">'_root'</span>,\n    <span style=\"color: #008000; text-decoration-color: #008000\">'video_creator_id'</span>: <span style=\"color: #008000; text-decoration-color: #008000\">'user-3'</span>,\n    <span style=\"color: #008000; text-decoration-color: #008000\">'video_title'</span>: <span style=\"color: #008000; text-decoration-color: #008000\">'video 4 title'</span>,\n    <span style=\"color: #008000; text-decoration-color: #008000\">'views'</span>: <span style=\"color: #008080; text-decoration-color: #008080; font-weight: bold\">1</span>\n<span style=\"font-weight: bold\">}</span>\n</pre>\n"
     },
     "metadata": {},
     "output_type": "display_data"
    },
    {
     "name": "stdout",
     "output_type": "stream",
     "text": [
      "Video 4's creator:\n"
     ]
    },
    {
     "data": {
      "text/plain": "\u001B[1m{\u001B[0m\n    \u001B[32m'created_at'\u001B[0m: \u001B[1;35mdatetime.datetime\u001B[0m\u001B[1m(\u001B[0m\u001B[1;36m2020\u001B[0m, \u001B[1;36m1\u001B[0m, \u001B[1;36m3\u001B[0m, \u001B[1;36m0\u001B[0m, \u001B[1;36m0\u001B[0m, \u001B[33mtzinfo\u001B[0m=\u001B[35mdatetime\u001B[0m.timezone.utc\u001B[1m)\u001B[0m,\n    \u001B[32m'entity_type'\u001B[0m: \u001B[32m'USER'\u001B[0m,\n    \u001B[32m'pk'\u001B[0m: \u001B[32m'user-3'\u001B[0m,\n    \u001B[32m'sk'\u001B[0m: \u001B[32m'_root'\u001B[0m,\n    \u001B[32m'subscribers'\u001B[0m: \u001B[1;36m2\u001B[0m,\n    \u001B[32m'user_name'\u001B[0m: \u001B[32m'cathy'\u001B[0m\n\u001B[1m}\u001B[0m\n",
      "text/html": "<pre style=\"white-space:pre;overflow-x:auto;line-height:normal;font-family:Menlo,'DejaVu Sans Mono',consolas,'Courier New',monospace\"><span style=\"font-weight: bold\">{</span>\n    <span style=\"color: #008000; text-decoration-color: #008000\">'created_at'</span>: <span style=\"color: #800080; text-decoration-color: #800080; font-weight: bold\">datetime.datetime</span><span style=\"font-weight: bold\">(</span><span style=\"color: #008080; text-decoration-color: #008080; font-weight: bold\">2020</span>, <span style=\"color: #008080; text-decoration-color: #008080; font-weight: bold\">1</span>, <span style=\"color: #008080; text-decoration-color: #008080; font-weight: bold\">3</span>, <span style=\"color: #008080; text-decoration-color: #008080; font-weight: bold\">0</span>, <span style=\"color: #008080; text-decoration-color: #008080; font-weight: bold\">0</span>, <span style=\"color: #808000; text-decoration-color: #808000\">tzinfo</span>=<span style=\"color: #800080; text-decoration-color: #800080\">datetime</span>.timezone.utc<span style=\"font-weight: bold\">)</span>,\n    <span style=\"color: #008000; text-decoration-color: #008000\">'entity_type'</span>: <span style=\"color: #008000; text-decoration-color: #008000\">'USER'</span>,\n    <span style=\"color: #008000; text-decoration-color: #008000\">'pk'</span>: <span style=\"color: #008000; text-decoration-color: #008000\">'user-3'</span>,\n    <span style=\"color: #008000; text-decoration-color: #008000\">'sk'</span>: <span style=\"color: #008000; text-decoration-color: #008000\">'_root'</span>,\n    <span style=\"color: #008000; text-decoration-color: #008000\">'subscribers'</span>: <span style=\"color: #008080; text-decoration-color: #008080; font-weight: bold\">2</span>,\n    <span style=\"color: #008000; text-decoration-color: #008000\">'user_name'</span>: <span style=\"color: #008000; text-decoration-color: #008000\">'cathy'</span>\n<span style=\"font-weight: bold\">}</span>\n</pre>\n"
     },
     "metadata": {},
     "output_type": "display_data"
    }
   ],
   "source": [
    "class Model(Model):\n",
    "    def is_user(self) -> bool:\n",
    "        return self.entity_type == EntityTypeEnum.USER.value\n",
    "\n",
    "    def is_video(self) -> bool:\n",
    "        return self.entity_type == EntityTypeEnum.VIDEO.value\n",
    "\n",
    "    def is_subscription(self) -> bool:\n",
    "        return self.entity_type == EntityTypeEnum.SUBSCRIPTION.value\n",
    "\n",
    "    @property\n",
    "    def user_id(self) -> str:\n",
    "        return self.pk\n",
    "\n",
    "    @property\n",
    "    def videos(self) -> T.List[Model]:\n",
    "        if self.is_user() is False:\n",
    "            raise TypeError(\"Only user can has videos property!\")\n",
    "        return self.get_users_videos(self.user_id, limit=999).all()\n",
    "\n",
    "    @property\n",
    "    def subscriptions(self) -> T.List[Model]:\n",
    "        if self.is_user() is False:\n",
    "            raise TypeError(\"Only user can has subscriptions property!\")\n",
    "        return self.get_user_subscriptions(self.user_id).all()\n",
    "\n",
    "    @property\n",
    "    def creator(self) -> Model:\n",
    "        if self.is_video() is False:\n",
    "            raise TypeError(\"Only video can has creator property!\")\n",
    "        return self.get_user(self.video_creator_id)\n",
    "\n",
    "# Test your implementation\n",
    "print(\"User 2 details:\")\n",
    "user2 = Model.get_user(\"user-2\")\n",
    "rprint(user2.to_dict())\n",
    "\n",
    "print(\"User 2's videos:\")\n",
    "rprint([video.to_dict() for video in user2.videos])\n",
    "\n",
    "print(\"User 2's has subscribed:\")\n",
    "rprint([user.to_dict() for user in user2.subscriptions])\n",
    "\n",
    "print(\"Video 4 details:\")\n",
    "video4 = Model.get_video(\"video-4\")\n",
    "rprint(video4.to_dict())\n",
    "\n",
    "print(\"Video 4's creator:\")\n",
    "rprint(video4.creator.to_dict())"
   ],
   "metadata": {
    "collapsed": false,
    "pycharm": {
     "name": "#%%\n"
    }
   }
  },
  {
   "cell_type": "code",
   "execution_count": 137,
   "outputs": [],
   "source": [
    "mock.stop() # stop mocking DynamoDB"
   ],
   "metadata": {
    "collapsed": false,
    "pycharm": {
     "name": "#%%\n"
    }
   }
  },
  {
   "cell_type": "code",
   "execution_count": null,
   "outputs": [],
   "source": [],
   "metadata": {
    "collapsed": false,
    "pycharm": {
     "name": "#%%\n"
    }
   }
  }
 ],
 "metadata": {
  "kernelspec": {
   "display_name": "Python 3",
   "language": "python",
   "name": "python3"
  },
  "language_info": {
   "codemirror_mode": {
    "name": "ipython",
    "version": 2
   },
   "file_extension": ".py",
   "mimetype": "text/x-python",
   "name": "python",
   "nbconvert_exporter": "python",
   "pygments_lexer": "ipython2",
   "version": "2.7.6"
  }
 },
 "nbformat": 4,
 "nbformat_minor": 0
}