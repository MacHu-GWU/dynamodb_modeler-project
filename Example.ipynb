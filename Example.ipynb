{
 "cells": [
  {
   "cell_type": "markdown",
   "source": [
    "# How to Design DynamoDB Data Model for Production\n",
    "\n",
    "- http://docs.getmoto.org/en/latest/docs/services/dynamodb.html\n",
    "\n",
    "## Overview\n",
    "\n",
    "DynamoDB is a serverless, fully-managed, schemaless, key-value NoSQL database that been proved to be a great fit for many business critical use cases. Usually, to design a data model for a new use case, there's not only one way to do that. In this example, I will share my best practice to design a data model for any use case.\n",
    "\n",
    "**The highlight of this best practice**\n",
    "\n",
    "- Fast start, no need to set up any infrastructure.\n",
    "- Fast iterate, flexible to try different data model ideas.\n",
    "- Code included, at the end, you will have a working data model and a data ingestion layer can be deployed as AWS Lambda / AWS ECS / EC2.\n",
    "- Business logic implemented, all user interaction to your application will be implemented as a method.\n",
    "- Query pattern verified, all of required business query is ready to use as a method.\n",
    "\n",
    "## Case Study - Design YouTube Data Model\n",
    "\n",
    "Let's learn this best practice from a real business use case - Design DynamoDB data model for YouTube application.\n",
    "\n",
    "### Business Requirement\n",
    "\n",
    "Entities:\n",
    "\n",
    "- User: user can upload video, user can also view other's video\n",
    "- Video: user can create video\n",
    "\n",
    "User Interaction:\n",
    "\n",
    "- People can sign up as a new user.\n",
    "- User can upload video.\n",
    "- User can view other user's profile.\n",
    "- User can view the list of other user's videos, ordered by create time.\n",
    "- User can watch video, then video views plus one.\n",
    "- User can subscribe other User.\n",
    "- System can push new video notification based on his subscription.\n",
    "\n",
    "Query Pattern:\n",
    "\n",
    "- Given a User id, Video id, we can get the detailed information of the user, video.\n",
    "- Given a User id, we can get all the videos he uploaded, ordered by create time, latest video comes first.\n",
    "- Given a User id, we can get list of user he subscribed, ordered by subscribe time.\n",
    "- Given a User id, we can get number of user subscribes him.\n",
    "\n",
    "### Import SDK"
   ],
   "metadata": {
    "collapsed": false,
    "pycharm": {
     "name": "#%% md\n"
    }
   }
  },
  {
   "cell_type": "code",
   "execution_count": 104,
   "outputs": [],
   "source": [
    "import typing as T\n",
    "import enum\n",
    "from datetime import datetime\n",
    "\n",
    "import dataclasses\n",
    "import pynamodb_mate as pm\n",
    "from moto import mock_dynamodb\n",
    "\n",
    "from rich import print as rprint"
   ],
   "metadata": {
    "collapsed": false,
    "pycharm": {
     "name": "#%%\n"
    }
   }
  },
  {
   "cell_type": "markdown",
   "source": [
    "### Define Application Data Model\n",
    "\n",
    "We have to define two different type of data model:\n",
    "\n",
    "1. Application data model: this is the data model that will be used by your application code, Rest API, Web App.\n",
    "2. DynamoDB data model: this is the data model for DynamoDB table. It is optimized for Read / Write efficiency.\n",
    "\n",
    "Let's start with your application data model.\n"
   ],
   "metadata": {
    "collapsed": false,
    "pycharm": {
     "name": "#%% md\n"
    }
   }
  },
  {
   "cell_type": "code",
   "execution_count": 105,
   "outputs": [],
   "source": [
    "class EntityTypeEnum(str, enum.Enum):\n",
    "    USER = \"USER\"\n",
    "    VIDEO = \"VIDEO\"\n",
    "    SUBSCRIPTION = \"SUBSCRIPTION\"\n",
    "\n",
    "\n",
    "@dataclasses.dataclass\n",
    "class User:\n",
    "    user_id: int = dataclasses.field()\n",
    "    user_name: str = dataclasses.field()\n",
    "    created_at: datetime = dataclasses.field()\n",
    "\n",
    "    videos: T.List[\"Video\"] = dataclasses.field(default_factory=list)\n",
    "    subscriptions: T.List[\"Subscription\"] = dataclasses.field(default_factory=list)\n",
    "\n",
    "\n",
    "@dataclasses.dataclass\n",
    "class Video:\n",
    "    video_id: int = dataclasses.field()\n",
    "    video_title: str = dataclasses.field()\n",
    "    created_at: datetime = dataclasses.field()\n",
    "    creator_id: str = dataclasses.field() # the creator user id\n",
    "\n",
    "    creator: T.Optional[User] = dataclasses.field(default=None)\n",
    "\n",
    "\n",
    "@dataclasses.dataclass\n",
    "class Subscription:\n",
    "    subscriber_user_id: int = dataclasses.field()\n",
    "    publisher_user_id: int = dataclasses.field()"
   ],
   "metadata": {
    "collapsed": false,
    "pycharm": {
     "name": "#%%\n"
    }
   }
  },
  {
   "cell_type": "markdown",
   "source": [
    "### Define DynamoDB Data Model"
   ],
   "metadata": {
    "collapsed": false,
    "pycharm": {
     "name": "#%% md\n"
    }
   }
  },
  {
   "cell_type": "code",
   "execution_count": 106,
   "outputs": [],
   "source": [
    "ROOT = \"_root\" # indicate that this item only has hash key, range key is not used (logically)\n",
    "\n",
    "\n",
    "class UsersVideoIndex(pm.GlobalSecondaryIndex):\n",
    "    class Meta:\n",
    "        index = \"user-s-video-index\"\n",
    "        projection = pm.IncludeProjection([\n",
    "            \"pk\",\n",
    "            \"video_title\",\n",
    "        ])\n",
    "\n",
    "    video_creator_id: T.Union[str, pm.UnicodeAttribute] = pm.UnicodeAttribute(hash_key=True)\n",
    "    created_at: T.Union[datetime, pm.UTCDateTimeAttribute] = pm.UTCDateTimeAttribute(range_key=True)\n",
    "\n",
    "\n",
    "# TYPE HINT\n",
    "REQUIRED_STR = T.Union[str, pm.UnicodeAttribute]\n",
    "OPTIONAL_STR = T.Optional[REQUIRED_STR]\n",
    "REQUIRED_INT = T.Union[int, pm.NumberAttribute]\n",
    "OPTIONAL_INT = T.Optional[REQUIRED_INT]\n",
    "REQUIRED_DATETIME = T.Union[datetime, pm.UTCDateTimeAttribute]\n",
    "OPTIONAL_DATETIME = T.Optional[REQUIRED_DATETIME]\n",
    "\n",
    "\n",
    "class Model(pm.Model):\n",
    "    class Meta:\n",
    "        table_name = f\"entities\"\n",
    "        region = \"us-east-1\"\n",
    "        billing_mode = pm.PAY_PER_REQUEST_BILLING_MODE\n",
    "\n",
    "    # --- hash key, range key, and entity type\n",
    "    pk: REQUIRED_STR = pm.UnicodeAttribute(hash_key=True)\n",
    "    sk: REQUIRED_STR = pm.UnicodeAttribute(range_key=True)\n",
    "    entity_type: OPTIONAL_STR = pm.UnicodeAttribute(default=None, null=True)\n",
    "\n",
    "    # --- user related\n",
    "    user_name: OPTIONAL_STR = pm.UnicodeAttribute(default=None, null=True)\n",
    "    subscribers: OPTIONAL_INT = pm.NumberAttribute(default=None, null=True)\n",
    "\n",
    "    # --- video related\n",
    "    video_title: OPTIONAL_STR = pm.UnicodeAttribute(default=None, null=True)\n",
    "    video_creator_id: OPTIONAL_STR = pm.UnicodeAttribute(default=None, null=True)\n",
    "    views: OPTIONAL_INT = pm.NumberAttribute(default=None, null=True)\n",
    "\n",
    "    # --- subscription related\n",
    "    publisher_id: OPTIONAL_STR = pm.UnicodeAttribute(default=None, null=True)\n",
    "\n",
    "    # --- common\n",
    "    created_at: OPTIONAL_DATETIME = pm.UTCDateTimeAttribute(default=None, null=True)\n",
    "\n",
    "    user_s_video_index = UsersVideoIndex()\n",
    "\n",
    "    _USER_ID_STARTED = 0\n",
    "    _VIDEO_ID_STARTED = 0\n",
    "\n",
    "mock = mock_dynamodb()\n",
    "mock.start()\n",
    "\n",
    "connect = pm.Connection()\n",
    "Model.create_table(wait=True)\n",
    "Model.delete_all()\n",
    "\n",
    "pass"
   ],
   "metadata": {
    "collapsed": false,
    "pycharm": {
     "name": "#%%\n"
    }
   }
  },
  {
   "cell_type": "code",
   "execution_count": 107,
   "outputs": [
    {
     "name": "stdout",
     "output_type": "stream",
     "text": [
      "Create some sample users\n"
     ]
    },
    {
     "data": {
      "text/plain": "\u001B[1m{\u001B[0m\n    \u001B[32m'pk'\u001B[0m: \u001B[32m'user-1'\u001B[0m,\n    \u001B[32m'sk'\u001B[0m: \u001B[32m'_root'\u001B[0m,\n    \u001B[32m'entity_type'\u001B[0m: \u001B[32m'USER'\u001B[0m,\n    \u001B[32m'user_name'\u001B[0m: \u001B[32m'alice'\u001B[0m,\n    \u001B[32m'subscribers'\u001B[0m: \u001B[1;36m0\u001B[0m,\n    \u001B[32m'created_at'\u001B[0m: \u001B[1;35mdatetime.datetime\u001B[0m\u001B[1m(\u001B[0m\u001B[1;36m2020\u001B[0m, \u001B[1;36m1\u001B[0m, \u001B[1;36m1\u001B[0m, \u001B[1;36m0\u001B[0m, \u001B[1;36m0\u001B[0m\u001B[1m)\u001B[0m\n\u001B[1m}\u001B[0m\n",
      "text/html": "<pre style=\"white-space:pre;overflow-x:auto;line-height:normal;font-family:Menlo,'DejaVu Sans Mono',consolas,'Courier New',monospace\"><span style=\"font-weight: bold\">{</span>\n    <span style=\"color: #008000; text-decoration-color: #008000\">'pk'</span>: <span style=\"color: #008000; text-decoration-color: #008000\">'user-1'</span>,\n    <span style=\"color: #008000; text-decoration-color: #008000\">'sk'</span>: <span style=\"color: #008000; text-decoration-color: #008000\">'_root'</span>,\n    <span style=\"color: #008000; text-decoration-color: #008000\">'entity_type'</span>: <span style=\"color: #008000; text-decoration-color: #008000\">'USER'</span>,\n    <span style=\"color: #008000; text-decoration-color: #008000\">'user_name'</span>: <span style=\"color: #008000; text-decoration-color: #008000\">'alice'</span>,\n    <span style=\"color: #008000; text-decoration-color: #008000\">'subscribers'</span>: <span style=\"color: #008080; text-decoration-color: #008080; font-weight: bold\">0</span>,\n    <span style=\"color: #008000; text-decoration-color: #008000\">'created_at'</span>: <span style=\"color: #800080; text-decoration-color: #800080; font-weight: bold\">datetime.datetime</span><span style=\"font-weight: bold\">(</span><span style=\"color: #008080; text-decoration-color: #008080; font-weight: bold\">2020</span>, <span style=\"color: #008080; text-decoration-color: #008080; font-weight: bold\">1</span>, <span style=\"color: #008080; text-decoration-color: #008080; font-weight: bold\">1</span>, <span style=\"color: #008080; text-decoration-color: #008080; font-weight: bold\">0</span>, <span style=\"color: #008080; text-decoration-color: #008080; font-weight: bold\">0</span><span style=\"font-weight: bold\">)</span>\n<span style=\"font-weight: bold\">}</span>\n</pre>\n"
     },
     "metadata": {},
     "output_type": "display_data"
    },
    {
     "name": "stdout",
     "output_type": "stream",
     "text": [
      "Get user by user id\n"
     ]
    },
    {
     "data": {
      "text/plain": "\u001B[1m{\u001B[0m\n    \u001B[32m'created_at'\u001B[0m: \u001B[1;35mdatetime.datetime\u001B[0m\u001B[1m(\u001B[0m\u001B[1;36m2020\u001B[0m, \u001B[1;36m1\u001B[0m, \u001B[1;36m3\u001B[0m, \u001B[1;36m0\u001B[0m, \u001B[1;36m0\u001B[0m, \u001B[33mtzinfo\u001B[0m=\u001B[35mdatetime\u001B[0m.timezone.utc\u001B[1m)\u001B[0m,\n    \u001B[32m'entity_type'\u001B[0m: \u001B[32m'USER'\u001B[0m,\n    \u001B[32m'pk'\u001B[0m: \u001B[32m'user-3'\u001B[0m,\n    \u001B[32m'sk'\u001B[0m: \u001B[32m'_root'\u001B[0m,\n    \u001B[32m'subscribers'\u001B[0m: \u001B[1;36m0\u001B[0m,\n    \u001B[32m'user_name'\u001B[0m: \u001B[32m'cathy'\u001B[0m\n\u001B[1m}\u001B[0m\n",
      "text/html": "<pre style=\"white-space:pre;overflow-x:auto;line-height:normal;font-family:Menlo,'DejaVu Sans Mono',consolas,'Courier New',monospace\"><span style=\"font-weight: bold\">{</span>\n    <span style=\"color: #008000; text-decoration-color: #008000\">'created_at'</span>: <span style=\"color: #800080; text-decoration-color: #800080; font-weight: bold\">datetime.datetime</span><span style=\"font-weight: bold\">(</span><span style=\"color: #008080; text-decoration-color: #008080; font-weight: bold\">2020</span>, <span style=\"color: #008080; text-decoration-color: #008080; font-weight: bold\">1</span>, <span style=\"color: #008080; text-decoration-color: #008080; font-weight: bold\">3</span>, <span style=\"color: #008080; text-decoration-color: #008080; font-weight: bold\">0</span>, <span style=\"color: #008080; text-decoration-color: #008080; font-weight: bold\">0</span>, <span style=\"color: #808000; text-decoration-color: #808000\">tzinfo</span>=<span style=\"color: #800080; text-decoration-color: #800080\">datetime</span>.timezone.utc<span style=\"font-weight: bold\">)</span>,\n    <span style=\"color: #008000; text-decoration-color: #008000\">'entity_type'</span>: <span style=\"color: #008000; text-decoration-color: #008000\">'USER'</span>,\n    <span style=\"color: #008000; text-decoration-color: #008000\">'pk'</span>: <span style=\"color: #008000; text-decoration-color: #008000\">'user-3'</span>,\n    <span style=\"color: #008000; text-decoration-color: #008000\">'sk'</span>: <span style=\"color: #008000; text-decoration-color: #008000\">'_root'</span>,\n    <span style=\"color: #008000; text-decoration-color: #008000\">'subscribers'</span>: <span style=\"color: #008080; text-decoration-color: #008080; font-weight: bold\">0</span>,\n    <span style=\"color: #008000; text-decoration-color: #008000\">'user_name'</span>: <span style=\"color: #008000; text-decoration-color: #008000\">'cathy'</span>\n<span style=\"font-weight: bold\">}</span>\n</pre>\n"
     },
     "metadata": {},
     "output_type": "display_data"
    }
   ],
   "source": [
    "class Model(Model):\n",
    "    _USER_ID_STARTED = 0\n",
    "\n",
    "    @classmethod\n",
    "    def signup_user(\n",
    "        cls,\n",
    "        user_name: str,\n",
    "        created_at: datetime,\n",
    "    ) -> \"Model\":\n",
    "        cls._USER_ID_STARTED += 1\n",
    "        user_model = cls(\n",
    "            pk=f\"user-{cls._USER_ID_STARTED}\",\n",
    "            sk=ROOT,\n",
    "            entity_type=EntityTypeEnum.USER.value,\n",
    "            user_name=user_name,\n",
    "            subscribers=0,\n",
    "            created_at=created_at,\n",
    "        )\n",
    "        user_model.save()\n",
    "        return user_model\n",
    "\n",
    "    @classmethod\n",
    "    def get_user(cls, user_id: str) -> \"Model\":\n",
    "        return cls.get(hash_key=user_id, range_key=ROOT)\n",
    "\n",
    "print(\"Create some sample users\")\n",
    "user1 = Model.signup_user(user_name=\"alice\", created_at=datetime(2020, 1, 1))\n",
    "user2 = Model.signup_user(user_name=\"bob\", created_at=datetime(2020, 1, 2))\n",
    "user3 = Model.signup_user(user_name=\"cathy\", created_at=datetime(2020, 1, 3))\n",
    "rprint(user1.to_dict())\n",
    "\n",
    "print(\"Get user by user id\")\n",
    "rprint(Model.get_user(\"user-3\").to_dict())"
   ],
   "metadata": {
    "collapsed": false,
    "pycharm": {
     "name": "#%%\n"
    }
   }
  },
  {
   "cell_type": "code",
   "execution_count": 108,
   "outputs": [
    {
     "name": "stdout",
     "output_type": "stream",
     "text": [
      "Create some sample users\n"
     ]
    },
    {
     "data": {
      "text/plain": "\u001B[1m{\u001B[0m\n    \u001B[32m'pk'\u001B[0m: \u001B[32m'video-1'\u001B[0m,\n    \u001B[32m'sk'\u001B[0m: \u001B[32m'_root'\u001B[0m,\n    \u001B[32m'entity_type'\u001B[0m: \u001B[32m'VIDEO'\u001B[0m,\n    \u001B[32m'video_title'\u001B[0m: \u001B[32m'video 1 title'\u001B[0m,\n    \u001B[32m'video_creator_id'\u001B[0m: \u001B[32m'user-1'\u001B[0m,\n    \u001B[32m'views'\u001B[0m: \u001B[1;36m0\u001B[0m,\n    \u001B[32m'created_at'\u001B[0m: \u001B[1;35mdatetime.datetime\u001B[0m\u001B[1m(\u001B[0m\u001B[1;36m2020\u001B[0m, \u001B[1;36m2\u001B[0m, \u001B[1;36m1\u001B[0m, \u001B[1;36m0\u001B[0m, \u001B[1;36m0\u001B[0m\u001B[1m)\u001B[0m\n\u001B[1m}\u001B[0m\n",
      "text/html": "<pre style=\"white-space:pre;overflow-x:auto;line-height:normal;font-family:Menlo,'DejaVu Sans Mono',consolas,'Courier New',monospace\"><span style=\"font-weight: bold\">{</span>\n    <span style=\"color: #008000; text-decoration-color: #008000\">'pk'</span>: <span style=\"color: #008000; text-decoration-color: #008000\">'video-1'</span>,\n    <span style=\"color: #008000; text-decoration-color: #008000\">'sk'</span>: <span style=\"color: #008000; text-decoration-color: #008000\">'_root'</span>,\n    <span style=\"color: #008000; text-decoration-color: #008000\">'entity_type'</span>: <span style=\"color: #008000; text-decoration-color: #008000\">'VIDEO'</span>,\n    <span style=\"color: #008000; text-decoration-color: #008000\">'video_title'</span>: <span style=\"color: #008000; text-decoration-color: #008000\">'video 1 title'</span>,\n    <span style=\"color: #008000; text-decoration-color: #008000\">'video_creator_id'</span>: <span style=\"color: #008000; text-decoration-color: #008000\">'user-1'</span>,\n    <span style=\"color: #008000; text-decoration-color: #008000\">'views'</span>: <span style=\"color: #008080; text-decoration-color: #008080; font-weight: bold\">0</span>,\n    <span style=\"color: #008000; text-decoration-color: #008000\">'created_at'</span>: <span style=\"color: #800080; text-decoration-color: #800080; font-weight: bold\">datetime.datetime</span><span style=\"font-weight: bold\">(</span><span style=\"color: #008080; text-decoration-color: #008080; font-weight: bold\">2020</span>, <span style=\"color: #008080; text-decoration-color: #008080; font-weight: bold\">2</span>, <span style=\"color: #008080; text-decoration-color: #008080; font-weight: bold\">1</span>, <span style=\"color: #008080; text-decoration-color: #008080; font-weight: bold\">0</span>, <span style=\"color: #008080; text-decoration-color: #008080; font-weight: bold\">0</span><span style=\"font-weight: bold\">)</span>\n<span style=\"font-weight: bold\">}</span>\n</pre>\n"
     },
     "metadata": {},
     "output_type": "display_data"
    },
    {
     "name": "stdout",
     "output_type": "stream",
     "text": [
      "Get video by video id\n"
     ]
    },
    {
     "data": {
      "text/plain": "\u001B[1m{\u001B[0m\n    \u001B[32m'created_at'\u001B[0m: \u001B[1;35mdatetime.datetime\u001B[0m\u001B[1m(\u001B[0m\u001B[1;36m2020\u001B[0m, \u001B[1;36m2\u001B[0m, \u001B[1;36m2\u001B[0m, \u001B[1;36m0\u001B[0m, \u001B[1;36m0\u001B[0m, \u001B[33mtzinfo\u001B[0m=\u001B[35mdatetime\u001B[0m.timezone.utc\u001B[1m)\u001B[0m,\n    \u001B[32m'entity_type'\u001B[0m: \u001B[32m'VIDEO'\u001B[0m,\n    \u001B[32m'pk'\u001B[0m: \u001B[32m'video-2'\u001B[0m,\n    \u001B[32m'sk'\u001B[0m: \u001B[32m'_root'\u001B[0m,\n    \u001B[32m'video_creator_id'\u001B[0m: \u001B[32m'user-2'\u001B[0m,\n    \u001B[32m'video_title'\u001B[0m: \u001B[32m'video 2 title'\u001B[0m,\n    \u001B[32m'views'\u001B[0m: \u001B[1;36m0\u001B[0m\n\u001B[1m}\u001B[0m\n",
      "text/html": "<pre style=\"white-space:pre;overflow-x:auto;line-height:normal;font-family:Menlo,'DejaVu Sans Mono',consolas,'Courier New',monospace\"><span style=\"font-weight: bold\">{</span>\n    <span style=\"color: #008000; text-decoration-color: #008000\">'created_at'</span>: <span style=\"color: #800080; text-decoration-color: #800080; font-weight: bold\">datetime.datetime</span><span style=\"font-weight: bold\">(</span><span style=\"color: #008080; text-decoration-color: #008080; font-weight: bold\">2020</span>, <span style=\"color: #008080; text-decoration-color: #008080; font-weight: bold\">2</span>, <span style=\"color: #008080; text-decoration-color: #008080; font-weight: bold\">2</span>, <span style=\"color: #008080; text-decoration-color: #008080; font-weight: bold\">0</span>, <span style=\"color: #008080; text-decoration-color: #008080; font-weight: bold\">0</span>, <span style=\"color: #808000; text-decoration-color: #808000\">tzinfo</span>=<span style=\"color: #800080; text-decoration-color: #800080\">datetime</span>.timezone.utc<span style=\"font-weight: bold\">)</span>,\n    <span style=\"color: #008000; text-decoration-color: #008000\">'entity_type'</span>: <span style=\"color: #008000; text-decoration-color: #008000\">'VIDEO'</span>,\n    <span style=\"color: #008000; text-decoration-color: #008000\">'pk'</span>: <span style=\"color: #008000; text-decoration-color: #008000\">'video-2'</span>,\n    <span style=\"color: #008000; text-decoration-color: #008000\">'sk'</span>: <span style=\"color: #008000; text-decoration-color: #008000\">'_root'</span>,\n    <span style=\"color: #008000; text-decoration-color: #008000\">'video_creator_id'</span>: <span style=\"color: #008000; text-decoration-color: #008000\">'user-2'</span>,\n    <span style=\"color: #008000; text-decoration-color: #008000\">'video_title'</span>: <span style=\"color: #008000; text-decoration-color: #008000\">'video 2 title'</span>,\n    <span style=\"color: #008000; text-decoration-color: #008000\">'views'</span>: <span style=\"color: #008080; text-decoration-color: #008080; font-weight: bold\">0</span>\n<span style=\"font-weight: bold\">}</span>\n</pre>\n"
     },
     "metadata": {},
     "output_type": "display_data"
    },
    {
     "name": "stdout",
     "output_type": "stream",
     "text": [
      "Get user's videos by user id\n"
     ]
    },
    {
     "data": {
      "text/plain": "\u001B[1m[\u001B[0mentities\u001B[1m<\u001B[0m\u001B[1;95mvideo-\u001B[0m\u001B[1;36m6\u001B[0m\u001B[39m, _root>, entities<video-\u001B[0m\u001B[1;36m5\u001B[0m\u001B[39m, _root>, entities<video-\u001B[0m\u001B[1;36m4\u001B[0m\u001B[39m, _root\u001B[0m\u001B[1m>\u001B[0m\u001B[1m]\u001B[0m\n",
      "text/html": "<pre style=\"white-space:pre;overflow-x:auto;line-height:normal;font-family:Menlo,'DejaVu Sans Mono',consolas,'Courier New',monospace\"><span style=\"font-weight: bold\">[</span>entities<span style=\"font-weight: bold\">&lt;</span><span style=\"color: #ff00ff; text-decoration-color: #ff00ff; font-weight: bold\">video-</span><span style=\"color: #008080; text-decoration-color: #008080; font-weight: bold\">6</span><span style=\"color: #000000; text-decoration-color: #000000\">, _root&gt;, entities&lt;video-</span><span style=\"color: #008080; text-decoration-color: #008080; font-weight: bold\">5</span><span style=\"color: #000000; text-decoration-color: #000000\">, _root&gt;, entities&lt;video-</span><span style=\"color: #008080; text-decoration-color: #008080; font-weight: bold\">4</span><span style=\"color: #000000; text-decoration-color: #000000\">, _root</span><span style=\"font-weight: bold\">&gt;]</span>\n</pre>\n"
     },
     "metadata": {},
     "output_type": "display_data"
    }
   ],
   "source": [
    "class Model(Model):\n",
    "    _VIDEO_ID_STARTED = 0\n",
    "\n",
    "    @classmethod\n",
    "    def upload_video(\n",
    "        cls,\n",
    "        user_id: str,\n",
    "        video_title: str,\n",
    "        created_at: datetime,\n",
    "    ) -> \"Model\":\n",
    "        cls._VIDEO_ID_STARTED += 1\n",
    "\n",
    "        video_model = cls(\n",
    "            pk=f\"video-{cls._VIDEO_ID_STARTED}\",\n",
    "            sk=ROOT,\n",
    "            entity_type=EntityTypeEnum.VIDEO.value,\n",
    "            video_title=video_title,\n",
    "            video_creator_id=user_id,\n",
    "            views=0,\n",
    "            created_at=created_at,\n",
    "        )\n",
    "        video_model.save()\n",
    "        return video_model\n",
    "\n",
    "    @classmethod\n",
    "    def get_video(cls, video_id: str) -> \"Model\":\n",
    "        return cls.get(hash_key=video_id, range_key=ROOT)\n",
    "\n",
    "    @classmethod\n",
    "    def get_users_videos(cls, user_id: str, limit: int = 5):\n",
    "        return cls.iter_query_index(\n",
    "            index=cls.user_s_video_index,\n",
    "            hash_key=user_id,\n",
    "            scan_index_forward=False,\n",
    "            limit=limit,\n",
    "        )\n",
    "\n",
    "video1 = Model.upload_video(user_id=\"user-1\", video_title=\"video 1 title\", created_at=datetime(2020, 2, 1))\n",
    "video2 = Model.upload_video(user_id=\"user-2\", video_title=\"video 2 title\", created_at=datetime(2020, 2, 2))\n",
    "video3 = Model.upload_video(user_id=\"user-2\", video_title=\"video 3 title\", created_at=datetime(2020, 2, 3))\n",
    "video4 = Model.upload_video(user_id=\"user-3\", video_title=\"video 4 title\", created_at=datetime(2020, 2, 4))\n",
    "video5 = Model.upload_video(user_id=\"user-3\", video_title=\"video 5 title\", created_at=datetime(2020, 2, 5))\n",
    "video6 = Model.upload_video(user_id=\"user-3\", video_title=\"video 6 title\", created_at=datetime(2020, 2, 6))\n",
    "\n",
    "print(\"Create some sample users\")\n",
    "rprint(video1.to_dict())\n",
    "\n",
    "print(\"Get video by video id\")\n",
    "rprint(Model.get_video(\"video-2\").to_dict())\n",
    "\n",
    "print(\"Get user's videos by user id\")\n",
    "rprint(Model.get_users_videos(\"user-3\").all())"
   ],
   "metadata": {
    "collapsed": false,
    "pycharm": {
     "name": "#%%\n"
    }
   }
  },
  {
   "cell_type": "code",
   "execution_count": 109,
   "outputs": [
    {
     "name": "stdout",
     "output_type": "stream",
     "text": [
      "Create some sample subscriptions\n",
      "Get subscribe list by user id\n"
     ]
    },
    {
     "data": {
      "text/plain": "\u001B[1m[\u001B[0m\n    \u001B[1m{\u001B[0m\n        \u001B[32m'created_at'\u001B[0m: \u001B[1;35mdatetime.datetime\u001B[0m\u001B[1m(\u001B[0m\u001B[1;36m2020\u001B[0m, \u001B[1;36m4\u001B[0m, \u001B[1;36m1\u001B[0m, \u001B[1;36m0\u001B[0m, \u001B[1;36m0\u001B[0m, \u001B[33mtzinfo\u001B[0m=\u001B[35mdatetime\u001B[0m.timezone.utc\u001B[1m)\u001B[0m,\n        \u001B[32m'entity_type'\u001B[0m: \u001B[32m'SUBSCRIPTION'\u001B[0m,\n        \u001B[32m'pk'\u001B[0m: \u001B[32m'subscriber-user-1'\u001B[0m,\n        \u001B[32m'sk'\u001B[0m: \u001B[32m'user-2'\u001B[0m\n    \u001B[1m}\u001B[0m,\n    \u001B[1m{\u001B[0m\n        \u001B[32m'created_at'\u001B[0m: \u001B[1;35mdatetime.datetime\u001B[0m\u001B[1m(\u001B[0m\u001B[1;36m2020\u001B[0m, \u001B[1;36m4\u001B[0m, \u001B[1;36m2\u001B[0m, \u001B[1;36m0\u001B[0m, \u001B[1;36m0\u001B[0m, \u001B[33mtzinfo\u001B[0m=\u001B[35mdatetime\u001B[0m.timezone.utc\u001B[1m)\u001B[0m,\n        \u001B[32m'entity_type'\u001B[0m: \u001B[32m'SUBSCRIPTION'\u001B[0m,\n        \u001B[32m'pk'\u001B[0m: \u001B[32m'subscriber-user-1'\u001B[0m,\n        \u001B[32m'sk'\u001B[0m: \u001B[32m'user-3'\u001B[0m\n    \u001B[1m}\u001B[0m\n\u001B[1m]\u001B[0m\n",
      "text/html": "<pre style=\"white-space:pre;overflow-x:auto;line-height:normal;font-family:Menlo,'DejaVu Sans Mono',consolas,'Courier New',monospace\"><span style=\"font-weight: bold\">[</span>\n    <span style=\"font-weight: bold\">{</span>\n        <span style=\"color: #008000; text-decoration-color: #008000\">'created_at'</span>: <span style=\"color: #800080; text-decoration-color: #800080; font-weight: bold\">datetime.datetime</span><span style=\"font-weight: bold\">(</span><span style=\"color: #008080; text-decoration-color: #008080; font-weight: bold\">2020</span>, <span style=\"color: #008080; text-decoration-color: #008080; font-weight: bold\">4</span>, <span style=\"color: #008080; text-decoration-color: #008080; font-weight: bold\">1</span>, <span style=\"color: #008080; text-decoration-color: #008080; font-weight: bold\">0</span>, <span style=\"color: #008080; text-decoration-color: #008080; font-weight: bold\">0</span>, <span style=\"color: #808000; text-decoration-color: #808000\">tzinfo</span>=<span style=\"color: #800080; text-decoration-color: #800080\">datetime</span>.timezone.utc<span style=\"font-weight: bold\">)</span>,\n        <span style=\"color: #008000; text-decoration-color: #008000\">'entity_type'</span>: <span style=\"color: #008000; text-decoration-color: #008000\">'SUBSCRIPTION'</span>,\n        <span style=\"color: #008000; text-decoration-color: #008000\">'pk'</span>: <span style=\"color: #008000; text-decoration-color: #008000\">'subscriber-user-1'</span>,\n        <span style=\"color: #008000; text-decoration-color: #008000\">'sk'</span>: <span style=\"color: #008000; text-decoration-color: #008000\">'user-2'</span>\n    <span style=\"font-weight: bold\">}</span>,\n    <span style=\"font-weight: bold\">{</span>\n        <span style=\"color: #008000; text-decoration-color: #008000\">'created_at'</span>: <span style=\"color: #800080; text-decoration-color: #800080; font-weight: bold\">datetime.datetime</span><span style=\"font-weight: bold\">(</span><span style=\"color: #008080; text-decoration-color: #008080; font-weight: bold\">2020</span>, <span style=\"color: #008080; text-decoration-color: #008080; font-weight: bold\">4</span>, <span style=\"color: #008080; text-decoration-color: #008080; font-weight: bold\">2</span>, <span style=\"color: #008080; text-decoration-color: #008080; font-weight: bold\">0</span>, <span style=\"color: #008080; text-decoration-color: #008080; font-weight: bold\">0</span>, <span style=\"color: #808000; text-decoration-color: #808000\">tzinfo</span>=<span style=\"color: #800080; text-decoration-color: #800080\">datetime</span>.timezone.utc<span style=\"font-weight: bold\">)</span>,\n        <span style=\"color: #008000; text-decoration-color: #008000\">'entity_type'</span>: <span style=\"color: #008000; text-decoration-color: #008000\">'SUBSCRIPTION'</span>,\n        <span style=\"color: #008000; text-decoration-color: #008000\">'pk'</span>: <span style=\"color: #008000; text-decoration-color: #008000\">'subscriber-user-1'</span>,\n        <span style=\"color: #008000; text-decoration-color: #008000\">'sk'</span>: <span style=\"color: #008000; text-decoration-color: #008000\">'user-3'</span>\n    <span style=\"font-weight: bold\">}</span>\n<span style=\"font-weight: bold\">]</span>\n</pre>\n"
     },
     "metadata": {},
     "output_type": "display_data"
    },
    {
     "name": "stdout",
     "output_type": "stream",
     "text": [
      "Get number of subscribers by user id\n"
     ]
    },
    {
     "data": {
      "text/plain": "User user-\u001B[1;36m3\u001B[0m has \u001B[1;36m1\u001B[0m subscribers\n",
      "text/html": "<pre style=\"white-space:pre;overflow-x:auto;line-height:normal;font-family:Menlo,'DejaVu Sans Mono',consolas,'Courier New',monospace\">User user-<span style=\"color: #008080; text-decoration-color: #008080; font-weight: bold\">3</span> has <span style=\"color: #008080; text-decoration-color: #008080; font-weight: bold\">1</span> subscribers\n</pre>\n"
     },
     "metadata": {},
     "output_type": "display_data"
    }
   ],
   "source": [
    "class Model(Model):\n",
    "    @classmethod\n",
    "    def subscribe(\n",
    "        cls,\n",
    "        subscriber_id: str,\n",
    "        publisher_id: str,\n",
    "        created_at: datetime,\n",
    "    ) -> \"Model\":\n",
    "        subscription_model = cls(\n",
    "            pk=f\"subscriber-{subscriber_id}\",\n",
    "            sk=publisher_id,\n",
    "            entity_type=EntityTypeEnum.SUBSCRIPTION,\n",
    "            created_at=created_at,\n",
    "        )\n",
    "        subscription_model.save()\n",
    "\n",
    "        cls(pk=publisher_id, sk=ROOT).update(actions=[\n",
    "            cls.subscribers.set(cls.subscribers + 1)\n",
    "        ])\n",
    "\n",
    "        return subscription_model\n",
    "\n",
    "    @classmethod\n",
    "    def get_user_subscriptions(\n",
    "        cls,\n",
    "        user_id: str,\n",
    "    ):\n",
    "        return cls.iter_query(hash_key=f\"subscriber-{user_id}\")\n",
    "\n",
    "\n",
    "print(\"Create some sample subscriptions\")\n",
    "Model.subscribe(subscriber_id=\"user-1\", publisher_id=\"user-2\", created_at=datetime(2020, 4, 1))\n",
    "Model.subscribe(subscriber_id=\"user-1\", publisher_id=\"user-3\", created_at=datetime(2020, 4, 2))\n",
    "\n",
    "print(\"Get subscribe list by user id\")\n",
    "rprint([i.to_dict() for i in Model.get_user_subscriptions(\"user-1\").all()])\n",
    "\n",
    "print(\"Get number of subscribers by user id\")\n",
    "user = Model.get_user(\"user-3\")\n",
    "rprint(f\"User {user.pk} has {user.subscribers} subscribers\")"
   ],
   "metadata": {
    "collapsed": false,
    "pycharm": {
     "name": "#%%\n"
    }
   }
  },
  {
   "cell_type": "code",
   "execution_count": 110,
   "outputs": [
    {
     "name": "stdout",
     "output_type": "stream",
     "text": [
      "Mock some view activities\n",
      "Get number of views of a video\n"
     ]
    },
    {
     "data": {
      "text/plain": "Video video-\u001B[1;36m1\u001B[0m has \u001B[1;36m2\u001B[0m views\n",
      "text/html": "<pre style=\"white-space:pre;overflow-x:auto;line-height:normal;font-family:Menlo,'DejaVu Sans Mono',consolas,'Courier New',monospace\">Video video-<span style=\"color: #008080; text-decoration-color: #008080; font-weight: bold\">1</span> has <span style=\"color: #008080; text-decoration-color: #008080; font-weight: bold\">2</span> views\n</pre>\n"
     },
     "metadata": {},
     "output_type": "display_data"
    },
    {
     "name": "stdout",
     "output_type": "stream",
     "text": [
      "Check if a user has viewed a video\n"
     ]
    },
    {
     "data": {
      "text/plain": "has user-\u001B[1;36m2\u001B[0m viewed video-\u001B[1;36m1\u001B[0m:  \u001B[3;92mTrue\u001B[0m\n",
      "text/html": "<pre style=\"white-space:pre;overflow-x:auto;line-height:normal;font-family:Menlo,'DejaVu Sans Mono',consolas,'Courier New',monospace\">has user-<span style=\"color: #008080; text-decoration-color: #008080; font-weight: bold\">2</span> viewed video-<span style=\"color: #008080; text-decoration-color: #008080; font-weight: bold\">1</span>:  <span style=\"color: #00ff00; text-decoration-color: #00ff00; font-style: italic\">True</span>\n</pre>\n"
     },
     "metadata": {},
     "output_type": "display_data"
    },
    {
     "data": {
      "text/plain": "has user-\u001B[1;36m2\u001B[0m viewed video-\u001B[1;36m2\u001B[0m:  \u001B[3;91mFalse\u001B[0m\n",
      "text/html": "<pre style=\"white-space:pre;overflow-x:auto;line-height:normal;font-family:Menlo,'DejaVu Sans Mono',consolas,'Courier New',monospace\">has user-<span style=\"color: #008080; text-decoration-color: #008080; font-weight: bold\">2</span> viewed video-<span style=\"color: #008080; text-decoration-color: #008080; font-weight: bold\">2</span>:  <span style=\"color: #ff0000; text-decoration-color: #ff0000; font-style: italic\">False</span>\n</pre>\n"
     },
     "metadata": {},
     "output_type": "display_data"
    }
   ],
   "source": [
    "class Model(Model):\n",
    "    @classmethod\n",
    "    def watch_video(\n",
    "        cls,\n",
    "        user_id: str,\n",
    "        video_id: str,\n",
    "    ):\n",
    "        cls(pk=video_id, sk=ROOT).update(actions=[\n",
    "            cls.views.set(cls.views + 1)\n",
    "        ])\n",
    "        view_activity = cls(pk=user_id, sk=video_id).save()\n",
    "        return view_activity\n",
    "\n",
    "    @classmethod\n",
    "    def is_user_has_viewed(\n",
    "        cls,\n",
    "        user_id: str,\n",
    "        video_id: str,\n",
    "    ) -> bool:\n",
    "        return cls.get_one_or_none(hash_key=user_id, range_key=video_id) is not None\n",
    "\n",
    "print(\"Mock some view activities\")\n",
    "Model.watch_video(user_id=\"user-2\", video_id=\"video-1\")\n",
    "Model.watch_video(user_id=\"user-3\", video_id=\"video-1\")\n",
    "\n",
    "print(\"Get number of views of a video\")\n",
    "video = Model.get_video(\"video-1\")\n",
    "rprint(f\"Video {video.pk} has {video.views} views\")\n",
    "\n",
    "print(\"Check if a user has viewed a video\")\n",
    "rprint(\"has user-2 viewed video-1: \", Model.is_user_has_viewed(\"user-2\", \"video-1\"))\n",
    "rprint(\"has user-2 viewed video-2: \", Model.is_user_has_viewed(\"user-2\", \"video-2\"))"
   ],
   "metadata": {
    "collapsed": false,
    "pycharm": {
     "name": "#%%\n"
    }
   }
  },
  {
   "cell_type": "code",
   "execution_count": 111,
   "outputs": [
    {
     "name": "stdout",
     "output_type": "stream",
     "text": [
      "User 2 subscribe User 3\n",
      "User 3 has three video: video 4, 5, 6\n",
      "User 2 has watched video 4 already\n",
      "System should push video 5, 6 to user 2\n"
     ]
    },
    {
     "data": {
      "text/plain": "\u001B[1m[\u001B[0m\n    \u001B[1m{\u001B[0m\n        \u001B[32m'created_at'\u001B[0m: \u001B[1;35mdatetime.datetime\u001B[0m\u001B[1m(\u001B[0m\u001B[1;36m2020\u001B[0m, \u001B[1;36m2\u001B[0m, \u001B[1;36m6\u001B[0m, \u001B[1;36m0\u001B[0m, \u001B[1;36m0\u001B[0m, \u001B[33mtzinfo\u001B[0m=\u001B[35mdatetime\u001B[0m.timezone.utc\u001B[1m)\u001B[0m,\n        \u001B[32m'pk'\u001B[0m: \u001B[32m'video-6'\u001B[0m,\n        \u001B[32m'sk'\u001B[0m: \u001B[32m'_root'\u001B[0m,\n        \u001B[32m'video_creator_id'\u001B[0m: \u001B[32m'user-3'\u001B[0m,\n        \u001B[32m'video_title'\u001B[0m: \u001B[32m'video 6 title'\u001B[0m\n    \u001B[1m}\u001B[0m,\n    \u001B[1m{\u001B[0m\n        \u001B[32m'created_at'\u001B[0m: \u001B[1;35mdatetime.datetime\u001B[0m\u001B[1m(\u001B[0m\u001B[1;36m2020\u001B[0m, \u001B[1;36m2\u001B[0m, \u001B[1;36m5\u001B[0m, \u001B[1;36m0\u001B[0m, \u001B[1;36m0\u001B[0m, \u001B[33mtzinfo\u001B[0m=\u001B[35mdatetime\u001B[0m.timezone.utc\u001B[1m)\u001B[0m,\n        \u001B[32m'pk'\u001B[0m: \u001B[32m'video-5'\u001B[0m,\n        \u001B[32m'sk'\u001B[0m: \u001B[32m'_root'\u001B[0m,\n        \u001B[32m'video_creator_id'\u001B[0m: \u001B[32m'user-3'\u001B[0m,\n        \u001B[32m'video_title'\u001B[0m: \u001B[32m'video 5 title'\u001B[0m\n    \u001B[1m}\u001B[0m\n\u001B[1m]\u001B[0m\n",
      "text/html": "<pre style=\"white-space:pre;overflow-x:auto;line-height:normal;font-family:Menlo,'DejaVu Sans Mono',consolas,'Courier New',monospace\"><span style=\"font-weight: bold\">[</span>\n    <span style=\"font-weight: bold\">{</span>\n        <span style=\"color: #008000; text-decoration-color: #008000\">'created_at'</span>: <span style=\"color: #800080; text-decoration-color: #800080; font-weight: bold\">datetime.datetime</span><span style=\"font-weight: bold\">(</span><span style=\"color: #008080; text-decoration-color: #008080; font-weight: bold\">2020</span>, <span style=\"color: #008080; text-decoration-color: #008080; font-weight: bold\">2</span>, <span style=\"color: #008080; text-decoration-color: #008080; font-weight: bold\">6</span>, <span style=\"color: #008080; text-decoration-color: #008080; font-weight: bold\">0</span>, <span style=\"color: #008080; text-decoration-color: #008080; font-weight: bold\">0</span>, <span style=\"color: #808000; text-decoration-color: #808000\">tzinfo</span>=<span style=\"color: #800080; text-decoration-color: #800080\">datetime</span>.timezone.utc<span style=\"font-weight: bold\">)</span>,\n        <span style=\"color: #008000; text-decoration-color: #008000\">'pk'</span>: <span style=\"color: #008000; text-decoration-color: #008000\">'video-6'</span>,\n        <span style=\"color: #008000; text-decoration-color: #008000\">'sk'</span>: <span style=\"color: #008000; text-decoration-color: #008000\">'_root'</span>,\n        <span style=\"color: #008000; text-decoration-color: #008000\">'video_creator_id'</span>: <span style=\"color: #008000; text-decoration-color: #008000\">'user-3'</span>,\n        <span style=\"color: #008000; text-decoration-color: #008000\">'video_title'</span>: <span style=\"color: #008000; text-decoration-color: #008000\">'video 6 title'</span>\n    <span style=\"font-weight: bold\">}</span>,\n    <span style=\"font-weight: bold\">{</span>\n        <span style=\"color: #008000; text-decoration-color: #008000\">'created_at'</span>: <span style=\"color: #800080; text-decoration-color: #800080; font-weight: bold\">datetime.datetime</span><span style=\"font-weight: bold\">(</span><span style=\"color: #008080; text-decoration-color: #008080; font-weight: bold\">2020</span>, <span style=\"color: #008080; text-decoration-color: #008080; font-weight: bold\">2</span>, <span style=\"color: #008080; text-decoration-color: #008080; font-weight: bold\">5</span>, <span style=\"color: #008080; text-decoration-color: #008080; font-weight: bold\">0</span>, <span style=\"color: #008080; text-decoration-color: #008080; font-weight: bold\">0</span>, <span style=\"color: #808000; text-decoration-color: #808000\">tzinfo</span>=<span style=\"color: #800080; text-decoration-color: #800080\">datetime</span>.timezone.utc<span style=\"font-weight: bold\">)</span>,\n        <span style=\"color: #008000; text-decoration-color: #008000\">'pk'</span>: <span style=\"color: #008000; text-decoration-color: #008000\">'video-5'</span>,\n        <span style=\"color: #008000; text-decoration-color: #008000\">'sk'</span>: <span style=\"color: #008000; text-decoration-color: #008000\">'_root'</span>,\n        <span style=\"color: #008000; text-decoration-color: #008000\">'video_creator_id'</span>: <span style=\"color: #008000; text-decoration-color: #008000\">'user-3'</span>,\n        <span style=\"color: #008000; text-decoration-color: #008000\">'video_title'</span>: <span style=\"color: #008000; text-decoration-color: #008000\">'video 5 title'</span>\n    <span style=\"font-weight: bold\">}</span>\n<span style=\"font-weight: bold\">]</span>\n</pre>\n"
     },
     "metadata": {},
     "output_type": "display_data"
    }
   ],
   "source": [
    "class Model(Model):\n",
    "    @classmethod\n",
    "    def push_new_videos(\n",
    "        cls,\n",
    "        user_id: str,\n",
    "        limit_per_publisher: int =3,\n",
    "        max_push: int = 10,\n",
    "    ):\n",
    "        \"\"\"\n",
    "        :param limit: for each publisher, max number of videos to push\n",
    "        \"\"\"\n",
    "        publishers = cls.get_user_subscriptions(user_id).all()\n",
    "        new_videos = list()\n",
    "        for publisher in publishers:\n",
    "            videos = Model.get_users_videos(publisher.sk, limit=limit_per_publisher).all()\n",
    "            for video in videos:\n",
    "                if cls.is_user_has_viewed(user_id, video.pk) is False:\n",
    "                    new_videos.append(video)\n",
    "                    if len(new_videos) >= max_push:\n",
    "                        return new_videos\n",
    "        return new_videos\n",
    "\n",
    "\n",
    "print(\"User 2 subscribe User 3\")\n",
    "Model.subscribe(subscriber_id=\"user-2\", publisher_id=\"user-3\", created_at=datetime(2020, 5, 1))\n",
    "print(\"User 3 has three video: video 4, 5, 6\")\n",
    "print(\"User 2 has watched video 4 already\")\n",
    "Model.watch_video(user_id=\"user-2\", video_id=\"video-4\")\n",
    "print(\"System should push video 5, 6 to user 2\")\n",
    "rprint([i.to_dict() for i in Model.push_new_videos(\"user-2\")])"
   ],
   "metadata": {
    "collapsed": false,
    "pycharm": {
     "name": "#%%\n"
    }
   }
  },
  {
   "cell_type": "code",
   "execution_count": null,
   "outputs": [],
   "source": [],
   "metadata": {
    "collapsed": false,
    "pycharm": {
     "name": "#%%\n"
    }
   }
  }
 ],
 "metadata": {
  "kernelspec": {
   "display_name": "Python 3",
   "language": "python",
   "name": "python3"
  },
  "language_info": {
   "codemirror_mode": {
    "name": "ipython",
    "version": 2
   },
   "file_extension": ".py",
   "mimetype": "text/x-python",
   "name": "python",
   "nbconvert_exporter": "python",
   "pygments_lexer": "ipython2",
   "version": "2.7.6"
  }
 },
 "nbformat": 4,
 "nbformat_minor": 0
}