{
 "cells": [
  {
   "cell_type": "markdown",
   "source": [
    "# How to Design DynamoDB Data Model for Production\n",
    "\n",
    "- http://docs.getmoto.org/en/latest/docs/services/dynamodb.html\n",
    "\n",
    "## Overview\n",
    "\n",
    "## Case Study - Design YouTube Data Model\n",
    "\n",
    "Entities:\n",
    "\n",
    "- User: user can upload video, user can also view other's video\n",
    "- Video: user can create video\n",
    "- Channel: user can create channel, then add the video he owned to the channel\n",
    "\n",
    "YouTube user's behavior:\n",
    "\n",
    "- people can sign up as an User\n",
    "- User can upload video\n",
    "- User can create channel\n",
    "- User can add video to channel\n",
    "\n",
    "Query Pattern:\n",
    "\n",
    "- Given a User id, Video id, Channel id, we can get the detailed information of the user, video, channel.\n",
    "- Given a User id, we can get all the videos he uploaded, ordered by create time, latest video comes first.\n",
    "- Given a User id, we can get all the channels he created, ordered by create time, latest video comes first.\n",
    "- Given a channel id, we can get all the videos in the channel, ordered by create time, latest video comes first."
   ],
   "metadata": {
    "collapsed": false,
    "pycharm": {
     "name": "#%% md\n"
    }
   }
  },
  {
   "cell_type": "markdown",
   "source": [],
   "metadata": {
    "collapsed": false,
    "pycharm": {
     "name": "#%% md\n"
    }
   }
  },
  {
   "cell_type": "code",
   "execution_count": 24,
   "outputs": [],
   "source": [
    "import typing as T\n",
    "import enum\n",
    "from datetime import datetime\n",
    "import dataclasses\n",
    "import pynamodb_mate as pm\n",
    "from moto import mock_dynamodb\n",
    "from rich import print as rprint"
   ],
   "metadata": {
    "collapsed": false,
    "pycharm": {
     "name": "#%%\n"
    }
   }
  },
  {
   "cell_type": "code",
   "execution_count": 26,
   "outputs": [],
   "source": [
    "class EntityTypeEnum(str, enum.Enum):\n",
    "    USER = \"USER\"\n",
    "    VIDEO = \"VIDEO\"\n",
    "    CHANNEL = \"CHANNEL\"\n",
    "\n",
    "\n",
    "@dataclasses.dataclass\n",
    "class User:\n",
    "    user_id: int = dataclasses.field()\n",
    "    user_name: str = dataclasses.field()\n",
    "    created_at: datetime = dataclasses.field()\n",
    "\n",
    "    videos: T.List[\"Video\"] = dataclasses.field(default_factory=list)\n",
    "    channels: T.List[\"Channel\"] = dataclasses.field(default_factory=list)\n",
    "\n",
    "\n",
    "@dataclasses.dataclass\n",
    "class Video:\n",
    "    video_id: int = dataclasses.field()\n",
    "    video_title: str = dataclasses.field()\n",
    "    created_at: datetime = dataclasses.field()\n",
    "    creator_id: str = dataclasses.field()\n",
    "\n",
    "    creator: T.Optional[User] = dataclasses.field(default=None)\n",
    "\n",
    "\n",
    "@dataclasses.dataclass\n",
    "class Channel:\n",
    "    channel_id: int = dataclasses.field()\n",
    "    channel_name: str = dataclasses.field()\n",
    "    created_at: datetime = dataclasses.field()\n",
    "    creator_id: str = dataclasses.field()\n",
    "\n",
    "    creator: T.Optional[User] = dataclasses.field(default=None)\n",
    "\n",
    "    videos: T.List[Video] = dataclasses.field(default_factory=list)\n"
   ],
   "metadata": {
    "collapsed": false,
    "pycharm": {
     "name": "#%%\n"
    }
   }
  },
  {
   "cell_type": "code",
   "execution_count": 67,
   "outputs": [],
   "source": [
    "ROOT = \"_root\" # indicate that this item only has hash key, range key is not used (logically)\n",
    "\n",
    "class Model(pm.Model):\n",
    "    class Meta:\n",
    "        table_name = f\"entities\"\n",
    "        region = \"us-east-1\"\n",
    "        billing_mode = pm.PAY_PER_REQUEST_BILLING_MODE\n",
    "\n",
    "    pk: T.Union[str, pm.UnicodeAttribute] = pm.UnicodeAttribute(\n",
    "        hash_key=True\n",
    "    )\n",
    "    sk: T.Optional[T.Union[str, pm.UnicodeAttribute]] = pm.UnicodeAttribute(\n",
    "        range_key=True, default=None, null=True\n",
    "    )\n",
    "    entity_type: T.Optional[T.Union[str, pm.UnicodeAttribute]] = pm.UnicodeAttribute(\n",
    "        default=None, null=True\n",
    "    )\n",
    "\n",
    "    # --- user\n",
    "    user_name: T.Union[str, pm.UnicodeAttribute] = pm.UnicodeAttribute(\n",
    "        default=None, null=True\n",
    "    )\n",
    "\n",
    "    # --- video\n",
    "    video_id: T.Union[str, pm.UnicodeAttribute] = pm.UnicodeAttribute(\n",
    "        default=None, null=True\n",
    "    )\n",
    "    video_title: T.Union[str, pm.UnicodeAttribute] = pm.UnicodeAttribute(\n",
    "        default=None, null=True\n",
    "    )\n",
    "\n",
    "    # --- channel\n",
    "    channel_id: T.Union[str, pm.UnicodeAttribute] = pm.UnicodeAttribute(\n",
    "        default=None, null=True\n",
    "    )\n",
    "    channel_name: T.Union[str, pm.UnicodeAttribute] = pm.UnicodeAttribute(null=True)\n",
    "\n",
    "    # --- common\n",
    "    created_at: T.Optional[T.Union[datetime, pm.UTCDateTimeAttribute]] = pm.UTCDateTimeAttribute(\n",
    "        default=None, null=True\n",
    "    )\n",
    "    creator_id: T.Optional[T.Union[str, pm.UnicodeAttribute]] = pm.UnicodeAttribute(\n",
    "        default=None, null=True\n",
    "    )\n",
    "\n",
    "    @classmethod\n",
    "    def signup_user(cls, user: User) -> \"Model\":\n",
    "        user_model = cls(\n",
    "            pk=f\"user-{user.user_id}\",\n",
    "            sk=ROOT,\n",
    "            entity_type=EntityTypeEnum.USER,\n",
    "            created_at=user.created_at,\n",
    "        )\n",
    "        user_model.save()\n",
    "        return user_model\n",
    "\n",
    "    @classmethod\n",
    "    def upload_video(cls, video: Video) -> \"Model\":\n",
    "        video_model = cls(\n",
    "            pk=f\"video-{video.video_id}\",\n",
    "            sk=ROOT,\n",
    "            entity_type=EntityTypeEnum.VIDEO,\n",
    "            video_id=f\"video-{video.video_id}\",\n",
    "            video_title=video.video_title,\n",
    "            created_at=video.created_at,\n",
    "            creator_id=video.creator_id,\n",
    "        )\n",
    "        video_model.save()\n",
    "\n",
    "        user_video_lookup_model = cls(\n",
    "            pk=f\"{video.creator_id}-videos\",\n",
    "            sk=str(video.created_at.timestamp()),\n",
    "            video_id=f\"video-{video.video_id}\",\n",
    "            video_title=video.video_title,\n",
    "            created_at=video.created_at,\n",
    "            creator_id=video.creator_id,\n",
    "        )\n",
    "        user_video_lookup_model.save()\n",
    "        return video_model\n",
    "\n",
    "    @classmethod\n",
    "    def create_channel(cls, channel: Channel) -> \"Model\":\n",
    "        channel_model = cls(\n",
    "            pk=f\"channel-{channel.channel_id}\",\n",
    "            sk=ROOT,\n",
    "            entity_type=EntityTypeEnum.CHANNEL,\n",
    "            channel_id=f\"channel-{channel.channel_id}\",\n",
    "            channel_name=channel.channel_name,\n",
    "            created_at=channel.created_at,\n",
    "            creator_id=channel.creator_id,\n",
    "        )\n",
    "        channel_model.save()\n",
    "\n",
    "        user_channel_lookup_model = cls(\n",
    "            pk=f\"{channel.creator_id}-channels\",\n",
    "            sk=str(channel.created_at.timestamp()),\n",
    "            channel_id=f\"channel-{channel.channel_id}\",\n",
    "            channel_name=channel.channel_name,\n",
    "            created_at=channel.created_at,\n",
    "            creator_id=channel.creator_id,\n",
    "        )\n",
    "        user_channel_lookup_model.save()\n",
    "        return channel_model\n",
    "\n",
    "    @classmethod\n",
    "    def get_user(cls) -> \"Model\":\n",
    "        pass\n",
    "\n",
    "    @classmethod\n",
    "    def get_users_videos(cls, user_id: int, limit: int = 5):\n",
    "        \"\"\"\n",
    "        Return user's videos, sorted by created time.\n",
    "        \"\"\"\n",
    "        return cls.iter_query(\n",
    "            hash_key=f\"user-{user_id}-videos\",\n",
    "            scan_index_forward=False,\n",
    "            limit=limit,\n",
    "        )\n",
    "\n",
    "    @classmethod\n",
    "    def get_users_channels(cls, user_id: int, limit: int = 5):\n",
    "        \"\"\"\n",
    "        Return user's videos, sorted by created time.\n",
    "        \"\"\"\n",
    "        return cls.iter_query(\n",
    "            hash_key=f\"user-{user_id}-channels\",\n",
    "            scan_index_forward=False,\n",
    "            limit=limit,\n",
    "        )\n",
    "\n",
    "    @classmethod\n",
    "    def add_video_to_channel(cls, video: Video, channel: Channel):\n",
    "        \"\"\"\n",
    "\n",
    "        :param video_id:\n",
    "        :param chanel_id:\n",
    "        :return:\n",
    "        \"\"\"\n",
    "        chanel_video_model = cls(\n",
    "            pk=f\"channel-{channel.channel_id}-videos\",\n",
    "            sk=str(video.created_at.timestamp()),\n",
    "            video_id=f\"video-{video.video_id}\",\n",
    "            video_title=video.video_title,\n",
    "            created_at=video.created_at,\n",
    "            creator_id=video.creator_id,\n",
    "        )\n",
    "        chanel_video_model.save()\n",
    "        return chanel_video_model\n",
    "\n",
    "    @classmethod\n",
    "    def get_channel_videos(cls, channel_id: int, limit: int = 5):\n",
    "        \"\"\"\n",
    "        Return channel's videos, sorted by created time.\n",
    "        \"\"\"\n",
    "        return cls.iter_query(\n",
    "            hash_key=f\"channel-{channel_id}-videos\",\n",
    "            scan_index_forward=False,\n",
    "            limit=limit,\n",
    "        )\n",
    "\n",
    "mock = mock_dynamodb()\n",
    "mock.start()\n",
    "\n",
    "connect = pm.Connection()\n",
    "Model.create_table(wait=True)"
   ],
   "metadata": {
    "collapsed": false,
    "pycharm": {
     "name": "#%%\n"
    }
   }
  },
  {
   "cell_type": "code",
   "execution_count": 68,
   "outputs": [
    {
     "data": {
      "text/plain": "\u001B[1m{\u001B[0m\n    \u001B[32m'created_at'\u001B[0m: \u001B[1;35mdatetime.datetime\u001B[0m\u001B[1m(\u001B[0m\u001B[1;36m2020\u001B[0m, \u001B[1;36m1\u001B[0m, \u001B[1;36m1\u001B[0m, \u001B[1;36m0\u001B[0m, \u001B[1;36m0\u001B[0m, \u001B[33mtzinfo\u001B[0m=\u001B[35mdatetime\u001B[0m.timezone.utc\u001B[1m)\u001B[0m,\n    \u001B[32m'entity_type'\u001B[0m: \u001B[32m'USER'\u001B[0m,\n    \u001B[32m'pk'\u001B[0m: \u001B[32m'user-1'\u001B[0m,\n    \u001B[32m'sk'\u001B[0m: \u001B[32m'_root'\u001B[0m\n\u001B[1m}\u001B[0m\n",
      "text/html": "<pre style=\"white-space:pre;overflow-x:auto;line-height:normal;font-family:Menlo,'DejaVu Sans Mono',consolas,'Courier New',monospace\"><span style=\"font-weight: bold\">{</span>\n    <span style=\"color: #008000; text-decoration-color: #008000\">'created_at'</span>: <span style=\"color: #800080; text-decoration-color: #800080; font-weight: bold\">datetime.datetime</span><span style=\"font-weight: bold\">(</span><span style=\"color: #008080; text-decoration-color: #008080; font-weight: bold\">2020</span>, <span style=\"color: #008080; text-decoration-color: #008080; font-weight: bold\">1</span>, <span style=\"color: #008080; text-decoration-color: #008080; font-weight: bold\">1</span>, <span style=\"color: #008080; text-decoration-color: #008080; font-weight: bold\">0</span>, <span style=\"color: #008080; text-decoration-color: #008080; font-weight: bold\">0</span>, <span style=\"color: #808000; text-decoration-color: #808000\">tzinfo</span>=<span style=\"color: #800080; text-decoration-color: #800080\">datetime</span>.timezone.utc<span style=\"font-weight: bold\">)</span>,\n    <span style=\"color: #008000; text-decoration-color: #008000\">'entity_type'</span>: <span style=\"color: #008000; text-decoration-color: #008000\">'USER'</span>,\n    <span style=\"color: #008000; text-decoration-color: #008000\">'pk'</span>: <span style=\"color: #008000; text-decoration-color: #008000\">'user-1'</span>,\n    <span style=\"color: #008000; text-decoration-color: #008000\">'sk'</span>: <span style=\"color: #008000; text-decoration-color: #008000\">'_root'</span>\n<span style=\"font-weight: bold\">}</span>\n</pre>\n"
     },
     "metadata": {},
     "output_type": "display_data"
    },
    {
     "data": {
      "text/plain": "\u001B[1m{\u001B[0m\n    \u001B[32m'created_at'\u001B[0m: \u001B[1;35mdatetime.datetime\u001B[0m\u001B[1m(\u001B[0m\u001B[1;36m2020\u001B[0m, \u001B[1;36m1\u001B[0m, \u001B[1;36m2\u001B[0m, \u001B[1;36m0\u001B[0m, \u001B[1;36m0\u001B[0m, \u001B[33mtzinfo\u001B[0m=\u001B[35mdatetime\u001B[0m.timezone.utc\u001B[1m)\u001B[0m,\n    \u001B[32m'entity_type'\u001B[0m: \u001B[32m'USER'\u001B[0m,\n    \u001B[32m'pk'\u001B[0m: \u001B[32m'user-2'\u001B[0m,\n    \u001B[32m'sk'\u001B[0m: \u001B[32m'_root'\u001B[0m\n\u001B[1m}\u001B[0m\n",
      "text/html": "<pre style=\"white-space:pre;overflow-x:auto;line-height:normal;font-family:Menlo,'DejaVu Sans Mono',consolas,'Courier New',monospace\"><span style=\"font-weight: bold\">{</span>\n    <span style=\"color: #008000; text-decoration-color: #008000\">'created_at'</span>: <span style=\"color: #800080; text-decoration-color: #800080; font-weight: bold\">datetime.datetime</span><span style=\"font-weight: bold\">(</span><span style=\"color: #008080; text-decoration-color: #008080; font-weight: bold\">2020</span>, <span style=\"color: #008080; text-decoration-color: #008080; font-weight: bold\">1</span>, <span style=\"color: #008080; text-decoration-color: #008080; font-weight: bold\">2</span>, <span style=\"color: #008080; text-decoration-color: #008080; font-weight: bold\">0</span>, <span style=\"color: #008080; text-decoration-color: #008080; font-weight: bold\">0</span>, <span style=\"color: #808000; text-decoration-color: #808000\">tzinfo</span>=<span style=\"color: #800080; text-decoration-color: #800080\">datetime</span>.timezone.utc<span style=\"font-weight: bold\">)</span>,\n    <span style=\"color: #008000; text-decoration-color: #008000\">'entity_type'</span>: <span style=\"color: #008000; text-decoration-color: #008000\">'USER'</span>,\n    <span style=\"color: #008000; text-decoration-color: #008000\">'pk'</span>: <span style=\"color: #008000; text-decoration-color: #008000\">'user-2'</span>,\n    <span style=\"color: #008000; text-decoration-color: #008000\">'sk'</span>: <span style=\"color: #008000; text-decoration-color: #008000\">'_root'</span>\n<span style=\"font-weight: bold\">}</span>\n</pre>\n"
     },
     "metadata": {},
     "output_type": "display_data"
    },
    {
     "data": {
      "text/plain": "\u001B[1m{\u001B[0m\n    \u001B[32m'created_at'\u001B[0m: \u001B[1;35mdatetime.datetime\u001B[0m\u001B[1m(\u001B[0m\u001B[1;36m2020\u001B[0m, \u001B[1;36m1\u001B[0m, \u001B[1;36m3\u001B[0m, \u001B[1;36m0\u001B[0m, \u001B[1;36m0\u001B[0m, \u001B[33mtzinfo\u001B[0m=\u001B[35mdatetime\u001B[0m.timezone.utc\u001B[1m)\u001B[0m,\n    \u001B[32m'entity_type'\u001B[0m: \u001B[32m'USER'\u001B[0m,\n    \u001B[32m'pk'\u001B[0m: \u001B[32m'user-3'\u001B[0m,\n    \u001B[32m'sk'\u001B[0m: \u001B[32m'_root'\u001B[0m\n\u001B[1m}\u001B[0m\n",
      "text/html": "<pre style=\"white-space:pre;overflow-x:auto;line-height:normal;font-family:Menlo,'DejaVu Sans Mono',consolas,'Courier New',monospace\"><span style=\"font-weight: bold\">{</span>\n    <span style=\"color: #008000; text-decoration-color: #008000\">'created_at'</span>: <span style=\"color: #800080; text-decoration-color: #800080; font-weight: bold\">datetime.datetime</span><span style=\"font-weight: bold\">(</span><span style=\"color: #008080; text-decoration-color: #008080; font-weight: bold\">2020</span>, <span style=\"color: #008080; text-decoration-color: #008080; font-weight: bold\">1</span>, <span style=\"color: #008080; text-decoration-color: #008080; font-weight: bold\">3</span>, <span style=\"color: #008080; text-decoration-color: #008080; font-weight: bold\">0</span>, <span style=\"color: #008080; text-decoration-color: #008080; font-weight: bold\">0</span>, <span style=\"color: #808000; text-decoration-color: #808000\">tzinfo</span>=<span style=\"color: #800080; text-decoration-color: #800080\">datetime</span>.timezone.utc<span style=\"font-weight: bold\">)</span>,\n    <span style=\"color: #008000; text-decoration-color: #008000\">'entity_type'</span>: <span style=\"color: #008000; text-decoration-color: #008000\">'USER'</span>,\n    <span style=\"color: #008000; text-decoration-color: #008000\">'pk'</span>: <span style=\"color: #008000; text-decoration-color: #008000\">'user-3'</span>,\n    <span style=\"color: #008000; text-decoration-color: #008000\">'sk'</span>: <span style=\"color: #008000; text-decoration-color: #008000\">'_root'</span>\n<span style=\"font-weight: bold\">}</span>\n</pre>\n"
     },
     "metadata": {},
     "output_type": "display_data"
    },
    {
     "data": {
      "text/plain": "\u001B[1m{\u001B[0m\n    \u001B[32m'created_at'\u001B[0m: \u001B[1;35mdatetime.datetime\u001B[0m\u001B[1m(\u001B[0m\u001B[1;36m2020\u001B[0m, \u001B[1;36m2\u001B[0m, \u001B[1;36m1\u001B[0m, \u001B[1;36m0\u001B[0m, \u001B[1;36m0\u001B[0m, \u001B[33mtzinfo\u001B[0m=\u001B[35mdatetime\u001B[0m.timezone.utc\u001B[1m)\u001B[0m,\n    \u001B[32m'creator_id'\u001B[0m: \u001B[32m'user-1'\u001B[0m,\n    \u001B[32m'entity_type'\u001B[0m: \u001B[32m'VIDEO'\u001B[0m,\n    \u001B[32m'pk'\u001B[0m: \u001B[32m'video-1'\u001B[0m,\n    \u001B[32m'sk'\u001B[0m: \u001B[32m'_root'\u001B[0m,\n    \u001B[32m'video_id'\u001B[0m: \u001B[32m'video-1'\u001B[0m,\n    \u001B[32m'video_title'\u001B[0m: \u001B[32m'video1'\u001B[0m\n\u001B[1m}\u001B[0m\n",
      "text/html": "<pre style=\"white-space:pre;overflow-x:auto;line-height:normal;font-family:Menlo,'DejaVu Sans Mono',consolas,'Courier New',monospace\"><span style=\"font-weight: bold\">{</span>\n    <span style=\"color: #008000; text-decoration-color: #008000\">'created_at'</span>: <span style=\"color: #800080; text-decoration-color: #800080; font-weight: bold\">datetime.datetime</span><span style=\"font-weight: bold\">(</span><span style=\"color: #008080; text-decoration-color: #008080; font-weight: bold\">2020</span>, <span style=\"color: #008080; text-decoration-color: #008080; font-weight: bold\">2</span>, <span style=\"color: #008080; text-decoration-color: #008080; font-weight: bold\">1</span>, <span style=\"color: #008080; text-decoration-color: #008080; font-weight: bold\">0</span>, <span style=\"color: #008080; text-decoration-color: #008080; font-weight: bold\">0</span>, <span style=\"color: #808000; text-decoration-color: #808000\">tzinfo</span>=<span style=\"color: #800080; text-decoration-color: #800080\">datetime</span>.timezone.utc<span style=\"font-weight: bold\">)</span>,\n    <span style=\"color: #008000; text-decoration-color: #008000\">'creator_id'</span>: <span style=\"color: #008000; text-decoration-color: #008000\">'user-1'</span>,\n    <span style=\"color: #008000; text-decoration-color: #008000\">'entity_type'</span>: <span style=\"color: #008000; text-decoration-color: #008000\">'VIDEO'</span>,\n    <span style=\"color: #008000; text-decoration-color: #008000\">'pk'</span>: <span style=\"color: #008000; text-decoration-color: #008000\">'video-1'</span>,\n    <span style=\"color: #008000; text-decoration-color: #008000\">'sk'</span>: <span style=\"color: #008000; text-decoration-color: #008000\">'_root'</span>,\n    <span style=\"color: #008000; text-decoration-color: #008000\">'video_id'</span>: <span style=\"color: #008000; text-decoration-color: #008000\">'video-1'</span>,\n    <span style=\"color: #008000; text-decoration-color: #008000\">'video_title'</span>: <span style=\"color: #008000; text-decoration-color: #008000\">'video1'</span>\n<span style=\"font-weight: bold\">}</span>\n</pre>\n"
     },
     "metadata": {},
     "output_type": "display_data"
    },
    {
     "data": {
      "text/plain": "\u001B[1m{\u001B[0m\n    \u001B[32m'created_at'\u001B[0m: \u001B[1;35mdatetime.datetime\u001B[0m\u001B[1m(\u001B[0m\u001B[1;36m2020\u001B[0m, \u001B[1;36m2\u001B[0m, \u001B[1;36m1\u001B[0m, \u001B[1;36m0\u001B[0m, \u001B[1;36m0\u001B[0m, \u001B[33mtzinfo\u001B[0m=\u001B[35mdatetime\u001B[0m.timezone.utc\u001B[1m)\u001B[0m,\n    \u001B[32m'creator_id'\u001B[0m: \u001B[32m'user-1'\u001B[0m,\n    \u001B[32m'pk'\u001B[0m: \u001B[32m'user-1-videos'\u001B[0m,\n    \u001B[32m'sk'\u001B[0m: \u001B[32m'1580533200.0'\u001B[0m,\n    \u001B[32m'video_id'\u001B[0m: \u001B[32m'video-1'\u001B[0m,\n    \u001B[32m'video_title'\u001B[0m: \u001B[32m'video1'\u001B[0m\n\u001B[1m}\u001B[0m\n",
      "text/html": "<pre style=\"white-space:pre;overflow-x:auto;line-height:normal;font-family:Menlo,'DejaVu Sans Mono',consolas,'Courier New',monospace\"><span style=\"font-weight: bold\">{</span>\n    <span style=\"color: #008000; text-decoration-color: #008000\">'created_at'</span>: <span style=\"color: #800080; text-decoration-color: #800080; font-weight: bold\">datetime.datetime</span><span style=\"font-weight: bold\">(</span><span style=\"color: #008080; text-decoration-color: #008080; font-weight: bold\">2020</span>, <span style=\"color: #008080; text-decoration-color: #008080; font-weight: bold\">2</span>, <span style=\"color: #008080; text-decoration-color: #008080; font-weight: bold\">1</span>, <span style=\"color: #008080; text-decoration-color: #008080; font-weight: bold\">0</span>, <span style=\"color: #008080; text-decoration-color: #008080; font-weight: bold\">0</span>, <span style=\"color: #808000; text-decoration-color: #808000\">tzinfo</span>=<span style=\"color: #800080; text-decoration-color: #800080\">datetime</span>.timezone.utc<span style=\"font-weight: bold\">)</span>,\n    <span style=\"color: #008000; text-decoration-color: #008000\">'creator_id'</span>: <span style=\"color: #008000; text-decoration-color: #008000\">'user-1'</span>,\n    <span style=\"color: #008000; text-decoration-color: #008000\">'pk'</span>: <span style=\"color: #008000; text-decoration-color: #008000\">'user-1-videos'</span>,\n    <span style=\"color: #008000; text-decoration-color: #008000\">'sk'</span>: <span style=\"color: #008000; text-decoration-color: #008000\">'1580533200.0'</span>,\n    <span style=\"color: #008000; text-decoration-color: #008000\">'video_id'</span>: <span style=\"color: #008000; text-decoration-color: #008000\">'video-1'</span>,\n    <span style=\"color: #008000; text-decoration-color: #008000\">'video_title'</span>: <span style=\"color: #008000; text-decoration-color: #008000\">'video1'</span>\n<span style=\"font-weight: bold\">}</span>\n</pre>\n"
     },
     "metadata": {},
     "output_type": "display_data"
    },
    {
     "data": {
      "text/plain": "\u001B[1m{\u001B[0m\n    \u001B[32m'created_at'\u001B[0m: \u001B[1;35mdatetime.datetime\u001B[0m\u001B[1m(\u001B[0m\u001B[1;36m2020\u001B[0m, \u001B[1;36m2\u001B[0m, \u001B[1;36m2\u001B[0m, \u001B[1;36m0\u001B[0m, \u001B[1;36m0\u001B[0m, \u001B[33mtzinfo\u001B[0m=\u001B[35mdatetime\u001B[0m.timezone.utc\u001B[1m)\u001B[0m,\n    \u001B[32m'creator_id'\u001B[0m: \u001B[32m'user-1'\u001B[0m,\n    \u001B[32m'pk'\u001B[0m: \u001B[32m'user-1-videos'\u001B[0m,\n    \u001B[32m'sk'\u001B[0m: \u001B[32m'1580619600.0'\u001B[0m,\n    \u001B[32m'video_id'\u001B[0m: \u001B[32m'video-2'\u001B[0m,\n    \u001B[32m'video_title'\u001B[0m: \u001B[32m'video2'\u001B[0m\n\u001B[1m}\u001B[0m\n",
      "text/html": "<pre style=\"white-space:pre;overflow-x:auto;line-height:normal;font-family:Menlo,'DejaVu Sans Mono',consolas,'Courier New',monospace\"><span style=\"font-weight: bold\">{</span>\n    <span style=\"color: #008000; text-decoration-color: #008000\">'created_at'</span>: <span style=\"color: #800080; text-decoration-color: #800080; font-weight: bold\">datetime.datetime</span><span style=\"font-weight: bold\">(</span><span style=\"color: #008080; text-decoration-color: #008080; font-weight: bold\">2020</span>, <span style=\"color: #008080; text-decoration-color: #008080; font-weight: bold\">2</span>, <span style=\"color: #008080; text-decoration-color: #008080; font-weight: bold\">2</span>, <span style=\"color: #008080; text-decoration-color: #008080; font-weight: bold\">0</span>, <span style=\"color: #008080; text-decoration-color: #008080; font-weight: bold\">0</span>, <span style=\"color: #808000; text-decoration-color: #808000\">tzinfo</span>=<span style=\"color: #800080; text-decoration-color: #800080\">datetime</span>.timezone.utc<span style=\"font-weight: bold\">)</span>,\n    <span style=\"color: #008000; text-decoration-color: #008000\">'creator_id'</span>: <span style=\"color: #008000; text-decoration-color: #008000\">'user-1'</span>,\n    <span style=\"color: #008000; text-decoration-color: #008000\">'pk'</span>: <span style=\"color: #008000; text-decoration-color: #008000\">'user-1-videos'</span>,\n    <span style=\"color: #008000; text-decoration-color: #008000\">'sk'</span>: <span style=\"color: #008000; text-decoration-color: #008000\">'1580619600.0'</span>,\n    <span style=\"color: #008000; text-decoration-color: #008000\">'video_id'</span>: <span style=\"color: #008000; text-decoration-color: #008000\">'video-2'</span>,\n    <span style=\"color: #008000; text-decoration-color: #008000\">'video_title'</span>: <span style=\"color: #008000; text-decoration-color: #008000\">'video2'</span>\n<span style=\"font-weight: bold\">}</span>\n</pre>\n"
     },
     "metadata": {},
     "output_type": "display_data"
    },
    {
     "data": {
      "text/plain": "\u001B[1m{\u001B[0m\n    \u001B[32m'created_at'\u001B[0m: \u001B[1;35mdatetime.datetime\u001B[0m\u001B[1m(\u001B[0m\u001B[1;36m2020\u001B[0m, \u001B[1;36m2\u001B[0m, \u001B[1;36m3\u001B[0m, \u001B[1;36m0\u001B[0m, \u001B[1;36m0\u001B[0m, \u001B[33mtzinfo\u001B[0m=\u001B[35mdatetime\u001B[0m.timezone.utc\u001B[1m)\u001B[0m,\n    \u001B[32m'creator_id'\u001B[0m: \u001B[32m'user-1'\u001B[0m,\n    \u001B[32m'pk'\u001B[0m: \u001B[32m'user-1-videos'\u001B[0m,\n    \u001B[32m'sk'\u001B[0m: \u001B[32m'1580706000.0'\u001B[0m,\n    \u001B[32m'video_id'\u001B[0m: \u001B[32m'video-3'\u001B[0m,\n    \u001B[32m'video_title'\u001B[0m: \u001B[32m'video3'\u001B[0m\n\u001B[1m}\u001B[0m\n",
      "text/html": "<pre style=\"white-space:pre;overflow-x:auto;line-height:normal;font-family:Menlo,'DejaVu Sans Mono',consolas,'Courier New',monospace\"><span style=\"font-weight: bold\">{</span>\n    <span style=\"color: #008000; text-decoration-color: #008000\">'created_at'</span>: <span style=\"color: #800080; text-decoration-color: #800080; font-weight: bold\">datetime.datetime</span><span style=\"font-weight: bold\">(</span><span style=\"color: #008080; text-decoration-color: #008080; font-weight: bold\">2020</span>, <span style=\"color: #008080; text-decoration-color: #008080; font-weight: bold\">2</span>, <span style=\"color: #008080; text-decoration-color: #008080; font-weight: bold\">3</span>, <span style=\"color: #008080; text-decoration-color: #008080; font-weight: bold\">0</span>, <span style=\"color: #008080; text-decoration-color: #008080; font-weight: bold\">0</span>, <span style=\"color: #808000; text-decoration-color: #808000\">tzinfo</span>=<span style=\"color: #800080; text-decoration-color: #800080\">datetime</span>.timezone.utc<span style=\"font-weight: bold\">)</span>,\n    <span style=\"color: #008000; text-decoration-color: #008000\">'creator_id'</span>: <span style=\"color: #008000; text-decoration-color: #008000\">'user-1'</span>,\n    <span style=\"color: #008000; text-decoration-color: #008000\">'pk'</span>: <span style=\"color: #008000; text-decoration-color: #008000\">'user-1-videos'</span>,\n    <span style=\"color: #008000; text-decoration-color: #008000\">'sk'</span>: <span style=\"color: #008000; text-decoration-color: #008000\">'1580706000.0'</span>,\n    <span style=\"color: #008000; text-decoration-color: #008000\">'video_id'</span>: <span style=\"color: #008000; text-decoration-color: #008000\">'video-3'</span>,\n    <span style=\"color: #008000; text-decoration-color: #008000\">'video_title'</span>: <span style=\"color: #008000; text-decoration-color: #008000\">'video3'</span>\n<span style=\"font-weight: bold\">}</span>\n</pre>\n"
     },
     "metadata": {},
     "output_type": "display_data"
    },
    {
     "data": {
      "text/plain": "\u001B[1m{\u001B[0m\n    \u001B[32m'created_at'\u001B[0m: \u001B[1;35mdatetime.datetime\u001B[0m\u001B[1m(\u001B[0m\u001B[1;36m2020\u001B[0m, \u001B[1;36m2\u001B[0m, \u001B[1;36m2\u001B[0m, \u001B[1;36m0\u001B[0m, \u001B[1;36m0\u001B[0m, \u001B[33mtzinfo\u001B[0m=\u001B[35mdatetime\u001B[0m.timezone.utc\u001B[1m)\u001B[0m,\n    \u001B[32m'creator_id'\u001B[0m: \u001B[32m'user-1'\u001B[0m,\n    \u001B[32m'entity_type'\u001B[0m: \u001B[32m'VIDEO'\u001B[0m,\n    \u001B[32m'pk'\u001B[0m: \u001B[32m'video-2'\u001B[0m,\n    \u001B[32m'sk'\u001B[0m: \u001B[32m'_root'\u001B[0m,\n    \u001B[32m'video_id'\u001B[0m: \u001B[32m'video-2'\u001B[0m,\n    \u001B[32m'video_title'\u001B[0m: \u001B[32m'video2'\u001B[0m\n\u001B[1m}\u001B[0m\n",
      "text/html": "<pre style=\"white-space:pre;overflow-x:auto;line-height:normal;font-family:Menlo,'DejaVu Sans Mono',consolas,'Courier New',monospace\"><span style=\"font-weight: bold\">{</span>\n    <span style=\"color: #008000; text-decoration-color: #008000\">'created_at'</span>: <span style=\"color: #800080; text-decoration-color: #800080; font-weight: bold\">datetime.datetime</span><span style=\"font-weight: bold\">(</span><span style=\"color: #008080; text-decoration-color: #008080; font-weight: bold\">2020</span>, <span style=\"color: #008080; text-decoration-color: #008080; font-weight: bold\">2</span>, <span style=\"color: #008080; text-decoration-color: #008080; font-weight: bold\">2</span>, <span style=\"color: #008080; text-decoration-color: #008080; font-weight: bold\">0</span>, <span style=\"color: #008080; text-decoration-color: #008080; font-weight: bold\">0</span>, <span style=\"color: #808000; text-decoration-color: #808000\">tzinfo</span>=<span style=\"color: #800080; text-decoration-color: #800080\">datetime</span>.timezone.utc<span style=\"font-weight: bold\">)</span>,\n    <span style=\"color: #008000; text-decoration-color: #008000\">'creator_id'</span>: <span style=\"color: #008000; text-decoration-color: #008000\">'user-1'</span>,\n    <span style=\"color: #008000; text-decoration-color: #008000\">'entity_type'</span>: <span style=\"color: #008000; text-decoration-color: #008000\">'VIDEO'</span>,\n    <span style=\"color: #008000; text-decoration-color: #008000\">'pk'</span>: <span style=\"color: #008000; text-decoration-color: #008000\">'video-2'</span>,\n    <span style=\"color: #008000; text-decoration-color: #008000\">'sk'</span>: <span style=\"color: #008000; text-decoration-color: #008000\">'_root'</span>,\n    <span style=\"color: #008000; text-decoration-color: #008000\">'video_id'</span>: <span style=\"color: #008000; text-decoration-color: #008000\">'video-2'</span>,\n    <span style=\"color: #008000; text-decoration-color: #008000\">'video_title'</span>: <span style=\"color: #008000; text-decoration-color: #008000\">'video2'</span>\n<span style=\"font-weight: bold\">}</span>\n</pre>\n"
     },
     "metadata": {},
     "output_type": "display_data"
    },
    {
     "data": {
      "text/plain": "\u001B[1m{\u001B[0m\n    \u001B[32m'created_at'\u001B[0m: \u001B[1;35mdatetime.datetime\u001B[0m\u001B[1m(\u001B[0m\u001B[1;36m2020\u001B[0m, \u001B[1;36m2\u001B[0m, \u001B[1;36m3\u001B[0m, \u001B[1;36m0\u001B[0m, \u001B[1;36m0\u001B[0m, \u001B[33mtzinfo\u001B[0m=\u001B[35mdatetime\u001B[0m.timezone.utc\u001B[1m)\u001B[0m,\n    \u001B[32m'creator_id'\u001B[0m: \u001B[32m'user-1'\u001B[0m,\n    \u001B[32m'entity_type'\u001B[0m: \u001B[32m'VIDEO'\u001B[0m,\n    \u001B[32m'pk'\u001B[0m: \u001B[32m'video-3'\u001B[0m,\n    \u001B[32m'sk'\u001B[0m: \u001B[32m'_root'\u001B[0m,\n    \u001B[32m'video_id'\u001B[0m: \u001B[32m'video-3'\u001B[0m,\n    \u001B[32m'video_title'\u001B[0m: \u001B[32m'video3'\u001B[0m\n\u001B[1m}\u001B[0m\n",
      "text/html": "<pre style=\"white-space:pre;overflow-x:auto;line-height:normal;font-family:Menlo,'DejaVu Sans Mono',consolas,'Courier New',monospace\"><span style=\"font-weight: bold\">{</span>\n    <span style=\"color: #008000; text-decoration-color: #008000\">'created_at'</span>: <span style=\"color: #800080; text-decoration-color: #800080; font-weight: bold\">datetime.datetime</span><span style=\"font-weight: bold\">(</span><span style=\"color: #008080; text-decoration-color: #008080; font-weight: bold\">2020</span>, <span style=\"color: #008080; text-decoration-color: #008080; font-weight: bold\">2</span>, <span style=\"color: #008080; text-decoration-color: #008080; font-weight: bold\">3</span>, <span style=\"color: #008080; text-decoration-color: #008080; font-weight: bold\">0</span>, <span style=\"color: #008080; text-decoration-color: #008080; font-weight: bold\">0</span>, <span style=\"color: #808000; text-decoration-color: #808000\">tzinfo</span>=<span style=\"color: #800080; text-decoration-color: #800080\">datetime</span>.timezone.utc<span style=\"font-weight: bold\">)</span>,\n    <span style=\"color: #008000; text-decoration-color: #008000\">'creator_id'</span>: <span style=\"color: #008000; text-decoration-color: #008000\">'user-1'</span>,\n    <span style=\"color: #008000; text-decoration-color: #008000\">'entity_type'</span>: <span style=\"color: #008000; text-decoration-color: #008000\">'VIDEO'</span>,\n    <span style=\"color: #008000; text-decoration-color: #008000\">'pk'</span>: <span style=\"color: #008000; text-decoration-color: #008000\">'video-3'</span>,\n    <span style=\"color: #008000; text-decoration-color: #008000\">'sk'</span>: <span style=\"color: #008000; text-decoration-color: #008000\">'_root'</span>,\n    <span style=\"color: #008000; text-decoration-color: #008000\">'video_id'</span>: <span style=\"color: #008000; text-decoration-color: #008000\">'video-3'</span>,\n    <span style=\"color: #008000; text-decoration-color: #008000\">'video_title'</span>: <span style=\"color: #008000; text-decoration-color: #008000\">'video3'</span>\n<span style=\"font-weight: bold\">}</span>\n</pre>\n"
     },
     "metadata": {},
     "output_type": "display_data"
    },
    {
     "data": {
      "text/plain": "\u001B[1m{\u001B[0m\n    \u001B[32m'created_at'\u001B[0m: \u001B[1;35mdatetime.datetime\u001B[0m\u001B[1m(\u001B[0m\u001B[1;36m2020\u001B[0m, \u001B[1;36m2\u001B[0m, \u001B[1;36m4\u001B[0m, \u001B[1;36m0\u001B[0m, \u001B[1;36m0\u001B[0m, \u001B[33mtzinfo\u001B[0m=\u001B[35mdatetime\u001B[0m.timezone.utc\u001B[1m)\u001B[0m,\n    \u001B[32m'creator_id'\u001B[0m: \u001B[32m'user-2'\u001B[0m,\n    \u001B[32m'entity_type'\u001B[0m: \u001B[32m'VIDEO'\u001B[0m,\n    \u001B[32m'pk'\u001B[0m: \u001B[32m'video-4'\u001B[0m,\n    \u001B[32m'sk'\u001B[0m: \u001B[32m'_root'\u001B[0m,\n    \u001B[32m'video_id'\u001B[0m: \u001B[32m'video-4'\u001B[0m,\n    \u001B[32m'video_title'\u001B[0m: \u001B[32m'video4'\u001B[0m\n\u001B[1m}\u001B[0m\n",
      "text/html": "<pre style=\"white-space:pre;overflow-x:auto;line-height:normal;font-family:Menlo,'DejaVu Sans Mono',consolas,'Courier New',monospace\"><span style=\"font-weight: bold\">{</span>\n    <span style=\"color: #008000; text-decoration-color: #008000\">'created_at'</span>: <span style=\"color: #800080; text-decoration-color: #800080; font-weight: bold\">datetime.datetime</span><span style=\"font-weight: bold\">(</span><span style=\"color: #008080; text-decoration-color: #008080; font-weight: bold\">2020</span>, <span style=\"color: #008080; text-decoration-color: #008080; font-weight: bold\">2</span>, <span style=\"color: #008080; text-decoration-color: #008080; font-weight: bold\">4</span>, <span style=\"color: #008080; text-decoration-color: #008080; font-weight: bold\">0</span>, <span style=\"color: #008080; text-decoration-color: #008080; font-weight: bold\">0</span>, <span style=\"color: #808000; text-decoration-color: #808000\">tzinfo</span>=<span style=\"color: #800080; text-decoration-color: #800080\">datetime</span>.timezone.utc<span style=\"font-weight: bold\">)</span>,\n    <span style=\"color: #008000; text-decoration-color: #008000\">'creator_id'</span>: <span style=\"color: #008000; text-decoration-color: #008000\">'user-2'</span>,\n    <span style=\"color: #008000; text-decoration-color: #008000\">'entity_type'</span>: <span style=\"color: #008000; text-decoration-color: #008000\">'VIDEO'</span>,\n    <span style=\"color: #008000; text-decoration-color: #008000\">'pk'</span>: <span style=\"color: #008000; text-decoration-color: #008000\">'video-4'</span>,\n    <span style=\"color: #008000; text-decoration-color: #008000\">'sk'</span>: <span style=\"color: #008000; text-decoration-color: #008000\">'_root'</span>,\n    <span style=\"color: #008000; text-decoration-color: #008000\">'video_id'</span>: <span style=\"color: #008000; text-decoration-color: #008000\">'video-4'</span>,\n    <span style=\"color: #008000; text-decoration-color: #008000\">'video_title'</span>: <span style=\"color: #008000; text-decoration-color: #008000\">'video4'</span>\n<span style=\"font-weight: bold\">}</span>\n</pre>\n"
     },
     "metadata": {},
     "output_type": "display_data"
    },
    {
     "data": {
      "text/plain": "\u001B[1m{\u001B[0m\n    \u001B[32m'created_at'\u001B[0m: \u001B[1;35mdatetime.datetime\u001B[0m\u001B[1m(\u001B[0m\u001B[1;36m2020\u001B[0m, \u001B[1;36m2\u001B[0m, \u001B[1;36m4\u001B[0m, \u001B[1;36m0\u001B[0m, \u001B[1;36m0\u001B[0m, \u001B[33mtzinfo\u001B[0m=\u001B[35mdatetime\u001B[0m.timezone.utc\u001B[1m)\u001B[0m,\n    \u001B[32m'creator_id'\u001B[0m: \u001B[32m'user-2'\u001B[0m,\n    \u001B[32m'pk'\u001B[0m: \u001B[32m'user-2-videos'\u001B[0m,\n    \u001B[32m'sk'\u001B[0m: \u001B[32m'1580792400.0'\u001B[0m,\n    \u001B[32m'video_id'\u001B[0m: \u001B[32m'video-4'\u001B[0m,\n    \u001B[32m'video_title'\u001B[0m: \u001B[32m'video4'\u001B[0m\n\u001B[1m}\u001B[0m\n",
      "text/html": "<pre style=\"white-space:pre;overflow-x:auto;line-height:normal;font-family:Menlo,'DejaVu Sans Mono',consolas,'Courier New',monospace\"><span style=\"font-weight: bold\">{</span>\n    <span style=\"color: #008000; text-decoration-color: #008000\">'created_at'</span>: <span style=\"color: #800080; text-decoration-color: #800080; font-weight: bold\">datetime.datetime</span><span style=\"font-weight: bold\">(</span><span style=\"color: #008080; text-decoration-color: #008080; font-weight: bold\">2020</span>, <span style=\"color: #008080; text-decoration-color: #008080; font-weight: bold\">2</span>, <span style=\"color: #008080; text-decoration-color: #008080; font-weight: bold\">4</span>, <span style=\"color: #008080; text-decoration-color: #008080; font-weight: bold\">0</span>, <span style=\"color: #008080; text-decoration-color: #008080; font-weight: bold\">0</span>, <span style=\"color: #808000; text-decoration-color: #808000\">tzinfo</span>=<span style=\"color: #800080; text-decoration-color: #800080\">datetime</span>.timezone.utc<span style=\"font-weight: bold\">)</span>,\n    <span style=\"color: #008000; text-decoration-color: #008000\">'creator_id'</span>: <span style=\"color: #008000; text-decoration-color: #008000\">'user-2'</span>,\n    <span style=\"color: #008000; text-decoration-color: #008000\">'pk'</span>: <span style=\"color: #008000; text-decoration-color: #008000\">'user-2-videos'</span>,\n    <span style=\"color: #008000; text-decoration-color: #008000\">'sk'</span>: <span style=\"color: #008000; text-decoration-color: #008000\">'1580792400.0'</span>,\n    <span style=\"color: #008000; text-decoration-color: #008000\">'video_id'</span>: <span style=\"color: #008000; text-decoration-color: #008000\">'video-4'</span>,\n    <span style=\"color: #008000; text-decoration-color: #008000\">'video_title'</span>: <span style=\"color: #008000; text-decoration-color: #008000\">'video4'</span>\n<span style=\"font-weight: bold\">}</span>\n</pre>\n"
     },
     "metadata": {},
     "output_type": "display_data"
    },
    {
     "data": {
      "text/plain": "\u001B[1m{\u001B[0m\n    \u001B[32m'created_at'\u001B[0m: \u001B[1;35mdatetime.datetime\u001B[0m\u001B[1m(\u001B[0m\u001B[1;36m2020\u001B[0m, \u001B[1;36m2\u001B[0m, \u001B[1;36m5\u001B[0m, \u001B[1;36m0\u001B[0m, \u001B[1;36m0\u001B[0m, \u001B[33mtzinfo\u001B[0m=\u001B[35mdatetime\u001B[0m.timezone.utc\u001B[1m)\u001B[0m,\n    \u001B[32m'creator_id'\u001B[0m: \u001B[32m'user-3'\u001B[0m,\n    \u001B[32m'entity_type'\u001B[0m: \u001B[32m'VIDEO'\u001B[0m,\n    \u001B[32m'pk'\u001B[0m: \u001B[32m'video-5'\u001B[0m,\n    \u001B[32m'sk'\u001B[0m: \u001B[32m'_root'\u001B[0m,\n    \u001B[32m'video_id'\u001B[0m: \u001B[32m'video-5'\u001B[0m,\n    \u001B[32m'video_title'\u001B[0m: \u001B[32m'video5'\u001B[0m\n\u001B[1m}\u001B[0m\n",
      "text/html": "<pre style=\"white-space:pre;overflow-x:auto;line-height:normal;font-family:Menlo,'DejaVu Sans Mono',consolas,'Courier New',monospace\"><span style=\"font-weight: bold\">{</span>\n    <span style=\"color: #008000; text-decoration-color: #008000\">'created_at'</span>: <span style=\"color: #800080; text-decoration-color: #800080; font-weight: bold\">datetime.datetime</span><span style=\"font-weight: bold\">(</span><span style=\"color: #008080; text-decoration-color: #008080; font-weight: bold\">2020</span>, <span style=\"color: #008080; text-decoration-color: #008080; font-weight: bold\">2</span>, <span style=\"color: #008080; text-decoration-color: #008080; font-weight: bold\">5</span>, <span style=\"color: #008080; text-decoration-color: #008080; font-weight: bold\">0</span>, <span style=\"color: #008080; text-decoration-color: #008080; font-weight: bold\">0</span>, <span style=\"color: #808000; text-decoration-color: #808000\">tzinfo</span>=<span style=\"color: #800080; text-decoration-color: #800080\">datetime</span>.timezone.utc<span style=\"font-weight: bold\">)</span>,\n    <span style=\"color: #008000; text-decoration-color: #008000\">'creator_id'</span>: <span style=\"color: #008000; text-decoration-color: #008000\">'user-3'</span>,\n    <span style=\"color: #008000; text-decoration-color: #008000\">'entity_type'</span>: <span style=\"color: #008000; text-decoration-color: #008000\">'VIDEO'</span>,\n    <span style=\"color: #008000; text-decoration-color: #008000\">'pk'</span>: <span style=\"color: #008000; text-decoration-color: #008000\">'video-5'</span>,\n    <span style=\"color: #008000; text-decoration-color: #008000\">'sk'</span>: <span style=\"color: #008000; text-decoration-color: #008000\">'_root'</span>,\n    <span style=\"color: #008000; text-decoration-color: #008000\">'video_id'</span>: <span style=\"color: #008000; text-decoration-color: #008000\">'video-5'</span>,\n    <span style=\"color: #008000; text-decoration-color: #008000\">'video_title'</span>: <span style=\"color: #008000; text-decoration-color: #008000\">'video5'</span>\n<span style=\"font-weight: bold\">}</span>\n</pre>\n"
     },
     "metadata": {},
     "output_type": "display_data"
    },
    {
     "data": {
      "text/plain": "\u001B[1m{\u001B[0m\n    \u001B[32m'created_at'\u001B[0m: \u001B[1;35mdatetime.datetime\u001B[0m\u001B[1m(\u001B[0m\u001B[1;36m2020\u001B[0m, \u001B[1;36m2\u001B[0m, \u001B[1;36m5\u001B[0m, \u001B[1;36m0\u001B[0m, \u001B[1;36m0\u001B[0m, \u001B[33mtzinfo\u001B[0m=\u001B[35mdatetime\u001B[0m.timezone.utc\u001B[1m)\u001B[0m,\n    \u001B[32m'creator_id'\u001B[0m: \u001B[32m'user-3'\u001B[0m,\n    \u001B[32m'pk'\u001B[0m: \u001B[32m'user-3-videos'\u001B[0m,\n    \u001B[32m'sk'\u001B[0m: \u001B[32m'1580878800.0'\u001B[0m,\n    \u001B[32m'video_id'\u001B[0m: \u001B[32m'video-5'\u001B[0m,\n    \u001B[32m'video_title'\u001B[0m: \u001B[32m'video5'\u001B[0m\n\u001B[1m}\u001B[0m\n",
      "text/html": "<pre style=\"white-space:pre;overflow-x:auto;line-height:normal;font-family:Menlo,'DejaVu Sans Mono',consolas,'Courier New',monospace\"><span style=\"font-weight: bold\">{</span>\n    <span style=\"color: #008000; text-decoration-color: #008000\">'created_at'</span>: <span style=\"color: #800080; text-decoration-color: #800080; font-weight: bold\">datetime.datetime</span><span style=\"font-weight: bold\">(</span><span style=\"color: #008080; text-decoration-color: #008080; font-weight: bold\">2020</span>, <span style=\"color: #008080; text-decoration-color: #008080; font-weight: bold\">2</span>, <span style=\"color: #008080; text-decoration-color: #008080; font-weight: bold\">5</span>, <span style=\"color: #008080; text-decoration-color: #008080; font-weight: bold\">0</span>, <span style=\"color: #008080; text-decoration-color: #008080; font-weight: bold\">0</span>, <span style=\"color: #808000; text-decoration-color: #808000\">tzinfo</span>=<span style=\"color: #800080; text-decoration-color: #800080\">datetime</span>.timezone.utc<span style=\"font-weight: bold\">)</span>,\n    <span style=\"color: #008000; text-decoration-color: #008000\">'creator_id'</span>: <span style=\"color: #008000; text-decoration-color: #008000\">'user-3'</span>,\n    <span style=\"color: #008000; text-decoration-color: #008000\">'pk'</span>: <span style=\"color: #008000; text-decoration-color: #008000\">'user-3-videos'</span>,\n    <span style=\"color: #008000; text-decoration-color: #008000\">'sk'</span>: <span style=\"color: #008000; text-decoration-color: #008000\">'1580878800.0'</span>,\n    <span style=\"color: #008000; text-decoration-color: #008000\">'video_id'</span>: <span style=\"color: #008000; text-decoration-color: #008000\">'video-5'</span>,\n    <span style=\"color: #008000; text-decoration-color: #008000\">'video_title'</span>: <span style=\"color: #008000; text-decoration-color: #008000\">'video5'</span>\n<span style=\"font-weight: bold\">}</span>\n</pre>\n"
     },
     "metadata": {},
     "output_type": "display_data"
    },
    {
     "data": {
      "text/plain": "\u001B[1m{\u001B[0m\n    \u001B[32m'created_at'\u001B[0m: \u001B[1;35mdatetime.datetime\u001B[0m\u001B[1m(\u001B[0m\u001B[1;36m2020\u001B[0m, \u001B[1;36m2\u001B[0m, \u001B[1;36m6\u001B[0m, \u001B[1;36m0\u001B[0m, \u001B[1;36m0\u001B[0m, \u001B[33mtzinfo\u001B[0m=\u001B[35mdatetime\u001B[0m.timezone.utc\u001B[1m)\u001B[0m,\n    \u001B[32m'creator_id'\u001B[0m: \u001B[32m'user-3'\u001B[0m,\n    \u001B[32m'pk'\u001B[0m: \u001B[32m'user-3-videos'\u001B[0m,\n    \u001B[32m'sk'\u001B[0m: \u001B[32m'1580965200.0'\u001B[0m,\n    \u001B[32m'video_id'\u001B[0m: \u001B[32m'video-6'\u001B[0m,\n    \u001B[32m'video_title'\u001B[0m: \u001B[32m'video6'\u001B[0m\n\u001B[1m}\u001B[0m\n",
      "text/html": "<pre style=\"white-space:pre;overflow-x:auto;line-height:normal;font-family:Menlo,'DejaVu Sans Mono',consolas,'Courier New',monospace\"><span style=\"font-weight: bold\">{</span>\n    <span style=\"color: #008000; text-decoration-color: #008000\">'created_at'</span>: <span style=\"color: #800080; text-decoration-color: #800080; font-weight: bold\">datetime.datetime</span><span style=\"font-weight: bold\">(</span><span style=\"color: #008080; text-decoration-color: #008080; font-weight: bold\">2020</span>, <span style=\"color: #008080; text-decoration-color: #008080; font-weight: bold\">2</span>, <span style=\"color: #008080; text-decoration-color: #008080; font-weight: bold\">6</span>, <span style=\"color: #008080; text-decoration-color: #008080; font-weight: bold\">0</span>, <span style=\"color: #008080; text-decoration-color: #008080; font-weight: bold\">0</span>, <span style=\"color: #808000; text-decoration-color: #808000\">tzinfo</span>=<span style=\"color: #800080; text-decoration-color: #800080\">datetime</span>.timezone.utc<span style=\"font-weight: bold\">)</span>,\n    <span style=\"color: #008000; text-decoration-color: #008000\">'creator_id'</span>: <span style=\"color: #008000; text-decoration-color: #008000\">'user-3'</span>,\n    <span style=\"color: #008000; text-decoration-color: #008000\">'pk'</span>: <span style=\"color: #008000; text-decoration-color: #008000\">'user-3-videos'</span>,\n    <span style=\"color: #008000; text-decoration-color: #008000\">'sk'</span>: <span style=\"color: #008000; text-decoration-color: #008000\">'1580965200.0'</span>,\n    <span style=\"color: #008000; text-decoration-color: #008000\">'video_id'</span>: <span style=\"color: #008000; text-decoration-color: #008000\">'video-6'</span>,\n    <span style=\"color: #008000; text-decoration-color: #008000\">'video_title'</span>: <span style=\"color: #008000; text-decoration-color: #008000\">'video6'</span>\n<span style=\"font-weight: bold\">}</span>\n</pre>\n"
     },
     "metadata": {},
     "output_type": "display_data"
    },
    {
     "data": {
      "text/plain": "\u001B[1m{\u001B[0m\n    \u001B[32m'created_at'\u001B[0m: \u001B[1;35mdatetime.datetime\u001B[0m\u001B[1m(\u001B[0m\u001B[1;36m2020\u001B[0m, \u001B[1;36m2\u001B[0m, \u001B[1;36m7\u001B[0m, \u001B[1;36m0\u001B[0m, \u001B[1;36m0\u001B[0m, \u001B[33mtzinfo\u001B[0m=\u001B[35mdatetime\u001B[0m.timezone.utc\u001B[1m)\u001B[0m,\n    \u001B[32m'creator_id'\u001B[0m: \u001B[32m'user-3'\u001B[0m,\n    \u001B[32m'pk'\u001B[0m: \u001B[32m'user-3-videos'\u001B[0m,\n    \u001B[32m'sk'\u001B[0m: \u001B[32m'1581051600.0'\u001B[0m,\n    \u001B[32m'video_id'\u001B[0m: \u001B[32m'video-7'\u001B[0m,\n    \u001B[32m'video_title'\u001B[0m: \u001B[32m'video7'\u001B[0m\n\u001B[1m}\u001B[0m\n",
      "text/html": "<pre style=\"white-space:pre;overflow-x:auto;line-height:normal;font-family:Menlo,'DejaVu Sans Mono',consolas,'Courier New',monospace\"><span style=\"font-weight: bold\">{</span>\n    <span style=\"color: #008000; text-decoration-color: #008000\">'created_at'</span>: <span style=\"color: #800080; text-decoration-color: #800080; font-weight: bold\">datetime.datetime</span><span style=\"font-weight: bold\">(</span><span style=\"color: #008080; text-decoration-color: #008080; font-weight: bold\">2020</span>, <span style=\"color: #008080; text-decoration-color: #008080; font-weight: bold\">2</span>, <span style=\"color: #008080; text-decoration-color: #008080; font-weight: bold\">7</span>, <span style=\"color: #008080; text-decoration-color: #008080; font-weight: bold\">0</span>, <span style=\"color: #008080; text-decoration-color: #008080; font-weight: bold\">0</span>, <span style=\"color: #808000; text-decoration-color: #808000\">tzinfo</span>=<span style=\"color: #800080; text-decoration-color: #800080\">datetime</span>.timezone.utc<span style=\"font-weight: bold\">)</span>,\n    <span style=\"color: #008000; text-decoration-color: #008000\">'creator_id'</span>: <span style=\"color: #008000; text-decoration-color: #008000\">'user-3'</span>,\n    <span style=\"color: #008000; text-decoration-color: #008000\">'pk'</span>: <span style=\"color: #008000; text-decoration-color: #008000\">'user-3-videos'</span>,\n    <span style=\"color: #008000; text-decoration-color: #008000\">'sk'</span>: <span style=\"color: #008000; text-decoration-color: #008000\">'1581051600.0'</span>,\n    <span style=\"color: #008000; text-decoration-color: #008000\">'video_id'</span>: <span style=\"color: #008000; text-decoration-color: #008000\">'video-7'</span>,\n    <span style=\"color: #008000; text-decoration-color: #008000\">'video_title'</span>: <span style=\"color: #008000; text-decoration-color: #008000\">'video7'</span>\n<span style=\"font-weight: bold\">}</span>\n</pre>\n"
     },
     "metadata": {},
     "output_type": "display_data"
    },
    {
     "data": {
      "text/plain": "\u001B[1m{\u001B[0m\n    \u001B[32m'created_at'\u001B[0m: \u001B[1;35mdatetime.datetime\u001B[0m\u001B[1m(\u001B[0m\u001B[1;36m2020\u001B[0m, \u001B[1;36m2\u001B[0m, \u001B[1;36m8\u001B[0m, \u001B[1;36m0\u001B[0m, \u001B[1;36m0\u001B[0m, \u001B[33mtzinfo\u001B[0m=\u001B[35mdatetime\u001B[0m.timezone.utc\u001B[1m)\u001B[0m,\n    \u001B[32m'creator_id'\u001B[0m: \u001B[32m'user-3'\u001B[0m,\n    \u001B[32m'pk'\u001B[0m: \u001B[32m'user-3-videos'\u001B[0m,\n    \u001B[32m'sk'\u001B[0m: \u001B[32m'1581138000.0'\u001B[0m,\n    \u001B[32m'video_id'\u001B[0m: \u001B[32m'video-8'\u001B[0m,\n    \u001B[32m'video_title'\u001B[0m: \u001B[32m'video8'\u001B[0m\n\u001B[1m}\u001B[0m\n",
      "text/html": "<pre style=\"white-space:pre;overflow-x:auto;line-height:normal;font-family:Menlo,'DejaVu Sans Mono',consolas,'Courier New',monospace\"><span style=\"font-weight: bold\">{</span>\n    <span style=\"color: #008000; text-decoration-color: #008000\">'created_at'</span>: <span style=\"color: #800080; text-decoration-color: #800080; font-weight: bold\">datetime.datetime</span><span style=\"font-weight: bold\">(</span><span style=\"color: #008080; text-decoration-color: #008080; font-weight: bold\">2020</span>, <span style=\"color: #008080; text-decoration-color: #008080; font-weight: bold\">2</span>, <span style=\"color: #008080; text-decoration-color: #008080; font-weight: bold\">8</span>, <span style=\"color: #008080; text-decoration-color: #008080; font-weight: bold\">0</span>, <span style=\"color: #008080; text-decoration-color: #008080; font-weight: bold\">0</span>, <span style=\"color: #808000; text-decoration-color: #808000\">tzinfo</span>=<span style=\"color: #800080; text-decoration-color: #800080\">datetime</span>.timezone.utc<span style=\"font-weight: bold\">)</span>,\n    <span style=\"color: #008000; text-decoration-color: #008000\">'creator_id'</span>: <span style=\"color: #008000; text-decoration-color: #008000\">'user-3'</span>,\n    <span style=\"color: #008000; text-decoration-color: #008000\">'pk'</span>: <span style=\"color: #008000; text-decoration-color: #008000\">'user-3-videos'</span>,\n    <span style=\"color: #008000; text-decoration-color: #008000\">'sk'</span>: <span style=\"color: #008000; text-decoration-color: #008000\">'1581138000.0'</span>,\n    <span style=\"color: #008000; text-decoration-color: #008000\">'video_id'</span>: <span style=\"color: #008000; text-decoration-color: #008000\">'video-8'</span>,\n    <span style=\"color: #008000; text-decoration-color: #008000\">'video_title'</span>: <span style=\"color: #008000; text-decoration-color: #008000\">'video8'</span>\n<span style=\"font-weight: bold\">}</span>\n</pre>\n"
     },
     "metadata": {},
     "output_type": "display_data"
    },
    {
     "data": {
      "text/plain": "\u001B[1m{\u001B[0m\n    \u001B[32m'created_at'\u001B[0m: \u001B[1;35mdatetime.datetime\u001B[0m\u001B[1m(\u001B[0m\u001B[1;36m2020\u001B[0m, \u001B[1;36m2\u001B[0m, \u001B[1;36m9\u001B[0m, \u001B[1;36m0\u001B[0m, \u001B[1;36m0\u001B[0m, \u001B[33mtzinfo\u001B[0m=\u001B[35mdatetime\u001B[0m.timezone.utc\u001B[1m)\u001B[0m,\n    \u001B[32m'creator_id'\u001B[0m: \u001B[32m'user-3'\u001B[0m,\n    \u001B[32m'pk'\u001B[0m: \u001B[32m'user-3-videos'\u001B[0m,\n    \u001B[32m'sk'\u001B[0m: \u001B[32m'1581224400.0'\u001B[0m,\n    \u001B[32m'video_id'\u001B[0m: \u001B[32m'video-9'\u001B[0m,\n    \u001B[32m'video_title'\u001B[0m: \u001B[32m'video9'\u001B[0m\n\u001B[1m}\u001B[0m\n",
      "text/html": "<pre style=\"white-space:pre;overflow-x:auto;line-height:normal;font-family:Menlo,'DejaVu Sans Mono',consolas,'Courier New',monospace\"><span style=\"font-weight: bold\">{</span>\n    <span style=\"color: #008000; text-decoration-color: #008000\">'created_at'</span>: <span style=\"color: #800080; text-decoration-color: #800080; font-weight: bold\">datetime.datetime</span><span style=\"font-weight: bold\">(</span><span style=\"color: #008080; text-decoration-color: #008080; font-weight: bold\">2020</span>, <span style=\"color: #008080; text-decoration-color: #008080; font-weight: bold\">2</span>, <span style=\"color: #008080; text-decoration-color: #008080; font-weight: bold\">9</span>, <span style=\"color: #008080; text-decoration-color: #008080; font-weight: bold\">0</span>, <span style=\"color: #008080; text-decoration-color: #008080; font-weight: bold\">0</span>, <span style=\"color: #808000; text-decoration-color: #808000\">tzinfo</span>=<span style=\"color: #800080; text-decoration-color: #800080\">datetime</span>.timezone.utc<span style=\"font-weight: bold\">)</span>,\n    <span style=\"color: #008000; text-decoration-color: #008000\">'creator_id'</span>: <span style=\"color: #008000; text-decoration-color: #008000\">'user-3'</span>,\n    <span style=\"color: #008000; text-decoration-color: #008000\">'pk'</span>: <span style=\"color: #008000; text-decoration-color: #008000\">'user-3-videos'</span>,\n    <span style=\"color: #008000; text-decoration-color: #008000\">'sk'</span>: <span style=\"color: #008000; text-decoration-color: #008000\">'1581224400.0'</span>,\n    <span style=\"color: #008000; text-decoration-color: #008000\">'video_id'</span>: <span style=\"color: #008000; text-decoration-color: #008000\">'video-9'</span>,\n    <span style=\"color: #008000; text-decoration-color: #008000\">'video_title'</span>: <span style=\"color: #008000; text-decoration-color: #008000\">'video9'</span>\n<span style=\"font-weight: bold\">}</span>\n</pre>\n"
     },
     "metadata": {},
     "output_type": "display_data"
    },
    {
     "data": {
      "text/plain": "\u001B[1m{\u001B[0m\n    \u001B[32m'created_at'\u001B[0m: \u001B[1;35mdatetime.datetime\u001B[0m\u001B[1m(\u001B[0m\u001B[1;36m2020\u001B[0m, \u001B[1;36m2\u001B[0m, \u001B[1;36m6\u001B[0m, \u001B[1;36m0\u001B[0m, \u001B[1;36m0\u001B[0m, \u001B[33mtzinfo\u001B[0m=\u001B[35mdatetime\u001B[0m.timezone.utc\u001B[1m)\u001B[0m,\n    \u001B[32m'creator_id'\u001B[0m: \u001B[32m'user-3'\u001B[0m,\n    \u001B[32m'entity_type'\u001B[0m: \u001B[32m'VIDEO'\u001B[0m,\n    \u001B[32m'pk'\u001B[0m: \u001B[32m'video-6'\u001B[0m,\n    \u001B[32m'sk'\u001B[0m: \u001B[32m'_root'\u001B[0m,\n    \u001B[32m'video_id'\u001B[0m: \u001B[32m'video-6'\u001B[0m,\n    \u001B[32m'video_title'\u001B[0m: \u001B[32m'video6'\u001B[0m\n\u001B[1m}\u001B[0m\n",
      "text/html": "<pre style=\"white-space:pre;overflow-x:auto;line-height:normal;font-family:Menlo,'DejaVu Sans Mono',consolas,'Courier New',monospace\"><span style=\"font-weight: bold\">{</span>\n    <span style=\"color: #008000; text-decoration-color: #008000\">'created_at'</span>: <span style=\"color: #800080; text-decoration-color: #800080; font-weight: bold\">datetime.datetime</span><span style=\"font-weight: bold\">(</span><span style=\"color: #008080; text-decoration-color: #008080; font-weight: bold\">2020</span>, <span style=\"color: #008080; text-decoration-color: #008080; font-weight: bold\">2</span>, <span style=\"color: #008080; text-decoration-color: #008080; font-weight: bold\">6</span>, <span style=\"color: #008080; text-decoration-color: #008080; font-weight: bold\">0</span>, <span style=\"color: #008080; text-decoration-color: #008080; font-weight: bold\">0</span>, <span style=\"color: #808000; text-decoration-color: #808000\">tzinfo</span>=<span style=\"color: #800080; text-decoration-color: #800080\">datetime</span>.timezone.utc<span style=\"font-weight: bold\">)</span>,\n    <span style=\"color: #008000; text-decoration-color: #008000\">'creator_id'</span>: <span style=\"color: #008000; text-decoration-color: #008000\">'user-3'</span>,\n    <span style=\"color: #008000; text-decoration-color: #008000\">'entity_type'</span>: <span style=\"color: #008000; text-decoration-color: #008000\">'VIDEO'</span>,\n    <span style=\"color: #008000; text-decoration-color: #008000\">'pk'</span>: <span style=\"color: #008000; text-decoration-color: #008000\">'video-6'</span>,\n    <span style=\"color: #008000; text-decoration-color: #008000\">'sk'</span>: <span style=\"color: #008000; text-decoration-color: #008000\">'_root'</span>,\n    <span style=\"color: #008000; text-decoration-color: #008000\">'video_id'</span>: <span style=\"color: #008000; text-decoration-color: #008000\">'video-6'</span>,\n    <span style=\"color: #008000; text-decoration-color: #008000\">'video_title'</span>: <span style=\"color: #008000; text-decoration-color: #008000\">'video6'</span>\n<span style=\"font-weight: bold\">}</span>\n</pre>\n"
     },
     "metadata": {},
     "output_type": "display_data"
    },
    {
     "data": {
      "text/plain": "\u001B[1m{\u001B[0m\n    \u001B[32m'created_at'\u001B[0m: \u001B[1;35mdatetime.datetime\u001B[0m\u001B[1m(\u001B[0m\u001B[1;36m2020\u001B[0m, \u001B[1;36m2\u001B[0m, \u001B[1;36m7\u001B[0m, \u001B[1;36m0\u001B[0m, \u001B[1;36m0\u001B[0m, \u001B[33mtzinfo\u001B[0m=\u001B[35mdatetime\u001B[0m.timezone.utc\u001B[1m)\u001B[0m,\n    \u001B[32m'creator_id'\u001B[0m: \u001B[32m'user-3'\u001B[0m,\n    \u001B[32m'entity_type'\u001B[0m: \u001B[32m'VIDEO'\u001B[0m,\n    \u001B[32m'pk'\u001B[0m: \u001B[32m'video-7'\u001B[0m,\n    \u001B[32m'sk'\u001B[0m: \u001B[32m'_root'\u001B[0m,\n    \u001B[32m'video_id'\u001B[0m: \u001B[32m'video-7'\u001B[0m,\n    \u001B[32m'video_title'\u001B[0m: \u001B[32m'video7'\u001B[0m\n\u001B[1m}\u001B[0m\n",
      "text/html": "<pre style=\"white-space:pre;overflow-x:auto;line-height:normal;font-family:Menlo,'DejaVu Sans Mono',consolas,'Courier New',monospace\"><span style=\"font-weight: bold\">{</span>\n    <span style=\"color: #008000; text-decoration-color: #008000\">'created_at'</span>: <span style=\"color: #800080; text-decoration-color: #800080; font-weight: bold\">datetime.datetime</span><span style=\"font-weight: bold\">(</span><span style=\"color: #008080; text-decoration-color: #008080; font-weight: bold\">2020</span>, <span style=\"color: #008080; text-decoration-color: #008080; font-weight: bold\">2</span>, <span style=\"color: #008080; text-decoration-color: #008080; font-weight: bold\">7</span>, <span style=\"color: #008080; text-decoration-color: #008080; font-weight: bold\">0</span>, <span style=\"color: #008080; text-decoration-color: #008080; font-weight: bold\">0</span>, <span style=\"color: #808000; text-decoration-color: #808000\">tzinfo</span>=<span style=\"color: #800080; text-decoration-color: #800080\">datetime</span>.timezone.utc<span style=\"font-weight: bold\">)</span>,\n    <span style=\"color: #008000; text-decoration-color: #008000\">'creator_id'</span>: <span style=\"color: #008000; text-decoration-color: #008000\">'user-3'</span>,\n    <span style=\"color: #008000; text-decoration-color: #008000\">'entity_type'</span>: <span style=\"color: #008000; text-decoration-color: #008000\">'VIDEO'</span>,\n    <span style=\"color: #008000; text-decoration-color: #008000\">'pk'</span>: <span style=\"color: #008000; text-decoration-color: #008000\">'video-7'</span>,\n    <span style=\"color: #008000; text-decoration-color: #008000\">'sk'</span>: <span style=\"color: #008000; text-decoration-color: #008000\">'_root'</span>,\n    <span style=\"color: #008000; text-decoration-color: #008000\">'video_id'</span>: <span style=\"color: #008000; text-decoration-color: #008000\">'video-7'</span>,\n    <span style=\"color: #008000; text-decoration-color: #008000\">'video_title'</span>: <span style=\"color: #008000; text-decoration-color: #008000\">'video7'</span>\n<span style=\"font-weight: bold\">}</span>\n</pre>\n"
     },
     "metadata": {},
     "output_type": "display_data"
    },
    {
     "data": {
      "text/plain": "\u001B[1m{\u001B[0m\n    \u001B[32m'created_at'\u001B[0m: \u001B[1;35mdatetime.datetime\u001B[0m\u001B[1m(\u001B[0m\u001B[1;36m2020\u001B[0m, \u001B[1;36m2\u001B[0m, \u001B[1;36m8\u001B[0m, \u001B[1;36m0\u001B[0m, \u001B[1;36m0\u001B[0m, \u001B[33mtzinfo\u001B[0m=\u001B[35mdatetime\u001B[0m.timezone.utc\u001B[1m)\u001B[0m,\n    \u001B[32m'creator_id'\u001B[0m: \u001B[32m'user-3'\u001B[0m,\n    \u001B[32m'entity_type'\u001B[0m: \u001B[32m'VIDEO'\u001B[0m,\n    \u001B[32m'pk'\u001B[0m: \u001B[32m'video-8'\u001B[0m,\n    \u001B[32m'sk'\u001B[0m: \u001B[32m'_root'\u001B[0m,\n    \u001B[32m'video_id'\u001B[0m: \u001B[32m'video-8'\u001B[0m,\n    \u001B[32m'video_title'\u001B[0m: \u001B[32m'video8'\u001B[0m\n\u001B[1m}\u001B[0m\n",
      "text/html": "<pre style=\"white-space:pre;overflow-x:auto;line-height:normal;font-family:Menlo,'DejaVu Sans Mono',consolas,'Courier New',monospace\"><span style=\"font-weight: bold\">{</span>\n    <span style=\"color: #008000; text-decoration-color: #008000\">'created_at'</span>: <span style=\"color: #800080; text-decoration-color: #800080; font-weight: bold\">datetime.datetime</span><span style=\"font-weight: bold\">(</span><span style=\"color: #008080; text-decoration-color: #008080; font-weight: bold\">2020</span>, <span style=\"color: #008080; text-decoration-color: #008080; font-weight: bold\">2</span>, <span style=\"color: #008080; text-decoration-color: #008080; font-weight: bold\">8</span>, <span style=\"color: #008080; text-decoration-color: #008080; font-weight: bold\">0</span>, <span style=\"color: #008080; text-decoration-color: #008080; font-weight: bold\">0</span>, <span style=\"color: #808000; text-decoration-color: #808000\">tzinfo</span>=<span style=\"color: #800080; text-decoration-color: #800080\">datetime</span>.timezone.utc<span style=\"font-weight: bold\">)</span>,\n    <span style=\"color: #008000; text-decoration-color: #008000\">'creator_id'</span>: <span style=\"color: #008000; text-decoration-color: #008000\">'user-3'</span>,\n    <span style=\"color: #008000; text-decoration-color: #008000\">'entity_type'</span>: <span style=\"color: #008000; text-decoration-color: #008000\">'VIDEO'</span>,\n    <span style=\"color: #008000; text-decoration-color: #008000\">'pk'</span>: <span style=\"color: #008000; text-decoration-color: #008000\">'video-8'</span>,\n    <span style=\"color: #008000; text-decoration-color: #008000\">'sk'</span>: <span style=\"color: #008000; text-decoration-color: #008000\">'_root'</span>,\n    <span style=\"color: #008000; text-decoration-color: #008000\">'video_id'</span>: <span style=\"color: #008000; text-decoration-color: #008000\">'video-8'</span>,\n    <span style=\"color: #008000; text-decoration-color: #008000\">'video_title'</span>: <span style=\"color: #008000; text-decoration-color: #008000\">'video8'</span>\n<span style=\"font-weight: bold\">}</span>\n</pre>\n"
     },
     "metadata": {},
     "output_type": "display_data"
    },
    {
     "data": {
      "text/plain": "\u001B[1m{\u001B[0m\n    \u001B[32m'created_at'\u001B[0m: \u001B[1;35mdatetime.datetime\u001B[0m\u001B[1m(\u001B[0m\u001B[1;36m2020\u001B[0m, \u001B[1;36m2\u001B[0m, \u001B[1;36m9\u001B[0m, \u001B[1;36m0\u001B[0m, \u001B[1;36m0\u001B[0m, \u001B[33mtzinfo\u001B[0m=\u001B[35mdatetime\u001B[0m.timezone.utc\u001B[1m)\u001B[0m,\n    \u001B[32m'creator_id'\u001B[0m: \u001B[32m'user-3'\u001B[0m,\n    \u001B[32m'entity_type'\u001B[0m: \u001B[32m'VIDEO'\u001B[0m,\n    \u001B[32m'pk'\u001B[0m: \u001B[32m'video-9'\u001B[0m,\n    \u001B[32m'sk'\u001B[0m: \u001B[32m'_root'\u001B[0m,\n    \u001B[32m'video_id'\u001B[0m: \u001B[32m'video-9'\u001B[0m,\n    \u001B[32m'video_title'\u001B[0m: \u001B[32m'video9'\u001B[0m\n\u001B[1m}\u001B[0m\n",
      "text/html": "<pre style=\"white-space:pre;overflow-x:auto;line-height:normal;font-family:Menlo,'DejaVu Sans Mono',consolas,'Courier New',monospace\"><span style=\"font-weight: bold\">{</span>\n    <span style=\"color: #008000; text-decoration-color: #008000\">'created_at'</span>: <span style=\"color: #800080; text-decoration-color: #800080; font-weight: bold\">datetime.datetime</span><span style=\"font-weight: bold\">(</span><span style=\"color: #008080; text-decoration-color: #008080; font-weight: bold\">2020</span>, <span style=\"color: #008080; text-decoration-color: #008080; font-weight: bold\">2</span>, <span style=\"color: #008080; text-decoration-color: #008080; font-weight: bold\">9</span>, <span style=\"color: #008080; text-decoration-color: #008080; font-weight: bold\">0</span>, <span style=\"color: #008080; text-decoration-color: #008080; font-weight: bold\">0</span>, <span style=\"color: #808000; text-decoration-color: #808000\">tzinfo</span>=<span style=\"color: #800080; text-decoration-color: #800080\">datetime</span>.timezone.utc<span style=\"font-weight: bold\">)</span>,\n    <span style=\"color: #008000; text-decoration-color: #008000\">'creator_id'</span>: <span style=\"color: #008000; text-decoration-color: #008000\">'user-3'</span>,\n    <span style=\"color: #008000; text-decoration-color: #008000\">'entity_type'</span>: <span style=\"color: #008000; text-decoration-color: #008000\">'VIDEO'</span>,\n    <span style=\"color: #008000; text-decoration-color: #008000\">'pk'</span>: <span style=\"color: #008000; text-decoration-color: #008000\">'video-9'</span>,\n    <span style=\"color: #008000; text-decoration-color: #008000\">'sk'</span>: <span style=\"color: #008000; text-decoration-color: #008000\">'_root'</span>,\n    <span style=\"color: #008000; text-decoration-color: #008000\">'video_id'</span>: <span style=\"color: #008000; text-decoration-color: #008000\">'video-9'</span>,\n    <span style=\"color: #008000; text-decoration-color: #008000\">'video_title'</span>: <span style=\"color: #008000; text-decoration-color: #008000\">'video9'</span>\n<span style=\"font-weight: bold\">}</span>\n</pre>\n"
     },
     "metadata": {},
     "output_type": "display_data"
    },
    {
     "data": {
      "text/plain": "\u001B[1m{\u001B[0m\n    \u001B[32m'channel_id'\u001B[0m: \u001B[32m'channel-1'\u001B[0m,\n    \u001B[32m'channel_name'\u001B[0m: \u001B[32m'channel1'\u001B[0m,\n    \u001B[32m'created_at'\u001B[0m: \u001B[1;35mdatetime.datetime\u001B[0m\u001B[1m(\u001B[0m\u001B[1;36m2020\u001B[0m, \u001B[1;36m3\u001B[0m, \u001B[1;36m1\u001B[0m, \u001B[1;36m0\u001B[0m, \u001B[1;36m0\u001B[0m, \u001B[33mtzinfo\u001B[0m=\u001B[35mdatetime\u001B[0m.timezone.utc\u001B[1m)\u001B[0m,\n    \u001B[32m'creator_id'\u001B[0m: \u001B[32m'user-3'\u001B[0m,\n    \u001B[32m'entity_type'\u001B[0m: \u001B[32m'CHANNEL'\u001B[0m,\n    \u001B[32m'pk'\u001B[0m: \u001B[32m'channel-1'\u001B[0m,\n    \u001B[32m'sk'\u001B[0m: \u001B[32m'_root'\u001B[0m\n\u001B[1m}\u001B[0m\n",
      "text/html": "<pre style=\"white-space:pre;overflow-x:auto;line-height:normal;font-family:Menlo,'DejaVu Sans Mono',consolas,'Courier New',monospace\"><span style=\"font-weight: bold\">{</span>\n    <span style=\"color: #008000; text-decoration-color: #008000\">'channel_id'</span>: <span style=\"color: #008000; text-decoration-color: #008000\">'channel-1'</span>,\n    <span style=\"color: #008000; text-decoration-color: #008000\">'channel_name'</span>: <span style=\"color: #008000; text-decoration-color: #008000\">'channel1'</span>,\n    <span style=\"color: #008000; text-decoration-color: #008000\">'created_at'</span>: <span style=\"color: #800080; text-decoration-color: #800080; font-weight: bold\">datetime.datetime</span><span style=\"font-weight: bold\">(</span><span style=\"color: #008080; text-decoration-color: #008080; font-weight: bold\">2020</span>, <span style=\"color: #008080; text-decoration-color: #008080; font-weight: bold\">3</span>, <span style=\"color: #008080; text-decoration-color: #008080; font-weight: bold\">1</span>, <span style=\"color: #008080; text-decoration-color: #008080; font-weight: bold\">0</span>, <span style=\"color: #008080; text-decoration-color: #008080; font-weight: bold\">0</span>, <span style=\"color: #808000; text-decoration-color: #808000\">tzinfo</span>=<span style=\"color: #800080; text-decoration-color: #800080\">datetime</span>.timezone.utc<span style=\"font-weight: bold\">)</span>,\n    <span style=\"color: #008000; text-decoration-color: #008000\">'creator_id'</span>: <span style=\"color: #008000; text-decoration-color: #008000\">'user-3'</span>,\n    <span style=\"color: #008000; text-decoration-color: #008000\">'entity_type'</span>: <span style=\"color: #008000; text-decoration-color: #008000\">'CHANNEL'</span>,\n    <span style=\"color: #008000; text-decoration-color: #008000\">'pk'</span>: <span style=\"color: #008000; text-decoration-color: #008000\">'channel-1'</span>,\n    <span style=\"color: #008000; text-decoration-color: #008000\">'sk'</span>: <span style=\"color: #008000; text-decoration-color: #008000\">'_root'</span>\n<span style=\"font-weight: bold\">}</span>\n</pre>\n"
     },
     "metadata": {},
     "output_type": "display_data"
    },
    {
     "data": {
      "text/plain": "\u001B[1m{\u001B[0m\n    \u001B[32m'channel_id'\u001B[0m: \u001B[32m'channel-1'\u001B[0m,\n    \u001B[32m'channel_name'\u001B[0m: \u001B[32m'channel1'\u001B[0m,\n    \u001B[32m'created_at'\u001B[0m: \u001B[1;35mdatetime.datetime\u001B[0m\u001B[1m(\u001B[0m\u001B[1;36m2020\u001B[0m, \u001B[1;36m3\u001B[0m, \u001B[1;36m1\u001B[0m, \u001B[1;36m0\u001B[0m, \u001B[1;36m0\u001B[0m, \u001B[33mtzinfo\u001B[0m=\u001B[35mdatetime\u001B[0m.timezone.utc\u001B[1m)\u001B[0m,\n    \u001B[32m'creator_id'\u001B[0m: \u001B[32m'user-3'\u001B[0m,\n    \u001B[32m'pk'\u001B[0m: \u001B[32m'user-3-channels'\u001B[0m,\n    \u001B[32m'sk'\u001B[0m: \u001B[32m'1583038800.0'\u001B[0m\n\u001B[1m}\u001B[0m\n",
      "text/html": "<pre style=\"white-space:pre;overflow-x:auto;line-height:normal;font-family:Menlo,'DejaVu Sans Mono',consolas,'Courier New',monospace\"><span style=\"font-weight: bold\">{</span>\n    <span style=\"color: #008000; text-decoration-color: #008000\">'channel_id'</span>: <span style=\"color: #008000; text-decoration-color: #008000\">'channel-1'</span>,\n    <span style=\"color: #008000; text-decoration-color: #008000\">'channel_name'</span>: <span style=\"color: #008000; text-decoration-color: #008000\">'channel1'</span>,\n    <span style=\"color: #008000; text-decoration-color: #008000\">'created_at'</span>: <span style=\"color: #800080; text-decoration-color: #800080; font-weight: bold\">datetime.datetime</span><span style=\"font-weight: bold\">(</span><span style=\"color: #008080; text-decoration-color: #008080; font-weight: bold\">2020</span>, <span style=\"color: #008080; text-decoration-color: #008080; font-weight: bold\">3</span>, <span style=\"color: #008080; text-decoration-color: #008080; font-weight: bold\">1</span>, <span style=\"color: #008080; text-decoration-color: #008080; font-weight: bold\">0</span>, <span style=\"color: #008080; text-decoration-color: #008080; font-weight: bold\">0</span>, <span style=\"color: #808000; text-decoration-color: #808000\">tzinfo</span>=<span style=\"color: #800080; text-decoration-color: #800080\">datetime</span>.timezone.utc<span style=\"font-weight: bold\">)</span>,\n    <span style=\"color: #008000; text-decoration-color: #008000\">'creator_id'</span>: <span style=\"color: #008000; text-decoration-color: #008000\">'user-3'</span>,\n    <span style=\"color: #008000; text-decoration-color: #008000\">'pk'</span>: <span style=\"color: #008000; text-decoration-color: #008000\">'user-3-channels'</span>,\n    <span style=\"color: #008000; text-decoration-color: #008000\">'sk'</span>: <span style=\"color: #008000; text-decoration-color: #008000\">'1583038800.0'</span>\n<span style=\"font-weight: bold\">}</span>\n</pre>\n"
     },
     "metadata": {},
     "output_type": "display_data"
    },
    {
     "data": {
      "text/plain": "\u001B[1m{\u001B[0m\n    \u001B[32m'channel_id'\u001B[0m: \u001B[32m'channel-2'\u001B[0m,\n    \u001B[32m'channel_name'\u001B[0m: \u001B[32m'channel2'\u001B[0m,\n    \u001B[32m'created_at'\u001B[0m: \u001B[1;35mdatetime.datetime\u001B[0m\u001B[1m(\u001B[0m\u001B[1;36m2020\u001B[0m, \u001B[1;36m3\u001B[0m, \u001B[1;36m2\u001B[0m, \u001B[1;36m0\u001B[0m, \u001B[1;36m0\u001B[0m, \u001B[33mtzinfo\u001B[0m=\u001B[35mdatetime\u001B[0m.timezone.utc\u001B[1m)\u001B[0m,\n    \u001B[32m'creator_id'\u001B[0m: \u001B[32m'user-3'\u001B[0m,\n    \u001B[32m'pk'\u001B[0m: \u001B[32m'user-3-channels'\u001B[0m,\n    \u001B[32m'sk'\u001B[0m: \u001B[32m'1583125200.0'\u001B[0m\n\u001B[1m}\u001B[0m\n",
      "text/html": "<pre style=\"white-space:pre;overflow-x:auto;line-height:normal;font-family:Menlo,'DejaVu Sans Mono',consolas,'Courier New',monospace\"><span style=\"font-weight: bold\">{</span>\n    <span style=\"color: #008000; text-decoration-color: #008000\">'channel_id'</span>: <span style=\"color: #008000; text-decoration-color: #008000\">'channel-2'</span>,\n    <span style=\"color: #008000; text-decoration-color: #008000\">'channel_name'</span>: <span style=\"color: #008000; text-decoration-color: #008000\">'channel2'</span>,\n    <span style=\"color: #008000; text-decoration-color: #008000\">'created_at'</span>: <span style=\"color: #800080; text-decoration-color: #800080; font-weight: bold\">datetime.datetime</span><span style=\"font-weight: bold\">(</span><span style=\"color: #008080; text-decoration-color: #008080; font-weight: bold\">2020</span>, <span style=\"color: #008080; text-decoration-color: #008080; font-weight: bold\">3</span>, <span style=\"color: #008080; text-decoration-color: #008080; font-weight: bold\">2</span>, <span style=\"color: #008080; text-decoration-color: #008080; font-weight: bold\">0</span>, <span style=\"color: #008080; text-decoration-color: #008080; font-weight: bold\">0</span>, <span style=\"color: #808000; text-decoration-color: #808000\">tzinfo</span>=<span style=\"color: #800080; text-decoration-color: #800080\">datetime</span>.timezone.utc<span style=\"font-weight: bold\">)</span>,\n    <span style=\"color: #008000; text-decoration-color: #008000\">'creator_id'</span>: <span style=\"color: #008000; text-decoration-color: #008000\">'user-3'</span>,\n    <span style=\"color: #008000; text-decoration-color: #008000\">'pk'</span>: <span style=\"color: #008000; text-decoration-color: #008000\">'user-3-channels'</span>,\n    <span style=\"color: #008000; text-decoration-color: #008000\">'sk'</span>: <span style=\"color: #008000; text-decoration-color: #008000\">'1583125200.0'</span>\n<span style=\"font-weight: bold\">}</span>\n</pre>\n"
     },
     "metadata": {},
     "output_type": "display_data"
    },
    {
     "data": {
      "text/plain": "\u001B[1m{\u001B[0m\n    \u001B[32m'channel_id'\u001B[0m: \u001B[32m'channel-2'\u001B[0m,\n    \u001B[32m'channel_name'\u001B[0m: \u001B[32m'channel2'\u001B[0m,\n    \u001B[32m'created_at'\u001B[0m: \u001B[1;35mdatetime.datetime\u001B[0m\u001B[1m(\u001B[0m\u001B[1;36m2020\u001B[0m, \u001B[1;36m3\u001B[0m, \u001B[1;36m2\u001B[0m, \u001B[1;36m0\u001B[0m, \u001B[1;36m0\u001B[0m, \u001B[33mtzinfo\u001B[0m=\u001B[35mdatetime\u001B[0m.timezone.utc\u001B[1m)\u001B[0m,\n    \u001B[32m'creator_id'\u001B[0m: \u001B[32m'user-3'\u001B[0m,\n    \u001B[32m'entity_type'\u001B[0m: \u001B[32m'CHANNEL'\u001B[0m,\n    \u001B[32m'pk'\u001B[0m: \u001B[32m'channel-2'\u001B[0m,\n    \u001B[32m'sk'\u001B[0m: \u001B[32m'_root'\u001B[0m\n\u001B[1m}\u001B[0m\n",
      "text/html": "<pre style=\"white-space:pre;overflow-x:auto;line-height:normal;font-family:Menlo,'DejaVu Sans Mono',consolas,'Courier New',monospace\"><span style=\"font-weight: bold\">{</span>\n    <span style=\"color: #008000; text-decoration-color: #008000\">'channel_id'</span>: <span style=\"color: #008000; text-decoration-color: #008000\">'channel-2'</span>,\n    <span style=\"color: #008000; text-decoration-color: #008000\">'channel_name'</span>: <span style=\"color: #008000; text-decoration-color: #008000\">'channel2'</span>,\n    <span style=\"color: #008000; text-decoration-color: #008000\">'created_at'</span>: <span style=\"color: #800080; text-decoration-color: #800080; font-weight: bold\">datetime.datetime</span><span style=\"font-weight: bold\">(</span><span style=\"color: #008080; text-decoration-color: #008080; font-weight: bold\">2020</span>, <span style=\"color: #008080; text-decoration-color: #008080; font-weight: bold\">3</span>, <span style=\"color: #008080; text-decoration-color: #008080; font-weight: bold\">2</span>, <span style=\"color: #008080; text-decoration-color: #008080; font-weight: bold\">0</span>, <span style=\"color: #008080; text-decoration-color: #008080; font-weight: bold\">0</span>, <span style=\"color: #808000; text-decoration-color: #808000\">tzinfo</span>=<span style=\"color: #800080; text-decoration-color: #800080\">datetime</span>.timezone.utc<span style=\"font-weight: bold\">)</span>,\n    <span style=\"color: #008000; text-decoration-color: #008000\">'creator_id'</span>: <span style=\"color: #008000; text-decoration-color: #008000\">'user-3'</span>,\n    <span style=\"color: #008000; text-decoration-color: #008000\">'entity_type'</span>: <span style=\"color: #008000; text-decoration-color: #008000\">'CHANNEL'</span>,\n    <span style=\"color: #008000; text-decoration-color: #008000\">'pk'</span>: <span style=\"color: #008000; text-decoration-color: #008000\">'channel-2'</span>,\n    <span style=\"color: #008000; text-decoration-color: #008000\">'sk'</span>: <span style=\"color: #008000; text-decoration-color: #008000\">'_root'</span>\n<span style=\"font-weight: bold\">}</span>\n</pre>\n"
     },
     "metadata": {},
     "output_type": "display_data"
    },
    {
     "data": {
      "text/plain": "\u001B[1m{\u001B[0m\n    \u001B[32m'created_at'\u001B[0m: \u001B[1;35mdatetime.datetime\u001B[0m\u001B[1m(\u001B[0m\u001B[1;36m2020\u001B[0m, \u001B[1;36m2\u001B[0m, \u001B[1;36m5\u001B[0m, \u001B[1;36m0\u001B[0m, \u001B[1;36m0\u001B[0m, \u001B[33mtzinfo\u001B[0m=\u001B[35mdatetime\u001B[0m.timezone.utc\u001B[1m)\u001B[0m,\n    \u001B[32m'creator_id'\u001B[0m: \u001B[32m'user-3'\u001B[0m,\n    \u001B[32m'pk'\u001B[0m: \u001B[32m'channel-1-videos'\u001B[0m,\n    \u001B[32m'sk'\u001B[0m: \u001B[32m'1580878800.0'\u001B[0m,\n    \u001B[32m'video_id'\u001B[0m: \u001B[32m'video-5'\u001B[0m,\n    \u001B[32m'video_title'\u001B[0m: \u001B[32m'video5'\u001B[0m\n\u001B[1m}\u001B[0m\n",
      "text/html": "<pre style=\"white-space:pre;overflow-x:auto;line-height:normal;font-family:Menlo,'DejaVu Sans Mono',consolas,'Courier New',monospace\"><span style=\"font-weight: bold\">{</span>\n    <span style=\"color: #008000; text-decoration-color: #008000\">'created_at'</span>: <span style=\"color: #800080; text-decoration-color: #800080; font-weight: bold\">datetime.datetime</span><span style=\"font-weight: bold\">(</span><span style=\"color: #008080; text-decoration-color: #008080; font-weight: bold\">2020</span>, <span style=\"color: #008080; text-decoration-color: #008080; font-weight: bold\">2</span>, <span style=\"color: #008080; text-decoration-color: #008080; font-weight: bold\">5</span>, <span style=\"color: #008080; text-decoration-color: #008080; font-weight: bold\">0</span>, <span style=\"color: #008080; text-decoration-color: #008080; font-weight: bold\">0</span>, <span style=\"color: #808000; text-decoration-color: #808000\">tzinfo</span>=<span style=\"color: #800080; text-decoration-color: #800080\">datetime</span>.timezone.utc<span style=\"font-weight: bold\">)</span>,\n    <span style=\"color: #008000; text-decoration-color: #008000\">'creator_id'</span>: <span style=\"color: #008000; text-decoration-color: #008000\">'user-3'</span>,\n    <span style=\"color: #008000; text-decoration-color: #008000\">'pk'</span>: <span style=\"color: #008000; text-decoration-color: #008000\">'channel-1-videos'</span>,\n    <span style=\"color: #008000; text-decoration-color: #008000\">'sk'</span>: <span style=\"color: #008000; text-decoration-color: #008000\">'1580878800.0'</span>,\n    <span style=\"color: #008000; text-decoration-color: #008000\">'video_id'</span>: <span style=\"color: #008000; text-decoration-color: #008000\">'video-5'</span>,\n    <span style=\"color: #008000; text-decoration-color: #008000\">'video_title'</span>: <span style=\"color: #008000; text-decoration-color: #008000\">'video5'</span>\n<span style=\"font-weight: bold\">}</span>\n</pre>\n"
     },
     "metadata": {},
     "output_type": "display_data"
    },
    {
     "data": {
      "text/plain": "\u001B[1m{\u001B[0m\n    \u001B[32m'created_at'\u001B[0m: \u001B[1;35mdatetime.datetime\u001B[0m\u001B[1m(\u001B[0m\u001B[1;36m2020\u001B[0m, \u001B[1;36m2\u001B[0m, \u001B[1;36m6\u001B[0m, \u001B[1;36m0\u001B[0m, \u001B[1;36m0\u001B[0m, \u001B[33mtzinfo\u001B[0m=\u001B[35mdatetime\u001B[0m.timezone.utc\u001B[1m)\u001B[0m,\n    \u001B[32m'creator_id'\u001B[0m: \u001B[32m'user-3'\u001B[0m,\n    \u001B[32m'pk'\u001B[0m: \u001B[32m'channel-1-videos'\u001B[0m,\n    \u001B[32m'sk'\u001B[0m: \u001B[32m'1580965200.0'\u001B[0m,\n    \u001B[32m'video_id'\u001B[0m: \u001B[32m'video-6'\u001B[0m,\n    \u001B[32m'video_title'\u001B[0m: \u001B[32m'video6'\u001B[0m\n\u001B[1m}\u001B[0m\n",
      "text/html": "<pre style=\"white-space:pre;overflow-x:auto;line-height:normal;font-family:Menlo,'DejaVu Sans Mono',consolas,'Courier New',monospace\"><span style=\"font-weight: bold\">{</span>\n    <span style=\"color: #008000; text-decoration-color: #008000\">'created_at'</span>: <span style=\"color: #800080; text-decoration-color: #800080; font-weight: bold\">datetime.datetime</span><span style=\"font-weight: bold\">(</span><span style=\"color: #008080; text-decoration-color: #008080; font-weight: bold\">2020</span>, <span style=\"color: #008080; text-decoration-color: #008080; font-weight: bold\">2</span>, <span style=\"color: #008080; text-decoration-color: #008080; font-weight: bold\">6</span>, <span style=\"color: #008080; text-decoration-color: #008080; font-weight: bold\">0</span>, <span style=\"color: #008080; text-decoration-color: #008080; font-weight: bold\">0</span>, <span style=\"color: #808000; text-decoration-color: #808000\">tzinfo</span>=<span style=\"color: #800080; text-decoration-color: #800080\">datetime</span>.timezone.utc<span style=\"font-weight: bold\">)</span>,\n    <span style=\"color: #008000; text-decoration-color: #008000\">'creator_id'</span>: <span style=\"color: #008000; text-decoration-color: #008000\">'user-3'</span>,\n    <span style=\"color: #008000; text-decoration-color: #008000\">'pk'</span>: <span style=\"color: #008000; text-decoration-color: #008000\">'channel-1-videos'</span>,\n    <span style=\"color: #008000; text-decoration-color: #008000\">'sk'</span>: <span style=\"color: #008000; text-decoration-color: #008000\">'1580965200.0'</span>,\n    <span style=\"color: #008000; text-decoration-color: #008000\">'video_id'</span>: <span style=\"color: #008000; text-decoration-color: #008000\">'video-6'</span>,\n    <span style=\"color: #008000; text-decoration-color: #008000\">'video_title'</span>: <span style=\"color: #008000; text-decoration-color: #008000\">'video6'</span>\n<span style=\"font-weight: bold\">}</span>\n</pre>\n"
     },
     "metadata": {},
     "output_type": "display_data"
    },
    {
     "data": {
      "text/plain": "\u001B[1m{\u001B[0m\n    \u001B[32m'created_at'\u001B[0m: \u001B[1;35mdatetime.datetime\u001B[0m\u001B[1m(\u001B[0m\u001B[1;36m2020\u001B[0m, \u001B[1;36m2\u001B[0m, \u001B[1;36m7\u001B[0m, \u001B[1;36m0\u001B[0m, \u001B[1;36m0\u001B[0m, \u001B[33mtzinfo\u001B[0m=\u001B[35mdatetime\u001B[0m.timezone.utc\u001B[1m)\u001B[0m,\n    \u001B[32m'creator_id'\u001B[0m: \u001B[32m'user-3'\u001B[0m,\n    \u001B[32m'pk'\u001B[0m: \u001B[32m'channel-2-videos'\u001B[0m,\n    \u001B[32m'sk'\u001B[0m: \u001B[32m'1581051600.0'\u001B[0m,\n    \u001B[32m'video_id'\u001B[0m: \u001B[32m'video-7'\u001B[0m,\n    \u001B[32m'video_title'\u001B[0m: \u001B[32m'video7'\u001B[0m\n\u001B[1m}\u001B[0m\n",
      "text/html": "<pre style=\"white-space:pre;overflow-x:auto;line-height:normal;font-family:Menlo,'DejaVu Sans Mono',consolas,'Courier New',monospace\"><span style=\"font-weight: bold\">{</span>\n    <span style=\"color: #008000; text-decoration-color: #008000\">'created_at'</span>: <span style=\"color: #800080; text-decoration-color: #800080; font-weight: bold\">datetime.datetime</span><span style=\"font-weight: bold\">(</span><span style=\"color: #008080; text-decoration-color: #008080; font-weight: bold\">2020</span>, <span style=\"color: #008080; text-decoration-color: #008080; font-weight: bold\">2</span>, <span style=\"color: #008080; text-decoration-color: #008080; font-weight: bold\">7</span>, <span style=\"color: #008080; text-decoration-color: #008080; font-weight: bold\">0</span>, <span style=\"color: #008080; text-decoration-color: #008080; font-weight: bold\">0</span>, <span style=\"color: #808000; text-decoration-color: #808000\">tzinfo</span>=<span style=\"color: #800080; text-decoration-color: #800080\">datetime</span>.timezone.utc<span style=\"font-weight: bold\">)</span>,\n    <span style=\"color: #008000; text-decoration-color: #008000\">'creator_id'</span>: <span style=\"color: #008000; text-decoration-color: #008000\">'user-3'</span>,\n    <span style=\"color: #008000; text-decoration-color: #008000\">'pk'</span>: <span style=\"color: #008000; text-decoration-color: #008000\">'channel-2-videos'</span>,\n    <span style=\"color: #008000; text-decoration-color: #008000\">'sk'</span>: <span style=\"color: #008000; text-decoration-color: #008000\">'1581051600.0'</span>,\n    <span style=\"color: #008000; text-decoration-color: #008000\">'video_id'</span>: <span style=\"color: #008000; text-decoration-color: #008000\">'video-7'</span>,\n    <span style=\"color: #008000; text-decoration-color: #008000\">'video_title'</span>: <span style=\"color: #008000; text-decoration-color: #008000\">'video7'</span>\n<span style=\"font-weight: bold\">}</span>\n</pre>\n"
     },
     "metadata": {},
     "output_type": "display_data"
    },
    {
     "data": {
      "text/plain": "\u001B[1m{\u001B[0m\n    \u001B[32m'created_at'\u001B[0m: \u001B[1;35mdatetime.datetime\u001B[0m\u001B[1m(\u001B[0m\u001B[1;36m2020\u001B[0m, \u001B[1;36m2\u001B[0m, \u001B[1;36m8\u001B[0m, \u001B[1;36m0\u001B[0m, \u001B[1;36m0\u001B[0m, \u001B[33mtzinfo\u001B[0m=\u001B[35mdatetime\u001B[0m.timezone.utc\u001B[1m)\u001B[0m,\n    \u001B[32m'creator_id'\u001B[0m: \u001B[32m'user-3'\u001B[0m,\n    \u001B[32m'pk'\u001B[0m: \u001B[32m'channel-2-videos'\u001B[0m,\n    \u001B[32m'sk'\u001B[0m: \u001B[32m'1581138000.0'\u001B[0m,\n    \u001B[32m'video_id'\u001B[0m: \u001B[32m'video-8'\u001B[0m,\n    \u001B[32m'video_title'\u001B[0m: \u001B[32m'video8'\u001B[0m\n\u001B[1m}\u001B[0m\n",
      "text/html": "<pre style=\"white-space:pre;overflow-x:auto;line-height:normal;font-family:Menlo,'DejaVu Sans Mono',consolas,'Courier New',monospace\"><span style=\"font-weight: bold\">{</span>\n    <span style=\"color: #008000; text-decoration-color: #008000\">'created_at'</span>: <span style=\"color: #800080; text-decoration-color: #800080; font-weight: bold\">datetime.datetime</span><span style=\"font-weight: bold\">(</span><span style=\"color: #008080; text-decoration-color: #008080; font-weight: bold\">2020</span>, <span style=\"color: #008080; text-decoration-color: #008080; font-weight: bold\">2</span>, <span style=\"color: #008080; text-decoration-color: #008080; font-weight: bold\">8</span>, <span style=\"color: #008080; text-decoration-color: #008080; font-weight: bold\">0</span>, <span style=\"color: #008080; text-decoration-color: #008080; font-weight: bold\">0</span>, <span style=\"color: #808000; text-decoration-color: #808000\">tzinfo</span>=<span style=\"color: #800080; text-decoration-color: #800080\">datetime</span>.timezone.utc<span style=\"font-weight: bold\">)</span>,\n    <span style=\"color: #008000; text-decoration-color: #008000\">'creator_id'</span>: <span style=\"color: #008000; text-decoration-color: #008000\">'user-3'</span>,\n    <span style=\"color: #008000; text-decoration-color: #008000\">'pk'</span>: <span style=\"color: #008000; text-decoration-color: #008000\">'channel-2-videos'</span>,\n    <span style=\"color: #008000; text-decoration-color: #008000\">'sk'</span>: <span style=\"color: #008000; text-decoration-color: #008000\">'1581138000.0'</span>,\n    <span style=\"color: #008000; text-decoration-color: #008000\">'video_id'</span>: <span style=\"color: #008000; text-decoration-color: #008000\">'video-8'</span>,\n    <span style=\"color: #008000; text-decoration-color: #008000\">'video_title'</span>: <span style=\"color: #008000; text-decoration-color: #008000\">'video8'</span>\n<span style=\"font-weight: bold\">}</span>\n</pre>\n"
     },
     "metadata": {},
     "output_type": "display_data"
    }
   ],
   "source": [
    "Model.delete_all()\n",
    "\n",
    "user1 = User(user_id=1, user_name=\"alice\", created_at=datetime(2020, 1, 1))\n",
    "user2 = User(user_id=2, user_name=\"bob\", created_at=datetime(2020, 1, 2))\n",
    "user3 = User(user_id=3, user_name=\"cathy\", created_at=datetime(2020, 1, 3))\n",
    "\n",
    "Model.signup_user(user1)\n",
    "Model.signup_user(user2)\n",
    "Model.signup_user(user3)\n",
    "\n",
    "\n",
    "video1 = Video(video_id=1, video_title=\"video1\", created_at=datetime(2020, 2, 1), creator_id=\"user-1\")\n",
    "video2 = Video(video_id=2, video_title=\"video2\", created_at=datetime(2020, 2, 2), creator_id=\"user-1\")\n",
    "video3 = Video(video_id=3, video_title=\"video3\", created_at=datetime(2020, 2, 3), creator_id=\"user-1\")\n",
    "video4 = Video(video_id=4, video_title=\"video4\", created_at=datetime(2020, 2, 4), creator_id=\"user-2\")\n",
    "video5 = Video(video_id=5, video_title=\"video5\", created_at=datetime(2020, 2, 5), creator_id=\"user-3\")\n",
    "video6 = Video(video_id=6, video_title=\"video6\", created_at=datetime(2020, 2, 6), creator_id=\"user-3\")\n",
    "video7 = Video(video_id=7, video_title=\"video7\", created_at=datetime(2020, 2, 7), creator_id=\"user-3\")\n",
    "video8 = Video(video_id=8, video_title=\"video8\", created_at=datetime(2020, 2, 8), creator_id=\"user-3\")\n",
    "video9 = Video(video_id=9, video_title=\"video9\", created_at=datetime(2020, 2, 9), creator_id=\"user-3\")\n",
    "\n",
    "Model.upload_video(video1)\n",
    "Model.upload_video(video2)\n",
    "Model.upload_video(video3)\n",
    "Model.upload_video(video4)\n",
    "Model.upload_video(video5)\n",
    "Model.upload_video(video6)\n",
    "Model.upload_video(video7)\n",
    "Model.upload_video(video8)\n",
    "Model.upload_video(video9)\n",
    "\n",
    "channel1 = Channel(channel_id=1, channel_name=\"channel1\", created_at=datetime(2020, 3, 1), creator_id=\"user-3\")\n",
    "channel2 = Channel(channel_id=2, channel_name=\"channel2\", created_at=datetime(2020, 3, 2), creator_id=\"user-3\")\n",
    "\n",
    "Model.create_channel(channel1)\n",
    "Model.create_channel(channel2)\n",
    "\n",
    "Model.add_video_to_channel(video5, channel1)\n",
    "Model.add_video_to_channel(video6, channel1)\n",
    "\n",
    "Model.add_video_to_channel(video7, channel2)\n",
    "Model.add_video_to_channel(video8, channel2)\n",
    "\n",
    "for i in Model.iter_scan():\n",
    "    rprint(i.to_dict())\n",
    "pass"
   ],
   "metadata": {
    "collapsed": false,
    "pycharm": {
     "name": "#%%\n"
    }
   }
  },
  {
   "cell_type": "code",
   "execution_count": 63,
   "outputs": [
    {
     "data": {
      "text/plain": "\u001B[1m{\u001B[0m\n    \u001B[32m'created_at'\u001B[0m: \u001B[1;35mdatetime.datetime\u001B[0m\u001B[1m(\u001B[0m\u001B[1;36m2020\u001B[0m, \u001B[1;36m2\u001B[0m, \u001B[1;36m9\u001B[0m, \u001B[1;36m0\u001B[0m, \u001B[1;36m0\u001B[0m, \u001B[33mtzinfo\u001B[0m=\u001B[35mdatetime\u001B[0m.timezone.utc\u001B[1m)\u001B[0m,\n    \u001B[32m'creator_id'\u001B[0m: \u001B[32m'user-3'\u001B[0m,\n    \u001B[32m'pk'\u001B[0m: \u001B[32m'user-3-videos'\u001B[0m,\n    \u001B[32m'sk'\u001B[0m: \u001B[32m'1581224400.0'\u001B[0m,\n    \u001B[32m'video_id'\u001B[0m: \u001B[32m'video-9'\u001B[0m,\n    \u001B[32m'video_title'\u001B[0m: \u001B[32m'video9'\u001B[0m\n\u001B[1m}\u001B[0m\n",
      "text/html": "<pre style=\"white-space:pre;overflow-x:auto;line-height:normal;font-family:Menlo,'DejaVu Sans Mono',consolas,'Courier New',monospace\"><span style=\"font-weight: bold\">{</span>\n    <span style=\"color: #008000; text-decoration-color: #008000\">'created_at'</span>: <span style=\"color: #800080; text-decoration-color: #800080; font-weight: bold\">datetime.datetime</span><span style=\"font-weight: bold\">(</span><span style=\"color: #008080; text-decoration-color: #008080; font-weight: bold\">2020</span>, <span style=\"color: #008080; text-decoration-color: #008080; font-weight: bold\">2</span>, <span style=\"color: #008080; text-decoration-color: #008080; font-weight: bold\">9</span>, <span style=\"color: #008080; text-decoration-color: #008080; font-weight: bold\">0</span>, <span style=\"color: #008080; text-decoration-color: #008080; font-weight: bold\">0</span>, <span style=\"color: #808000; text-decoration-color: #808000\">tzinfo</span>=<span style=\"color: #800080; text-decoration-color: #800080\">datetime</span>.timezone.utc<span style=\"font-weight: bold\">)</span>,\n    <span style=\"color: #008000; text-decoration-color: #008000\">'creator_id'</span>: <span style=\"color: #008000; text-decoration-color: #008000\">'user-3'</span>,\n    <span style=\"color: #008000; text-decoration-color: #008000\">'pk'</span>: <span style=\"color: #008000; text-decoration-color: #008000\">'user-3-videos'</span>,\n    <span style=\"color: #008000; text-decoration-color: #008000\">'sk'</span>: <span style=\"color: #008000; text-decoration-color: #008000\">'1581224400.0'</span>,\n    <span style=\"color: #008000; text-decoration-color: #008000\">'video_id'</span>: <span style=\"color: #008000; text-decoration-color: #008000\">'video-9'</span>,\n    <span style=\"color: #008000; text-decoration-color: #008000\">'video_title'</span>: <span style=\"color: #008000; text-decoration-color: #008000\">'video9'</span>\n<span style=\"font-weight: bold\">}</span>\n</pre>\n"
     },
     "metadata": {},
     "output_type": "display_data"
    },
    {
     "data": {
      "text/plain": "\u001B[1m{\u001B[0m\n    \u001B[32m'created_at'\u001B[0m: \u001B[1;35mdatetime.datetime\u001B[0m\u001B[1m(\u001B[0m\u001B[1;36m2020\u001B[0m, \u001B[1;36m2\u001B[0m, \u001B[1;36m8\u001B[0m, \u001B[1;36m0\u001B[0m, \u001B[1;36m0\u001B[0m, \u001B[33mtzinfo\u001B[0m=\u001B[35mdatetime\u001B[0m.timezone.utc\u001B[1m)\u001B[0m,\n    \u001B[32m'creator_id'\u001B[0m: \u001B[32m'user-3'\u001B[0m,\n    \u001B[32m'pk'\u001B[0m: \u001B[32m'user-3-videos'\u001B[0m,\n    \u001B[32m'sk'\u001B[0m: \u001B[32m'1581138000.0'\u001B[0m,\n    \u001B[32m'video_id'\u001B[0m: \u001B[32m'video-8'\u001B[0m,\n    \u001B[32m'video_title'\u001B[0m: \u001B[32m'video8'\u001B[0m\n\u001B[1m}\u001B[0m\n",
      "text/html": "<pre style=\"white-space:pre;overflow-x:auto;line-height:normal;font-family:Menlo,'DejaVu Sans Mono',consolas,'Courier New',monospace\"><span style=\"font-weight: bold\">{</span>\n    <span style=\"color: #008000; text-decoration-color: #008000\">'created_at'</span>: <span style=\"color: #800080; text-decoration-color: #800080; font-weight: bold\">datetime.datetime</span><span style=\"font-weight: bold\">(</span><span style=\"color: #008080; text-decoration-color: #008080; font-weight: bold\">2020</span>, <span style=\"color: #008080; text-decoration-color: #008080; font-weight: bold\">2</span>, <span style=\"color: #008080; text-decoration-color: #008080; font-weight: bold\">8</span>, <span style=\"color: #008080; text-decoration-color: #008080; font-weight: bold\">0</span>, <span style=\"color: #008080; text-decoration-color: #008080; font-weight: bold\">0</span>, <span style=\"color: #808000; text-decoration-color: #808000\">tzinfo</span>=<span style=\"color: #800080; text-decoration-color: #800080\">datetime</span>.timezone.utc<span style=\"font-weight: bold\">)</span>,\n    <span style=\"color: #008000; text-decoration-color: #008000\">'creator_id'</span>: <span style=\"color: #008000; text-decoration-color: #008000\">'user-3'</span>,\n    <span style=\"color: #008000; text-decoration-color: #008000\">'pk'</span>: <span style=\"color: #008000; text-decoration-color: #008000\">'user-3-videos'</span>,\n    <span style=\"color: #008000; text-decoration-color: #008000\">'sk'</span>: <span style=\"color: #008000; text-decoration-color: #008000\">'1581138000.0'</span>,\n    <span style=\"color: #008000; text-decoration-color: #008000\">'video_id'</span>: <span style=\"color: #008000; text-decoration-color: #008000\">'video-8'</span>,\n    <span style=\"color: #008000; text-decoration-color: #008000\">'video_title'</span>: <span style=\"color: #008000; text-decoration-color: #008000\">'video8'</span>\n<span style=\"font-weight: bold\">}</span>\n</pre>\n"
     },
     "metadata": {},
     "output_type": "display_data"
    },
    {
     "data": {
      "text/plain": "\u001B[1m{\u001B[0m\n    \u001B[32m'created_at'\u001B[0m: \u001B[1;35mdatetime.datetime\u001B[0m\u001B[1m(\u001B[0m\u001B[1;36m2020\u001B[0m, \u001B[1;36m2\u001B[0m, \u001B[1;36m7\u001B[0m, \u001B[1;36m0\u001B[0m, \u001B[1;36m0\u001B[0m, \u001B[33mtzinfo\u001B[0m=\u001B[35mdatetime\u001B[0m.timezone.utc\u001B[1m)\u001B[0m,\n    \u001B[32m'creator_id'\u001B[0m: \u001B[32m'user-3'\u001B[0m,\n    \u001B[32m'pk'\u001B[0m: \u001B[32m'user-3-videos'\u001B[0m,\n    \u001B[32m'sk'\u001B[0m: \u001B[32m'1581051600.0'\u001B[0m,\n    \u001B[32m'video_id'\u001B[0m: \u001B[32m'video-7'\u001B[0m,\n    \u001B[32m'video_title'\u001B[0m: \u001B[32m'video7'\u001B[0m\n\u001B[1m}\u001B[0m\n",
      "text/html": "<pre style=\"white-space:pre;overflow-x:auto;line-height:normal;font-family:Menlo,'DejaVu Sans Mono',consolas,'Courier New',monospace\"><span style=\"font-weight: bold\">{</span>\n    <span style=\"color: #008000; text-decoration-color: #008000\">'created_at'</span>: <span style=\"color: #800080; text-decoration-color: #800080; font-weight: bold\">datetime.datetime</span><span style=\"font-weight: bold\">(</span><span style=\"color: #008080; text-decoration-color: #008080; font-weight: bold\">2020</span>, <span style=\"color: #008080; text-decoration-color: #008080; font-weight: bold\">2</span>, <span style=\"color: #008080; text-decoration-color: #008080; font-weight: bold\">7</span>, <span style=\"color: #008080; text-decoration-color: #008080; font-weight: bold\">0</span>, <span style=\"color: #008080; text-decoration-color: #008080; font-weight: bold\">0</span>, <span style=\"color: #808000; text-decoration-color: #808000\">tzinfo</span>=<span style=\"color: #800080; text-decoration-color: #800080\">datetime</span>.timezone.utc<span style=\"font-weight: bold\">)</span>,\n    <span style=\"color: #008000; text-decoration-color: #008000\">'creator_id'</span>: <span style=\"color: #008000; text-decoration-color: #008000\">'user-3'</span>,\n    <span style=\"color: #008000; text-decoration-color: #008000\">'pk'</span>: <span style=\"color: #008000; text-decoration-color: #008000\">'user-3-videos'</span>,\n    <span style=\"color: #008000; text-decoration-color: #008000\">'sk'</span>: <span style=\"color: #008000; text-decoration-color: #008000\">'1581051600.0'</span>,\n    <span style=\"color: #008000; text-decoration-color: #008000\">'video_id'</span>: <span style=\"color: #008000; text-decoration-color: #008000\">'video-7'</span>,\n    <span style=\"color: #008000; text-decoration-color: #008000\">'video_title'</span>: <span style=\"color: #008000; text-decoration-color: #008000\">'video7'</span>\n<span style=\"font-weight: bold\">}</span>\n</pre>\n"
     },
     "metadata": {},
     "output_type": "display_data"
    },
    {
     "data": {
      "text/plain": "\u001B[1m{\u001B[0m\n    \u001B[32m'created_at'\u001B[0m: \u001B[1;35mdatetime.datetime\u001B[0m\u001B[1m(\u001B[0m\u001B[1;36m2020\u001B[0m, \u001B[1;36m2\u001B[0m, \u001B[1;36m6\u001B[0m, \u001B[1;36m0\u001B[0m, \u001B[1;36m0\u001B[0m, \u001B[33mtzinfo\u001B[0m=\u001B[35mdatetime\u001B[0m.timezone.utc\u001B[1m)\u001B[0m,\n    \u001B[32m'creator_id'\u001B[0m: \u001B[32m'user-3'\u001B[0m,\n    \u001B[32m'pk'\u001B[0m: \u001B[32m'user-3-videos'\u001B[0m,\n    \u001B[32m'sk'\u001B[0m: \u001B[32m'1580965200.0'\u001B[0m,\n    \u001B[32m'video_id'\u001B[0m: \u001B[32m'video-6'\u001B[0m,\n    \u001B[32m'video_title'\u001B[0m: \u001B[32m'video6'\u001B[0m\n\u001B[1m}\u001B[0m\n",
      "text/html": "<pre style=\"white-space:pre;overflow-x:auto;line-height:normal;font-family:Menlo,'DejaVu Sans Mono',consolas,'Courier New',monospace\"><span style=\"font-weight: bold\">{</span>\n    <span style=\"color: #008000; text-decoration-color: #008000\">'created_at'</span>: <span style=\"color: #800080; text-decoration-color: #800080; font-weight: bold\">datetime.datetime</span><span style=\"font-weight: bold\">(</span><span style=\"color: #008080; text-decoration-color: #008080; font-weight: bold\">2020</span>, <span style=\"color: #008080; text-decoration-color: #008080; font-weight: bold\">2</span>, <span style=\"color: #008080; text-decoration-color: #008080; font-weight: bold\">6</span>, <span style=\"color: #008080; text-decoration-color: #008080; font-weight: bold\">0</span>, <span style=\"color: #008080; text-decoration-color: #008080; font-weight: bold\">0</span>, <span style=\"color: #808000; text-decoration-color: #808000\">tzinfo</span>=<span style=\"color: #800080; text-decoration-color: #800080\">datetime</span>.timezone.utc<span style=\"font-weight: bold\">)</span>,\n    <span style=\"color: #008000; text-decoration-color: #008000\">'creator_id'</span>: <span style=\"color: #008000; text-decoration-color: #008000\">'user-3'</span>,\n    <span style=\"color: #008000; text-decoration-color: #008000\">'pk'</span>: <span style=\"color: #008000; text-decoration-color: #008000\">'user-3-videos'</span>,\n    <span style=\"color: #008000; text-decoration-color: #008000\">'sk'</span>: <span style=\"color: #008000; text-decoration-color: #008000\">'1580965200.0'</span>,\n    <span style=\"color: #008000; text-decoration-color: #008000\">'video_id'</span>: <span style=\"color: #008000; text-decoration-color: #008000\">'video-6'</span>,\n    <span style=\"color: #008000; text-decoration-color: #008000\">'video_title'</span>: <span style=\"color: #008000; text-decoration-color: #008000\">'video6'</span>\n<span style=\"font-weight: bold\">}</span>\n</pre>\n"
     },
     "metadata": {},
     "output_type": "display_data"
    },
    {
     "data": {
      "text/plain": "\u001B[1m{\u001B[0m\n    \u001B[32m'created_at'\u001B[0m: \u001B[1;35mdatetime.datetime\u001B[0m\u001B[1m(\u001B[0m\u001B[1;36m2020\u001B[0m, \u001B[1;36m2\u001B[0m, \u001B[1;36m5\u001B[0m, \u001B[1;36m0\u001B[0m, \u001B[1;36m0\u001B[0m, \u001B[33mtzinfo\u001B[0m=\u001B[35mdatetime\u001B[0m.timezone.utc\u001B[1m)\u001B[0m,\n    \u001B[32m'creator_id'\u001B[0m: \u001B[32m'user-3'\u001B[0m,\n    \u001B[32m'pk'\u001B[0m: \u001B[32m'user-3-videos'\u001B[0m,\n    \u001B[32m'sk'\u001B[0m: \u001B[32m'1580878800.0'\u001B[0m,\n    \u001B[32m'video_id'\u001B[0m: \u001B[32m'video-5'\u001B[0m,\n    \u001B[32m'video_title'\u001B[0m: \u001B[32m'video5'\u001B[0m\n\u001B[1m}\u001B[0m\n",
      "text/html": "<pre style=\"white-space:pre;overflow-x:auto;line-height:normal;font-family:Menlo,'DejaVu Sans Mono',consolas,'Courier New',monospace\"><span style=\"font-weight: bold\">{</span>\n    <span style=\"color: #008000; text-decoration-color: #008000\">'created_at'</span>: <span style=\"color: #800080; text-decoration-color: #800080; font-weight: bold\">datetime.datetime</span><span style=\"font-weight: bold\">(</span><span style=\"color: #008080; text-decoration-color: #008080; font-weight: bold\">2020</span>, <span style=\"color: #008080; text-decoration-color: #008080; font-weight: bold\">2</span>, <span style=\"color: #008080; text-decoration-color: #008080; font-weight: bold\">5</span>, <span style=\"color: #008080; text-decoration-color: #008080; font-weight: bold\">0</span>, <span style=\"color: #008080; text-decoration-color: #008080; font-weight: bold\">0</span>, <span style=\"color: #808000; text-decoration-color: #808000\">tzinfo</span>=<span style=\"color: #800080; text-decoration-color: #800080\">datetime</span>.timezone.utc<span style=\"font-weight: bold\">)</span>,\n    <span style=\"color: #008000; text-decoration-color: #008000\">'creator_id'</span>: <span style=\"color: #008000; text-decoration-color: #008000\">'user-3'</span>,\n    <span style=\"color: #008000; text-decoration-color: #008000\">'pk'</span>: <span style=\"color: #008000; text-decoration-color: #008000\">'user-3-videos'</span>,\n    <span style=\"color: #008000; text-decoration-color: #008000\">'sk'</span>: <span style=\"color: #008000; text-decoration-color: #008000\">'1580878800.0'</span>,\n    <span style=\"color: #008000; text-decoration-color: #008000\">'video_id'</span>: <span style=\"color: #008000; text-decoration-color: #008000\">'video-5'</span>,\n    <span style=\"color: #008000; text-decoration-color: #008000\">'video_title'</span>: <span style=\"color: #008000; text-decoration-color: #008000\">'video5'</span>\n<span style=\"font-weight: bold\">}</span>\n</pre>\n"
     },
     "metadata": {},
     "output_type": "display_data"
    }
   ],
   "source": [
    "for video in Model.get_users_videos(user_id=3):\n",
    "    rprint(video.to_dict())"
   ],
   "metadata": {
    "collapsed": false,
    "pycharm": {
     "name": "#%%\n"
    }
   }
  },
  {
   "cell_type": "code",
   "execution_count": 64,
   "outputs": [
    {
     "data": {
      "text/plain": "\u001B[1m{\u001B[0m\n    \u001B[32m'channel_id'\u001B[0m: \u001B[32m'channel-2'\u001B[0m,\n    \u001B[32m'channel_name'\u001B[0m: \u001B[32m'channel2'\u001B[0m,\n    \u001B[32m'created_at'\u001B[0m: \u001B[1;35mdatetime.datetime\u001B[0m\u001B[1m(\u001B[0m\u001B[1;36m2020\u001B[0m, \u001B[1;36m3\u001B[0m, \u001B[1;36m2\u001B[0m, \u001B[1;36m0\u001B[0m, \u001B[1;36m0\u001B[0m, \u001B[33mtzinfo\u001B[0m=\u001B[35mdatetime\u001B[0m.timezone.utc\u001B[1m)\u001B[0m,\n    \u001B[32m'creator_id'\u001B[0m: \u001B[32m'user-3'\u001B[0m,\n    \u001B[32m'pk'\u001B[0m: \u001B[32m'user-3-channels'\u001B[0m,\n    \u001B[32m'sk'\u001B[0m: \u001B[32m'1583125200.0'\u001B[0m\n\u001B[1m}\u001B[0m\n",
      "text/html": "<pre style=\"white-space:pre;overflow-x:auto;line-height:normal;font-family:Menlo,'DejaVu Sans Mono',consolas,'Courier New',monospace\"><span style=\"font-weight: bold\">{</span>\n    <span style=\"color: #008000; text-decoration-color: #008000\">'channel_id'</span>: <span style=\"color: #008000; text-decoration-color: #008000\">'channel-2'</span>,\n    <span style=\"color: #008000; text-decoration-color: #008000\">'channel_name'</span>: <span style=\"color: #008000; text-decoration-color: #008000\">'channel2'</span>,\n    <span style=\"color: #008000; text-decoration-color: #008000\">'created_at'</span>: <span style=\"color: #800080; text-decoration-color: #800080; font-weight: bold\">datetime.datetime</span><span style=\"font-weight: bold\">(</span><span style=\"color: #008080; text-decoration-color: #008080; font-weight: bold\">2020</span>, <span style=\"color: #008080; text-decoration-color: #008080; font-weight: bold\">3</span>, <span style=\"color: #008080; text-decoration-color: #008080; font-weight: bold\">2</span>, <span style=\"color: #008080; text-decoration-color: #008080; font-weight: bold\">0</span>, <span style=\"color: #008080; text-decoration-color: #008080; font-weight: bold\">0</span>, <span style=\"color: #808000; text-decoration-color: #808000\">tzinfo</span>=<span style=\"color: #800080; text-decoration-color: #800080\">datetime</span>.timezone.utc<span style=\"font-weight: bold\">)</span>,\n    <span style=\"color: #008000; text-decoration-color: #008000\">'creator_id'</span>: <span style=\"color: #008000; text-decoration-color: #008000\">'user-3'</span>,\n    <span style=\"color: #008000; text-decoration-color: #008000\">'pk'</span>: <span style=\"color: #008000; text-decoration-color: #008000\">'user-3-channels'</span>,\n    <span style=\"color: #008000; text-decoration-color: #008000\">'sk'</span>: <span style=\"color: #008000; text-decoration-color: #008000\">'1583125200.0'</span>\n<span style=\"font-weight: bold\">}</span>\n</pre>\n"
     },
     "metadata": {},
     "output_type": "display_data"
    },
    {
     "data": {
      "text/plain": "\u001B[1m{\u001B[0m\n    \u001B[32m'channel_id'\u001B[0m: \u001B[32m'channel-1'\u001B[0m,\n    \u001B[32m'channel_name'\u001B[0m: \u001B[32m'channel1'\u001B[0m,\n    \u001B[32m'created_at'\u001B[0m: \u001B[1;35mdatetime.datetime\u001B[0m\u001B[1m(\u001B[0m\u001B[1;36m2020\u001B[0m, \u001B[1;36m3\u001B[0m, \u001B[1;36m1\u001B[0m, \u001B[1;36m0\u001B[0m, \u001B[1;36m0\u001B[0m, \u001B[33mtzinfo\u001B[0m=\u001B[35mdatetime\u001B[0m.timezone.utc\u001B[1m)\u001B[0m,\n    \u001B[32m'creator_id'\u001B[0m: \u001B[32m'user-3'\u001B[0m,\n    \u001B[32m'pk'\u001B[0m: \u001B[32m'user-3-channels'\u001B[0m,\n    \u001B[32m'sk'\u001B[0m: \u001B[32m'1583038800.0'\u001B[0m\n\u001B[1m}\u001B[0m\n",
      "text/html": "<pre style=\"white-space:pre;overflow-x:auto;line-height:normal;font-family:Menlo,'DejaVu Sans Mono',consolas,'Courier New',monospace\"><span style=\"font-weight: bold\">{</span>\n    <span style=\"color: #008000; text-decoration-color: #008000\">'channel_id'</span>: <span style=\"color: #008000; text-decoration-color: #008000\">'channel-1'</span>,\n    <span style=\"color: #008000; text-decoration-color: #008000\">'channel_name'</span>: <span style=\"color: #008000; text-decoration-color: #008000\">'channel1'</span>,\n    <span style=\"color: #008000; text-decoration-color: #008000\">'created_at'</span>: <span style=\"color: #800080; text-decoration-color: #800080; font-weight: bold\">datetime.datetime</span><span style=\"font-weight: bold\">(</span><span style=\"color: #008080; text-decoration-color: #008080; font-weight: bold\">2020</span>, <span style=\"color: #008080; text-decoration-color: #008080; font-weight: bold\">3</span>, <span style=\"color: #008080; text-decoration-color: #008080; font-weight: bold\">1</span>, <span style=\"color: #008080; text-decoration-color: #008080; font-weight: bold\">0</span>, <span style=\"color: #008080; text-decoration-color: #008080; font-weight: bold\">0</span>, <span style=\"color: #808000; text-decoration-color: #808000\">tzinfo</span>=<span style=\"color: #800080; text-decoration-color: #800080\">datetime</span>.timezone.utc<span style=\"font-weight: bold\">)</span>,\n    <span style=\"color: #008000; text-decoration-color: #008000\">'creator_id'</span>: <span style=\"color: #008000; text-decoration-color: #008000\">'user-3'</span>,\n    <span style=\"color: #008000; text-decoration-color: #008000\">'pk'</span>: <span style=\"color: #008000; text-decoration-color: #008000\">'user-3-channels'</span>,\n    <span style=\"color: #008000; text-decoration-color: #008000\">'sk'</span>: <span style=\"color: #008000; text-decoration-color: #008000\">'1583038800.0'</span>\n<span style=\"font-weight: bold\">}</span>\n</pre>\n"
     },
     "metadata": {},
     "output_type": "display_data"
    }
   ],
   "source": [
    "for channel in Model.get_users_channels(user_id=3):\n",
    "    rprint(channel.to_dict())"
   ],
   "metadata": {
    "collapsed": false,
    "pycharm": {
     "name": "#%%\n"
    }
   }
  },
  {
   "cell_type": "code",
   "execution_count": 66,
   "outputs": [
    {
     "data": {
      "text/plain": "\u001B[1m{\u001B[0m\n    \u001B[32m'created_at'\u001B[0m: \u001B[1;35mdatetime.datetime\u001B[0m\u001B[1m(\u001B[0m\u001B[1;36m2020\u001B[0m, \u001B[1;36m2\u001B[0m, \u001B[1;36m8\u001B[0m, \u001B[1;36m0\u001B[0m, \u001B[1;36m0\u001B[0m, \u001B[33mtzinfo\u001B[0m=\u001B[35mdatetime\u001B[0m.timezone.utc\u001B[1m)\u001B[0m,\n    \u001B[32m'creator_id'\u001B[0m: \u001B[32m'user-3'\u001B[0m,\n    \u001B[32m'pk'\u001B[0m: \u001B[32m'channel-2-videos'\u001B[0m,\n    \u001B[32m'sk'\u001B[0m: \u001B[32m'1581138000.0'\u001B[0m,\n    \u001B[32m'video_id'\u001B[0m: \u001B[32m'video-8'\u001B[0m,\n    \u001B[32m'video_title'\u001B[0m: \u001B[32m'video8'\u001B[0m\n\u001B[1m}\u001B[0m\n",
      "text/html": "<pre style=\"white-space:pre;overflow-x:auto;line-height:normal;font-family:Menlo,'DejaVu Sans Mono',consolas,'Courier New',monospace\"><span style=\"font-weight: bold\">{</span>\n    <span style=\"color: #008000; text-decoration-color: #008000\">'created_at'</span>: <span style=\"color: #800080; text-decoration-color: #800080; font-weight: bold\">datetime.datetime</span><span style=\"font-weight: bold\">(</span><span style=\"color: #008080; text-decoration-color: #008080; font-weight: bold\">2020</span>, <span style=\"color: #008080; text-decoration-color: #008080; font-weight: bold\">2</span>, <span style=\"color: #008080; text-decoration-color: #008080; font-weight: bold\">8</span>, <span style=\"color: #008080; text-decoration-color: #008080; font-weight: bold\">0</span>, <span style=\"color: #008080; text-decoration-color: #008080; font-weight: bold\">0</span>, <span style=\"color: #808000; text-decoration-color: #808000\">tzinfo</span>=<span style=\"color: #800080; text-decoration-color: #800080\">datetime</span>.timezone.utc<span style=\"font-weight: bold\">)</span>,\n    <span style=\"color: #008000; text-decoration-color: #008000\">'creator_id'</span>: <span style=\"color: #008000; text-decoration-color: #008000\">'user-3'</span>,\n    <span style=\"color: #008000; text-decoration-color: #008000\">'pk'</span>: <span style=\"color: #008000; text-decoration-color: #008000\">'channel-2-videos'</span>,\n    <span style=\"color: #008000; text-decoration-color: #008000\">'sk'</span>: <span style=\"color: #008000; text-decoration-color: #008000\">'1581138000.0'</span>,\n    <span style=\"color: #008000; text-decoration-color: #008000\">'video_id'</span>: <span style=\"color: #008000; text-decoration-color: #008000\">'video-8'</span>,\n    <span style=\"color: #008000; text-decoration-color: #008000\">'video_title'</span>: <span style=\"color: #008000; text-decoration-color: #008000\">'video8'</span>\n<span style=\"font-weight: bold\">}</span>\n</pre>\n"
     },
     "metadata": {},
     "output_type": "display_data"
    },
    {
     "data": {
      "text/plain": "\u001B[1m{\u001B[0m\n    \u001B[32m'created_at'\u001B[0m: \u001B[1;35mdatetime.datetime\u001B[0m\u001B[1m(\u001B[0m\u001B[1;36m2020\u001B[0m, \u001B[1;36m2\u001B[0m, \u001B[1;36m7\u001B[0m, \u001B[1;36m0\u001B[0m, \u001B[1;36m0\u001B[0m, \u001B[33mtzinfo\u001B[0m=\u001B[35mdatetime\u001B[0m.timezone.utc\u001B[1m)\u001B[0m,\n    \u001B[32m'creator_id'\u001B[0m: \u001B[32m'user-3'\u001B[0m,\n    \u001B[32m'pk'\u001B[0m: \u001B[32m'channel-2-videos'\u001B[0m,\n    \u001B[32m'sk'\u001B[0m: \u001B[32m'1581051600.0'\u001B[0m,\n    \u001B[32m'video_id'\u001B[0m: \u001B[32m'video-7'\u001B[0m,\n    \u001B[32m'video_title'\u001B[0m: \u001B[32m'video7'\u001B[0m\n\u001B[1m}\u001B[0m\n",
      "text/html": "<pre style=\"white-space:pre;overflow-x:auto;line-height:normal;font-family:Menlo,'DejaVu Sans Mono',consolas,'Courier New',monospace\"><span style=\"font-weight: bold\">{</span>\n    <span style=\"color: #008000; text-decoration-color: #008000\">'created_at'</span>: <span style=\"color: #800080; text-decoration-color: #800080; font-weight: bold\">datetime.datetime</span><span style=\"font-weight: bold\">(</span><span style=\"color: #008080; text-decoration-color: #008080; font-weight: bold\">2020</span>, <span style=\"color: #008080; text-decoration-color: #008080; font-weight: bold\">2</span>, <span style=\"color: #008080; text-decoration-color: #008080; font-weight: bold\">7</span>, <span style=\"color: #008080; text-decoration-color: #008080; font-weight: bold\">0</span>, <span style=\"color: #008080; text-decoration-color: #008080; font-weight: bold\">0</span>, <span style=\"color: #808000; text-decoration-color: #808000\">tzinfo</span>=<span style=\"color: #800080; text-decoration-color: #800080\">datetime</span>.timezone.utc<span style=\"font-weight: bold\">)</span>,\n    <span style=\"color: #008000; text-decoration-color: #008000\">'creator_id'</span>: <span style=\"color: #008000; text-decoration-color: #008000\">'user-3'</span>,\n    <span style=\"color: #008000; text-decoration-color: #008000\">'pk'</span>: <span style=\"color: #008000; text-decoration-color: #008000\">'channel-2-videos'</span>,\n    <span style=\"color: #008000; text-decoration-color: #008000\">'sk'</span>: <span style=\"color: #008000; text-decoration-color: #008000\">'1581051600.0'</span>,\n    <span style=\"color: #008000; text-decoration-color: #008000\">'video_id'</span>: <span style=\"color: #008000; text-decoration-color: #008000\">'video-7'</span>,\n    <span style=\"color: #008000; text-decoration-color: #008000\">'video_title'</span>: <span style=\"color: #008000; text-decoration-color: #008000\">'video7'</span>\n<span style=\"font-weight: bold\">}</span>\n</pre>\n"
     },
     "metadata": {},
     "output_type": "display_data"
    }
   ],
   "source": [
    "for video in Model.get_channel_videos(channel_id=1):\n",
    "    rprint(video.to_dict())"
   ],
   "metadata": {
    "collapsed": false,
    "pycharm": {
     "name": "#%%\n"
    }
   }
  },
  {
   "cell_type": "code",
   "execution_count": null,
   "outputs": [],
   "source": [],
   "metadata": {
    "collapsed": false,
    "pycharm": {
     "name": "#%%\n"
    }
   }
  }
 ],
 "metadata": {
  "kernelspec": {
   "display_name": "Python 3",
   "language": "python",
   "name": "python3"
  },
  "language_info": {
   "codemirror_mode": {
    "name": "ipython",
    "version": 2
   },
   "file_extension": ".py",
   "mimetype": "text/x-python",
   "name": "python",
   "nbconvert_exporter": "python",
   "pygments_lexer": "ipython2",
   "version": "2.7.6"
  }
 },
 "nbformat": 4,
 "nbformat_minor": 0
}