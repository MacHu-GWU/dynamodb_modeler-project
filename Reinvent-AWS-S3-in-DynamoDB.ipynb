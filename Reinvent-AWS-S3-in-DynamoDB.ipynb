{
 "cells": [
  {
   "cell_type": "markdown",
   "id": "6a11b6e3-b2af-48a2-b5d7-0b906216f687",
   "metadata": {},
   "source": [
    "# What is This\n",
    "\n",
    "This is an example of how to implement a simple hierarchy file system in DynamoDB.\n",
    "\n",
    "\n",
    "# Analyze Business Requirement\n",
    "\n",
    "**Entities**\n",
    "\n",
    "- 📁 **Directory**\n",
    "- 📄 **File**\n",
    "\n",
    "There's a root directory ``/``. The parent directory of ``/`` is ``None``.\n",
    "\n",
    "**Relationships**\n",
    "\n",
    "- **Directory or File** can be a child of another **Directory**\n",
    "\n",
    "**User Interaction**\n",
    "\n",
    "- Make directory\n",
    "- Make file\n",
    "- List all directory and file\n",
    "\n",
    "Reference:\n",
    "\n",
    "- Sample data: https://docs.google.com/spreadsheets/d/1PG2YyBoH2NoPyhcGhweARX2XdbRlh8-EEH9YD4IidHU/edit#gid=1168957421\n",
    "\n",
    "# Import Python Libraries"
   ]
  },
  {
   "cell_type": "code",
   "execution_count": 3,
   "id": "5f6cf592-4bda-4318-9353-79faca413d5e",
   "metadata": {},
   "outputs": [],
   "source": [
    "import typing as T\n",
    "import dataclasses\n",
    "\n",
    "import pynamodb_mate as pm\n",
    "import pynamodb.exceptions as exc\n",
    "\n",
    "from moto import mock_dynamodb\n",
    "\n",
    "# create a DynamoDB connection, ensure that your default AWS credential is right\n",
    "# if you are using mock, then this line always works\n",
    "connect = pm.Connection()\n",
    "\n",
    "# use moto to mock DynamoDB, it is an in-memory implementation of DynamoDB\n",
    "# you can also use the real DynamoDB table by just comment out the below two line\n",
    "mock = mock_dynamodb()\n",
    "mock.start()\n",
    "\n",
    "# Type hint notation helper\n",
    "REQUIRED_STR = T.Union[str, pm.UnicodeAttribute]\n",
    "OPTIONAL_STR = T.Optional[REQUIRED_STR]"
   ]
  },
  {
   "cell_type": "markdown",
   "id": "1f54a083-8412-4371-8afc-7df3e44cd867",
   "metadata": {},
   "source": [
    "# Define DynamoDB Data Model"
   ]
  },
  {
   "cell_type": "code",
   "execution_count": 4,
   "id": "c1a2fdb2-1bf3-410b-a35a-fe26833123d2",
   "metadata": {},
   "outputs": [],
   "source": [
    "class Entity(pm.Model):\n",
    "    \"\"\" \"\"\"\n",
    "\n",
    "    class Meta:\n",
    "        table_name = \"path\"\n",
    "        region = \"us-east-1\"\n",
    "        billing_mode = pm.PAY_PER_REQUEST_BILLING_MODE\n",
    "\n",
    "    # partition key and sort key\n",
    "    pk: REQUIRED_STR = pm.UnicodeAttribute(hash_key=True)\n",
    "    sk: REQUIRED_STR = pm.UnicodeAttribute(range_key=True)\n",
    "\n",
    "\n",
    "Entity.create_table(wait=True)"
   ]
  },
  {
   "cell_type": "markdown",
   "id": "42b14ce7-f5e6-4933-9dfe-e3bab0008fea",
   "metadata": {},
   "source": [
    "# Define Some Helper Functions"
   ]
  },
  {
   "cell_type": "code",
   "execution_count": 5,
   "id": "8c3c66b4-1f47-4650-889c-82d4d8ceb5e5",
   "metadata": {},
   "outputs": [],
   "source": [
    "def split_path(path: str) -> tuple[T.Optional[str], str]:\n",
    "    if path == \"/\":\n",
    "        return None, path\n",
    "    # /a/ -> (/, a/)\n",
    "    # /a/b/ -> (/a/, b/)\n",
    "    elif path.endswith(\"/\"):\n",
    "        a, b, c = path.rsplit(\"/\", 2)\n",
    "        return f\"{a}/\", f\"{b}/\"\n",
    "    else:\n",
    "        a, b = path.rsplit(\"/\", 1)\n",
    "        # /a -> (/, a)\n",
    "        if a == \"\":\n",
    "            return \"/\", b\n",
    "        # /a/b -> (/a/, b)\n",
    "        else:\n",
    "            return f\"{a}/\", b\n",
    "\n",
    "\n",
    "def test_split_path():\n",
    "    assert split_path(\"/\") == (None, \"/\")\n",
    "    assert split_path(\"/a\") == (\"/\", \"a\")\n",
    "    assert split_path(\"/a/\") == (\"/\", \"a/\")\n",
    "    assert split_path(\"/a/b/\") == (\"/a/\", \"b/\")\n",
    "\n",
    "\n",
    "test_split_path()\n",
    "\n",
    "\n",
    "def join_path(pk: str, sk: str):\n",
    "    if sk == \"__root__\":\n",
    "        return \"/\"\n",
    "    else:\n",
    "        return f\"{pk}{sk}\"\n",
    "\n",
    "\n",
    "def test_join_path():\n",
    "    assert join_path(\"/\", \"__root__\") == \"/\"\n",
    "    assert join_path(\"/\", \"a\") == \"/a\"\n",
    "    assert join_path(\"/\", \"a/\") == \"/a/\"\n",
    "    assert join_path(\"/a/\", \"b\") == \"/a/b\"\n",
    "    assert join_path(\"/a/\", \"b/\") == \"/a/b/\"\n",
    "\n",
    "\n",
    "test_join_path()\n",
    "\n",
    "\n",
    "class TypeEnum:\n",
    "    DIR = \"D\"\n",
    "    FILE = \"F\""
   ]
  },
  {
   "cell_type": "markdown",
   "id": "a67258d4-d863-4fe8-a117-97b20fe21057",
   "metadata": {},
   "source": [
    "# Implement Business Operations"
   ]
  },
  {
   "cell_type": "code",
   "execution_count": 6,
   "id": "6aa538ba-0093-4856-8c90-16a8458d96c0",
   "metadata": {},
   "outputs": [],
   "source": [
    "@dataclasses.dataclass\n",
    "class BusinessOperation:\n",
    "    def print_all(self):\n",
    "        for item in Entity.scan():\n",
    "            print(join_path(item.pk, item.sk))\n",
    "\n",
    "    def exists(self, dir_path: str):\n",
    "        \"\"\"\n",
    "        Check if a directory or file exists\n",
    "        \"\"\"\n",
    "        if dir_path == \"/\":\n",
    "            return True\n",
    "        a, b = split_path(dir_path)\n",
    "        try:\n",
    "            Entity.get(a, b)\n",
    "            return True\n",
    "        except exc.DoesNotExist as e:\n",
    "            return False\n",
    "\n",
    "    def make_dir(\n",
    "        self,\n",
    "        name: str,\n",
    "        dir_path: str,\n",
    "    ):\n",
    "        \"\"\"\n",
    "        Make a new directory.\n",
    "        \"\"\"\n",
    "        if \"/\" in name:\n",
    "            raise ValueError\n",
    "        if self.exists(dir_path):\n",
    "            try:\n",
    "                Entity(pk=dir_path, sk=f\"{name}/\").save(\n",
    "                    condition=Entity.pk.does_not_exist() & Entity.sk.does_not_exist()\n",
    "                )\n",
    "            except exc.PutError as e:\n",
    "                pass\n",
    "        else:\n",
    "            raise FileNotFoundError(f\"dir {dir_path!r} not found!\")\n",
    "\n",
    "    def make_file(\n",
    "        self,\n",
    "        name: str,\n",
    "        dir_path: str,\n",
    "    ):\n",
    "        \"\"\"\n",
    "        Make a new file.\n",
    "        \"\"\"\n",
    "        if \"/\" in name:\n",
    "            raise ValueError\n",
    "        if self.exists(dir_path):\n",
    "            try:\n",
    "                Entity(pk=dir_path, sk=name).save(\n",
    "                    condition=Entity.pk.does_not_exist() & Entity.sk.does_not_exist()\n",
    "                )\n",
    "            except exc.PutError as e:\n",
    "                pass\n",
    "        else:\n",
    "            raise FileNotFoundError(f\"dir {dir_path!r} not found!\")\n",
    "\n",
    "    def listdir(self, dir_path: str) -> list[str]:\n",
    "        return [join_path(item.pk, item.sk) for item in Entity.query(dir_path)]\n",
    "\n",
    "\n",
    "op = BusinessOperation()"
   ]
  },
  {
   "cell_type": "markdown",
   "id": "2eed95fa-af61-46fb-8956-becdc46cc4ac",
   "metadata": {},
   "source": [
    "# Setup Dummy Data For Testing"
   ]
  },
  {
   "cell_type": "code",
   "execution_count": 7,
   "id": "25c72173-d029-4222-a924-03dced8823ed",
   "metadata": {},
   "outputs": [
    {
     "name": "stdout",
     "output_type": "stream",
     "text": [
      "/\n",
      "/documents/\n",
      "/file1.txt\n",
      "/file2.txt\n",
      "/documents/images/\n",
      "/documents/deck1.ppt\n",
      "/documents/deck2.ppt\n",
      "/documents/images/logo.png\n",
      "/documents/images/icon.png\n"
     ]
    }
   ],
   "source": [
    "Entity(pk=\"/\", sk=\"__root__\").save()\n",
    "op.make_dir(name=\"documents\", dir_path=\"/\")\n",
    "op.make_file(name=\"file1.txt\", dir_path=\"/\")\n",
    "op.make_file(name=\"file2.txt\", dir_path=\"/\")\n",
    "op.make_dir(name=\"images\", dir_path=\"/documents/\")\n",
    "op.make_file(name=\"deck1.ppt\", dir_path=\"/documents/\")\n",
    "op.make_file(name=\"deck2.ppt\", dir_path=\"/documents/\")\n",
    "op.make_file(name=\"logo.png\", dir_path=\"/documents/images/\")\n",
    "op.make_file(name=\"icon.png\", dir_path=\"/documents/images/\")\n",
    "\n",
    "op.print_all()"
   ]
  },
  {
   "cell_type": "markdown",
   "id": "8d81cf55-4c64-4621-95db-cfcf00b94bcd",
   "metadata": {},
   "source": [
    "# Test Business Operations"
   ]
  },
  {
   "cell_type": "code",
   "execution_count": 8,
   "id": "f0250bb7-3162-4f73-8e47-34ec235ffc5f",
   "metadata": {},
   "outputs": [],
   "source": [
    "def print_all(lst):\n",
    "    for item in lst:\n",
    "        print(item)"
   ]
  },
  {
   "cell_type": "code",
   "execution_count": 9,
   "id": "01e82f56-e54f-4273-93d4-241b5f5be1c1",
   "metadata": {},
   "outputs": [
    {
     "name": "stdout",
     "output_type": "stream",
     "text": [
      "--- listdir: / ---\n",
      "/\n",
      "/documents/\n",
      "/file1.txt\n",
      "/file2.txt\n"
     ]
    }
   ],
   "source": [
    "print(\"--- listdir: / ---\")\n",
    "print_all(op.listdir(\"/\"))"
   ]
  },
  {
   "cell_type": "code",
   "execution_count": 10,
   "id": "401ae632-f131-42f5-82ed-424f1ce686fe",
   "metadata": {},
   "outputs": [
    {
     "name": "stdout",
     "output_type": "stream",
     "text": [
      "--- listdir: /documents/ ---\n",
      "/documents/deck1.ppt\n",
      "/documents/deck2.ppt\n",
      "/documents/images/\n"
     ]
    }
   ],
   "source": [
    "print(\"--- listdir: /documents/ ---\")\n",
    "print_all(op.listdir(\"/documents/\"))"
   ]
  },
  {
   "cell_type": "code",
   "execution_count": 11,
   "id": "2373ed9c-2571-4ea3-97ce-680768fe22d5",
   "metadata": {},
   "outputs": [
    {
     "name": "stdout",
     "output_type": "stream",
     "text": [
      "--- listdir: /documents/images/ ---\n",
      "/documents/images/icon.png\n",
      "/documents/images/logo.png\n"
     ]
    }
   ],
   "source": [
    "print(\"--- listdir: /documents/images/ ---\")\n",
    "print_all(op.listdir(\"/documents/images/\"))"
   ]
  },
  {
   "cell_type": "code",
   "execution_count": 12,
   "id": "51b44c04-21e0-480d-be31-6fcd22261dcd",
   "metadata": {},
   "outputs": [
    {
     "name": "stdout",
     "output_type": "stream",
     "text": [
      "--- exists: /documents/ ---\n",
      "True\n"
     ]
    }
   ],
   "source": [
    "print(\"--- exists: /documents/ ---\")\n",
    "print(op.exists(\"/documents/\"))"
   ]
  },
  {
   "cell_type": "code",
   "execution_count": 13,
   "id": "8f56d177-d49f-4a2b-878f-03573679b9c0",
   "metadata": {},
   "outputs": [
    {
     "name": "stdout",
     "output_type": "stream",
     "text": [
      "--- exists: /documents/deck1.ppt ---\n",
      "True\n"
     ]
    }
   ],
   "source": [
    "print(\"--- exists: /documents/deck1.ppt ---\")\n",
    "print(op.exists(\"/documents/deck1.ppt\"))"
   ]
  },
  {
   "cell_type": "code",
   "execution_count": 14,
   "id": "8dc309af-13ae-4824-a4ff-f45f95449573",
   "metadata": {},
   "outputs": [
    {
     "name": "stdout",
     "output_type": "stream",
     "text": [
      "--- exists: /not-exists.txt ---\n",
      "False\n"
     ]
    }
   ],
   "source": [
    "print(\"--- exists: /not-exists.txt ---\")\n",
    "print(op.exists(\"/not-exists.txt\"))"
   ]
  },
  {
   "cell_type": "code",
   "execution_count": null,
   "id": "4e6240f1-ef66-4316-b1e8-3376aeb00a75",
   "metadata": {},
   "outputs": [],
   "source": []
  }
 ],
 "metadata": {
  "kernelspec": {
   "display_name": "Python 3 (ipykernel)",
   "language": "python",
   "name": "python3"
  },
  "language_info": {
   "codemirror_mode": {
    "name": "ipython",
    "version": 3
   },
   "file_extension": ".py",
   "mimetype": "text/x-python",
   "name": "python",
   "nbconvert_exporter": "python",
   "pygments_lexer": "ipython3",
   "version": "3.10.10"
  }
 },
 "nbformat": 4,
 "nbformat_minor": 5
}
