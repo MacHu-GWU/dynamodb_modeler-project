{
 "cells": [
  {
   "cell_type": "markdown",
   "metadata": {
    "collapsed": false,
    "jupyter": {
     "outputs_hidden": false
    },
    "pycharm": {
     "name": "#%% md\n"
    }
   },
   "source": [
    "# Reinvent YouTube in DynamoDB\n",
    "\n",
    "![Youtube](https://user-images.githubusercontent.com/6800411/212983031-356dc229-251b-46f7-911f-d3e897ce89fd.jpg)\n",
    "\n",
    "# What is this?\n",
    "\n",
    "This example demonstrates the ultimate strategy to implement one-to-many, many-to-many relationships in DynamoDB. We will demonstrate this method by reinventing YouTube in DynamoDB.\n",
    "\n",
    "# Analyze Business Requirement\n",
    "\n",
    "The first step is to list out all the entities involved in your application and how users interact with it.\n",
    "\n",
    "**Entities**\n",
    "\n",
    "- 👤 **User**: People must sign up for a Google account to use YouTube. Each Google account represents a user.\n",
    "- 🎬 **Video**: Users can create and upload videos to the platform.\n",
    "- 📺 **Channel**: Users can use channels to group their own videos together, helping the author manage access from different paid tiers.\n",
    "- 💽 **Playlist**: Users can create playlists to organize videos logically, even if the videos are created by other users.\n",
    "\n",
    "**Relationship**\n",
    "\n",
    "- **Video Ownership**: User and Video (One-to-Many)\n",
    "    - Each video is created by only one user (the creator).\n",
    "    - A single user can publish multiple videos.\n",
    "- **Channel Ownership**: User and Channel (One-to-Many)\n",
    "    - Each channel is owned by only one user (the creator).\n",
    "    - A single user can create and manage multiple channels.\n",
    "- **Playlist Ownership**: User and Playlist (One-to-Many)\n",
    "    - Each playlist is created by only one user (the creator).\n",
    "    - A single user can create and manage multiple playlists.\n",
    "- **Video-Channel Association**: Video and Channel (Many-to-Many)\n",
    "    - A single channel can contain multiple videos.\n",
    "    - A single video can be associated with multiple channels.\n",
    "- **Video-Playlist Association**: Video and Playlist (Many-to-Many)\n",
    "    - A single playlist can include multiple videos from different channels and creators.\n",
    "    - A single video can be added to multiple playlists created by different users.\n",
    "- **User-User Subscription**: User and User (Many-to-Many)\n",
    "    - A single user can subscribe to multiple users.\n",
    "    - A single user can have multiple subscribers (users).\n",
    "- **User-Channel Subscription**: User and Channel (Many-to-Many)\n",
    "    - A single user can subscribe to multiple channels.\n",
    "    - A single channel can have multiple subscribers (users).\n",
    "\n",
    "**User Interaction**\n",
    "\n",
    "- People can sign up as a new user.\n",
    "- User can create a new video.\n",
    "- User can create a new channel.\n",
    "- User can create a new playlist.\n",
    "- User can add video to channel.\n",
    "- User can add video to playlist.\n",
    "- User can subscribe another user.\n",
    "- User can subscribe a channel.\n",
    "\n",
    "**Query Pattern**\n",
    "\n",
    "- Given a User id, we can get the detailed information of the user.\n",
    "- Given a Video id, we can get the detailed information of the video.\n",
    "- Given a User id, we can get all the videos he created.\n",
    "- Given a User id, we can get all the channel he created.\n",
    "- Given a User id, we can get all the playlist he created.\n",
    "- Given a Channel id, we can get all video in this channel.\n",
    "- Given a Playlist id, we can get all video in this playlist.\n",
    "- Given a User id, we can get all youtuber he has subscribed.\n",
    "- Given a User id, we can get all channel he has subscribed.\n",
    "- Given a User id, we can get all user who have subscribed him.\n",
    "- Given a Channel id, we can get all user who have subscribed it."
   ]
  },
  {
   "cell_type": "markdown",
   "metadata": {
    "collapsed": false,
    "jupyter": {
     "outputs_hidden": false
    },
    "pycharm": {
     "name": "#%% md\n"
    }
   },
   "source": [
    "# Install and Import Python Libraries\n",
    "\n",
    "For a POC, we use the following tools to simplify our development:\n",
    "\n",
    "- [moto](http://docs.getmoto.org/en/latest/index.html): a library that allows you to easily mock out tests based on AWS infrastructure. See [implemented dynamodb feature in moto](http://docs.getmoto.org/en/latest/docs/services/dynamodb.html) for more information.\n",
    "- [pynamodb_mate](https://pynamodb-mate.readthedocs.io/en/latest/): a powerful DynamoDB SDK python library to implment your ORM DynamoDB model.\n",
    "- [dataclasses](https://docs.python.org/3/library/dataclasses.html): the Python standard library to implement your application data model.\n",
    "\n",
    "Run the following command to install dependencies:\n",
    "\n",
    "```bash\n",
    "pip install \"pynamodb_mate>=5.3.4,<6.0.0\"\n",
    "pip install \"moto>=4.2.12,<5.0.0\"\n",
    "```"
   ]
  },
  {
   "cell_type": "code",
   "execution_count": 87,
   "metadata": {
    "ExecuteTime": {
     "end_time": "2024-04-05T19:57:35.268085Z",
     "start_time": "2024-04-05T19:57:35.264679Z"
    },
    "collapsed": false,
    "jupyter": {
     "outputs_hidden": false
    },
    "pycharm": {
     "name": "#%%\n"
    }
   },
   "outputs": [],
   "source": [
    "import typing as T\n",
    "import dataclasses\n",
    "\n",
    "import pynamodb_mate as pm\n",
    "import pynamodb.exceptions as exc\n",
    "\n",
    "from moto import mock_dynamodb"
   ]
  },
  {
   "cell_type": "markdown",
   "metadata": {
    "collapsed": false,
    "jupyter": {
     "outputs_hidden": false
    }
   },
   "source": [
    "# Create DynamoDB Connection"
   ]
  },
  {
   "cell_type": "code",
   "execution_count": 88,
   "metadata": {
    "ExecuteTime": {
     "end_time": "2024-04-05T19:39:47.052191Z",
     "start_time": "2024-04-05T19:39:46.984719Z"
    },
    "collapsed": false,
    "jupyter": {
     "outputs_hidden": false
    }
   },
   "outputs": [],
   "source": [
    "# use moto to mock DynamoDB, it is an in-memory implementation of DynamoDB\n",
    "# you can also use the real DynamoDB table by just comment out the below two line\n",
    "mock = mock_dynamodb()\n",
    "mock.start()\n",
    "\n",
    "# create a DynamoDB connection, ensure that your default AWS credential is right\n",
    "# if you are using mock, then this line always works\n",
    "connect = pm.Connection()"
   ]
  },
  {
   "cell_type": "markdown",
   "metadata": {
    "collapsed": false,
    "jupyter": {
     "outputs_hidden": false
    },
    "pycharm": {
     "name": "#%% md\n"
    }
   },
   "source": [
    "# Define Some Helpers"
   ]
  },
  {
   "cell_type": "code",
   "execution_count": 89,
   "metadata": {
    "ExecuteTime": {
     "end_time": "2024-04-05T19:52:06.521362Z",
     "start_time": "2024-04-05T19:52:06.514552Z"
    },
    "collapsed": false,
    "jupyter": {
     "outputs_hidden": false
    }
   },
   "outputs": [],
   "source": [
    "# Type hint notation helper\n",
    "REQUIRED_STR = T.Union[str, pm.UnicodeAttribute]\n",
    "OPTIONAL_STR = T.Optional[REQUIRED_STR]\n",
    "\n",
    "# This is a special value for sort key when the item is an entity\n",
    "ROOT = \"--root--\""
   ]
  },
  {
   "cell_type": "markdown",
   "metadata": {
    "collapsed": false,
    "jupyter": {
     "outputs_hidden": false
    }
   },
   "source": [
    "# Define DynamoDB Data Model\n",
    "\n",
    "It is always good to define a class for all your data models. It gives you a centralized place to access all the application logics and query patterns. Also, with proper type hint set up, the compiler will automatically check your typo and data type error for you.\n",
    "\n",
    "To learn more details about how to write DynamoDB application code in Python, read these:\n",
    "\n",
    "- [Pynamodb getting started](https://pynamodb.readthedocs.io/en/stable/tutorial.html#getting-started)\n",
    "- [Pynamodb mate](https://pynamodb-mate.readthedocs.io/en/latest/)\n",
    "\n",
    "**Terms**\n",
    "\n",
    "- **Item**: a DynamoDB item.\n",
    "- **Entity**: a special type of Item, a logical database entity, like user, video, channel, playlist.\n",
    "- **Relationship**: a special type of Item, a logical relationship between two entities.\n",
    "    There are two type of relationship, one to many, many to many. There's no\n",
    "    one-to-one relationship in DynamoDB because they should be merged into one entity."
   ]
  },
  {
   "cell_type": "code",
   "execution_count": 90,
   "metadata": {
    "ExecuteTime": {
     "end_time": "2024-04-05T19:56:57.444358Z",
     "start_time": "2024-04-05T19:56:57.384100Z"
    },
    "collapsed": false,
    "jupyter": {
     "outputs_hidden": false
    }
   },
   "outputs": [],
   "source": [
    "class LookupIndex(pm.GlobalSecondaryIndex):\n",
    "    class Meta:\n",
    "        index = \"lookup-index\"\n",
    "        projection = pm.AllProjection\n",
    "\n",
    "    sk: REQUIRED_STR = pm.UnicodeAttribute(hash_key=True)\n",
    "\n",
    "\n",
    "class Entity(pm.Model):\n",
    "    \"\"\"\n",
    "    Main entity item. Base class for all entity items and relationship items.\n",
    "\n",
    "    :param pk: partition key can only have alpha letter and hyphen.\n",
    "        For entity item, it is the unique id.\n",
    "    :param sk: sort key can only have alpha letter and hyphen.\n",
    "        For entity item, it is always \"__root__\". For relationship item,\n",
    "        pk and sk are the two unique ids of the two related entities.\n",
    "    :param type: item type, can be used to filter by the type.\n",
    "    :param name: human friendly name of the entity.\n",
    "    \"\"\"\n",
    "\n",
    "    class Meta:\n",
    "        table_name = \"entity\"\n",
    "        region = \"us-east-1\"\n",
    "        billing_mode = pm.PAY_PER_REQUEST_BILLING_MODE\n",
    "\n",
    "    # partition key and sort key\n",
    "    pk: REQUIRED_STR = pm.UnicodeAttribute(hash_key=True)\n",
    "    sk: REQUIRED_STR = pm.UnicodeAttribute(range_key=True)\n",
    "\n",
    "    # common attributes\n",
    "    type: REQUIRED_STR = pm.UnicodeAttribute()\n",
    "    name: OPTIONAL_STR = pm.UnicodeAttribute(null=True)\n",
    "\n",
    "    lookup_index = LookupIndex()\n",
    "\n",
    "    def print(self):\n",
    "        \"\"\"\n",
    "        Print necessary attributes of an entity item, only include human friendly attributes.\n",
    "        \"\"\"\n",
    "        d = dict(\n",
    "            type=self.type,\n",
    "            pk=self.pk,\n",
    "            sk=self.sk,\n",
    "        )\n",
    "        if self.name:\n",
    "            d[\"name\"] = self.name\n",
    "        print(d)\n",
    "\n",
    "    @property\n",
    "    def pk_id(self):\n",
    "        return self.pk.split(\"_\")[0]\n",
    "\n",
    "    @property\n",
    "    def sk_id(self):\n",
    "        return self.sk.split(\"_\")[0]\n",
    "\n",
    "Entity.create_table(wait=True)"
   ]
  },
  {
   "cell_type": "code",
   "execution_count": 91,
   "metadata": {},
   "outputs": [],
   "source": [
    "class User(Entity):\n",
    "    lookup_index = LookupIndex()\n",
    "\n",
    "    @property\n",
    "    def user_id(self) -> str:\n",
    "        return self.pk_id\n",
    "\n",
    "\n",
    "class Video(Entity):\n",
    "    lookup_index = LookupIndex()\n",
    "\n",
    "    @property\n",
    "    def video_id(self) -> str:\n",
    "        return self.pk_id\n",
    "\n",
    "\n",
    "class Channel(Entity):\n",
    "    lookup_index = LookupIndex()\n",
    "\n",
    "    @property\n",
    "    def channel_id(self) -> str:\n",
    "        return self.pk_id\n",
    "\n",
    "\n",
    "class Playlist(Entity):\n",
    "    lookup_index = LookupIndex()\n",
    "\n",
    "    @property\n",
    "    def playlist_id(self) -> str:\n",
    "        return self.pk_id\n",
    "\n",
    "\n",
    "class VideoOwnership(Entity):\n",
    "    lookup_index = LookupIndex()\n",
    "\n",
    "    @property\n",
    "    def video_id(self) -> str:\n",
    "        return self.pk_id\n",
    "\n",
    "    @property\n",
    "    def user_id(self) -> str:\n",
    "        return self.sk_id\n",
    "\n",
    "\n",
    "class ChannelOwnership(Entity):\n",
    "    lookup_index = LookupIndex()\n",
    "\n",
    "    @property\n",
    "    def channel_id(self) -> str:\n",
    "        return self.pk_id\n",
    "\n",
    "    @property\n",
    "    def user_id(self) -> str:\n",
    "        return self.sk_id\n",
    "\n",
    "\n",
    "class PlaylistOwnership(Entity):\n",
    "    lookup_index = LookupIndex()\n",
    "\n",
    "    @property\n",
    "    def playlist_id(self) -> str:\n",
    "        return self.pk_id\n",
    "\n",
    "    @property\n",
    "    def user_id(self) -> str:\n",
    "        return self.sk_id\n",
    "\n",
    "\n",
    "class VideoChannelAssociation(Entity):\n",
    "    lookup_index = LookupIndex()\n",
    "\n",
    "    @property\n",
    "    def video_id(self) -> str:\n",
    "        return self.pk_id\n",
    "\n",
    "    @property\n",
    "    def channel_id(self) -> str:\n",
    "        return self.sk_id\n",
    "\n",
    "\n",
    "class VideoPlaylistAssociation(Entity):\n",
    "    lookup_index = LookupIndex()\n",
    "\n",
    "    @property\n",
    "    def video_id(self) -> str:\n",
    "        return self.pk_id\n",
    "\n",
    "    @property\n",
    "    def playlist_id(self) -> str:\n",
    "        return self.sk_id\n",
    "\n",
    "\n",
    "class ViewerSubscribeYoutuber(Entity):\n",
    "    lookup_index = LookupIndex()\n",
    "\n",
    "    @property\n",
    "    def viewer_id(self) -> str:\n",
    "        return self.pk_id\n",
    "\n",
    "    @property\n",
    "    def youtuber_id(self) -> str:\n",
    "        return self.sk_id\n",
    "\n",
    "\n",
    "class ViewerSubscribeChannel(Entity):\n",
    "    lookup_index = LookupIndex()\n",
    "\n",
    "    @property\n",
    "    def viewer_id(self) -> str:\n",
    "        return self.pk_id\n",
    "\n",
    "    @property\n",
    "    def channel_id(self) -> str:\n",
    "        return self.sk_id\n",
    "\n",
    "\n",
    "T_Entity = T.Union[\n",
    "    Entity,\n",
    "    User,\n",
    "    Video,\n",
    "    Channel,\n",
    "    Playlist,\n",
    "    VideoOwnership,\n",
    "    ChannelOwnership,\n",
    "    PlaylistOwnership,\n",
    "    VideoChannelAssociation,\n",
    "    VideoPlaylistAssociation,\n",
    "    ViewerSubscribeYoutuber,\n",
    "    ViewerSubscribeChannel,\n",
    "]\n",
    "T_Entity_Type = T.Union[\n",
    "    T.Type[Entity],\n",
    "    T.Type[User],\n",
    "    T.Type[Video],\n",
    "    T.Type[Channel],\n",
    "    T.Type[Playlist],\n",
    "    T.Type[VideoOwnership],\n",
    "    T.Type[ChannelOwnership],\n",
    "    T.Type[PlaylistOwnership],\n",
    "    T.Type[VideoChannelAssociation],\n",
    "    T.Type[VideoPlaylistAssociation],\n",
    "    T.Type[ViewerSubscribeYoutuber],\n",
    "    T.Type[ViewerSubscribeChannel],\n",
    "]"
   ]
  },
  {
   "cell_type": "markdown",
   "metadata": {},
   "source": [
    "# Define Relationship Metadata\n",
    "\n",
    "DynamoDB ORM Model doesn't know the relationship between entities. We need to define the relationship metadata to help us to implement the business logic."
   ]
  },
  {
   "cell_type": "code",
   "execution_count": 92,
   "metadata": {},
   "outputs": [],
   "source": [
    "class TypeEnum:\n",
    "    entity = \"entity\"\n",
    "    o2m = \"o2m\"\n",
    "    m2m = \"m2m\"\n",
    "\n",
    "\n",
    "@dataclasses.dataclass\n",
    "class ItemType:\n",
    "    \"\"\"\n",
    "    :param name: unique type name of the entity or relationship.\n",
    "    :param type: entity | o2m (one to many) | m2m (many to many)\n",
    "    :param klass: DynamoDB ORM class of the entity or relationship.\n",
    "    :param one_klass: for one-to-many relationship only.\n",
    "        The DynamoDB ORM class of the one entity.\n",
    "    :param many_klass: for one-to-many relationship only.\n",
    "        The DynamoDB ORM class of the many entity.\n",
    "    :param left_klass: for many-to-many relationship only.\n",
    "        The DynamoDB ORM class of the left entity.\n",
    "    :param right_klass: for many-to-many relationship only.\n",
    "        The DynamoDB ORM class of the right entity.\n",
    "    \"\"\"\n",
    "\n",
    "    name: str = dataclasses.field()\n",
    "    type: str = dataclasses.field()\n",
    "    klass: T.Type[T_Entity] = dataclasses.field()\n",
    "    one_klass: T.Type[T_Entity] = dataclasses.field(default=None)\n",
    "    many_klass: T.Type[T_Entity] = dataclasses.field(default=None)\n",
    "    left_klass: T.Optional[T.Type[T_Entity]] = dataclasses.field(default=None)\n",
    "    right_klass: T.Optional[T.Type[T_Entity]] = dataclasses.field(default=None)\n",
    "\n",
    "\n",
    "user_type = ItemType(\n",
    "    name=\"USER\",\n",
    "    type=TypeEnum.entity,\n",
    "    klass=User,\n",
    ")\n",
    "video_type = ItemType(\n",
    "    name=\"VIDEO\",\n",
    "    type=TypeEnum.entity,\n",
    "    klass=Video,\n",
    ")\n",
    "channel_type = ItemType(\n",
    "    name=\"CHANNEL\",\n",
    "    type=TypeEnum.entity,\n",
    "    klass=Channel,\n",
    ")\n",
    "playlist_type = ItemType(\n",
    "    name=\"PLAYLIST\",\n",
    "    type=TypeEnum.entity,\n",
    "    klass=Playlist,\n",
    ")\n",
    "video_ownership_type = ItemType(\n",
    "    name=\"VIDEO-OWNERSHIP\",\n",
    "    type=TypeEnum.o2m,\n",
    "    klass=VideoOwnership,\n",
    "    one_klass=User,\n",
    "    many_klass=Video,\n",
    ")\n",
    "channel_ownership_type = ItemType(\n",
    "    name=\"CHANNEL-OWNERSHIP\",\n",
    "    type=TypeEnum.o2m,\n",
    "    klass=ChannelOwnership,\n",
    "    one_klass=User,\n",
    "    many_klass=Channel,\n",
    ")\n",
    "playlist_ownership_type = ItemType(\n",
    "    name=\"PLAYLIST-OWNERSHIP\",\n",
    "    type=TypeEnum.o2m,\n",
    "    klass=PlaylistOwnership,\n",
    "    one_klass=User,\n",
    "    many_klass=Playlist,\n",
    ")\n",
    "video_channel_association_type = ItemType(\n",
    "    name=\"VIDEO-CHANNEL-ASSOCIATION\",\n",
    "    type=TypeEnum.m2m,\n",
    "    klass=VideoChannelAssociation,\n",
    "    left_klass=Video,\n",
    "    right_klass=Channel,\n",
    ")\n",
    "video_playlist_association_type = ItemType(\n",
    "    name=\"VIDEO-PLAYLIST-ASSOCIATION\",\n",
    "    type=TypeEnum.m2m,\n",
    "    klass=VideoPlaylistAssociation,\n",
    "    left_klass=Video,\n",
    "    right_klass=Playlist,\n",
    ")\n",
    "viewer_subscribe_youtuber_type = ItemType(\n",
    "    name=\"VIEWER-SUBSCRIBE-YOUTUBER\",\n",
    "    type=TypeEnum.m2m,\n",
    "    klass=ViewerSubscribeYoutuber,\n",
    "    left_klass=User,\n",
    "    right_klass=User,\n",
    ")\n",
    "viewer_subscribe_channel_type = ItemType(\n",
    "    name=\"VIEWER-SUBSCRIBE-CHANNEL\",\n",
    "    type=TypeEnum.m2m,\n",
    "    klass=ViewerSubscribeChannel,\n",
    "    left_klass=User,\n",
    "    right_klass=Channel,\n",
    ")\n",
    "\n",
    "item_type_list = [\n",
    "    user_type,\n",
    "    video_type,\n",
    "    channel_type,\n",
    "    playlist_type,\n",
    "    video_ownership_type,\n",
    "    channel_ownership_type,\n",
    "    playlist_ownership_type,\n",
    "    video_channel_association_type,\n",
    "    video_playlist_association_type,\n",
    "    viewer_subscribe_youtuber_type,\n",
    "    viewer_subscribe_channel_type,\n",
    "]"
   ]
  },
  {
   "cell_type": "markdown",
   "metadata": {},
   "source": [
    "# Implement Business Operations"
   ]
  },
  {
   "cell_type": "code",
   "execution_count": 93,
   "metadata": {
    "ExecuteTime": {
     "end_time": "2024-04-05T20:01:18.732500Z",
     "start_time": "2024-04-05T20:01:18.720295Z"
    },
    "collapsed": false,
    "jupyter": {
     "outputs_hidden": false
    }
   },
   "outputs": [],
   "source": [
    "@dataclasses.dataclass\n",
    "class BusinessOperation:\n",
    "    \"\"\"\n",
    "    Business Operation as a method\n",
    "    \"\"\"\n",
    "\n",
    "    item_type_list: list[ItemType] = dataclasses.field()\n",
    "    _item_type_mapper: dict[str, ItemType] = dataclasses.field(init=False)\n",
    "\n",
    "    def __post_init__(self):\n",
    "        self._item_type_mapper = {\n",
    "            item_type.name: item_type for item_type in self.item_type_list\n",
    "        }\n",
    "        if len(self._item_type_mapper) != len(self.item_type_list):\n",
    "            raise ValueError(\"item_type_list has duplicate name\")\n",
    "\n",
    "    def _get_type(self, name: str) -> ItemType:\n",
    "        return self._item_type_mapper[name]\n",
    "\n",
    "    def new_entity(\n",
    "        self,\n",
    "        type: ItemType,\n",
    "        id: str,\n",
    "        name: str,\n",
    "        save: bool = True,\n",
    "    ) -> T.Optional[Entity]:\n",
    "        if type.type != TypeEnum.entity:\n",
    "            raise ValueError(f\"Type {type.name} is not entity\")\n",
    "        klass = type.klass\n",
    "        entity = klass(\n",
    "            pk=id,\n",
    "            sk=ROOT,\n",
    "            type=type.name,\n",
    "            name=name,\n",
    "        )\n",
    "        if save is False:\n",
    "            return entity\n",
    "        try:\n",
    "            # ensure that the entity does not exist\n",
    "            res = entity.save(\n",
    "                condition=(~klass.pk.exists()),\n",
    "            )\n",
    "            return entity\n",
    "        except exc.PutError as e:\n",
    "            return None\n",
    "\n",
    "    def new_user(\n",
    "        self,\n",
    "        id: str,\n",
    "        name: str,\n",
    "        save: bool = True,\n",
    "    ) -> T.Optional[User]:\n",
    "        return self.new_entity(user_type, id, name, save)\n",
    "\n",
    "    def new_video(\n",
    "        self,\n",
    "        id: str,\n",
    "        name: str,\n",
    "        save: bool = True,\n",
    "    ) -> T.Optional[Video]:\n",
    "        return self.new_entity(video_type, id, name, save)\n",
    "\n",
    "    def new_channel(\n",
    "        self,\n",
    "        id: str,\n",
    "        name: str,\n",
    "        save: bool = True,\n",
    "    ) -> T.Optional[Channel]:\n",
    "        return self.new_entity(video_type, id, name, save)\n",
    "\n",
    "    def new_playlist(\n",
    "        self,\n",
    "        id: str,\n",
    "        name: str,\n",
    "        save: bool = True,\n",
    "    ) -> T.Optional[Playlist]:\n",
    "        return self.new_entity(playlist_type, id, name, save)\n",
    "\n",
    "    def scan(self) -> list[T_Entity]:\n",
    "        return list(Entity.scan())\n",
    "\n",
    "    def scan_and_print(self):\n",
    "        for entity in self.scan():\n",
    "            entity.print()\n",
    "\n",
    "    def list_entities(self, type: ItemType) -> list[T_Entity]:\n",
    "        klass = type.klass\n",
    "        return list(klass.scan(filter_condition=(klass.type == type.name)))\n",
    "\n",
    "    def list_users(self) -> list[User]:\n",
    "        return self.list_entities(user_type)\n",
    "\n",
    "    def list_videos(self) -> list[User]:\n",
    "        return self.list_entities(video_type)\n",
    "\n",
    "    def list_channels(self) -> list[User]:\n",
    "        return self.list_entities(channel_type)\n",
    "\n",
    "    def list_playlists(self) -> list[User]:\n",
    "        return self.list_entities(playlist_type)\n",
    "\n",
    "    def set_one_to_many(\n",
    "        self,\n",
    "        type: ItemType,\n",
    "        many_entity_id: str,\n",
    "        one_entity_id: str,\n",
    "    ):\n",
    "        \"\"\"\n",
    "        For example, one user has many videos, one video only belongs to one user.\n",
    "        Then, this function is used to set ownership of a video. In this case,\n",
    "        the video is the many entity, the user is the one entity.\n",
    "        \"\"\"\n",
    "        if type.type != TypeEnum.o2m:\n",
    "            raise ValueError(f\"Type {type.name} is not one-to-many relationship\")\n",
    "        klass = type.klass\n",
    "\n",
    "        with pm.TransactWrite(\n",
    "            connection=connect,\n",
    "            client_request_token=f\"{many_entity_id}_{one_entity_id}_{type}\",\n",
    "        ) as trans:\n",
    "            # find all existing relationship entities and delete them\n",
    "            # it won't have\n",
    "            r_entities = list(\n",
    "                klass.query(\n",
    "                    hash_key=f\"{many_entity_id}_{type.name}\",\n",
    "                )\n",
    "            )\n",
    "            for r_entity in r_entities:\n",
    "                trans.delete(r_entity)\n",
    "            # create a new relationship entity\n",
    "            r_entity = klass(\n",
    "                pk=f\"{many_entity_id}_{type.name}\",\n",
    "                sk=f\"{one_entity_id}_{type.name}\",\n",
    "                type=type.name,\n",
    "            )\n",
    "            trans.save(r_entity)\n",
    "\n",
    "    def set_video_owner(\n",
    "        self,\n",
    "        video_id: str,\n",
    "        user_id: str,\n",
    "    ):\n",
    "        self.set_one_to_many(video_ownership_type, video_id, user_id)\n",
    "\n",
    "    def set_channel_owner(\n",
    "        self,\n",
    "        channel_id: str,\n",
    "        user_id: str,\n",
    "    ):\n",
    "        self.set_one_to_many(channel_ownership_type, channel_id, user_id)\n",
    "\n",
    "    def set_playlist_owner(\n",
    "        self,\n",
    "        playlist_id: str,\n",
    "        user_id: str,\n",
    "    ):\n",
    "        self.set_one_to_many(playlist_ownership_type, playlist_id, user_id)\n",
    "\n",
    "    def find_many_by_one(\n",
    "        self,\n",
    "        type: ItemType,\n",
    "        one_entity_id: str,\n",
    "    ) -> list[T_Entity]:\n",
    "        if type.type != TypeEnum.o2m:\n",
    "            raise ValueError(f\"Type {type.name} is not one-to-many relationship\")\n",
    "        klass = type.klass\n",
    "        result = klass.lookup_index.query(\n",
    "            hash_key=f\"{one_entity_id}_{type.name}\",\n",
    "        )\n",
    "        return list(result)\n",
    "\n",
    "    def find_videos_created_by_a_user(self, user_id: str) -> T.List[Video]:\n",
    "        return self.find_many_by_one(video_ownership_type, user_id)\n",
    "\n",
    "    def find_channels_created_by_a_user(self, user_id: str) -> T.List[Channel]:\n",
    "        return self.find_many_by_one(channel_ownership_type, user_id)\n",
    "\n",
    "    def find_playlists_created_by_a_user(self, user_id: str) -> T.List[Playlist]:\n",
    "        return self.find_many_by_one(playlist_ownership_type, user_id)\n",
    "\n",
    "    def set_many_to_many(\n",
    "        self,\n",
    "        type: ItemType,\n",
    "        left_entity_id: str,\n",
    "        right_entity_id: str,\n",
    "    ):\n",
    "        klass = type.klass\n",
    "        klass(\n",
    "            pk=f\"{left_entity_id}_{type.name}\",\n",
    "            sk=f\"{right_entity_id}_{type.name}\",\n",
    "            type=type.name,\n",
    "        ).save(\n",
    "            condition=~(klass.pk.exists() & klass.sk.exists()),\n",
    "        )\n",
    "\n",
    "    def add_video_to_channel(\n",
    "        self,\n",
    "        video_id: str,\n",
    "        channel_id: str,\n",
    "    ):\n",
    "        self.set_many_to_many(\n",
    "            type=video_channel_association_type,\n",
    "            left_entity_id=video_id,\n",
    "            right_entity_id=channel_id,\n",
    "        )\n",
    "\n",
    "    def add_video_to_playlist(\n",
    "        self,\n",
    "        video_id: str,\n",
    "        playlist_id: str,\n",
    "    ):\n",
    "        self.set_many_to_many(\n",
    "            type=video_playlist_association_type,\n",
    "            left_entity_id=video_id,\n",
    "            right_entity_id=playlist_id,\n",
    "        )\n",
    "\n",
    "    def subscribe_user(\n",
    "        self,\n",
    "        viewer_id: str,\n",
    "        youtuber_id: str,\n",
    "    ):\n",
    "        self.set_many_to_many(\n",
    "            type=viewer_subscribe_youtuber_type,\n",
    "            left_entity_id=viewer_id,\n",
    "            right_entity_id=youtuber_id,\n",
    "        )\n",
    "\n",
    "    def subscribe_channel(\n",
    "        self,\n",
    "        viewer_id: str,\n",
    "        channel_id: str,\n",
    "    ):\n",
    "        self.set_many_to_many(\n",
    "            type=viewer_subscribe_channel_type,\n",
    "            left_entity_id=viewer_id,\n",
    "            right_entity_id=channel_id,\n",
    "        )\n",
    "\n",
    "    def find_many_by_many(\n",
    "        self,\n",
    "        type: ItemType,\n",
    "        entity_id: str,\n",
    "        lookup_by_left: bool,\n",
    "    ) -> list[T_Entity]:\n",
    "        klass = type.klass\n",
    "        if lookup_by_left:\n",
    "            return list(\n",
    "                klass.query(\n",
    "                    hash_key=f\"{entity_id}_{type.name}\",\n",
    "                )\n",
    "            )\n",
    "        else:\n",
    "            return list(\n",
    "                klass.lookup_index.query(\n",
    "                    hash_key=f\"{entity_id}_{type.name}\",\n",
    "                )\n",
    "            )\n",
    "\n",
    "    def find_videos_in_channel(\n",
    "        self,\n",
    "        channel_id: str,\n",
    "    ) -> T.List[VideoChannelAssociation]:\n",
    "        return self.find_many_by_many(\n",
    "            type=video_channel_association_type,\n",
    "            entity_id=channel_id,\n",
    "            lookup_by_left=False,\n",
    "        )\n",
    "\n",
    "    def find_channels_that_has_video(\n",
    "        self,\n",
    "        video_id: str,\n",
    "    ) -> T.List[VideoChannelAssociation]:\n",
    "        return self.find_many_by_many(\n",
    "            type=video_channel_association_type,\n",
    "            entity_id=video_id,\n",
    "            lookup_by_left=True,\n",
    "        )\n",
    "\n",
    "    def find_videos_in_playlist(\n",
    "        self,\n",
    "        playlist_id: str,\n",
    "    ) -> T.List[VideoPlaylistAssociation]:\n",
    "        return self.find_many_by_many(\n",
    "            type=video_playlist_association_type,\n",
    "            entity_id=playlist_id,\n",
    "            lookup_by_left=False,\n",
    "        )\n",
    "\n",
    "    def find_playlists_that_has_video(\n",
    "        self,\n",
    "        video_id: str,\n",
    "    ) -> T.List[VideoPlaylistAssociation]:\n",
    "        return self.find_many_by_many(\n",
    "            type=video_playlist_association_type,\n",
    "            entity_id=video_id,\n",
    "            lookup_by_left=True,\n",
    "        )\n",
    "\n",
    "    def find_followers_for_user(\n",
    "        self,\n",
    "        user_id: str,\n",
    "    ) -> T.List[ViewerSubscribeYoutuber]:\n",
    "        return self.find_many_by_many(\n",
    "            type=viewer_subscribe_youtuber_type,\n",
    "            entity_id=user_id,\n",
    "            lookup_by_left=False,\n",
    "        )\n",
    "\n",
    "    def find_subscribed_youtubers(\n",
    "        self,\n",
    "        user_id: str,\n",
    "    ) -> T.List[ViewerSubscribeYoutuber]:\n",
    "        return self.find_many_by_many(\n",
    "            type=viewer_subscribe_youtuber_type,\n",
    "            entity_id=user_id,\n",
    "            lookup_by_left=True,\n",
    "        )\n",
    "\n",
    "    def find_followers_for_channel(\n",
    "        self,\n",
    "        channel_id: str,\n",
    "    ) -> T.List[ViewerSubscribeChannel]:\n",
    "        return self.find_many_by_many(\n",
    "            type=viewer_subscribe_channel_type,\n",
    "            entity_id=channel_id,\n",
    "            lookup_by_left=False,\n",
    "        )\n",
    "\n",
    "    def find_subscribed_channels(\n",
    "        self,\n",
    "        user_id: str,\n",
    "    ) -> T.List[ViewerSubscribeChannel]:\n",
    "        return self.find_many_by_many(\n",
    "            type=viewer_subscribe_channel_type,\n",
    "            entity_id=user_id,\n",
    "            lookup_by_left=True,\n",
    "        )\n",
    "\n",
    "\n",
    "op = BusinessOperation(item_type_list=item_type_list)"
   ]
  },
  {
   "cell_type": "markdown",
   "metadata": {
    "collapsed": false,
    "jupyter": {
     "outputs_hidden": false
    }
   },
   "source": [
    "# Setup Dummy Data For Testing"
   ]
  },
  {
   "cell_type": "code",
   "execution_count": 94,
   "metadata": {},
   "outputs": [],
   "source": [
    "# Create users\n",
    "u_alice = op.new_user(id=\"u-1\", name=\"Alice\")\n",
    "u_bob = op.new_user(id=\"u-2\", name=\"Bob\")\n",
    "u_cathy = op.new_user(id=\"u-3\", name=\"Cathy\")\n",
    "u_david = op.new_user(id=\"u-4\", name=\"David\")\n",
    "\n",
    "# Create videos\n",
    "v_alice_1 = op.new_video(id=\"v-1-1\", name=\"Alice's Video 1\")\n",
    "op.set_video_owner(video_id=\"v-1-1\", user_id=\"u-1\")\n",
    "v_alice_2 = op.new_video(id=\"v-1-2\", name=\"Alice's Video 2\")\n",
    "op.set_video_owner(video_id=\"v-1-2\", user_id=\"u-1\")\n",
    "\n",
    "v_bob_1 = op.new_video(id=\"v-2-1\", name=\"Bob's Video 1\")\n",
    "op.set_video_owner(video_id=\"v-2-1\", user_id=\"u-2\")\n",
    "v_bob_2 = op.new_video(id=\"v-2-2\", name=\"Bob's Video 2\")\n",
    "op.set_video_owner(video_id=\"v-2-2\", user_id=\"u-2\")\n",
    "v_bob_3 = op.new_video(id=\"v-2-3\", name=\"Bob's Video 3\")\n",
    "op.set_video_owner(video_id=\"v-2-3\", user_id=\"u-2\")\n",
    "v_bob_4 = op.new_video(id=\"v-2-4\", name=\"Bob's Video 4\")\n",
    "op.set_video_owner(video_id=\"v-2-4\", user_id=\"u-2\")\n",
    "\n",
    "# Create channels\n",
    "c_alice_1 = op.new_channel(id=\"c-1-1\", name=\"Alice's Channel 1\")\n",
    "op.set_channel_owner(channel_id=\"c-1-1\", user_id=\"u-1\")\n",
    "c_bob_1 = op.new_channel(id=\"c-2-1\", name=\"Bob's Channel 1\")\n",
    "op.set_channel_owner(channel_id=\"c-2-1\", user_id=\"u-2\")\n",
    "c_bob_2 = op.new_channel(id=\"c-2-2\", name=\"Bob's Channel 2\")\n",
    "op.set_channel_owner(channel_id=\"c-2-2\", user_id=\"u-2\")\n",
    "\n",
    "# Create playlists\n",
    "p_cathy_1 = op.new_playlist(id=\"p-3-1\", name=\"Cathy's Playlist 1\")\n",
    "op.set_playlist_owner(playlist_id=\"p-3-1\", user_id=\"u-3\")\n",
    "p_cathy_2 = op.new_playlist(id=\"p-3-2\", name=\"Cathy's Playlist 2\")\n",
    "op.set_playlist_owner(playlist_id=\"p-3-2\", user_id=\"u-3\")\n",
    "\n",
    "# Create video and channel association\n",
    "op.add_video_to_channel(video_id=\"v-2-1\", channel_id=\"c-2-1\")\n",
    "op.add_video_to_channel(video_id=\"v-2-2\", channel_id=\"c-2-1\")\n",
    "op.add_video_to_channel(video_id=\"v-2-3\", channel_id=\"c-2-1\")\n",
    "\n",
    "op.add_video_to_channel(video_id=\"v-2-2\", channel_id=\"c-2-2\")\n",
    "op.add_video_to_channel(video_id=\"v-2-3\", channel_id=\"c-2-2\")\n",
    "op.add_video_to_channel(video_id=\"v-2-4\", channel_id=\"c-2-2\")\n",
    "\n",
    "# Create video and playlist association\n",
    "op.add_video_to_playlist(video_id=\"v-2-1\", playlist_id=\"p-3-1\")\n",
    "op.add_video_to_playlist(video_id=\"v-2-2\", playlist_id=\"p-3-1\")\n",
    "op.add_video_to_playlist(video_id=\"v-2-3\", playlist_id=\"p-3-1\")\n",
    "\n",
    "op.add_video_to_playlist(video_id=\"v-2-2\", playlist_id=\"p-3-2\")\n",
    "op.add_video_to_playlist(video_id=\"v-2-3\", playlist_id=\"p-3-2\")\n",
    "op.add_video_to_playlist(video_id=\"v-2-4\", playlist_id=\"p-3-2\")\n",
    "\n",
    "# Create viewer and youtuber subscription\n",
    "op.subscribe_user(viewer_id=\"u-1\", youtuber_id=\"u-2\")\n",
    "op.subscribe_user(viewer_id=\"u-2\", youtuber_id=\"u-1\")\n",
    "op.subscribe_user(viewer_id=\"u-3\", youtuber_id=\"u-1\")\n",
    "op.subscribe_user(viewer_id=\"u-3\", youtuber_id=\"u-2\")\n",
    "op.subscribe_user(viewer_id=\"u-4\", youtuber_id=\"u-1\")\n",
    "op.subscribe_user(viewer_id=\"u-4\", youtuber_id=\"u-3\")\n",
    "\n",
    "# Create viewer and channel subscription\n",
    "op.subscribe_channel(viewer_id=\"u-1\", channel_id=\"c-2-1\")\n",
    "op.subscribe_channel(viewer_id=\"u-1\", channel_id=\"c-2-2\")\n",
    "op.subscribe_channel(viewer_id=\"u-2\", channel_id=\"c-1-1\")\n",
    "op.subscribe_channel(viewer_id=\"u-3\", channel_id=\"c-1-1\")\n",
    "op.subscribe_channel(viewer_id=\"u-3\", channel_id=\"c-2-1\")\n",
    "op.subscribe_channel(viewer_id=\"u-4\", channel_id=\"c-2-2\")"
   ]
  },
  {
   "cell_type": "markdown",
   "metadata": {},
   "source": [
    "# Test Business Operations"
   ]
  },
  {
   "cell_type": "code",
   "execution_count": 95,
   "metadata": {},
   "outputs": [],
   "source": [
    "# declare some helpers\n",
    "def assert_pk(lst: T.Iterable[T_Entity], pks: T.List[str]):\n",
    "    \"\"\"\n",
    "    A helper function to verify a list of items' partition key.\n",
    "    \"\"\"\n",
    "    assert set(x.pk_id for x in lst) == set(pks)\n",
    "\n",
    "\n",
    "def assert_sk(lst: T.Iterable[T_Entity], sks: T.List[str]):\n",
    "    \"\"\"\n",
    "    A helper function to verify a list of items' sort key. Usually used\n",
    "    for lookup in one-to-many and many-to-many relationship.\n",
    "    \"\"\"\n",
    "    assert set(x.sk_id for x in lst) == set(sks)\n",
    "\n",
    "\n",
    "def print_all(lst: T.Iterable[T_Entity]):\n",
    "    for entity in lst:\n",
    "        entity.print()"
   ]
  },
  {
   "cell_type": "code",
   "execution_count": 96,
   "metadata": {},
   "outputs": [
    {
     "name": "stdout",
     "output_type": "stream",
     "text": [
      "--- Scan entities and relationships ---\n",
      "{'type': 'USER', 'pk': 'u-1', 'sk': '--root--', 'name': 'Alice'}\n",
      "{'type': 'USER', 'pk': 'u-2', 'sk': '--root--', 'name': 'Bob'}\n",
      "{'type': 'USER', 'pk': 'u-3', 'sk': '--root--', 'name': 'Cathy'}\n",
      "{'type': 'USER', 'pk': 'u-4', 'sk': '--root--', 'name': 'David'}\n",
      "{'type': 'VIDEO', 'pk': 'v-1-1', 'sk': '--root--', 'name': \"Alice's Video 1\"}\n",
      "{'type': 'VIDEO-OWNERSHIP', 'pk': 'v-1-1_VIDEO-OWNERSHIP', 'sk': 'u-1_VIDEO-OWNERSHIP'}\n",
      "{'type': 'VIDEO', 'pk': 'v-1-2', 'sk': '--root--', 'name': \"Alice's Video 2\"}\n",
      "{'type': 'VIDEO-OWNERSHIP', 'pk': 'v-1-2_VIDEO-OWNERSHIP', 'sk': 'u-1_VIDEO-OWNERSHIP'}\n",
      "{'type': 'VIDEO', 'pk': 'v-2-1', 'sk': '--root--', 'name': \"Bob's Video 1\"}\n",
      "{'type': 'VIDEO-OWNERSHIP', 'pk': 'v-2-1_VIDEO-OWNERSHIP', 'sk': 'u-2_VIDEO-OWNERSHIP'}\n",
      "{'type': 'VIDEO', 'pk': 'v-2-2', 'sk': '--root--', 'name': \"Bob's Video 2\"}\n",
      "{'type': 'VIDEO-OWNERSHIP', 'pk': 'v-2-2_VIDEO-OWNERSHIP', 'sk': 'u-2_VIDEO-OWNERSHIP'}\n",
      "{'type': 'VIDEO', 'pk': 'v-2-3', 'sk': '--root--', 'name': \"Bob's Video 3\"}\n",
      "{'type': 'VIDEO-OWNERSHIP', 'pk': 'v-2-3_VIDEO-OWNERSHIP', 'sk': 'u-2_VIDEO-OWNERSHIP'}\n",
      "{'type': 'VIDEO', 'pk': 'v-2-4', 'sk': '--root--', 'name': \"Bob's Video 4\"}\n",
      "{'type': 'VIDEO-OWNERSHIP', 'pk': 'v-2-4_VIDEO-OWNERSHIP', 'sk': 'u-2_VIDEO-OWNERSHIP'}\n",
      "{'type': 'VIDEO', 'pk': 'c-1-1', 'sk': '--root--', 'name': \"Alice's Channel 1\"}\n",
      "{'type': 'CHANNEL-OWNERSHIP', 'pk': 'c-1-1_CHANNEL-OWNERSHIP', 'sk': 'u-1_CHANNEL-OWNERSHIP'}\n",
      "{'type': 'VIDEO', 'pk': 'c-2-1', 'sk': '--root--', 'name': \"Bob's Channel 1\"}\n",
      "{'type': 'CHANNEL-OWNERSHIP', 'pk': 'c-2-1_CHANNEL-OWNERSHIP', 'sk': 'u-2_CHANNEL-OWNERSHIP'}\n",
      "{'type': 'VIDEO', 'pk': 'c-2-2', 'sk': '--root--', 'name': \"Bob's Channel 2\"}\n",
      "{'type': 'CHANNEL-OWNERSHIP', 'pk': 'c-2-2_CHANNEL-OWNERSHIP', 'sk': 'u-2_CHANNEL-OWNERSHIP'}\n",
      "{'type': 'PLAYLIST', 'pk': 'p-3-1', 'sk': '--root--', 'name': \"Cathy's Playlist 1\"}\n",
      "{'type': 'PLAYLIST-OWNERSHIP', 'pk': 'p-3-1_PLAYLIST-OWNERSHIP', 'sk': 'u-3_PLAYLIST-OWNERSHIP'}\n",
      "{'type': 'PLAYLIST', 'pk': 'p-3-2', 'sk': '--root--', 'name': \"Cathy's Playlist 2\"}\n",
      "{'type': 'PLAYLIST-OWNERSHIP', 'pk': 'p-3-2_PLAYLIST-OWNERSHIP', 'sk': 'u-3_PLAYLIST-OWNERSHIP'}\n",
      "{'type': 'VIDEO-CHANNEL-ASSOCIATION', 'pk': 'v-2-1_VIDEO-CHANNEL-ASSOCIATION', 'sk': 'c-2-1_VIDEO-CHANNEL-ASSOCIATION'}\n",
      "{'type': 'VIDEO-CHANNEL-ASSOCIATION', 'pk': 'v-2-2_VIDEO-CHANNEL-ASSOCIATION', 'sk': 'c-2-1_VIDEO-CHANNEL-ASSOCIATION'}\n",
      "{'type': 'VIDEO-CHANNEL-ASSOCIATION', 'pk': 'v-2-2_VIDEO-CHANNEL-ASSOCIATION', 'sk': 'c-2-2_VIDEO-CHANNEL-ASSOCIATION'}\n",
      "{'type': 'VIDEO-CHANNEL-ASSOCIATION', 'pk': 'v-2-3_VIDEO-CHANNEL-ASSOCIATION', 'sk': 'c-2-1_VIDEO-CHANNEL-ASSOCIATION'}\n",
      "{'type': 'VIDEO-CHANNEL-ASSOCIATION', 'pk': 'v-2-3_VIDEO-CHANNEL-ASSOCIATION', 'sk': 'c-2-2_VIDEO-CHANNEL-ASSOCIATION'}\n",
      "{'type': 'VIDEO-CHANNEL-ASSOCIATION', 'pk': 'v-2-4_VIDEO-CHANNEL-ASSOCIATION', 'sk': 'c-2-2_VIDEO-CHANNEL-ASSOCIATION'}\n",
      "{'type': 'VIDEO-PLAYLIST-ASSOCIATION', 'pk': 'v-2-1_VIDEO-PLAYLIST-ASSOCIATION', 'sk': 'p-3-1_VIDEO-PLAYLIST-ASSOCIATION'}\n",
      "{'type': 'VIDEO-PLAYLIST-ASSOCIATION', 'pk': 'v-2-2_VIDEO-PLAYLIST-ASSOCIATION', 'sk': 'p-3-1_VIDEO-PLAYLIST-ASSOCIATION'}\n",
      "{'type': 'VIDEO-PLAYLIST-ASSOCIATION', 'pk': 'v-2-2_VIDEO-PLAYLIST-ASSOCIATION', 'sk': 'p-3-2_VIDEO-PLAYLIST-ASSOCIATION'}\n",
      "{'type': 'VIDEO-PLAYLIST-ASSOCIATION', 'pk': 'v-2-3_VIDEO-PLAYLIST-ASSOCIATION', 'sk': 'p-3-1_VIDEO-PLAYLIST-ASSOCIATION'}\n",
      "{'type': 'VIDEO-PLAYLIST-ASSOCIATION', 'pk': 'v-2-3_VIDEO-PLAYLIST-ASSOCIATION', 'sk': 'p-3-2_VIDEO-PLAYLIST-ASSOCIATION'}\n",
      "{'type': 'VIDEO-PLAYLIST-ASSOCIATION', 'pk': 'v-2-4_VIDEO-PLAYLIST-ASSOCIATION', 'sk': 'p-3-2_VIDEO-PLAYLIST-ASSOCIATION'}\n",
      "{'type': 'VIEWER-SUBSCRIBE-YOUTUBER', 'pk': 'u-1_VIEWER-SUBSCRIBE-YOUTUBER', 'sk': 'u-2_VIEWER-SUBSCRIBE-YOUTUBER'}\n",
      "{'type': 'VIEWER-SUBSCRIBE-YOUTUBER', 'pk': 'u-2_VIEWER-SUBSCRIBE-YOUTUBER', 'sk': 'u-1_VIEWER-SUBSCRIBE-YOUTUBER'}\n",
      "{'type': 'VIEWER-SUBSCRIBE-YOUTUBER', 'pk': 'u-3_VIEWER-SUBSCRIBE-YOUTUBER', 'sk': 'u-1_VIEWER-SUBSCRIBE-YOUTUBER'}\n",
      "{'type': 'VIEWER-SUBSCRIBE-YOUTUBER', 'pk': 'u-3_VIEWER-SUBSCRIBE-YOUTUBER', 'sk': 'u-2_VIEWER-SUBSCRIBE-YOUTUBER'}\n",
      "{'type': 'VIEWER-SUBSCRIBE-YOUTUBER', 'pk': 'u-4_VIEWER-SUBSCRIBE-YOUTUBER', 'sk': 'u-1_VIEWER-SUBSCRIBE-YOUTUBER'}\n",
      "{'type': 'VIEWER-SUBSCRIBE-YOUTUBER', 'pk': 'u-4_VIEWER-SUBSCRIBE-YOUTUBER', 'sk': 'u-3_VIEWER-SUBSCRIBE-YOUTUBER'}\n",
      "{'type': 'VIEWER-SUBSCRIBE-CHANNEL', 'pk': 'u-1_VIEWER-SUBSCRIBE-CHANNEL', 'sk': 'c-2-1_VIEWER-SUBSCRIBE-CHANNEL'}\n",
      "{'type': 'VIEWER-SUBSCRIBE-CHANNEL', 'pk': 'u-1_VIEWER-SUBSCRIBE-CHANNEL', 'sk': 'c-2-2_VIEWER-SUBSCRIBE-CHANNEL'}\n",
      "{'type': 'VIEWER-SUBSCRIBE-CHANNEL', 'pk': 'u-2_VIEWER-SUBSCRIBE-CHANNEL', 'sk': 'c-1-1_VIEWER-SUBSCRIBE-CHANNEL'}\n",
      "{'type': 'VIEWER-SUBSCRIBE-CHANNEL', 'pk': 'u-3_VIEWER-SUBSCRIBE-CHANNEL', 'sk': 'c-1-1_VIEWER-SUBSCRIBE-CHANNEL'}\n",
      "{'type': 'VIEWER-SUBSCRIBE-CHANNEL', 'pk': 'u-3_VIEWER-SUBSCRIBE-CHANNEL', 'sk': 'c-2-1_VIEWER-SUBSCRIBE-CHANNEL'}\n",
      "{'type': 'VIEWER-SUBSCRIBE-CHANNEL', 'pk': 'u-4_VIEWER-SUBSCRIBE-CHANNEL', 'sk': 'c-2-2_VIEWER-SUBSCRIBE-CHANNEL'}\n"
     ]
    }
   ],
   "source": [
    "print(\"--- Scan entities and relationships ---\")\n",
    "res = op.scan()\n",
    "print_all(res)"
   ]
  },
  {
   "cell_type": "code",
   "execution_count": 97,
   "metadata": {},
   "outputs": [
    {
     "name": "stdout",
     "output_type": "stream",
     "text": [
      "--- Alice owned videos ---\n",
      "{'type': 'VIDEO-OWNERSHIP', 'pk': 'v-1-1_VIDEO-OWNERSHIP', 'sk': 'u-1_VIDEO-OWNERSHIP'}\n",
      "{'type': 'VIDEO-OWNERSHIP', 'pk': 'v-1-2_VIDEO-OWNERSHIP', 'sk': 'u-1_VIDEO-OWNERSHIP'}\n"
     ]
    }
   ],
   "source": [
    "print(\"--- Alice owned videos ---\")\n",
    "res = op.find_videos_created_by_a_user(user_id=\"u-1\")\n",
    "print_all(res)\n",
    "assert_pk(res, [\"v-1-1\", \"v-1-2\"])"
   ]
  },
  {
   "cell_type": "code",
   "execution_count": 98,
   "metadata": {},
   "outputs": [
    {
     "name": "stdout",
     "output_type": "stream",
     "text": [
      "--- Bob owned videos ---\n",
      "{'type': 'VIDEO-OWNERSHIP', 'pk': 'v-2-1_VIDEO-OWNERSHIP', 'sk': 'u-2_VIDEO-OWNERSHIP'}\n",
      "{'type': 'VIDEO-OWNERSHIP', 'pk': 'v-2-2_VIDEO-OWNERSHIP', 'sk': 'u-2_VIDEO-OWNERSHIP'}\n",
      "{'type': 'VIDEO-OWNERSHIP', 'pk': 'v-2-3_VIDEO-OWNERSHIP', 'sk': 'u-2_VIDEO-OWNERSHIP'}\n",
      "{'type': 'VIDEO-OWNERSHIP', 'pk': 'v-2-4_VIDEO-OWNERSHIP', 'sk': 'u-2_VIDEO-OWNERSHIP'}\n"
     ]
    }
   ],
   "source": [
    "print(\"--- Bob owned videos ---\")\n",
    "res = op.find_videos_created_by_a_user(user_id=\"u-2\")\n",
    "print_all(res)\n",
    "assert_pk(res, [\"v-2-1\", \"v-2-2\", \"v-2-3\", \"v-2-4\"])"
   ]
  },
  {
   "cell_type": "code",
   "execution_count": 99,
   "metadata": {},
   "outputs": [
    {
     "name": "stdout",
     "output_type": "stream",
     "text": [
      "--- Alice owned channels ---\n",
      "{'type': 'CHANNEL-OWNERSHIP', 'pk': 'c-1-1_CHANNEL-OWNERSHIP', 'sk': 'u-1_CHANNEL-OWNERSHIP'}\n"
     ]
    }
   ],
   "source": [
    "print(\"--- Alice owned channels ---\")\n",
    "res = op.find_channels_created_by_a_user(user_id=\"u-1\")\n",
    "print_all(res)\n",
    "assert_pk(res, [\"c-1-1\"])"
   ]
  },
  {
   "cell_type": "code",
   "execution_count": 100,
   "metadata": {},
   "outputs": [
    {
     "name": "stdout",
     "output_type": "stream",
     "text": [
      "--- Bob owned channels ---\n",
      "{'type': 'CHANNEL-OWNERSHIP', 'pk': 'c-2-1_CHANNEL-OWNERSHIP', 'sk': 'u-2_CHANNEL-OWNERSHIP'}\n",
      "{'type': 'CHANNEL-OWNERSHIP', 'pk': 'c-2-2_CHANNEL-OWNERSHIP', 'sk': 'u-2_CHANNEL-OWNERSHIP'}\n"
     ]
    }
   ],
   "source": [
    "print(\"--- Bob owned channels ---\")\n",
    "res = op.find_channels_created_by_a_user(user_id=\"u-2\")\n",
    "print_all(res)\n",
    "assert_pk(res, [\"c-2-1\", \"c-2-2\"])"
   ]
  },
  {
   "cell_type": "code",
   "execution_count": 101,
   "metadata": {},
   "outputs": [
    {
     "name": "stdout",
     "output_type": "stream",
     "text": [
      "--- Cathy owned playlists ---\n",
      "{'type': 'PLAYLIST-OWNERSHIP', 'pk': 'p-3-1_PLAYLIST-OWNERSHIP', 'sk': 'u-3_PLAYLIST-OWNERSHIP'}\n",
      "{'type': 'PLAYLIST-OWNERSHIP', 'pk': 'p-3-2_PLAYLIST-OWNERSHIP', 'sk': 'u-3_PLAYLIST-OWNERSHIP'}\n"
     ]
    }
   ],
   "source": [
    "print(\"--- Cathy owned playlists ---\")\n",
    "res = op.find_playlists_created_by_a_user(user_id=\"u-3\")\n",
    "print_all(res)\n",
    "assert_pk(res, [\"p-3-1\", \"p-3-2\"])"
   ]
  },
  {
   "cell_type": "code",
   "execution_count": 102,
   "metadata": {},
   "outputs": [
    {
     "name": "stdout",
     "output_type": "stream",
     "text": [
      "--- Videos in Bob's Channel 1 ---\n",
      "{'type': 'VIDEO-CHANNEL-ASSOCIATION', 'pk': 'v-2-1_VIDEO-CHANNEL-ASSOCIATION', 'sk': 'c-2-1_VIDEO-CHANNEL-ASSOCIATION'}\n",
      "{'type': 'VIDEO-CHANNEL-ASSOCIATION', 'pk': 'v-2-2_VIDEO-CHANNEL-ASSOCIATION', 'sk': 'c-2-1_VIDEO-CHANNEL-ASSOCIATION'}\n",
      "{'type': 'VIDEO-CHANNEL-ASSOCIATION', 'pk': 'v-2-3_VIDEO-CHANNEL-ASSOCIATION', 'sk': 'c-2-1_VIDEO-CHANNEL-ASSOCIATION'}\n"
     ]
    }
   ],
   "source": [
    "print(\"--- Videos in Bob's Channel 1 ---\")\n",
    "res = op.find_videos_in_channel(channel_id=\"c-2-1\")\n",
    "print_all(res)\n",
    "assert_pk(res, [\"v-2-1\", \"v-2-2\", \"v-2-3\"])"
   ]
  },
  {
   "cell_type": "code",
   "execution_count": 103,
   "metadata": {},
   "outputs": [
    {
     "name": "stdout",
     "output_type": "stream",
     "text": [
      "--- Videos in Bob's Channel 2 ---\n",
      "{'type': 'VIDEO-CHANNEL-ASSOCIATION', 'pk': 'v-2-2_VIDEO-CHANNEL-ASSOCIATION', 'sk': 'c-2-2_VIDEO-CHANNEL-ASSOCIATION'}\n",
      "{'type': 'VIDEO-CHANNEL-ASSOCIATION', 'pk': 'v-2-3_VIDEO-CHANNEL-ASSOCIATION', 'sk': 'c-2-2_VIDEO-CHANNEL-ASSOCIATION'}\n",
      "{'type': 'VIDEO-CHANNEL-ASSOCIATION', 'pk': 'v-2-4_VIDEO-CHANNEL-ASSOCIATION', 'sk': 'c-2-2_VIDEO-CHANNEL-ASSOCIATION'}\n"
     ]
    }
   ],
   "source": [
    "print(\"--- Videos in Bob's Channel 2 ---\")\n",
    "res = op.find_videos_in_channel(channel_id=\"c-2-2\")\n",
    "print_all(res)\n",
    "assert_pk(res, [\"v-2-2\", \"v-2-3\", \"v-2-4\"])"
   ]
  },
  {
   "cell_type": "code",
   "execution_count": 104,
   "metadata": {},
   "outputs": [
    {
     "name": "stdout",
     "output_type": "stream",
     "text": [
      "--- Channels that has Bob's Video 1 ---\n",
      "{'type': 'VIDEO-CHANNEL-ASSOCIATION', 'pk': 'v-2-1_VIDEO-CHANNEL-ASSOCIATION', 'sk': 'c-2-1_VIDEO-CHANNEL-ASSOCIATION'}\n"
     ]
    }
   ],
   "source": [
    "print(\"--- Channels that has Bob's Video 1 ---\")\n",
    "res = op.find_channels_that_has_video(video_id=\"v-2-1\")\n",
    "print_all(res)\n",
    "assert_sk(res, [\"c-2-1\"])"
   ]
  },
  {
   "cell_type": "code",
   "execution_count": 105,
   "metadata": {},
   "outputs": [
    {
     "name": "stdout",
     "output_type": "stream",
     "text": [
      "--- Channels that has Bob's Video 2 ---\n",
      "{'type': 'VIDEO-CHANNEL-ASSOCIATION', 'pk': 'v-2-2_VIDEO-CHANNEL-ASSOCIATION', 'sk': 'c-2-1_VIDEO-CHANNEL-ASSOCIATION'}\n",
      "{'type': 'VIDEO-CHANNEL-ASSOCIATION', 'pk': 'v-2-2_VIDEO-CHANNEL-ASSOCIATION', 'sk': 'c-2-2_VIDEO-CHANNEL-ASSOCIATION'}\n"
     ]
    }
   ],
   "source": [
    "print(\"--- Channels that has Bob's Video 2 ---\")\n",
    "res = op.find_channels_that_has_video(video_id=\"v-2-2\")\n",
    "print_all(res)\n",
    "assert_sk(res, [\"c-2-1\", \"c-2-2\"])"
   ]
  },
  {
   "cell_type": "code",
   "execution_count": 106,
   "metadata": {},
   "outputs": [
    {
     "name": "stdout",
     "output_type": "stream",
     "text": [
      "--- Channels that has Bob's Video 3 ---\n",
      "{'type': 'VIDEO-CHANNEL-ASSOCIATION', 'pk': 'v-2-3_VIDEO-CHANNEL-ASSOCIATION', 'sk': 'c-2-1_VIDEO-CHANNEL-ASSOCIATION'}\n",
      "{'type': 'VIDEO-CHANNEL-ASSOCIATION', 'pk': 'v-2-3_VIDEO-CHANNEL-ASSOCIATION', 'sk': 'c-2-2_VIDEO-CHANNEL-ASSOCIATION'}\n"
     ]
    }
   ],
   "source": [
    "print(\"--- Channels that has Bob's Video 3 ---\")\n",
    "res = op.find_channels_that_has_video(video_id=\"v-2-3\")\n",
    "print_all(res)\n",
    "assert_sk(res, [\"c-2-1\", \"c-2-2\"])"
   ]
  },
  {
   "cell_type": "code",
   "execution_count": 107,
   "metadata": {},
   "outputs": [
    {
     "name": "stdout",
     "output_type": "stream",
     "text": [
      "--- Channels that has Bob's Video 4 ---\n",
      "{'type': 'VIDEO-CHANNEL-ASSOCIATION', 'pk': 'v-2-4_VIDEO-CHANNEL-ASSOCIATION', 'sk': 'c-2-2_VIDEO-CHANNEL-ASSOCIATION'}\n"
     ]
    }
   ],
   "source": [
    "print(\"--- Channels that has Bob's Video 4 ---\")\n",
    "res = op.find_channels_that_has_video(video_id=\"v-2-4\")\n",
    "print_all(res)\n",
    "assert_sk(res, [\"c-2-2\"])"
   ]
  },
  {
   "cell_type": "code",
   "execution_count": 108,
   "metadata": {},
   "outputs": [
    {
     "name": "stdout",
     "output_type": "stream",
     "text": [
      "--- Videos in Cathy's Playlist 1 ---\n",
      "{'type': 'VIDEO-PLAYLIST-ASSOCIATION', 'pk': 'v-2-1_VIDEO-PLAYLIST-ASSOCIATION', 'sk': 'p-3-1_VIDEO-PLAYLIST-ASSOCIATION'}\n",
      "{'type': 'VIDEO-PLAYLIST-ASSOCIATION', 'pk': 'v-2-2_VIDEO-PLAYLIST-ASSOCIATION', 'sk': 'p-3-1_VIDEO-PLAYLIST-ASSOCIATION'}\n",
      "{'type': 'VIDEO-PLAYLIST-ASSOCIATION', 'pk': 'v-2-3_VIDEO-PLAYLIST-ASSOCIATION', 'sk': 'p-3-1_VIDEO-PLAYLIST-ASSOCIATION'}\n"
     ]
    }
   ],
   "source": [
    "print(\"--- Videos in Cathy's Playlist 1 ---\")\n",
    "res = op.find_videos_in_playlist(playlist_id=\"p-3-1\")\n",
    "print_all(res)\n",
    "assert_pk(res, [\"v-2-1\", \"v-2-2\", \"v-2-3\"])"
   ]
  },
  {
   "cell_type": "code",
   "execution_count": 109,
   "metadata": {},
   "outputs": [
    {
     "name": "stdout",
     "output_type": "stream",
     "text": [
      "--- Videos in Cathy's Playlist 2 ---\n",
      "{'type': 'VIDEO-PLAYLIST-ASSOCIATION', 'pk': 'v-2-2_VIDEO-PLAYLIST-ASSOCIATION', 'sk': 'p-3-2_VIDEO-PLAYLIST-ASSOCIATION'}\n",
      "{'type': 'VIDEO-PLAYLIST-ASSOCIATION', 'pk': 'v-2-3_VIDEO-PLAYLIST-ASSOCIATION', 'sk': 'p-3-2_VIDEO-PLAYLIST-ASSOCIATION'}\n",
      "{'type': 'VIDEO-PLAYLIST-ASSOCIATION', 'pk': 'v-2-4_VIDEO-PLAYLIST-ASSOCIATION', 'sk': 'p-3-2_VIDEO-PLAYLIST-ASSOCIATION'}\n"
     ]
    }
   ],
   "source": [
    "print(\"--- Videos in Cathy's Playlist 2 ---\")\n",
    "res = op.find_videos_in_playlist(playlist_id=\"p-3-2\")\n",
    "print_all(res)\n",
    "assert_pk(res, [\"v-2-2\", \"v-2-3\", \"v-2-4\"])"
   ]
  },
  {
   "cell_type": "code",
   "execution_count": 110,
   "metadata": {},
   "outputs": [
    {
     "name": "stdout",
     "output_type": "stream",
     "text": [
      "--- Playlist that has Bob's Video 1 ---\n",
      "{'type': 'VIDEO-PLAYLIST-ASSOCIATION', 'pk': 'v-2-1_VIDEO-PLAYLIST-ASSOCIATION', 'sk': 'p-3-1_VIDEO-PLAYLIST-ASSOCIATION'}\n"
     ]
    }
   ],
   "source": [
    "print(\"--- Playlist that has Bob's Video 1 ---\")\n",
    "res = op.find_playlists_that_has_video(video_id=\"v-2-1\")\n",
    "print_all(res)\n",
    "assert_sk(res, [\"p-3-1\"])"
   ]
  },
  {
   "cell_type": "code",
   "execution_count": 111,
   "metadata": {},
   "outputs": [
    {
     "name": "stdout",
     "output_type": "stream",
     "text": [
      "--- Playlist that has Bob's Video 2 ---\n",
      "{'type': 'VIDEO-PLAYLIST-ASSOCIATION', 'pk': 'v-2-2_VIDEO-PLAYLIST-ASSOCIATION', 'sk': 'p-3-1_VIDEO-PLAYLIST-ASSOCIATION'}\n",
      "{'type': 'VIDEO-PLAYLIST-ASSOCIATION', 'pk': 'v-2-2_VIDEO-PLAYLIST-ASSOCIATION', 'sk': 'p-3-2_VIDEO-PLAYLIST-ASSOCIATION'}\n"
     ]
    }
   ],
   "source": [
    "print(\"--- Playlist that has Bob's Video 2 ---\")\n",
    "res = op.find_playlists_that_has_video(video_id=\"v-2-2\")\n",
    "print_all(res)\n",
    "assert_sk(res, [\"p-3-1\", \"p-3-2\"])"
   ]
  },
  {
   "cell_type": "code",
   "execution_count": 112,
   "metadata": {},
   "outputs": [
    {
     "name": "stdout",
     "output_type": "stream",
     "text": [
      "--- Playlist that has Bob's Video 3 ---\n",
      "{'type': 'VIDEO-PLAYLIST-ASSOCIATION', 'pk': 'v-2-3_VIDEO-PLAYLIST-ASSOCIATION', 'sk': 'p-3-1_VIDEO-PLAYLIST-ASSOCIATION'}\n",
      "{'type': 'VIDEO-PLAYLIST-ASSOCIATION', 'pk': 'v-2-3_VIDEO-PLAYLIST-ASSOCIATION', 'sk': 'p-3-2_VIDEO-PLAYLIST-ASSOCIATION'}\n"
     ]
    }
   ],
   "source": [
    "print(\"--- Playlist that has Bob's Video 3 ---\")\n",
    "res = op.find_playlists_that_has_video(video_id=\"v-2-3\")\n",
    "print_all(res)\n",
    "assert_sk(res, [\"p-3-1\", \"p-3-2\"])"
   ]
  },
  {
   "cell_type": "code",
   "execution_count": 113,
   "metadata": {},
   "outputs": [
    {
     "name": "stdout",
     "output_type": "stream",
     "text": [
      "--- Playlist that has Bob's Video 4 ---\n",
      "{'type': 'VIDEO-PLAYLIST-ASSOCIATION', 'pk': 'v-2-4_VIDEO-PLAYLIST-ASSOCIATION', 'sk': 'p-3-2_VIDEO-PLAYLIST-ASSOCIATION'}\n"
     ]
    }
   ],
   "source": [
    "print(\"--- Playlist that has Bob's Video 4 ---\")\n",
    "res = op.find_playlists_that_has_video(video_id=\"v-2-4\")\n",
    "print_all(res)\n",
    "assert_sk(res, [\"p-3-2\"])"
   ]
  },
  {
   "cell_type": "code",
   "execution_count": 114,
   "metadata": {},
   "outputs": [
    {
     "name": "stdout",
     "output_type": "stream",
     "text": [
      "--- Users who subscribes Alice ---\n",
      "{'type': 'VIEWER-SUBSCRIBE-YOUTUBER', 'pk': 'u-2_VIEWER-SUBSCRIBE-YOUTUBER', 'sk': 'u-1_VIEWER-SUBSCRIBE-YOUTUBER'}\n",
      "{'type': 'VIEWER-SUBSCRIBE-YOUTUBER', 'pk': 'u-3_VIEWER-SUBSCRIBE-YOUTUBER', 'sk': 'u-1_VIEWER-SUBSCRIBE-YOUTUBER'}\n",
      "{'type': 'VIEWER-SUBSCRIBE-YOUTUBER', 'pk': 'u-4_VIEWER-SUBSCRIBE-YOUTUBER', 'sk': 'u-1_VIEWER-SUBSCRIBE-YOUTUBER'}\n"
     ]
    }
   ],
   "source": [
    "print(\"--- Users who subscribes Alice ---\")\n",
    "res = op.find_followers_for_user(user_id=\"u-1\")\n",
    "print_all(res)\n",
    "assert_pk(res, [\"u-2\", \"u-3\", \"u-4\"])"
   ]
  },
  {
   "cell_type": "code",
   "execution_count": 115,
   "metadata": {},
   "outputs": [
    {
     "name": "stdout",
     "output_type": "stream",
     "text": [
      "--- Users who subscribes Bob ---\n",
      "{'type': 'VIEWER-SUBSCRIBE-YOUTUBER', 'pk': 'u-1_VIEWER-SUBSCRIBE-YOUTUBER', 'sk': 'u-2_VIEWER-SUBSCRIBE-YOUTUBER'}\n",
      "{'type': 'VIEWER-SUBSCRIBE-YOUTUBER', 'pk': 'u-3_VIEWER-SUBSCRIBE-YOUTUBER', 'sk': 'u-2_VIEWER-SUBSCRIBE-YOUTUBER'}\n"
     ]
    }
   ],
   "source": [
    "print(\"--- Users who subscribes Bob ---\")\n",
    "res = op.find_followers_for_user(user_id=\"u-2\")\n",
    "print_all(res)\n",
    "assert_pk(res, [\"u-1\", \"u-3\"])"
   ]
  },
  {
   "cell_type": "code",
   "execution_count": 116,
   "metadata": {},
   "outputs": [
    {
     "name": "stdout",
     "output_type": "stream",
     "text": [
      "--- Users who subscribes Cathy ---\n",
      "{'type': 'VIEWER-SUBSCRIBE-YOUTUBER', 'pk': 'u-4_VIEWER-SUBSCRIBE-YOUTUBER', 'sk': 'u-3_VIEWER-SUBSCRIBE-YOUTUBER'}\n"
     ]
    }
   ],
   "source": [
    "print(\"--- Users who subscribes Cathy ---\")\n",
    "res = op.find_followers_for_user(user_id=\"u-3\")\n",
    "print_all(res)\n",
    "assert_pk(res, [\"u-4\"])"
   ]
  },
  {
   "cell_type": "code",
   "execution_count": 117,
   "metadata": {},
   "outputs": [
    {
     "name": "stdout",
     "output_type": "stream",
     "text": [
      "--- Users who subscribes David ---\n"
     ]
    }
   ],
   "source": [
    "print(\"--- Users who subscribes David ---\")\n",
    "res = op.find_followers_for_user(user_id=\"u-4\")\n",
    "print_all(res)\n",
    "assert_pk(res, [])"
   ]
  },
  {
   "cell_type": "code",
   "execution_count": 118,
   "metadata": {},
   "outputs": [
    {
     "name": "stdout",
     "output_type": "stream",
     "text": [
      "--- Alice subscribed who ---\n",
      "{'type': 'VIEWER-SUBSCRIBE-YOUTUBER', 'pk': 'u-1_VIEWER-SUBSCRIBE-YOUTUBER', 'sk': 'u-2_VIEWER-SUBSCRIBE-YOUTUBER'}\n"
     ]
    }
   ],
   "source": [
    "print(\"--- Alice subscribed who ---\")\n",
    "res = op.find_subscribed_youtubers(user_id=\"u-1\")\n",
    "print_all(res)\n",
    "assert_sk(res, [\"u-2\"])"
   ]
  },
  {
   "cell_type": "code",
   "execution_count": 119,
   "metadata": {},
   "outputs": [
    {
     "name": "stdout",
     "output_type": "stream",
     "text": [
      "--- Bob subscribed who ---\n",
      "{'type': 'VIEWER-SUBSCRIBE-YOUTUBER', 'pk': 'u-2_VIEWER-SUBSCRIBE-YOUTUBER', 'sk': 'u-1_VIEWER-SUBSCRIBE-YOUTUBER'}\n"
     ]
    }
   ],
   "source": [
    "print(\"--- Bob subscribed who ---\")\n",
    "res = op.find_subscribed_youtubers(user_id=\"u-2\")\n",
    "print_all(res)\n",
    "assert_sk(res, [\"u-1\"])"
   ]
  },
  {
   "cell_type": "code",
   "execution_count": 120,
   "metadata": {},
   "outputs": [
    {
     "name": "stdout",
     "output_type": "stream",
     "text": [
      "--- Cathy subscribed who ---\n",
      "{'type': 'VIEWER-SUBSCRIBE-YOUTUBER', 'pk': 'u-3_VIEWER-SUBSCRIBE-YOUTUBER', 'sk': 'u-1_VIEWER-SUBSCRIBE-YOUTUBER'}\n",
      "{'type': 'VIEWER-SUBSCRIBE-YOUTUBER', 'pk': 'u-3_VIEWER-SUBSCRIBE-YOUTUBER', 'sk': 'u-2_VIEWER-SUBSCRIBE-YOUTUBER'}\n"
     ]
    }
   ],
   "source": [
    "print(\"--- Cathy subscribed who ---\")\n",
    "res = op.find_subscribed_youtubers(user_id=\"u-3\")\n",
    "print_all(res)\n",
    "assert_sk(res, [\"u-1\", \"u-2\"])"
   ]
  },
  {
   "cell_type": "code",
   "execution_count": 121,
   "metadata": {},
   "outputs": [
    {
     "name": "stdout",
     "output_type": "stream",
     "text": [
      "--- David subscribed who ---\n",
      "{'type': 'VIEWER-SUBSCRIBE-YOUTUBER', 'pk': 'u-4_VIEWER-SUBSCRIBE-YOUTUBER', 'sk': 'u-1_VIEWER-SUBSCRIBE-YOUTUBER'}\n",
      "{'type': 'VIEWER-SUBSCRIBE-YOUTUBER', 'pk': 'u-4_VIEWER-SUBSCRIBE-YOUTUBER', 'sk': 'u-3_VIEWER-SUBSCRIBE-YOUTUBER'}\n"
     ]
    }
   ],
   "source": [
    "print(\"--- David subscribed who ---\")\n",
    "res = op.find_subscribed_youtubers(user_id=\"u-4\")\n",
    "print_all(res)\n",
    "assert_sk(res, [\"u-1\", \"u-3\"])"
   ]
  },
  {
   "cell_type": "code",
   "execution_count": 122,
   "metadata": {},
   "outputs": [
    {
     "name": "stdout",
     "output_type": "stream",
     "text": [
      "--- Users who subscribes Alice' Channel 1 ---\n",
      "{'type': 'VIEWER-SUBSCRIBE-CHANNEL', 'pk': 'u-2_VIEWER-SUBSCRIBE-CHANNEL', 'sk': 'c-1-1_VIEWER-SUBSCRIBE-CHANNEL'}\n",
      "{'type': 'VIEWER-SUBSCRIBE-CHANNEL', 'pk': 'u-3_VIEWER-SUBSCRIBE-CHANNEL', 'sk': 'c-1-1_VIEWER-SUBSCRIBE-CHANNEL'}\n"
     ]
    }
   ],
   "source": [
    "print(\"--- Users who subscribes Alice' Channel 1 ---\")\n",
    "res = op.find_followers_for_channel(channel_id=\"c-1-1\")\n",
    "print_all(res)\n",
    "assert_pk(res, [\"u-2\", \"u-3\"])"
   ]
  },
  {
   "cell_type": "code",
   "execution_count": 123,
   "metadata": {},
   "outputs": [
    {
     "name": "stdout",
     "output_type": "stream",
     "text": [
      "--- Users who subscribes Bob' Channel 1 ---\n",
      "{'type': 'VIEWER-SUBSCRIBE-CHANNEL', 'pk': 'u-1_VIEWER-SUBSCRIBE-CHANNEL', 'sk': 'c-2-1_VIEWER-SUBSCRIBE-CHANNEL'}\n",
      "{'type': 'VIEWER-SUBSCRIBE-CHANNEL', 'pk': 'u-3_VIEWER-SUBSCRIBE-CHANNEL', 'sk': 'c-2-1_VIEWER-SUBSCRIBE-CHANNEL'}\n"
     ]
    }
   ],
   "source": [
    "print(\"--- Users who subscribes Bob' Channel 1 ---\")\n",
    "res = op.find_followers_for_channel(channel_id=\"c-2-1\")\n",
    "print_all(res)\n",
    "assert_pk(res, [\"u-1\", \"u-3\"])"
   ]
  },
  {
   "cell_type": "code",
   "execution_count": 124,
   "metadata": {},
   "outputs": [
    {
     "name": "stdout",
     "output_type": "stream",
     "text": [
      "--- Users who subscribes Bob' Channel 2 ---\n",
      "{'type': 'VIEWER-SUBSCRIBE-CHANNEL', 'pk': 'u-1_VIEWER-SUBSCRIBE-CHANNEL', 'sk': 'c-2-2_VIEWER-SUBSCRIBE-CHANNEL'}\n",
      "{'type': 'VIEWER-SUBSCRIBE-CHANNEL', 'pk': 'u-4_VIEWER-SUBSCRIBE-CHANNEL', 'sk': 'c-2-2_VIEWER-SUBSCRIBE-CHANNEL'}\n"
     ]
    }
   ],
   "source": [
    "print(\"--- Users who subscribes Bob' Channel 2 ---\")\n",
    "res = op.find_followers_for_channel(channel_id=\"c-2-2\")\n",
    "print_all(res)\n",
    "assert_pk(res, [\"u-1\", \"u-4\"])"
   ]
  },
  {
   "cell_type": "code",
   "execution_count": 125,
   "metadata": {},
   "outputs": [
    {
     "name": "stdout",
     "output_type": "stream",
     "text": [
      "--- Alice subscribed channels ---\n",
      "{'type': 'VIEWER-SUBSCRIBE-CHANNEL', 'pk': 'u-1_VIEWER-SUBSCRIBE-CHANNEL', 'sk': 'c-2-1_VIEWER-SUBSCRIBE-CHANNEL'}\n",
      "{'type': 'VIEWER-SUBSCRIBE-CHANNEL', 'pk': 'u-1_VIEWER-SUBSCRIBE-CHANNEL', 'sk': 'c-2-2_VIEWER-SUBSCRIBE-CHANNEL'}\n"
     ]
    }
   ],
   "source": [
    "print(\"--- Alice subscribed channels ---\")\n",
    "res = op.find_subscribed_channels(user_id=\"u-1\")\n",
    "print_all(res)\n",
    "assert_sk(res, [\"c-2-1\", \"c-2-2\"])"
   ]
  },
  {
   "cell_type": "code",
   "execution_count": 126,
   "metadata": {},
   "outputs": [
    {
     "name": "stdout",
     "output_type": "stream",
     "text": [
      "--- Bob subscribed channels ---\n",
      "{'type': 'VIEWER-SUBSCRIBE-CHANNEL', 'pk': 'u-2_VIEWER-SUBSCRIBE-CHANNEL', 'sk': 'c-1-1_VIEWER-SUBSCRIBE-CHANNEL'}\n"
     ]
    }
   ],
   "source": [
    "print(\"--- Bob subscribed channels ---\")\n",
    "res = op.find_subscribed_channels(user_id=\"u-2\")\n",
    "print_all(res)\n",
    "assert_sk(res, [\"c-1-1\"])"
   ]
  },
  {
   "cell_type": "code",
   "execution_count": 127,
   "metadata": {},
   "outputs": [
    {
     "name": "stdout",
     "output_type": "stream",
     "text": [
      "--- Cathy subscribed channels ---\n",
      "{'type': 'VIEWER-SUBSCRIBE-CHANNEL', 'pk': 'u-3_VIEWER-SUBSCRIBE-CHANNEL', 'sk': 'c-1-1_VIEWER-SUBSCRIBE-CHANNEL'}\n",
      "{'type': 'VIEWER-SUBSCRIBE-CHANNEL', 'pk': 'u-3_VIEWER-SUBSCRIBE-CHANNEL', 'sk': 'c-2-1_VIEWER-SUBSCRIBE-CHANNEL'}\n"
     ]
    }
   ],
   "source": [
    "print(\"--- Cathy subscribed channels ---\")\n",
    "res = op.find_subscribed_channels(user_id=\"u-3\")\n",
    "print_all(res)\n",
    "assert_sk(res, [\"c-1-1\", \"c-2-1\"])"
   ]
  },
  {
   "cell_type": "code",
   "execution_count": 128,
   "metadata": {},
   "outputs": [
    {
     "name": "stdout",
     "output_type": "stream",
     "text": [
      "--- David subscribed channels ---\n",
      "{'type': 'VIEWER-SUBSCRIBE-CHANNEL', 'pk': 'u-4_VIEWER-SUBSCRIBE-CHANNEL', 'sk': 'c-2-2_VIEWER-SUBSCRIBE-CHANNEL'}\n"
     ]
    }
   ],
   "source": [
    "print(\"--- David subscribed channels ---\")\n",
    "res = op.find_subscribed_channels(user_id=\"u-4\")\n",
    "print_all(res)\n",
    "assert_sk(res, [\"c-2-2\"])"
   ]
  },
  {
   "cell_type": "code",
   "execution_count": 129,
   "metadata": {
    "collapsed": false,
    "jupyter": {
     "outputs_hidden": false
    },
    "pycharm": {
     "name": "#%%\n"
    }
   },
   "outputs": [],
   "source": [
    "mock.stop()  # stop mocking DynamoDB"
   ]
  },
  {
   "cell_type": "code",
   "execution_count": null,
   "metadata": {},
   "outputs": [],
   "source": []
  }
 ],
 "metadata": {
  "kernelspec": {
   "display_name": "Python 3 (ipykernel)",
   "language": "python",
   "name": "python3"
  },
  "language_info": {
   "codemirror_mode": {
    "name": "ipython",
    "version": 3
   },
   "file_extension": ".py",
   "mimetype": "text/x-python",
   "name": "python",
   "nbconvert_exporter": "python",
   "pygments_lexer": "ipython3",
   "version": "3.10.10"
  }
 },
 "nbformat": 4,
 "nbformat_minor": 4
}
