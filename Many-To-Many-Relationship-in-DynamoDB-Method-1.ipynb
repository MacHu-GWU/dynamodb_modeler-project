{
 "cells": [
  {
   "cell_type": "markdown",
   "id": "9ca218ef-140f-444b-9b95-1776bd8e293b",
   "metadata": {},
   "source": [
    "# Many to Many Relationship In DynamoDB - Method 1 Adjacency List\n",
    "\n",
    "Reference:\n",
    "\n",
    "- [Stackovervlow - How to model one-to-one, one-to-many and many-to-many relationships in DynamoDB](https://stackoverflow.com/questions/55152296/how-to-model-one-to-one-one-to-many-and-many-to-many-relationships-in-dynamodb)\n",
    "- [AWS - Best practices for managing many-to-many relationships](https://docs.aws.amazon.com/amazondynamodb/latest/developerguide/bp-adjacency-graphs.html)\n",
    "- [AWS - Best practices for modeling relational data in DynamoDB](https://docs.aws.amazon.com/amazondynamodb/latest/developerguide/bp-relational-modeling.html)\n",
    "\n",
    "# Use Case\n",
    "\n",
    "- One Student enrolls many courses.\n",
    "- One Course has many students."
   ]
  },
  {
   "cell_type": "markdown",
   "id": "3c7c16af-97fe-4072-b34c-d83b63bb13b5",
   "metadata": {},
   "source": [
    "# Import Python Libraries"
   ]
  },
  {
   "cell_type": "code",
   "execution_count": 1,
   "id": "43c1e206-412a-4064-97ac-25cdda591916",
   "metadata": {},
   "outputs": [],
   "source": [
    "import typing as T\n",
    "import enum\n",
    "from datetime import datetime\n",
    "\n",
    "import dataclasses\n",
    "import pynamodb_mate as pm\n",
    "import pynamodb.exceptions as exc\n",
    "from moto import mock_dynamodb\n",
    "\n",
    "from rich import print as rprint"
   ]
  },
  {
   "cell_type": "markdown",
   "id": "8416d5f2-a860-4fd4-a856-8956dea55ee8",
   "metadata": {},
   "source": [
    "\n"
   ]
  },
  {
   "cell_type": "markdown",
   "id": "7a21b66c-321a-4848-91f2-0dd3a39ea7b5",
   "metadata": {},
   "source": [
    "# Configure AWS Connection"
   ]
  },
  {
   "cell_type": "code",
   "execution_count": 2,
   "id": "b46920d7-98b8-4d57-b6ec-f449c41a6429",
   "metadata": {},
   "outputs": [],
   "source": [
    "# create a DynamoDB connection, ensure that your default AWS credential is right\n",
    "# if you are using mock, then this line always works\n",
    "connect = pm.Connection()"
   ]
  },
  {
   "cell_type": "code",
   "execution_count": 3,
   "id": "4cf6559e-cb96-4289-836f-e37189d6acf9",
   "metadata": {},
   "outputs": [],
   "source": [
    "# use moto to mock DynamoDB, it is an in-memory implementation of DynamoDB\n",
    "# you can also use the real DynamoDB table by just comment out the below two line\n",
    "mock = mock_dynamodb()\n",
    "mock.start()"
   ]
  },
  {
   "cell_type": "markdown",
   "id": "03d6b152-16a6-48c4-a290-9d1b5d036aa2",
   "metadata": {},
   "source": [
    "# Type Hint"
   ]
  },
  {
   "cell_type": "code",
   "execution_count": 4,
   "id": "bbc8bb34-2946-439c-8e25-aceabbaba0af",
   "metadata": {},
   "outputs": [],
   "source": [
    "REQUIRED_STR = T.Union[str, pm.UnicodeAttribute]\n",
    "OPTIONAL_STR = T.Optional[REQUIRED_STR]\n",
    "REQUIRED_INT = T.Union[int, pm.NumberAttribute]\n",
    "OPTIONAL_INT = T.Optional[REQUIRED_INT]\n",
    "REQUIRED_DATETIME = T.Union[datetime, pm.UTCDateTimeAttribute]\n",
    "OPTIONAL_DATETIME = T.Optional[REQUIRED_DATETIME]"
   ]
  },
  {
   "cell_type": "markdown",
   "id": "4ca2d0b1-1807-4a3a-8e1e-e463ed7aa580",
   "metadata": {},
   "source": [
    "# Declare Student"
   ]
  },
  {
   "cell_type": "code",
   "execution_count": 5,
   "id": "09e86614-5311-4b90-b5a5-fe34b0fe1f9a",
   "metadata": {},
   "outputs": [],
   "source": [
    "class LookupIndex(pm.GlobalSecondaryIndex):\n",
    "    class Meta:\n",
    "        index = \"lookup-index\"\n",
    "        projection = pm.AllProjection\n",
    "\n",
    "    sk: REQUIRED_STR = pm.UnicodeAttribute(hash_key=True)\n",
    "\n",
    "\n",
    "class Entity(pm.Model):\n",
    "    class Meta:\n",
    "        table_name = \"entity\"\n",
    "        region = \"us-east-1\"\n",
    "        billing_mode = pm.PAY_PER_REQUEST_BILLING_MODE\n",
    "\n",
    "    pk: REQUIRED_STR = pm.UnicodeAttribute(hash_key=True)\n",
    "    sk: REQUIRED_STR = pm.UnicodeAttribute(range_key=True)\n",
    "\n",
    "    type: REQUIRED_STR = pm.UnicodeAttribute()\n",
    "    name: OPTIONAL_STR = pm.UnicodeAttribute(null=True)\n",
    "    enroll_date: OPTIONAL_STR = pm.UnicodeAttribute(null=True)\n",
    "    \n",
    "    lookup_index = LookupIndex()\n",
    "    \n",
    "\n",
    "class Student(Entity):\n",
    "    lookup_index = LookupIndex()\n",
    "    \n",
    "    @property\n",
    "    def student_name(self) -> str:\n",
    "        return self.name\n",
    "\n",
    "\n",
    "class Course(Entity):\n",
    "    lookup_index = LookupIndex()\n",
    "    \n",
    "    @property\n",
    "    def course_name(self) -> str:\n",
    "        return self.name\n",
    "        \n",
    "\n",
    "Entity.create_table(wait=True)"
   ]
  },
  {
   "cell_type": "markdown",
   "id": "a5657dbc-06e1-4c7d-9a43-535fe4322bb7",
   "metadata": {},
   "source": [
    "# Business Operation"
   ]
  },
  {
   "cell_type": "code",
   "execution_count": 6,
   "id": "5e6f0747-7c0a-41bd-b78b-702ff72b06d7",
   "metadata": {},
   "outputs": [],
   "source": [
    "class OP:\n",
    "    @classmethod\n",
    "    def new_student(\n",
    "        cls,\n",
    "        student_id: str, \n",
    "        student_name: str,\n",
    "    ) -> T.Optional[\"Student\"]:\n",
    "        student = Student(\n",
    "            pk=student_id,\n",
    "            sk=student_id,\n",
    "            type=\"student\",\n",
    "            name=student_name,\n",
    "        )\n",
    "        try:\n",
    "            res = student.save(\n",
    "                condition= (~Student.pk.exists()),\n",
    "            )\n",
    "            return student\n",
    "        except exc.PutError as e:\n",
    "            return None\n",
    "\n",
    "    @classmethod\n",
    "    def new_course(\n",
    "        cls,\n",
    "        course_id: str, \n",
    "        course_name: str,\n",
    "    ) -> T.Optional[\"Student\"]:\n",
    "        course = Course(\n",
    "            pk=course_id,\n",
    "            sk=course_id,\n",
    "            type=\"course\",\n",
    "            name=course_name,\n",
    "        )\n",
    "        try:\n",
    "            res = course.save(\n",
    "                condition= (~Course.pk.exists()),\n",
    "            )\n",
    "            return course\n",
    "        except exc.PutError as e:\n",
    "            return None\n",
    "            \n",
    "    def all_student(self) -> list[Student]:\n",
    "        return list(Student.scan(filter_condition=Student.type == \"student\"))\n",
    "\n",
    "    def all_course(self) -> list[Student]:\n",
    "        return list(Course.scan(filter_condition=Course.type == \"course\"))\n",
    "\n",
    "    def all_entity(self) -> list[Entity]:\n",
    "        return list(Entity.scan())\n",
    "    \n",
    "    def enroll(self, student_id: str, course_id: str):\n",
    "        student = Student(\n",
    "            pk=student_id, \n",
    "            sk=course_id, \n",
    "            type=\"enrolled_course\",\n",
    "            enroll_date=str(datetime.now().date()),\n",
    "        )\n",
    "        try:\n",
    "            res = student.save(\n",
    "                condition= ~(Student.pk.exists() & Student.sk.exists()),\n",
    "            )\n",
    "            return student\n",
    "        except exc.PutError as e:\n",
    "            return None\n",
    "\n",
    "    def find_all_student_in_given_course(self, course_id: str) -> list[Student]:\n",
    "        return list(\n",
    "            LookupIndex.query(\n",
    "                hash_key=course_id,\n",
    "                filter_condition=Entity.type == \"enrolled_course\",\n",
    "            ),\n",
    "        )\n",
    "\n",
    "    def find_all_enrolled_course(self, student_id: str) -> list[Student]:\n",
    "        return list(\n",
    "            Student.query(\n",
    "                hash_key=student_id,\n",
    "                filter_condition=Entity.type == \"enrolled_course\",\n",
    "            ),\n",
    "        )\n",
    "\n",
    "op = OP()"
   ]
  },
  {
   "cell_type": "markdown",
   "id": "ca251e37-2fd7-4293-9f0e-710a658f7643",
   "metadata": {},
   "source": [
    "# Create Dummy Data"
   ]
  },
  {
   "cell_type": "code",
   "execution_count": 7,
   "id": "2a84c9d7-ab6d-4620-b538-5e4463884f5d",
   "metadata": {},
   "outputs": [],
   "source": [
    "s1 = op.new_student(student_id=\"s-1\", student_name=\"Alice\")\n",
    "s2 = op.new_student(student_id=\"s-2\", student_name=\"Bob\")\n",
    "s3 = op.new_student(student_id=\"s-3\", student_name=\"Cathy\")\n",
    "\n",
    "c1 = op.new_course(course_id=\"c-1\", course_name=\"Math\")\n",
    "c2 = op.new_course(course_id=\"c-2\", course_name=\"Science\")"
   ]
  },
  {
   "cell_type": "markdown",
   "id": "aa31a052-6fde-4569-8b8f-b172f7279eb3",
   "metadata": {},
   "source": [
    "# Show all Data"
   ]
  },
  {
   "cell_type": "code",
   "execution_count": 8,
   "id": "3aa58fbc-bbbe-4d9d-9b1f-d68b91435ca7",
   "metadata": {},
   "outputs": [
    {
     "data": {
      "text/html": [
       "<pre style=\"white-space:pre;overflow-x:auto;line-height:normal;font-family:Menlo,'DejaVu Sans Mono',consolas,'Courier New',monospace\">------ All Student ------\n",
       "</pre>\n"
      ],
      "text/plain": [
       "------ All Student ------\n"
      ]
     },
     "metadata": {},
     "output_type": "display_data"
    },
    {
     "data": {
      "text/html": [
       "<pre style=\"white-space:pre;overflow-x:auto;line-height:normal;font-family:Menlo,'DejaVu Sans Mono',consolas,'Courier New',monospace\"><span style=\"font-weight: bold\">{</span><span style=\"color: #008000; text-decoration-color: #008000\">'name'</span>: <span style=\"color: #008000; text-decoration-color: #008000\">'Alice'</span>, <span style=\"color: #008000; text-decoration-color: #008000\">'pk'</span>: <span style=\"color: #008000; text-decoration-color: #008000\">'s-1'</span>, <span style=\"color: #008000; text-decoration-color: #008000\">'sk'</span>: <span style=\"color: #008000; text-decoration-color: #008000\">'s-1'</span>, <span style=\"color: #008000; text-decoration-color: #008000\">'type'</span>: <span style=\"color: #008000; text-decoration-color: #008000\">'student'</span><span style=\"font-weight: bold\">}</span>\n",
       "</pre>\n"
      ],
      "text/plain": [
       "\u001b[1m{\u001b[0m\u001b[32m'name'\u001b[0m: \u001b[32m'Alice'\u001b[0m, \u001b[32m'pk'\u001b[0m: \u001b[32m's-1'\u001b[0m, \u001b[32m'sk'\u001b[0m: \u001b[32m's-1'\u001b[0m, \u001b[32m'type'\u001b[0m: \u001b[32m'student'\u001b[0m\u001b[1m}\u001b[0m\n"
      ]
     },
     "metadata": {},
     "output_type": "display_data"
    },
    {
     "data": {
      "text/html": [
       "<pre style=\"white-space:pre;overflow-x:auto;line-height:normal;font-family:Menlo,'DejaVu Sans Mono',consolas,'Courier New',monospace\"><span style=\"font-weight: bold\">{</span><span style=\"color: #008000; text-decoration-color: #008000\">'name'</span>: <span style=\"color: #008000; text-decoration-color: #008000\">'Bob'</span>, <span style=\"color: #008000; text-decoration-color: #008000\">'pk'</span>: <span style=\"color: #008000; text-decoration-color: #008000\">'s-2'</span>, <span style=\"color: #008000; text-decoration-color: #008000\">'sk'</span>: <span style=\"color: #008000; text-decoration-color: #008000\">'s-2'</span>, <span style=\"color: #008000; text-decoration-color: #008000\">'type'</span>: <span style=\"color: #008000; text-decoration-color: #008000\">'student'</span><span style=\"font-weight: bold\">}</span>\n",
       "</pre>\n"
      ],
      "text/plain": [
       "\u001b[1m{\u001b[0m\u001b[32m'name'\u001b[0m: \u001b[32m'Bob'\u001b[0m, \u001b[32m'pk'\u001b[0m: \u001b[32m's-2'\u001b[0m, \u001b[32m'sk'\u001b[0m: \u001b[32m's-2'\u001b[0m, \u001b[32m'type'\u001b[0m: \u001b[32m'student'\u001b[0m\u001b[1m}\u001b[0m\n"
      ]
     },
     "metadata": {},
     "output_type": "display_data"
    },
    {
     "data": {
      "text/html": [
       "<pre style=\"white-space:pre;overflow-x:auto;line-height:normal;font-family:Menlo,'DejaVu Sans Mono',consolas,'Courier New',monospace\"><span style=\"font-weight: bold\">{</span><span style=\"color: #008000; text-decoration-color: #008000\">'name'</span>: <span style=\"color: #008000; text-decoration-color: #008000\">'Cathy'</span>, <span style=\"color: #008000; text-decoration-color: #008000\">'pk'</span>: <span style=\"color: #008000; text-decoration-color: #008000\">'s-3'</span>, <span style=\"color: #008000; text-decoration-color: #008000\">'sk'</span>: <span style=\"color: #008000; text-decoration-color: #008000\">'s-3'</span>, <span style=\"color: #008000; text-decoration-color: #008000\">'type'</span>: <span style=\"color: #008000; text-decoration-color: #008000\">'student'</span><span style=\"font-weight: bold\">}</span>\n",
       "</pre>\n"
      ],
      "text/plain": [
       "\u001b[1m{\u001b[0m\u001b[32m'name'\u001b[0m: \u001b[32m'Cathy'\u001b[0m, \u001b[32m'pk'\u001b[0m: \u001b[32m's-3'\u001b[0m, \u001b[32m'sk'\u001b[0m: \u001b[32m's-3'\u001b[0m, \u001b[32m'type'\u001b[0m: \u001b[32m'student'\u001b[0m\u001b[1m}\u001b[0m\n"
      ]
     },
     "metadata": {},
     "output_type": "display_data"
    },
    {
     "data": {
      "text/html": [
       "<pre style=\"white-space:pre;overflow-x:auto;line-height:normal;font-family:Menlo,'DejaVu Sans Mono',consolas,'Courier New',monospace\">------ Course ------\n",
       "</pre>\n"
      ],
      "text/plain": [
       "------ Course ------\n"
      ]
     },
     "metadata": {},
     "output_type": "display_data"
    },
    {
     "data": {
      "text/html": [
       "<pre style=\"white-space:pre;overflow-x:auto;line-height:normal;font-family:Menlo,'DejaVu Sans Mono',consolas,'Courier New',monospace\"><span style=\"font-weight: bold\">{</span><span style=\"color: #008000; text-decoration-color: #008000\">'name'</span>: <span style=\"color: #008000; text-decoration-color: #008000\">'Math'</span>, <span style=\"color: #008000; text-decoration-color: #008000\">'pk'</span>: <span style=\"color: #008000; text-decoration-color: #008000\">'c-1'</span>, <span style=\"color: #008000; text-decoration-color: #008000\">'sk'</span>: <span style=\"color: #008000; text-decoration-color: #008000\">'c-1'</span>, <span style=\"color: #008000; text-decoration-color: #008000\">'type'</span>: <span style=\"color: #008000; text-decoration-color: #008000\">'course'</span><span style=\"font-weight: bold\">}</span>\n",
       "</pre>\n"
      ],
      "text/plain": [
       "\u001b[1m{\u001b[0m\u001b[32m'name'\u001b[0m: \u001b[32m'Math'\u001b[0m, \u001b[32m'pk'\u001b[0m: \u001b[32m'c-1'\u001b[0m, \u001b[32m'sk'\u001b[0m: \u001b[32m'c-1'\u001b[0m, \u001b[32m'type'\u001b[0m: \u001b[32m'course'\u001b[0m\u001b[1m}\u001b[0m\n"
      ]
     },
     "metadata": {},
     "output_type": "display_data"
    },
    {
     "data": {
      "text/html": [
       "<pre style=\"white-space:pre;overflow-x:auto;line-height:normal;font-family:Menlo,'DejaVu Sans Mono',consolas,'Courier New',monospace\"><span style=\"font-weight: bold\">{</span><span style=\"color: #008000; text-decoration-color: #008000\">'name'</span>: <span style=\"color: #008000; text-decoration-color: #008000\">'Science'</span>, <span style=\"color: #008000; text-decoration-color: #008000\">'pk'</span>: <span style=\"color: #008000; text-decoration-color: #008000\">'c-2'</span>, <span style=\"color: #008000; text-decoration-color: #008000\">'sk'</span>: <span style=\"color: #008000; text-decoration-color: #008000\">'c-2'</span>, <span style=\"color: #008000; text-decoration-color: #008000\">'type'</span>: <span style=\"color: #008000; text-decoration-color: #008000\">'course'</span><span style=\"font-weight: bold\">}</span>\n",
       "</pre>\n"
      ],
      "text/plain": [
       "\u001b[1m{\u001b[0m\u001b[32m'name'\u001b[0m: \u001b[32m'Science'\u001b[0m, \u001b[32m'pk'\u001b[0m: \u001b[32m'c-2'\u001b[0m, \u001b[32m'sk'\u001b[0m: \u001b[32m'c-2'\u001b[0m, \u001b[32m'type'\u001b[0m: \u001b[32m'course'\u001b[0m\u001b[1m}\u001b[0m\n"
      ]
     },
     "metadata": {},
     "output_type": "display_data"
    }
   ],
   "source": [
    "rprint(\"------ All Student ------\")\n",
    "for student in op.all_student():\n",
    "    rprint(student.to_dict())\n",
    "rprint(\"------ Course ------\")\n",
    "for course in op.all_course():\n",
    "    rprint(course.to_dict())"
   ]
  },
  {
   "cell_type": "markdown",
   "id": "fd01ad55-6739-49ec-a27f-b193c623be27",
   "metadata": {},
   "source": [
    "# Student Enroll Course"
   ]
  },
  {
   "cell_type": "code",
   "execution_count": 9,
   "id": "b34aac38-563e-4ed0-a0ee-0b913e0a84e3",
   "metadata": {},
   "outputs": [
    {
     "data": {
      "text/html": [
       "<pre style=\"white-space:pre;overflow-x:auto;line-height:normal;font-family:Menlo,'DejaVu Sans Mono',consolas,'Courier New',monospace\">------ All Data ------\n",
       "</pre>\n"
      ],
      "text/plain": [
       "------ All Data ------\n"
      ]
     },
     "metadata": {},
     "output_type": "display_data"
    },
    {
     "data": {
      "text/html": [
       "<pre style=\"white-space:pre;overflow-x:auto;line-height:normal;font-family:Menlo,'DejaVu Sans Mono',consolas,'Courier New',monospace\">entity.type = <span style=\"color: #008000; text-decoration-color: #008000\">'student'</span>, pk = s-<span style=\"color: #008080; text-decoration-color: #008080; font-weight: bold\">1</span>, sk = s-<span style=\"color: #008080; text-decoration-color: #008080; font-weight: bold\">1</span>\n",
       "</pre>\n"
      ],
      "text/plain": [
       "entity.type = \u001b[32m'student'\u001b[0m, pk = s-\u001b[1;36m1\u001b[0m, sk = s-\u001b[1;36m1\u001b[0m\n"
      ]
     },
     "metadata": {},
     "output_type": "display_data"
    },
    {
     "data": {
      "text/html": [
       "<pre style=\"white-space:pre;overflow-x:auto;line-height:normal;font-family:Menlo,'DejaVu Sans Mono',consolas,'Courier New',monospace\">entity.type = <span style=\"color: #008000; text-decoration-color: #008000\">'enrolled_course'</span>, pk = s-<span style=\"color: #008080; text-decoration-color: #008080; font-weight: bold\">1</span>, sk = c-<span style=\"color: #008080; text-decoration-color: #008080; font-weight: bold\">1</span>\n",
       "</pre>\n"
      ],
      "text/plain": [
       "entity.type = \u001b[32m'enrolled_course'\u001b[0m, pk = s-\u001b[1;36m1\u001b[0m, sk = c-\u001b[1;36m1\u001b[0m\n"
      ]
     },
     "metadata": {},
     "output_type": "display_data"
    },
    {
     "data": {
      "text/html": [
       "<pre style=\"white-space:pre;overflow-x:auto;line-height:normal;font-family:Menlo,'DejaVu Sans Mono',consolas,'Courier New',monospace\">entity.type = <span style=\"color: #008000; text-decoration-color: #008000\">'student'</span>, pk = s-<span style=\"color: #008080; text-decoration-color: #008080; font-weight: bold\">2</span>, sk = s-<span style=\"color: #008080; text-decoration-color: #008080; font-weight: bold\">2</span>\n",
       "</pre>\n"
      ],
      "text/plain": [
       "entity.type = \u001b[32m'student'\u001b[0m, pk = s-\u001b[1;36m2\u001b[0m, sk = s-\u001b[1;36m2\u001b[0m\n"
      ]
     },
     "metadata": {},
     "output_type": "display_data"
    },
    {
     "data": {
      "text/html": [
       "<pre style=\"white-space:pre;overflow-x:auto;line-height:normal;font-family:Menlo,'DejaVu Sans Mono',consolas,'Courier New',monospace\">entity.type = <span style=\"color: #008000; text-decoration-color: #008000\">'enrolled_course'</span>, pk = s-<span style=\"color: #008080; text-decoration-color: #008080; font-weight: bold\">2</span>, sk = c-<span style=\"color: #008080; text-decoration-color: #008080; font-weight: bold\">1</span>\n",
       "</pre>\n"
      ],
      "text/plain": [
       "entity.type = \u001b[32m'enrolled_course'\u001b[0m, pk = s-\u001b[1;36m2\u001b[0m, sk = c-\u001b[1;36m1\u001b[0m\n"
      ]
     },
     "metadata": {},
     "output_type": "display_data"
    },
    {
     "data": {
      "text/html": [
       "<pre style=\"white-space:pre;overflow-x:auto;line-height:normal;font-family:Menlo,'DejaVu Sans Mono',consolas,'Courier New',monospace\">entity.type = <span style=\"color: #008000; text-decoration-color: #008000\">'enrolled_course'</span>, pk = s-<span style=\"color: #008080; text-decoration-color: #008080; font-weight: bold\">2</span>, sk = c-<span style=\"color: #008080; text-decoration-color: #008080; font-weight: bold\">2</span>\n",
       "</pre>\n"
      ],
      "text/plain": [
       "entity.type = \u001b[32m'enrolled_course'\u001b[0m, pk = s-\u001b[1;36m2\u001b[0m, sk = c-\u001b[1;36m2\u001b[0m\n"
      ]
     },
     "metadata": {},
     "output_type": "display_data"
    },
    {
     "data": {
      "text/html": [
       "<pre style=\"white-space:pre;overflow-x:auto;line-height:normal;font-family:Menlo,'DejaVu Sans Mono',consolas,'Courier New',monospace\">entity.type = <span style=\"color: #008000; text-decoration-color: #008000\">'student'</span>, pk = s-<span style=\"color: #008080; text-decoration-color: #008080; font-weight: bold\">3</span>, sk = s-<span style=\"color: #008080; text-decoration-color: #008080; font-weight: bold\">3</span>\n",
       "</pre>\n"
      ],
      "text/plain": [
       "entity.type = \u001b[32m'student'\u001b[0m, pk = s-\u001b[1;36m3\u001b[0m, sk = s-\u001b[1;36m3\u001b[0m\n"
      ]
     },
     "metadata": {},
     "output_type": "display_data"
    },
    {
     "data": {
      "text/html": [
       "<pre style=\"white-space:pre;overflow-x:auto;line-height:normal;font-family:Menlo,'DejaVu Sans Mono',consolas,'Courier New',monospace\">entity.type = <span style=\"color: #008000; text-decoration-color: #008000\">'enrolled_course'</span>, pk = s-<span style=\"color: #008080; text-decoration-color: #008080; font-weight: bold\">3</span>, sk = c-<span style=\"color: #008080; text-decoration-color: #008080; font-weight: bold\">2</span>\n",
       "</pre>\n"
      ],
      "text/plain": [
       "entity.type = \u001b[32m'enrolled_course'\u001b[0m, pk = s-\u001b[1;36m3\u001b[0m, sk = c-\u001b[1;36m2\u001b[0m\n"
      ]
     },
     "metadata": {},
     "output_type": "display_data"
    },
    {
     "data": {
      "text/html": [
       "<pre style=\"white-space:pre;overflow-x:auto;line-height:normal;font-family:Menlo,'DejaVu Sans Mono',consolas,'Courier New',monospace\">entity.type = <span style=\"color: #008000; text-decoration-color: #008000\">'course'</span>, pk = c-<span style=\"color: #008080; text-decoration-color: #008080; font-weight: bold\">1</span>, sk = c-<span style=\"color: #008080; text-decoration-color: #008080; font-weight: bold\">1</span>\n",
       "</pre>\n"
      ],
      "text/plain": [
       "entity.type = \u001b[32m'course'\u001b[0m, pk = c-\u001b[1;36m1\u001b[0m, sk = c-\u001b[1;36m1\u001b[0m\n"
      ]
     },
     "metadata": {},
     "output_type": "display_data"
    },
    {
     "data": {
      "text/html": [
       "<pre style=\"white-space:pre;overflow-x:auto;line-height:normal;font-family:Menlo,'DejaVu Sans Mono',consolas,'Courier New',monospace\">entity.type = <span style=\"color: #008000; text-decoration-color: #008000\">'course'</span>, pk = c-<span style=\"color: #008080; text-decoration-color: #008080; font-weight: bold\">2</span>, sk = c-<span style=\"color: #008080; text-decoration-color: #008080; font-weight: bold\">2</span>\n",
       "</pre>\n"
      ],
      "text/plain": [
       "entity.type = \u001b[32m'course'\u001b[0m, pk = c-\u001b[1;36m2\u001b[0m, sk = c-\u001b[1;36m2\u001b[0m\n"
      ]
     },
     "metadata": {},
     "output_type": "display_data"
    }
   ],
   "source": [
    "enroll = op.enroll(student_id=\"s-1\", course_id=\"c-1\")\n",
    "enroll = op.enroll(student_id=\"s-2\", course_id=\"c-1\")\n",
    "enroll = op.enroll(student_id=\"s-2\", course_id=\"c-2\")\n",
    "enroll = op.enroll(student_id=\"s-3\", course_id=\"c-2\")\n",
    "\n",
    "rprint(\"------ All Data ------\")\n",
    "for entity in op.all_entity():\n",
    "    rprint(f\"{entity.type = }, pk = {entity.pk}, sk = {entity.sk}\")"
   ]
  },
  {
   "cell_type": "markdown",
   "id": "5c4c898d-6c58-4e9b-b619-3d038ab23e27",
   "metadata": {},
   "source": [
    "# Find all Students enrolled in the Given Course"
   ]
  },
  {
   "cell_type": "code",
   "execution_count": 10,
   "id": "52a8dc4b-523b-4d46-af3f-10e9431ea7ef",
   "metadata": {},
   "outputs": [
    {
     "data": {
      "text/html": [
       "<pre style=\"white-space:pre;overflow-x:auto;line-height:normal;font-family:Menlo,'DejaVu Sans Mono',consolas,'Courier New',monospace\">--- Student in Math course ---\n",
       "</pre>\n"
      ],
      "text/plain": [
       "--- Student in Math course ---\n"
      ]
     },
     "metadata": {},
     "output_type": "display_data"
    },
    {
     "data": {
      "text/html": [
       "<pre style=\"white-space:pre;overflow-x:auto;line-height:normal;font-family:Menlo,'DejaVu Sans Mono',consolas,'Courier New',monospace\">Alice\n",
       "</pre>\n"
      ],
      "text/plain": [
       "Alice\n"
      ]
     },
     "metadata": {},
     "output_type": "display_data"
    },
    {
     "data": {
      "text/html": [
       "<pre style=\"white-space:pre;overflow-x:auto;line-height:normal;font-family:Menlo,'DejaVu Sans Mono',consolas,'Courier New',monospace\">Bob\n",
       "</pre>\n"
      ],
      "text/plain": [
       "Bob\n"
      ]
     },
     "metadata": {},
     "output_type": "display_data"
    },
    {
     "data": {
      "text/html": [
       "<pre style=\"white-space:pre;overflow-x:auto;line-height:normal;font-family:Menlo,'DejaVu Sans Mono',consolas,'Courier New',monospace\">--- Bob enrolled course ---\n",
       "</pre>\n"
      ],
      "text/plain": [
       "--- Bob enrolled course ---\n"
      ]
     },
     "metadata": {},
     "output_type": "display_data"
    },
    {
     "data": {
      "text/html": [
       "<pre style=\"white-space:pre;overflow-x:auto;line-height:normal;font-family:Menlo,'DejaVu Sans Mono',consolas,'Courier New',monospace\">Math\n",
       "</pre>\n"
      ],
      "text/plain": [
       "Math\n"
      ]
     },
     "metadata": {},
     "output_type": "display_data"
    },
    {
     "data": {
      "text/html": [
       "<pre style=\"white-space:pre;overflow-x:auto;line-height:normal;font-family:Menlo,'DejaVu Sans Mono',consolas,'Courier New',monospace\">Science\n",
       "</pre>\n"
      ],
      "text/plain": [
       "Science\n"
      ]
     },
     "metadata": {},
     "output_type": "display_data"
    }
   ],
   "source": [
    "rprint(\"--- Student in Math course ---\")\n",
    "for student in op.find_all_student_in_given_course(course_id=\"c-1\"):\n",
    "    student = Student.get(hash_key=student.pk, range_key=student.pk)\n",
    "    rprint(student.name)\n",
    "    \n",
    "rprint(\"--- Bob enrolled course ---\")\n",
    "for course in op.find_all_enrolled_course(student_id=\"s-2\"):\n",
    "    course = Course.get(hash_key=course.sk, range_key=course.sk)\n",
    "    rprint(course.name)"
   ]
  },
  {
   "cell_type": "code",
   "execution_count": null,
   "id": "9e6a6243-6acc-4979-8bad-2829ce74989d",
   "metadata": {},
   "outputs": [],
   "source": []
  }
 ],
 "metadata": {
  "kernelspec": {
   "display_name": "Python 3 (ipykernel)",
   "language": "python",
   "name": "python3"
  },
  "language_info": {
   "codemirror_mode": {
    "name": "ipython",
    "version": 3
   },
   "file_extension": ".py",
   "mimetype": "text/x-python",
   "name": "python",
   "nbconvert_exporter": "python",
   "pygments_lexer": "ipython3",
   "version": "3.10.10"
  }
 },
 "nbformat": 4,
 "nbformat_minor": 5
}
