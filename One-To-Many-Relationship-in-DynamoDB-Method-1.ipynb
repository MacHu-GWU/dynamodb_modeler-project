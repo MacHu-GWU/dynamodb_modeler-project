{
 "cells": [
  {
   "cell_type": "markdown",
   "id": "9ca218ef-140f-444b-9b95-1776bd8e293b",
   "metadata": {},
   "source": [
    "# One to Many Relationship In DynamoDB - Method 1, Multiple Tables\n",
    "\n",
    "This notebook shows the first method to define a data model for one-to-many relationship in DynamoDB.\n",
    "\n",
    "Reference:\n",
    "\n",
    "- [How to model one-to-many relationships in DynamoDB](https://www.alexdebrie.com/posts/dynamodb-one-to-many/#denormalization-by-using-a-complex-attribute)\n",
    "- [Best practices for modeling relational data in DynamoDB](https://docs.aws.amazon.com/amazondynamodb/latest/developerguide/bp-relational-modeling.html)\n"
   ]
  },
  {
   "cell_type": "markdown",
   "id": "3c7c16af-97fe-4072-b34c-d83b63bb13b5",
   "metadata": {},
   "source": [
    "# Import Python Libraries"
   ]
  },
  {
   "cell_type": "code",
   "execution_count": 1,
   "id": "43c1e206-412a-4064-97ac-25cdda591916",
   "metadata": {},
   "outputs": [],
   "source": [
    "import typing as T\n",
    "import enum\n",
    "from datetime import datetime\n",
    "\n",
    "import dataclasses\n",
    "import pynamodb_mate as pm\n",
    "import pynamodb.exceptions as exc\n",
    "from moto import mock_dynamodb\n",
    "\n",
    "from rich import print as rprint"
   ]
  },
  {
   "cell_type": "markdown",
   "id": "8416d5f2-a860-4fd4-a856-8956dea55ee8",
   "metadata": {},
   "source": [
    "- One employee belongs to only one department.\n",
    "- One department may have many employees."
   ]
  },
  {
   "cell_type": "markdown",
   "id": "7a21b66c-321a-4848-91f2-0dd3a39ea7b5",
   "metadata": {},
   "source": [
    "# Configure AWS Connection"
   ]
  },
  {
   "cell_type": "code",
   "execution_count": 2,
   "id": "b46920d7-98b8-4d57-b6ec-f449c41a6429",
   "metadata": {},
   "outputs": [],
   "source": [
    "# create a DynamoDB connection, ensure that your default AWS credential is right\n",
    "# if you are using mock, then this line always works\n",
    "connect = pm.Connection()"
   ]
  },
  {
   "cell_type": "code",
   "execution_count": 3,
   "id": "4cf6559e-cb96-4289-836f-e37189d6acf9",
   "metadata": {},
   "outputs": [],
   "source": [
    "# use moto to mock DynamoDB, it is an in-memory implementation of DynamoDB\n",
    "# you can also use the real DynamoDB table by just comment out the below two line\n",
    "mock = mock_dynamodb()\n",
    "mock.start()"
   ]
  },
  {
   "cell_type": "markdown",
   "id": "03d6b152-16a6-48c4-a290-9d1b5d036aa2",
   "metadata": {},
   "source": [
    "# Type Hint"
   ]
  },
  {
   "cell_type": "code",
   "execution_count": 4,
   "id": "bbc8bb34-2946-439c-8e25-aceabbaba0af",
   "metadata": {},
   "outputs": [],
   "source": [
    "REQUIRED_STR = T.Union[str, pm.UnicodeAttribute]\n",
    "OPTIONAL_STR = T.Optional[REQUIRED_STR]\n",
    "REQUIRED_INT = T.Union[int, pm.NumberAttribute]\n",
    "OPTIONAL_INT = T.Optional[REQUIRED_INT]\n",
    "REQUIRED_DATETIME = T.Union[datetime, pm.UTCDateTimeAttribute]\n",
    "OPTIONAL_DATETIME = T.Optional[REQUIRED_DATETIME]"
   ]
  },
  {
   "cell_type": "markdown",
   "id": "4ca2d0b1-1807-4a3a-8e1e-e463ed7aa580",
   "metadata": {},
   "source": [
    "# Declare Department"
   ]
  },
  {
   "cell_type": "code",
   "execution_count": 19,
   "id": "09e86614-5311-4b90-b5a5-fe34b0fe1f9a",
   "metadata": {},
   "outputs": [
    {
     "name": "stdout",
     "output_type": "stream",
     "text": [
      "The history saving thread hit an unexpected error (OperationalError('attempt to write a readonly database')).History will not be written to the database.\n"
     ]
    }
   ],
   "source": [
    "class Department(pm.Model):\n",
    "    class Meta:\n",
    "        table_name = \"department\"\n",
    "        region = \"us-east-1\"\n",
    "        billing_mode = pm.PAY_PER_REQUEST_BILLING_MODE\n",
    "\n",
    "    department_id: REQUIRED_STR = pm.UnicodeAttribute(hash_key=True)\n",
    "    department_name: REQUIRED_STR = pm.UnicodeAttribute()\n",
    "\n",
    "Department.create_table(wait=True)"
   ]
  },
  {
   "cell_type": "markdown",
   "id": "d1deb437-eb0c-40fb-a8e2-c8b035a8940b",
   "metadata": {},
   "source": [
    "# Declare Employee"
   ]
  },
  {
   "cell_type": "code",
   "execution_count": 20,
   "id": "385d889d-6a9c-47c9-a02b-5a728def08a1",
   "metadata": {},
   "outputs": [],
   "source": [
    "class DepartmentEmployeeIndex(pm.GlobalSecondaryIndex):\n",
    "    class Meta:\n",
    "        index = \"department-employee-index\"\n",
    "        projection = pm.AllProjection\n",
    "\n",
    "    department_id: REQUIRED_STR = pm.UnicodeAttribute(hash_key=True, null=True)\n",
    "\n",
    "\n",
    "class Employee(pm.Model):\n",
    "    class Meta:\n",
    "        table_name = \"employee\"\n",
    "        region = \"us-east-1\"\n",
    "        billing_mode = pm.PAY_PER_REQUEST_BILLING_MODE\n",
    "\n",
    "    employee_id: REQUIRED_STR = pm.UnicodeAttribute(hash_key=True)\n",
    "    employee_name: REQUIRED_STR = pm.UnicodeAttribute()\n",
    "    department_id: OPTIONAL_STR = pm.UnicodeAttribute(null=True)\n",
    "    \n",
    "    department_index = DepartmentEmployeeIndex()\n",
    "\n",
    "Employee.create_table(wait=True)"
   ]
  },
  {
   "cell_type": "markdown",
   "id": "a5657dbc-06e1-4c7d-9a43-535fe4322bb7",
   "metadata": {},
   "source": [
    "# Business Operation"
   ]
  },
  {
   "cell_type": "code",
   "execution_count": 21,
   "id": "5e6f0747-7c0a-41bd-b78b-702ff72b06d7",
   "metadata": {},
   "outputs": [],
   "source": [
    "class OP:\n",
    "    def new_department(\n",
    "        self,\n",
    "        department_id: str, \n",
    "        department_name: str,\n",
    "    ) -> T.Optional[Department]:\n",
    "        department = Department(\n",
    "            department_id=department_id,\n",
    "            department_name=department_name,\n",
    "        )\n",
    "        try:\n",
    "            res = department.save(\n",
    "                condition= (~Department.department_id.exists()),\n",
    "            )\n",
    "            return department\n",
    "        except exc.PutError as e:\n",
    "            return None\n",
    "\n",
    "    def new_employee(\n",
    "        cls, \n",
    "        employee_id: str, \n",
    "        employee_name: str, \n",
    "        department_id: T.Optional[str] = None,\n",
    "    ) -> T.Optional[Employee]:\n",
    "        employee = Employee(\n",
    "            employee_id=employee_id,\n",
    "            employee_name=employee_name,\n",
    "            department_id=department_id,\n",
    "        )\n",
    "        try:\n",
    "            res = employee.save(\n",
    "                condition= (~Employee.employee_id.exists()),\n",
    "            )\n",
    "            return employee\n",
    "        except exc.PutError as e:\n",
    "            return None\n",
    "            \n",
    "    def all_department(self) -> list[Department]:\n",
    "        return list(Department.scan())\n",
    "\n",
    "    def all_employee(self) -> list[Employee]:\n",
    "        return list(Employee.scan())\n",
    "    \n",
    "    def find_all_employee_in_given_department(\n",
    "        self,\n",
    "        department_id: str,\n",
    "    ) -> list[Employee]:\n",
    "        return list(DepartmentEmployeeIndex.query(hash_key=\"d-1\"))\n",
    "\n",
    "    def change_department(self, employee_id: str, department_id: str) -> bool:\n",
    "        \"\"\"\n",
    "        Return a boolean value to indicate whether the update is successful.\n",
    "        \"\"\"\n",
    "        try:\n",
    "            Employee(employee_id=employee_id).update(\n",
    "                actions=[\n",
    "                    Employee.department_id.set(department_id),\n",
    "                ],\n",
    "                condition=(Employee.employee_id.exists()),\n",
    "            )\n",
    "            return True\n",
    "        except exc.UpdateError as e:\n",
    "            return False\n",
    "\n",
    "op = OP()\n",
    "    "
   ]
  },
  {
   "cell_type": "markdown",
   "id": "51bd8378-899e-464e-96ae-2577303ddf0f",
   "metadata": {},
   "source": [
    "# Create Dummy Data"
   ]
  },
  {
   "cell_type": "code",
   "execution_count": 23,
   "id": "fc2e98c1-2975-4831-8be3-4d06f4eb63e5",
   "metadata": {},
   "outputs": [],
   "source": [
    "department = op.new_department(department_id=\"d-1\", department_name=\"HR\")\n",
    "department = op.new_department(department_id=\"d-2\", department_name=\"IT\")\n",
    "\n",
    "employee = op.new_employee(employee_id=\"e-1\", employee_name=\"Alice\", department_id=\"d-1\")\n",
    "employee = op.new_employee(employee_id=\"e-2\", employee_name=\"Bob\", department_id=\"d-1\")\n",
    "\n",
    "employee = op.new_employee(employee_id=\"e-3\", employee_name=\"Cathy\", department_id=\"d-2\")\n",
    "employee = op.new_employee(employee_id=\"e-4\", employee_name=\"David\", department_id=\"d-2\")\n",
    "employee = op.new_employee(employee_id=\"e-5\", employee_name=\"Edward\", department_id=\"d-2\")"
   ]
  },
  {
   "cell_type": "markdown",
   "id": "aa31a052-6fde-4569-8b8f-b172f7279eb3",
   "metadata": {},
   "source": [
    "# Show all Data"
   ]
  },
  {
   "cell_type": "code",
   "execution_count": 24,
   "id": "3aa58fbc-bbbe-4d9d-9b1f-d68b91435ca7",
   "metadata": {},
   "outputs": [
    {
     "data": {
      "text/html": [
       "<pre style=\"white-space:pre;overflow-x:auto;line-height:normal;font-family:Menlo,'DejaVu Sans Mono',consolas,'Courier New',monospace\">------ Department ------\n",
       "</pre>\n"
      ],
      "text/plain": [
       "------ Department ------\n"
      ]
     },
     "metadata": {},
     "output_type": "display_data"
    },
    {
     "data": {
      "text/html": [
       "<pre style=\"white-space:pre;overflow-x:auto;line-height:normal;font-family:Menlo,'DejaVu Sans Mono',consolas,'Courier New',monospace\"><span style=\"font-weight: bold\">{</span><span style=\"color: #008000; text-decoration-color: #008000\">'department_id'</span>: <span style=\"color: #008000; text-decoration-color: #008000\">'d-1'</span>, <span style=\"color: #008000; text-decoration-color: #008000\">'department_name'</span>: <span style=\"color: #008000; text-decoration-color: #008000\">'HR'</span><span style=\"font-weight: bold\">}</span>\n",
       "</pre>\n"
      ],
      "text/plain": [
       "\u001b[1m{\u001b[0m\u001b[32m'department_id'\u001b[0m: \u001b[32m'd-1'\u001b[0m, \u001b[32m'department_name'\u001b[0m: \u001b[32m'HR'\u001b[0m\u001b[1m}\u001b[0m\n"
      ]
     },
     "metadata": {},
     "output_type": "display_data"
    },
    {
     "data": {
      "text/html": [
       "<pre style=\"white-space:pre;overflow-x:auto;line-height:normal;font-family:Menlo,'DejaVu Sans Mono',consolas,'Courier New',monospace\"><span style=\"font-weight: bold\">{</span><span style=\"color: #008000; text-decoration-color: #008000\">'department_id'</span>: <span style=\"color: #008000; text-decoration-color: #008000\">'d-2'</span>, <span style=\"color: #008000; text-decoration-color: #008000\">'department_name'</span>: <span style=\"color: #008000; text-decoration-color: #008000\">'IT'</span><span style=\"font-weight: bold\">}</span>\n",
       "</pre>\n"
      ],
      "text/plain": [
       "\u001b[1m{\u001b[0m\u001b[32m'department_id'\u001b[0m: \u001b[32m'd-2'\u001b[0m, \u001b[32m'department_name'\u001b[0m: \u001b[32m'IT'\u001b[0m\u001b[1m}\u001b[0m\n"
      ]
     },
     "metadata": {},
     "output_type": "display_data"
    },
    {
     "data": {
      "text/html": [
       "<pre style=\"white-space:pre;overflow-x:auto;line-height:normal;font-family:Menlo,'DejaVu Sans Mono',consolas,'Courier New',monospace\">------ Employee ------\n",
       "</pre>\n"
      ],
      "text/plain": [
       "------ Employee ------\n"
      ]
     },
     "metadata": {},
     "output_type": "display_data"
    },
    {
     "data": {
      "text/html": [
       "<pre style=\"white-space:pre;overflow-x:auto;line-height:normal;font-family:Menlo,'DejaVu Sans Mono',consolas,'Courier New',monospace\"><span style=\"font-weight: bold\">{</span><span style=\"color: #008000; text-decoration-color: #008000\">'department_id'</span>: <span style=\"color: #008000; text-decoration-color: #008000\">'d-2'</span>, <span style=\"color: #008000; text-decoration-color: #008000\">'employee_id'</span>: <span style=\"color: #008000; text-decoration-color: #008000\">'e-1'</span>, <span style=\"color: #008000; text-decoration-color: #008000\">'employee_name'</span>: <span style=\"color: #008000; text-decoration-color: #008000\">'Alice'</span><span style=\"font-weight: bold\">}</span>\n",
       "</pre>\n"
      ],
      "text/plain": [
       "\u001b[1m{\u001b[0m\u001b[32m'department_id'\u001b[0m: \u001b[32m'd-2'\u001b[0m, \u001b[32m'employee_id'\u001b[0m: \u001b[32m'e-1'\u001b[0m, \u001b[32m'employee_name'\u001b[0m: \u001b[32m'Alice'\u001b[0m\u001b[1m}\u001b[0m\n"
      ]
     },
     "metadata": {},
     "output_type": "display_data"
    },
    {
     "data": {
      "text/html": [
       "<pre style=\"white-space:pre;overflow-x:auto;line-height:normal;font-family:Menlo,'DejaVu Sans Mono',consolas,'Courier New',monospace\"><span style=\"font-weight: bold\">{</span><span style=\"color: #008000; text-decoration-color: #008000\">'department_id'</span>: <span style=\"color: #008000; text-decoration-color: #008000\">'d-1'</span>, <span style=\"color: #008000; text-decoration-color: #008000\">'employee_id'</span>: <span style=\"color: #008000; text-decoration-color: #008000\">'e-2'</span>, <span style=\"color: #008000; text-decoration-color: #008000\">'employee_name'</span>: <span style=\"color: #008000; text-decoration-color: #008000\">'Bob'</span><span style=\"font-weight: bold\">}</span>\n",
       "</pre>\n"
      ],
      "text/plain": [
       "\u001b[1m{\u001b[0m\u001b[32m'department_id'\u001b[0m: \u001b[32m'd-1'\u001b[0m, \u001b[32m'employee_id'\u001b[0m: \u001b[32m'e-2'\u001b[0m, \u001b[32m'employee_name'\u001b[0m: \u001b[32m'Bob'\u001b[0m\u001b[1m}\u001b[0m\n"
      ]
     },
     "metadata": {},
     "output_type": "display_data"
    },
    {
     "data": {
      "text/html": [
       "<pre style=\"white-space:pre;overflow-x:auto;line-height:normal;font-family:Menlo,'DejaVu Sans Mono',consolas,'Courier New',monospace\"><span style=\"font-weight: bold\">{</span><span style=\"color: #008000; text-decoration-color: #008000\">'department_id'</span>: <span style=\"color: #008000; text-decoration-color: #008000\">'d-2'</span>, <span style=\"color: #008000; text-decoration-color: #008000\">'employee_id'</span>: <span style=\"color: #008000; text-decoration-color: #008000\">'e-3'</span>, <span style=\"color: #008000; text-decoration-color: #008000\">'employee_name'</span>: <span style=\"color: #008000; text-decoration-color: #008000\">'Cathy'</span><span style=\"font-weight: bold\">}</span>\n",
       "</pre>\n"
      ],
      "text/plain": [
       "\u001b[1m{\u001b[0m\u001b[32m'department_id'\u001b[0m: \u001b[32m'd-2'\u001b[0m, \u001b[32m'employee_id'\u001b[0m: \u001b[32m'e-3'\u001b[0m, \u001b[32m'employee_name'\u001b[0m: \u001b[32m'Cathy'\u001b[0m\u001b[1m}\u001b[0m\n"
      ]
     },
     "metadata": {},
     "output_type": "display_data"
    },
    {
     "data": {
      "text/html": [
       "<pre style=\"white-space:pre;overflow-x:auto;line-height:normal;font-family:Menlo,'DejaVu Sans Mono',consolas,'Courier New',monospace\"><span style=\"font-weight: bold\">{</span><span style=\"color: #008000; text-decoration-color: #008000\">'department_id'</span>: <span style=\"color: #008000; text-decoration-color: #008000\">'d-2'</span>, <span style=\"color: #008000; text-decoration-color: #008000\">'employee_id'</span>: <span style=\"color: #008000; text-decoration-color: #008000\">'e-4'</span>, <span style=\"color: #008000; text-decoration-color: #008000\">'employee_name'</span>: <span style=\"color: #008000; text-decoration-color: #008000\">'David'</span><span style=\"font-weight: bold\">}</span>\n",
       "</pre>\n"
      ],
      "text/plain": [
       "\u001b[1m{\u001b[0m\u001b[32m'department_id'\u001b[0m: \u001b[32m'd-2'\u001b[0m, \u001b[32m'employee_id'\u001b[0m: \u001b[32m'e-4'\u001b[0m, \u001b[32m'employee_name'\u001b[0m: \u001b[32m'David'\u001b[0m\u001b[1m}\u001b[0m\n"
      ]
     },
     "metadata": {},
     "output_type": "display_data"
    },
    {
     "data": {
      "text/html": [
       "<pre style=\"white-space:pre;overflow-x:auto;line-height:normal;font-family:Menlo,'DejaVu Sans Mono',consolas,'Courier New',monospace\"><span style=\"font-weight: bold\">{</span><span style=\"color: #008000; text-decoration-color: #008000\">'department_id'</span>: <span style=\"color: #008000; text-decoration-color: #008000\">'d-2'</span>, <span style=\"color: #008000; text-decoration-color: #008000\">'employee_id'</span>: <span style=\"color: #008000; text-decoration-color: #008000\">'e-5'</span>, <span style=\"color: #008000; text-decoration-color: #008000\">'employee_name'</span>: <span style=\"color: #008000; text-decoration-color: #008000\">'Edward'</span><span style=\"font-weight: bold\">}</span>\n",
       "</pre>\n"
      ],
      "text/plain": [
       "\u001b[1m{\u001b[0m\u001b[32m'department_id'\u001b[0m: \u001b[32m'd-2'\u001b[0m, \u001b[32m'employee_id'\u001b[0m: \u001b[32m'e-5'\u001b[0m, \u001b[32m'employee_name'\u001b[0m: \u001b[32m'Edward'\u001b[0m\u001b[1m}\u001b[0m\n"
      ]
     },
     "metadata": {},
     "output_type": "display_data"
    }
   ],
   "source": [
    "rprint(\"------ Department ------\")\n",
    "for department in op.all_department():\n",
    "    rprint(department.to_dict())\n",
    "rprint(\"------ Employee ------\")\n",
    "for employee in op.all_employee():\n",
    "    rprint(employee.to_dict())"
   ]
  },
  {
   "cell_type": "markdown",
   "id": "5c4c898d-6c58-4e9b-b619-3d038ab23e27",
   "metadata": {},
   "source": [
    "# Find all Employee in the Given Department"
   ]
  },
  {
   "cell_type": "code",
   "execution_count": 25,
   "id": "52a8dc4b-523b-4d46-af3f-10e9431ea7ef",
   "metadata": {},
   "outputs": [
    {
     "data": {
      "text/html": [
       "<pre style=\"white-space:pre;overflow-x:auto;line-height:normal;font-family:Menlo,'DejaVu Sans Mono',consolas,'Courier New',monospace\">--- Employee in HR department ---\n",
       "</pre>\n"
      ],
      "text/plain": [
       "--- Employee in HR department ---\n"
      ]
     },
     "metadata": {},
     "output_type": "display_data"
    },
    {
     "name": "stdout",
     "output_type": "stream",
     "text": [
      "<class '__main__.Employee'>\n"
     ]
    },
    {
     "data": {
      "text/html": [
       "<pre style=\"white-space:pre;overflow-x:auto;line-height:normal;font-family:Menlo,'DejaVu Sans Mono',consolas,'Courier New',monospace\"><span style=\"font-weight: bold\">{</span><span style=\"color: #008000; text-decoration-color: #008000\">'department_id'</span>: <span style=\"color: #008000; text-decoration-color: #008000\">'d-1'</span>, <span style=\"color: #008000; text-decoration-color: #008000\">'employee_id'</span>: <span style=\"color: #008000; text-decoration-color: #008000\">'e-2'</span>, <span style=\"color: #008000; text-decoration-color: #008000\">'employee_name'</span>: <span style=\"color: #008000; text-decoration-color: #008000\">'Bob'</span><span style=\"font-weight: bold\">}</span>\n",
       "</pre>\n"
      ],
      "text/plain": [
       "\u001b[1m{\u001b[0m\u001b[32m'department_id'\u001b[0m: \u001b[32m'd-1'\u001b[0m, \u001b[32m'employee_id'\u001b[0m: \u001b[32m'e-2'\u001b[0m, \u001b[32m'employee_name'\u001b[0m: \u001b[32m'Bob'\u001b[0m\u001b[1m}\u001b[0m\n"
      ]
     },
     "metadata": {},
     "output_type": "display_data"
    },
    {
     "data": {
      "text/html": [
       "<pre style=\"white-space:pre;overflow-x:auto;line-height:normal;font-family:Menlo,'DejaVu Sans Mono',consolas,'Courier New',monospace\">--- Employee in IT department ---\n",
       "</pre>\n"
      ],
      "text/plain": [
       "--- Employee in IT department ---\n"
      ]
     },
     "metadata": {},
     "output_type": "display_data"
    },
    {
     "data": {
      "text/html": [
       "<pre style=\"white-space:pre;overflow-x:auto;line-height:normal;font-family:Menlo,'DejaVu Sans Mono',consolas,'Courier New',monospace\"><span style=\"font-weight: bold\">{</span><span style=\"color: #008000; text-decoration-color: #008000\">'department_id'</span>: <span style=\"color: #008000; text-decoration-color: #008000\">'d-2'</span>, <span style=\"color: #008000; text-decoration-color: #008000\">'employee_id'</span>: <span style=\"color: #008000; text-decoration-color: #008000\">'e-1'</span>, <span style=\"color: #008000; text-decoration-color: #008000\">'employee_name'</span>: <span style=\"color: #008000; text-decoration-color: #008000\">'Alice'</span><span style=\"font-weight: bold\">}</span>\n",
       "</pre>\n"
      ],
      "text/plain": [
       "\u001b[1m{\u001b[0m\u001b[32m'department_id'\u001b[0m: \u001b[32m'd-2'\u001b[0m, \u001b[32m'employee_id'\u001b[0m: \u001b[32m'e-1'\u001b[0m, \u001b[32m'employee_name'\u001b[0m: \u001b[32m'Alice'\u001b[0m\u001b[1m}\u001b[0m\n"
      ]
     },
     "metadata": {},
     "output_type": "display_data"
    },
    {
     "data": {
      "text/html": [
       "<pre style=\"white-space:pre;overflow-x:auto;line-height:normal;font-family:Menlo,'DejaVu Sans Mono',consolas,'Courier New',monospace\"><span style=\"font-weight: bold\">{</span><span style=\"color: #008000; text-decoration-color: #008000\">'department_id'</span>: <span style=\"color: #008000; text-decoration-color: #008000\">'d-2'</span>, <span style=\"color: #008000; text-decoration-color: #008000\">'employee_id'</span>: <span style=\"color: #008000; text-decoration-color: #008000\">'e-3'</span>, <span style=\"color: #008000; text-decoration-color: #008000\">'employee_name'</span>: <span style=\"color: #008000; text-decoration-color: #008000\">'Cathy'</span><span style=\"font-weight: bold\">}</span>\n",
       "</pre>\n"
      ],
      "text/plain": [
       "\u001b[1m{\u001b[0m\u001b[32m'department_id'\u001b[0m: \u001b[32m'd-2'\u001b[0m, \u001b[32m'employee_id'\u001b[0m: \u001b[32m'e-3'\u001b[0m, \u001b[32m'employee_name'\u001b[0m: \u001b[32m'Cathy'\u001b[0m\u001b[1m}\u001b[0m\n"
      ]
     },
     "metadata": {},
     "output_type": "display_data"
    },
    {
     "data": {
      "text/html": [
       "<pre style=\"white-space:pre;overflow-x:auto;line-height:normal;font-family:Menlo,'DejaVu Sans Mono',consolas,'Courier New',monospace\"><span style=\"font-weight: bold\">{</span><span style=\"color: #008000; text-decoration-color: #008000\">'department_id'</span>: <span style=\"color: #008000; text-decoration-color: #008000\">'d-2'</span>, <span style=\"color: #008000; text-decoration-color: #008000\">'employee_id'</span>: <span style=\"color: #008000; text-decoration-color: #008000\">'e-4'</span>, <span style=\"color: #008000; text-decoration-color: #008000\">'employee_name'</span>: <span style=\"color: #008000; text-decoration-color: #008000\">'David'</span><span style=\"font-weight: bold\">}</span>\n",
       "</pre>\n"
      ],
      "text/plain": [
       "\u001b[1m{\u001b[0m\u001b[32m'department_id'\u001b[0m: \u001b[32m'd-2'\u001b[0m, \u001b[32m'employee_id'\u001b[0m: \u001b[32m'e-4'\u001b[0m, \u001b[32m'employee_name'\u001b[0m: \u001b[32m'David'\u001b[0m\u001b[1m}\u001b[0m\n"
      ]
     },
     "metadata": {},
     "output_type": "display_data"
    },
    {
     "data": {
      "text/html": [
       "<pre style=\"white-space:pre;overflow-x:auto;line-height:normal;font-family:Menlo,'DejaVu Sans Mono',consolas,'Courier New',monospace\"><span style=\"font-weight: bold\">{</span><span style=\"color: #008000; text-decoration-color: #008000\">'department_id'</span>: <span style=\"color: #008000; text-decoration-color: #008000\">'d-2'</span>, <span style=\"color: #008000; text-decoration-color: #008000\">'employee_id'</span>: <span style=\"color: #008000; text-decoration-color: #008000\">'e-5'</span>, <span style=\"color: #008000; text-decoration-color: #008000\">'employee_name'</span>: <span style=\"color: #008000; text-decoration-color: #008000\">'Edward'</span><span style=\"font-weight: bold\">}</span>\n",
       "</pre>\n"
      ],
      "text/plain": [
       "\u001b[1m{\u001b[0m\u001b[32m'department_id'\u001b[0m: \u001b[32m'd-2'\u001b[0m, \u001b[32m'employee_id'\u001b[0m: \u001b[32m'e-5'\u001b[0m, \u001b[32m'employee_name'\u001b[0m: \u001b[32m'Edward'\u001b[0m\u001b[1m}\u001b[0m\n"
      ]
     },
     "metadata": {},
     "output_type": "display_data"
    }
   ],
   "source": [
    "rprint(\"--- Employee in HR department ---\")\n",
    "for employee in op.find_all_employee_in_given_department(department_id=\"d-1\"):\n",
    "    print(type(employee))\n",
    "    rprint(employee.to_dict())\n",
    "    \n",
    "rprint(\"--- Employee in IT department ---\")\n",
    "for employee in DepartmentEmployeeIndex.query(hash_key=\"d-2\"):\n",
    "    rprint(employee.to_dict())"
   ]
  },
  {
   "cell_type": "markdown",
   "id": "c577ec83-fe4b-49de-9ee7-fc4632627486",
   "metadata": {},
   "source": [
    "# Change Department"
   ]
  },
  {
   "cell_type": "code",
   "execution_count": 26,
   "id": "663d4d2b-c363-4bb7-aef4-abad14ac1466",
   "metadata": {},
   "outputs": [
    {
     "data": {
      "text/html": [
       "<pre style=\"white-space:pre;overflow-x:auto;line-height:normal;font-family:Menlo,'DejaVu Sans Mono',consolas,'Courier New',monospace\">Succeeded\n",
       "</pre>\n"
      ],
      "text/plain": [
       "Succeeded\n"
      ]
     },
     "metadata": {},
     "output_type": "display_data"
    }
   ],
   "source": [
    "flag = op.change_department(employee_id=\"e-1\", department_id=\"d-2\")\n",
    "if flag:\n",
    "    rprint(\"Succeeded\")\n",
    "else:\n",
    "    rprint(\"Failed\")"
   ]
  },
  {
   "cell_type": "code",
   "execution_count": 27,
   "id": "cb5e216c-e853-4da3-b001-5998d9480a58",
   "metadata": {},
   "outputs": [
    {
     "data": {
      "text/html": [
       "<pre style=\"white-space:pre;overflow-x:auto;line-height:normal;font-family:Menlo,'DejaVu Sans Mono',consolas,'Courier New',monospace\">Failed\n",
       "</pre>\n"
      ],
      "text/plain": [
       "Failed\n"
      ]
     },
     "metadata": {},
     "output_type": "display_data"
    }
   ],
   "source": [
    "flag = op.change_department(employee_id=\"e-999\", department_id=\"d-2\")\n",
    "if flag:\n",
    "    rprint(\"Succeeded\")\n",
    "else:\n",
    "    rprint(\"Failed\")"
   ]
  },
  {
   "cell_type": "code",
   "execution_count": 28,
   "id": "98887d47-1793-4f2d-b5b7-186c2abd9431",
   "metadata": {},
   "outputs": [
    {
     "name": "stdout",
     "output_type": "stream",
     "text": [
      "--- New department for Alice should be d-2 ---\n"
     ]
    },
    {
     "data": {
      "text/html": [
       "<pre style=\"white-space:pre;overflow-x:auto;line-height:normal;font-family:Menlo,'DejaVu Sans Mono',consolas,'Courier New',monospace\"><span style=\"font-weight: bold\">{</span><span style=\"color: #008000; text-decoration-color: #008000\">'department_id'</span>: <span style=\"color: #008000; text-decoration-color: #008000\">'d-2'</span>, <span style=\"color: #008000; text-decoration-color: #008000\">'employee_id'</span>: <span style=\"color: #008000; text-decoration-color: #008000\">'e-1'</span>, <span style=\"color: #008000; text-decoration-color: #008000\">'employee_name'</span>: <span style=\"color: #008000; text-decoration-color: #008000\">'Alice'</span><span style=\"font-weight: bold\">}</span>\n",
       "</pre>\n"
      ],
      "text/plain": [
       "\u001b[1m{\u001b[0m\u001b[32m'department_id'\u001b[0m: \u001b[32m'd-2'\u001b[0m, \u001b[32m'employee_id'\u001b[0m: \u001b[32m'e-1'\u001b[0m, \u001b[32m'employee_name'\u001b[0m: \u001b[32m'Alice'\u001b[0m\u001b[1m}\u001b[0m\n"
      ]
     },
     "metadata": {},
     "output_type": "display_data"
    }
   ],
   "source": [
    "print(\"--- New department for Alice should be d-2 ---\")\n",
    "rprint(Employee.get(\"e-1\").to_dict())"
   ]
  },
  {
   "cell_type": "code",
   "execution_count": null,
   "id": "9e6a6243-6acc-4979-8bad-2829ce74989d",
   "metadata": {},
   "outputs": [],
   "source": []
  }
 ],
 "metadata": {
  "kernelspec": {
   "display_name": "Python 3 (ipykernel)",
   "language": "python",
   "name": "python3"
  },
  "language_info": {
   "codemirror_mode": {
    "name": "ipython",
    "version": 3
   },
   "file_extension": ".py",
   "mimetype": "text/x-python",
   "name": "python",
   "nbconvert_exporter": "python",
   "pygments_lexer": "ipython3",
   "version": "3.10.10"
  }
 },
 "nbformat": 4,
 "nbformat_minor": 5
}
